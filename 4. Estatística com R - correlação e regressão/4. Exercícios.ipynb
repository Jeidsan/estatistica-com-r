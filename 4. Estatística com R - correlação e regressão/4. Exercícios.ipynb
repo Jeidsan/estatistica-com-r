{
 "cells": [
  {
   "cell_type": "markdown",
   "metadata": {
    "colab_type": "text",
    "id": "WvMflodMjQKe"
   },
   "source": [
    "# <font color=green size=10>CURSO DE ESTATÍSTICA - PARTE 4</font>\n",
    "***\n",
    "\n",
    "## Trabalho sobre correlação e regressão\n",
    "\n",
    "Utilizando os conhecimentos adquiridos em nosso treinamento realize a análise de regressão proposta abaixo.\n",
    "\n",
    "Siga o roteiro proposto e vá completando as células vazias."
   ]
  },
  {
   "cell_type": "markdown",
   "metadata": {
    "colab_type": "text",
    "id": "cVgsZ_E3jQKg"
   },
   "source": [
    "# <font color=green>DATASET DO PROJETO</font>\n",
    "***"
   ]
  },
  {
   "cell_type": "markdown",
   "metadata": {
    "colab_type": "text",
    "id": "I4293oHyZTNh"
   },
   "source": [
    "### Fonte: https://www.kaggle.com/dongeorge/beer-consumption-sao-paulo\n",
    "\n",
    "### Descrição:\n",
    "A cerveja é uma das bebidas mais democráticas e consumidas no mundo. Não sem razão, é perfeito para quase todas as situações, desde o happy hour até grandes festas de casamento.\n",
    "\n",
    "Os dados (amostra) foram coletados em São Paulo - Brasil, em uma área universitária, onde existem algumas festas com grupos de alunos de 18 a 28 anos de idade (média).\n",
    "\n",
    "### Dados:\n",
    "- **X** - Temperatura Média (°C)\n",
    "- **Y** - Consumo de Cerveja (litros)\n"
   ]
  },
  {
   "cell_type": "markdown",
   "metadata": {
    "colab_type": "text",
    "id": "ZIqLOffNTg1Y"
   },
   "source": [
    "---"
   ]
  },
  {
   "cell_type": "markdown",
   "metadata": {
    "colab_type": "text",
    "id": "8Rw70V6ojQKk"
   },
   "source": [
    "### Utilize a célula abaixo para carregar os pacotes e/ou fazer configurações para o projeto"
   ]
  },
  {
   "cell_type": "code",
   "execution_count": 16,
   "metadata": {
    "colab": {},
    "colab_type": "code",
    "id": "fcTgimHBybMz"
   },
   "outputs": [],
   "source": [
    "library(ggplot2)\n",
    "options(repr.plot.width = 7, repr.plot.height = 4)"
   ]
  },
  {
   "cell_type": "markdown",
   "metadata": {
    "colab_type": "text",
    "id": "Blpb0v-6ZTNv"
   },
   "source": [
    "### Importe o dataset\n",
    "\n",
    "#### <font color=red>Utilize o parâmetro **sep = ';'** da função **read.csv** para importar corretamente o conjunto de dados. O dataset do projeto utiliza como separador de colunas o caractere ';'."
   ]
  },
  {
   "cell_type": "code",
   "execution_count": 19,
   "metadata": {
    "colab": {},
    "colab_type": "code",
    "id": "vrf8BOm7ZTNw"
   },
   "outputs": [],
   "source": [
    "dados <- read.csv('3. Dados para os exercícios.csv', sep = ';')"
   ]
  },
  {
   "cell_type": "markdown",
   "metadata": {
    "colab_type": "text",
    "id": "Oq3CKHCmTg1j"
   },
   "source": [
    "### Visualize o conteúdo do Data Frame"
   ]
  },
  {
   "cell_type": "code",
   "execution_count": 17,
   "metadata": {
    "colab": {},
    "colab_type": "code",
    "id": "bpj9gwIbZTNz",
    "outputId": "a5e43384-57db-4daf-91dc-172b17e93683"
   },
   "outputs": [
    {
     "data": {
      "text/html": [
       "365"
      ],
      "text/latex": [
       "365"
      ],
      "text/markdown": [
       "365"
      ],
      "text/plain": [
       "[1] 365"
      ]
     },
     "metadata": {},
     "output_type": "display_data"
    }
   ],
   "source": [
    "nrow(dados)"
   ]
  },
  {
   "cell_type": "code",
   "execution_count": 18,
   "metadata": {
    "colab": {
     "base_uri": "https://localhost:8080/",
     "height": 195
    },
    "colab_type": "code",
    "id": "GsC_WhLFjQKq",
    "outputId": "911c1540-fbb1-405e-9bd5-56c601488890",
    "scrolled": true
   },
   "outputs": [
    {
     "data": {
      "text/html": [
       "<table class=\"dataframe\">\n",
       "<caption>A data.frame: 6 × 2</caption>\n",
       "<thead>\n",
       "\t<tr><th></th><th scope=col>Y</th><th scope=col>X</th></tr>\n",
       "\t<tr><th></th><th scope=col>&lt;int&gt;</th><th scope=col>&lt;dbl&gt;</th></tr>\n",
       "</thead>\n",
       "<tbody>\n",
       "\t<tr><th scope=row>1</th><td>25461</td><td>27.30</td></tr>\n",
       "\t<tr><th scope=row>2</th><td>28972</td><td>27.02</td></tr>\n",
       "\t<tr><th scope=row>3</th><td>30814</td><td>24.82</td></tr>\n",
       "\t<tr><th scope=row>4</th><td>29799</td><td>23.98</td></tr>\n",
       "\t<tr><th scope=row>5</th><td>28900</td><td>23.82</td></tr>\n",
       "\t<tr><th scope=row>6</th><td>28218</td><td>23.78</td></tr>\n",
       "</tbody>\n",
       "</table>\n"
      ],
      "text/latex": [
       "A data.frame: 6 × 2\n",
       "\\begin{tabular}{r|ll}\n",
       "  & Y & X\\\\\n",
       "  & <int> & <dbl>\\\\\n",
       "\\hline\n",
       "\t1 & 25461 & 27.30\\\\\n",
       "\t2 & 28972 & 27.02\\\\\n",
       "\t3 & 30814 & 24.82\\\\\n",
       "\t4 & 29799 & 23.98\\\\\n",
       "\t5 & 28900 & 23.82\\\\\n",
       "\t6 & 28218 & 23.78\\\\\n",
       "\\end{tabular}\n"
      ],
      "text/markdown": [
       "\n",
       "A data.frame: 6 × 2\n",
       "\n",
       "| <!--/--> | Y &lt;int&gt; | X &lt;dbl&gt; |\n",
       "|---|---|---|\n",
       "| 1 | 25461 | 27.30 |\n",
       "| 2 | 28972 | 27.02 |\n",
       "| 3 | 30814 | 24.82 |\n",
       "| 4 | 29799 | 23.98 |\n",
       "| 5 | 28900 | 23.82 |\n",
       "| 6 | 28218 | 23.78 |\n",
       "\n"
      ],
      "text/plain": [
       "  Y     X    \n",
       "1 25461 27.30\n",
       "2 28972 27.02\n",
       "3 30814 24.82\n",
       "4 29799 23.98\n",
       "5 28900 23.82\n",
       "6 28218 23.78"
      ]
     },
     "metadata": {},
     "output_type": "display_data"
    }
   ],
   "source": [
    "head(dados)"
   ]
  },
  {
   "cell_type": "markdown",
   "metadata": {
    "colab_type": "text",
    "id": "xzGuwM4xpslc"
   },
   "source": [
    "### Obtenha e avalie as estatísticas descritivas dos dados"
   ]
  },
  {
   "cell_type": "code",
   "execution_count": 8,
   "metadata": {
    "colab": {},
    "colab_type": "code",
    "id": "nuNSrzfYpsld",
    "outputId": "d7e3627c-0894-4e69-c031-6fe4965ccf6e",
    "scrolled": true
   },
   "outputs": [
    {
     "data": {
      "text/plain": [
       "       Y               X        \n",
       " Min.   :14343   Min.   :12.90  \n",
       " 1st Qu.:22008   1st Qu.:19.02  \n",
       " Median :24867   Median :21.38  \n",
       " Mean   :25401   Mean   :21.23  \n",
       " 3rd Qu.:28631   3rd Qu.:23.28  \n",
       " Max.   :37937   Max.   :28.86  "
      ]
     },
     "metadata": {},
     "output_type": "display_data"
    }
   ],
   "source": [
    "summary(dados)"
   ]
  },
  {
   "cell_type": "code",
   "execution_count": 20,
   "metadata": {},
   "outputs": [
    {
     "data": {
      "text/html": [
       "<style>\n",
       ".dl-inline {width: auto; margin:0; padding: 0}\n",
       ".dl-inline>dt, .dl-inline>dd {float: none; width: auto; display: inline-block}\n",
       ".dl-inline>dt::after {content: \":\\0020\"; padding-right: .5ex}\n",
       ".dl-inline>dt:not(:first-of-type) {padding-left: .5ex}\n",
       "</style><dl class=dl-inline><dt>Y</dt><dd>4399.14270332196</dd><dt>X</dt><dd>3.18010766530134</dd></dl>\n"
      ],
      "text/latex": [
       "\\begin{description*}\n",
       "\\item[Y] 4399.14270332196\n",
       "\\item[X] 3.18010766530134\n",
       "\\end{description*}\n"
      ],
      "text/markdown": [
       "Y\n",
       ":   4399.14270332196X\n",
       ":   3.18010766530134\n",
       "\n"
      ],
      "text/plain": [
       "          Y           X \n",
       "4399.142703    3.180108 "
      ]
     },
     "metadata": {},
     "output_type": "display_data"
    }
   ],
   "source": [
    "apply(dados, 2, sd)"
   ]
  },
  {
   "cell_type": "markdown",
   "metadata": {
    "colab_type": "text",
    "id": "SM6EQrsdZTN8"
   },
   "source": [
    "### Análise gráfica\n",
    "### Construa um box plot para cada variável do dataset"
   ]
  },
  {
   "cell_type": "code",
   "execution_count": 23,
   "metadata": {
    "colab": {},
    "colab_type": "code",
    "id": "olHVJwyWZTN9",
    "outputId": "2d1ee441-e105-4e4f-c2c2-51eef261c0b1"
   },
   "outputs": [
    {
     "data": {
      "image/png": "[encoded data removed]",
      "text/plain": [
       "plot without title"
      ]
     },
     "metadata": {
      "image/png": {
       "height": 240,
       "width": 420
      }
     },
     "output_type": "display_data"
    }
   ],
   "source": [
    "ggplot(dados, aes(y = Y)) +\n",
    "    stat_boxplot(geom='errorbar', width = 0.4) +\n",
    "    geom_boxplot() +\n",
    "    coord_flip()"
   ]
  },
  {
   "cell_type": "code",
   "execution_count": 22,
   "metadata": {
    "colab": {},
    "colab_type": "code",
    "id": "W-W9IOs1psle",
    "outputId": "83445d63-24a2-4a95-d42a-9ed55e2d81f5"
   },
   "outputs": [
    {
     "data": {
      "image/png": "[encoded data removed]",
      "text/plain": [
       "plot without title"
      ]
     },
     "metadata": {
      "image/png": {
       "height": 240,
       "width": 420
      }
     },
     "output_type": "display_data"
    }
   ],
   "source": [
    "ggplot(dados, aes(y = X)) +\n",
    "    stat_boxplot(geom='errorbar', width = 0.4) +\n",
    "    geom_boxplot() +\n",
    "    coord_flip()"
   ]
  },
  {
   "cell_type": "markdown",
   "metadata": {
    "colab_type": "text",
    "id": "kcdTQNDtZTOC"
   },
   "source": [
    "### Identifique se existe uma relação linear entre as variáveis $Y$ e $X$\n",
    "### <font color='red'>Utilizando o método gráfico</font>"
   ]
  },
  {
   "cell_type": "code",
   "execution_count": 25,
   "metadata": {
    "colab": {},
    "colab_type": "code",
    "id": "bQ2tLs6OZTOD",
    "outputId": "d9e7b772-49c1-4b4f-9ac7-edc52113320b"
   },
   "outputs": [
    {
     "name": "stderr",
     "output_type": "stream",
     "text": [
      "`geom_smooth()` using formula 'y ~ x'\n",
      "\n"
     ]
    },
    {
     "data": {
      "image/png": "[encoded data removed]",
      "text/plain": [
       "plot without title"
      ]
     },
     "metadata": {
      "image/png": {
       "height": 240,
       "width": 420
      }
     },
     "output_type": "display_data"
    }
   ],
   "source": [
    "ggplot(dados, aes(x = X, y = Y)) +\n",
    "    geom_point(size = 1.5, stroke = 0) +\n",
    "    geom_smooth(method = lm)"
   ]
  },
  {
   "cell_type": "markdown",
   "metadata": {
    "colab_type": "text",
    "id": "V3pRHkxrZTOG"
   },
   "source": [
    "### <font color='red'>Utilizando a matriz de correlação</font>"
   ]
  },
  {
   "cell_type": "code",
   "execution_count": 26,
   "metadata": {
    "colab": {},
    "colab_type": "code",
    "id": "szUKCsdNZTOG",
    "outputId": "10715ce6-2940-4375-f7cb-242dd913a87a"
   },
   "outputs": [
    {
     "data": {
      "text/html": [
       "<table class=\"dataframe\">\n",
       "<caption>A matrix: 2 × 2 of type dbl</caption>\n",
       "<thead>\n",
       "\t<tr><th></th><th scope=col>Y</th><th scope=col>X</th></tr>\n",
       "</thead>\n",
       "<tbody>\n",
       "\t<tr><th scope=row>Y</th><td>1.0000000</td><td>0.5746147</td></tr>\n",
       "\t<tr><th scope=row>X</th><td>0.5746147</td><td>1.0000000</td></tr>\n",
       "</tbody>\n",
       "</table>\n"
      ],
      "text/latex": [
       "A matrix: 2 × 2 of type dbl\n",
       "\\begin{tabular}{r|ll}\n",
       "  & Y & X\\\\\n",
       "\\hline\n",
       "\tY & 1.0000000 & 0.5746147\\\\\n",
       "\tX & 0.5746147 & 1.0000000\\\\\n",
       "\\end{tabular}\n"
      ],
      "text/markdown": [
       "\n",
       "A matrix: 2 × 2 of type dbl\n",
       "\n",
       "| <!--/--> | Y | X |\n",
       "|---|---|---|\n",
       "| Y | 1.0000000 | 0.5746147 |\n",
       "| X | 0.5746147 | 1.0000000 |\n",
       "\n"
      ],
      "text/plain": [
       "  Y         X        \n",
       "Y 1.0000000 0.5746147\n",
       "X 0.5746147 1.0000000"
      ]
     },
     "metadata": {},
     "output_type": "display_data"
    }
   ],
   "source": [
    "cor(dados)"
   ]
  },
  {
   "cell_type": "markdown",
   "metadata": {
    "colab_type": "text",
    "id": "FqjloX9CZTOJ"
   },
   "source": [
    "### Avalie os resultados acima:\n",
    "\n",
    "É possível afirmar que existe uma relação linear entre as variáveis?\n",
    "\n",
    "Resp.: Sim\n",
    "\n",
    "É possível quantificar a intensidade dessa relação?\n",
    "\n",
    "Resp.: Sim (cor(dados)).\n",
    "\n",
    "É possível afirmar que existe uma relação de causalidade entre $Y$ e $X$ a partir dos resultados da matriz de correlação?\n",
    "\n",
    "Resp.: Não"
   ]
  },
  {
   "cell_type": "markdown",
   "metadata": {
    "colab_type": "text",
    "id": "atGXG2cbZTON"
   },
   "source": [
    "### Estime o modelo de regressão linear simples"
   ]
  },
  {
   "cell_type": "code",
   "execution_count": 28,
   "metadata": {
    "colab": {},
    "colab_type": "code",
    "id": "RZj-LLWJZTOO"
   },
   "outputs": [],
   "source": [
    "modelo <- lm(formula = Y ~ X, data = dados)"
   ]
  },
  {
   "cell_type": "markdown",
   "metadata": {
    "colab_type": "text",
    "id": "brIOPkVsZTOT"
   },
   "source": [
    "### Visualize o resultado da regressão"
   ]
  },
  {
   "cell_type": "code",
   "execution_count": 29,
   "metadata": {
    "colab": {},
    "colab_type": "code",
    "id": "TEdY4WLIZTOU",
    "outputId": "f1af9367-0e65-451f-e81b-f99ee4c82d99"
   },
   "outputs": [
    {
     "data": {
      "text/plain": [
       "\n",
       "Call:\n",
       "lm(formula = Y ~ X, data = dados)\n",
       "\n",
       "Residuals:\n",
       "    Min      1Q  Median      3Q     Max \n",
       "-9221.4 -2845.5  -315.3  2409.0  9392.5 \n",
       "\n",
       "Coefficients:\n",
       "            Estimate Std. Error t value Pr(>|t|)    \n",
       "(Intercept)  8528.91    1275.36   6.687  8.6e-11 ***\n",
       "X             794.88      59.42  13.377  < 2e-16 ***\n",
       "---\n",
       "Signif. codes:  0 '***' 0.001 '**' 0.01 '*' 0.05 '.' 0.1 ' ' 1\n",
       "\n",
       "Residual standard error: 3605 on 363 degrees of freedom\n",
       "Multiple R-squared:  0.3302,\tAdjusted R-squared:  0.3283 \n",
       "F-statistic: 178.9 on 1 and 363 DF,  p-value: < 2.2e-16\n"
      ]
     },
     "metadata": {},
     "output_type": "display_data"
    }
   ],
   "source": [
    "summary(modelo)"
   ]
  },
  {
   "cell_type": "markdown",
   "metadata": {
    "colab_type": "text",
    "id": "qRYMfNCTZTOX"
   },
   "source": [
    "### Obtenha o $Y$ previsto"
   ]
  },
  {
   "cell_type": "code",
   "execution_count": 33,
   "metadata": {
    "colab": {},
    "colab_type": "code",
    "id": "5EvF5aPQZTOY",
    "outputId": "06886495-0362-4a81-b226-166023b629f1",
    "scrolled": true
   },
   "outputs": [
    {
     "data": {
      "text/html": [
       "<table class=\"dataframe\">\n",
       "<caption>A data.frame: 6 × 3</caption>\n",
       "<thead>\n",
       "\t<tr><th></th><th scope=col>Y</th><th scope=col>X</th><th scope=col>Y_estimado</th></tr>\n",
       "\t<tr><th></th><th scope=col>&lt;int&gt;</th><th scope=col>&lt;dbl&gt;</th><th scope=col>&lt;dbl&gt;</th></tr>\n",
       "</thead>\n",
       "<tbody>\n",
       "\t<tr><th scope=row>1</th><td>25461</td><td>27.30</td><td>30229.20</td></tr>\n",
       "\t<tr><th scope=row>2</th><td>28972</td><td>27.02</td><td>30006.63</td></tr>\n",
       "\t<tr><th scope=row>3</th><td>30814</td><td>24.82</td><td>28257.89</td></tr>\n",
       "\t<tr><th scope=row>4</th><td>29799</td><td>23.98</td><td>27590.19</td></tr>\n",
       "\t<tr><th scope=row>5</th><td>28900</td><td>23.82</td><td>27463.01</td></tr>\n",
       "\t<tr><th scope=row>6</th><td>28218</td><td>23.78</td><td>27431.21</td></tr>\n",
       "</tbody>\n",
       "</table>\n"
      ],
      "text/latex": [
       "A data.frame: 6 × 3\n",
       "\\begin{tabular}{r|lll}\n",
       "  & Y & X & Y\\_estimado\\\\\n",
       "  & <int> & <dbl> & <dbl>\\\\\n",
       "\\hline\n",
       "\t1 & 25461 & 27.30 & 30229.20\\\\\n",
       "\t2 & 28972 & 27.02 & 30006.63\\\\\n",
       "\t3 & 30814 & 24.82 & 28257.89\\\\\n",
       "\t4 & 29799 & 23.98 & 27590.19\\\\\n",
       "\t5 & 28900 & 23.82 & 27463.01\\\\\n",
       "\t6 & 28218 & 23.78 & 27431.21\\\\\n",
       "\\end{tabular}\n"
      ],
      "text/markdown": [
       "\n",
       "A data.frame: 6 × 3\n",
       "\n",
       "| <!--/--> | Y &lt;int&gt; | X &lt;dbl&gt; | Y_estimado &lt;dbl&gt; |\n",
       "|---|---|---|---|\n",
       "| 1 | 25461 | 27.30 | 30229.20 |\n",
       "| 2 | 28972 | 27.02 | 30006.63 |\n",
       "| 3 | 30814 | 24.82 | 28257.89 |\n",
       "| 4 | 29799 | 23.98 | 27590.19 |\n",
       "| 5 | 28900 | 23.82 | 27463.01 |\n",
       "| 6 | 28218 | 23.78 | 27431.21 |\n",
       "\n"
      ],
      "text/plain": [
       "  Y     X     Y_estimado\n",
       "1 25461 27.30 30229.20  \n",
       "2 28972 27.02 30006.63  \n",
       "3 30814 24.82 28257.89  \n",
       "4 29799 23.98 27590.19  \n",
       "5 28900 23.82 27463.01  \n",
       "6 28218 23.78 27431.21  "
      ]
     },
     "metadata": {},
     "output_type": "display_data"
    }
   ],
   "source": [
    "dados$Y_estimado <- modelo$fitted.values\n",
    "head(dados)"
   ]
  },
  {
   "cell_type": "markdown",
   "metadata": {
    "colab_type": "text",
    "id": "nIpYDmr6ZTOb"
   },
   "source": [
    "### Utilizando nosso modelo estimado para fazer previsões.\n",
    "### Qual seria o consumo de cerveja para um dia com temperatura média de 42° C?"
   ]
  },
  {
   "cell_type": "code",
   "execution_count": 34,
   "metadata": {
    "colab": {},
    "colab_type": "code",
    "id": "Th2Akn3ZZTOb",
    "outputId": "b63ddd21-b33d-416d-f5a0-95f04f4f7ec7"
   },
   "outputs": [
    {
     "data": {
      "text/html": [
       "<strong>1:</strong> 41913.9738381663"
      ],
      "text/latex": [
       "\\textbf{1:} 41913.9738381663"
      ],
      "text/markdown": [
       "**1:** 41913.9738381663"
      ],
      "text/plain": [
       "       1 \n",
       "41913.97 "
      ]
     },
     "metadata": {},
     "output_type": "display_data"
    }
   ],
   "source": [
    "predict(modelo, data.frame(X = 42))"
   ]
  },
  {
   "cell_type": "markdown",
   "metadata": {
    "colab_type": "text",
    "id": "cRNbxk8EZTOd"
   },
   "source": [
    "### Obtenha os resíduos da regressão"
   ]
  },
  {
   "cell_type": "code",
   "execution_count": 37,
   "metadata": {
    "colab": {},
    "colab_type": "code",
    "id": "wBzSywQ-ZTOe",
    "outputId": "7f874a3e-efab-4e7f-a5a0-3a8c826f8ce8"
   },
   "outputs": [
    {
     "data": {
      "text/html": [
       "<table class=\"dataframe\">\n",
       "<caption>A data.frame: 6 × 5</caption>\n",
       "<thead>\n",
       "\t<tr><th></th><th scope=col>Y</th><th scope=col>X</th><th scope=col>Y_estimado</th><th scope=col>Residos</th><th scope=col>Residuos</th></tr>\n",
       "\t<tr><th></th><th scope=col>&lt;int&gt;</th><th scope=col>&lt;dbl&gt;</th><th scope=col>&lt;dbl&gt;</th><th scope=col>&lt;dbl&gt;</th><th scope=col>&lt;dbl&gt;</th></tr>\n",
       "</thead>\n",
       "<tbody>\n",
       "\t<tr><th scope=row>1</th><td>25461</td><td>27.30</td><td>30229.20</td><td>-4768.201</td><td>-4768.201</td></tr>\n",
       "\t<tr><th scope=row>2</th><td>28972</td><td>27.02</td><td>30006.63</td><td>-1034.633</td><td>-1034.633</td></tr>\n",
       "\t<tr><th scope=row>3</th><td>30814</td><td>24.82</td><td>28257.89</td><td> 2556.108</td><td> 2556.108</td></tr>\n",
       "\t<tr><th scope=row>4</th><td>29799</td><td>23.98</td><td>27590.19</td><td> 2208.809</td><td> 2208.809</td></tr>\n",
       "\t<tr><th scope=row>5</th><td>28900</td><td>23.82</td><td>27463.01</td><td> 1436.991</td><td> 1436.991</td></tr>\n",
       "\t<tr><th scope=row>6</th><td>28218</td><td>23.78</td><td>27431.21</td><td>  786.786</td><td>  786.786</td></tr>\n",
       "</tbody>\n",
       "</table>\n"
      ],
      "text/latex": [
       "A data.frame: 6 × 5\n",
       "\\begin{tabular}{r|lllll}\n",
       "  & Y & X & Y\\_estimado & Residos & Residuos\\\\\n",
       "  & <int> & <dbl> & <dbl> & <dbl> & <dbl>\\\\\n",
       "\\hline\n",
       "\t1 & 25461 & 27.30 & 30229.20 & -4768.201 & -4768.201\\\\\n",
       "\t2 & 28972 & 27.02 & 30006.63 & -1034.633 & -1034.633\\\\\n",
       "\t3 & 30814 & 24.82 & 28257.89 &  2556.108 &  2556.108\\\\\n",
       "\t4 & 29799 & 23.98 & 27590.19 &  2208.809 &  2208.809\\\\\n",
       "\t5 & 28900 & 23.82 & 27463.01 &  1436.991 &  1436.991\\\\\n",
       "\t6 & 28218 & 23.78 & 27431.21 &   786.786 &   786.786\\\\\n",
       "\\end{tabular}\n"
      ],
      "text/markdown": [
       "\n",
       "A data.frame: 6 × 5\n",
       "\n",
       "| <!--/--> | Y &lt;int&gt; | X &lt;dbl&gt; | Y_estimado &lt;dbl&gt; | Residos &lt;dbl&gt; | Residuos &lt;dbl&gt; |\n",
       "|---|---|---|---|---|---|\n",
       "| 1 | 25461 | 27.30 | 30229.20 | -4768.201 | -4768.201 |\n",
       "| 2 | 28972 | 27.02 | 30006.63 | -1034.633 | -1034.633 |\n",
       "| 3 | 30814 | 24.82 | 28257.89 |  2556.108 |  2556.108 |\n",
       "| 4 | 29799 | 23.98 | 27590.19 |  2208.809 |  2208.809 |\n",
       "| 5 | 28900 | 23.82 | 27463.01 |  1436.991 |  1436.991 |\n",
       "| 6 | 28218 | 23.78 | 27431.21 |   786.786 |   786.786 |\n",
       "\n"
      ],
      "text/plain": [
       "  Y     X     Y_estimado Residos   Residuos \n",
       "1 25461 27.30 30229.20   -4768.201 -4768.201\n",
       "2 28972 27.02 30006.63   -1034.633 -1034.633\n",
       "3 30814 24.82 28257.89    2556.108  2556.108\n",
       "4 29799 23.98 27590.19    2208.809  2208.809\n",
       "5 28900 23.82 27463.01    1436.991  1436.991\n",
       "6 28218 23.78 27431.21     786.786   786.786"
      ]
     },
     "metadata": {},
     "output_type": "display_data"
    }
   ],
   "source": [
    "dados$Residuos <- modelo$residuals\n",
    "head(dados)"
   ]
  },
  {
   "cell_type": "markdown",
   "metadata": {
    "colab_type": "text",
    "id": "v1uM1N_UZTOg"
   },
   "source": [
    "### Plote um gráfico de dispersão dos resíduos da regressão contra o $Y$ previsto"
   ]
  },
  {
   "cell_type": "code",
   "execution_count": 43,
   "metadata": {
    "colab": {},
    "colab_type": "code",
    "id": "gyF8kMnzZTOh",
    "outputId": "7dfa3151-edfb-40b1-dfed-6b00f92752c7"
   },
   "outputs": [
    {
     "data": {
      "image/png": "[encoded data removed]",
      "text/plain": [
       "plot without title"
      ]
     },
     "metadata": {
      "image/png": {
       "height": 240,
       "width": 420
      }
     },
     "output_type": "display_data"
    }
   ],
   "source": [
    "ggplot(dados, aes(x = Y_estimado, y = Residuos)) +\n",
    "    geom_point(size = 1.5, stroke = 0) +\n",
    "    geom_hline(yintercept = 0)"
   ]
  },
  {
   "cell_type": "markdown",
   "metadata": {
    "colab_type": "text",
    "id": "XFr505IvZcR2"
   },
   "source": [
    "### Obtenha o R² da regressão pelo método da soma dos quadrados\n",
    "\n",
    "# $$R^2 = \\frac{SQR}{SQT}$$\n"
   ]
  },
  {
   "cell_type": "code",
   "execution_count": 45,
   "metadata": {
    "colab": {},
    "colab_type": "code",
    "id": "GxX3EpMfZTOn",
    "outputId": "7ede76b5-f570-4d31-bc15-c3f1e11803a9"
   },
   "outputs": [
    {
     "data": {
      "text/html": [
       "<table class=\"dataframe\">\n",
       "<caption>A anova: 2 × 5</caption>\n",
       "<thead>\n",
       "\t<tr><th></th><th scope=col>Df</th><th scope=col>Sum Sq</th><th scope=col>Mean Sq</th><th scope=col>F value</th><th scope=col>Pr(&gt;F)</th></tr>\n",
       "\t<tr><th></th><th scope=col>&lt;int&gt;</th><th scope=col>&lt;dbl&gt;</th><th scope=col>&lt;dbl&gt;</th><th scope=col>&lt;dbl&gt;</th><th scope=col>&lt;dbl&gt;</th></tr>\n",
       "</thead>\n",
       "<tbody>\n",
       "\t<tr><th scope=row>X</th><td>  1</td><td>2325899487</td><td>2325899487</td><td>178.9383</td><td>1.866747e-33</td></tr>\n",
       "\t<tr><th scope=row>Residuals</th><td>363</td><td>4718394688</td><td>  12998332</td><td>      NA</td><td>          NA</td></tr>\n",
       "</tbody>\n",
       "</table>\n"
      ],
      "text/latex": [
       "A anova: 2 × 5\n",
       "\\begin{tabular}{r|lllll}\n",
       "  & Df & Sum Sq & Mean Sq & F value & Pr(>F)\\\\\n",
       "  & <int> & <dbl> & <dbl> & <dbl> & <dbl>\\\\\n",
       "\\hline\n",
       "\tX &   1 & 2325899487 & 2325899487 & 178.9383 & 1.866747e-33\\\\\n",
       "\tResiduals & 363 & 4718394688 &   12998332 &       NA &           NA\\\\\n",
       "\\end{tabular}\n"
      ],
      "text/markdown": [
       "\n",
       "A anova: 2 × 5\n",
       "\n",
       "| <!--/--> | Df &lt;int&gt; | Sum Sq &lt;dbl&gt; | Mean Sq &lt;dbl&gt; | F value &lt;dbl&gt; | Pr(&gt;F) &lt;dbl&gt; |\n",
       "|---|---|---|---|---|---|\n",
       "| X |   1 | 2325899487 | 2325899487 | 178.9383 | 1.866747e-33 |\n",
       "| Residuals | 363 | 4718394688 |   12998332 |       NA |           NA |\n",
       "\n"
      ],
      "text/plain": [
       "          Df  Sum Sq     Mean Sq    F value  Pr(>F)      \n",
       "X           1 2325899487 2325899487 178.9383 1.866747e-33\n",
       "Residuals 363 4718394688   12998332       NA           NA"
      ]
     },
     "metadata": {},
     "output_type": "display_data"
    }
   ],
   "source": [
    "anova <- anova(modelo)          \n",
    "anova"
   ]
  },
  {
   "cell_type": "code",
   "execution_count": 47,
   "metadata": {
    "colab": {},
    "colab_type": "code",
    "id": "5iSFXLvyZTOq",
    "outputId": "b3ff4b3e-1165-448f-ea33-5bc18a89a0e2"
   },
   "outputs": [
    {
     "data": {
      "text/html": [
       "4718394688.06769"
      ],
      "text/latex": [
       "4718394688.06769"
      ],
      "text/markdown": [
       "4718394688.06769"
      ],
      "text/plain": [
       "[1] 4718394688"
      ]
     },
     "metadata": {},
     "output_type": "display_data"
    }
   ],
   "source": [
    "SQE <- anova$`Sum Sq`[2]\n",
    "SQE"
   ]
  },
  {
   "cell_type": "code",
   "execution_count": 49,
   "metadata": {
    "colab": {},
    "colab_type": "code",
    "id": "mNm5V2r8ZTOs",
    "outputId": "e40e384a-3402-4491-bf37-11b84096c569"
   },
   "outputs": [
    {
     "data": {
      "text/html": [
       "2325899486.73778"
      ],
      "text/latex": [
       "2325899486.73778"
      ],
      "text/markdown": [
       "2325899486.73778"
      ],
      "text/plain": [
       "[1] 2325899487"
      ]
     },
     "metadata": {},
     "output_type": "display_data"
    }
   ],
   "source": [
    "SQR <- anova$`Sum Sq`[1]\n",
    "SQR"
   ]
  },
  {
   "cell_type": "code",
   "execution_count": 51,
   "metadata": {
    "colab": {},
    "colab_type": "code",
    "id": "4wnz--cwZTOu",
    "outputId": "05b2f206-1322-46bc-eadd-37139d9a0d9f"
   },
   "outputs": [
    {
     "data": {
      "text/html": [
       "7044294174.80548"
      ],
      "text/latex": [
       "7044294174.80548"
      ],
      "text/markdown": [
       "7044294174.80548"
      ],
      "text/plain": [
       "[1] 7044294175"
      ]
     },
     "metadata": {},
     "output_type": "display_data"
    }
   ],
   "source": [
    "SQT <- SQR + SQE\n",
    "SQT"
   ]
  },
  {
   "cell_type": "code",
   "execution_count": 52,
   "metadata": {
    "colab": {},
    "colab_type": "code",
    "id": "JgBLHvclZTOw",
    "outputId": "87ba7851-4a9d-41d7-ed2d-1f3b1f870071"
   },
   "outputs": [
    {
     "data": {
      "text/html": [
       "0.330182049332432"
      ],
      "text/latex": [
       "0.330182049332432"
      ],
      "text/markdown": [
       "0.330182049332432"
      ],
      "text/plain": [
       "[1] 0.330182"
      ]
     },
     "metadata": {},
     "output_type": "display_data"
    }
   ],
   "source": [
    "R2 <- SQR / SQT\n",
    "R2"
   ]
  },
  {
   "cell_type": "code",
   "execution_count": 54,
   "metadata": {},
   "outputs": [
    {
     "data": {
      "text/html": [
       "0.330182049332432"
      ],
      "text/latex": [
       "0.330182049332432"
      ],
      "text/markdown": [
       "0.330182049332432"
      ],
      "text/plain": [
       "[1] 0.330182"
      ]
     },
     "metadata": {},
     "output_type": "display_data"
    }
   ],
   "source": [
    "summary(modelo)$r.squared"
   ]
  }
 ],
 "metadata": {
  "kernelspec": {
   "display_name": "R",
   "language": "R",
   "name": "ir"
  },
  "language_info": {
   "codemirror_mode": "r",
   "file_extension": ".r",
   "mimetype": "text/x-r-source",
   "name": "R",
   "pygments_lexer": "r",
   "version": "4.1.2"
  }
 },
 "nbformat": 4,
 "nbformat_minor": 4
}
