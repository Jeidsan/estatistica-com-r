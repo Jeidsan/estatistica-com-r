{
 "cells": [
  {
   "cell_type": "markdown",
   "metadata": {
    "colab_type": "text",
    "id": "WvMflodMjQKe",
    "tags": []
   },
   "source": [
    "***\n",
    "# <font color=green size=10>CURSO DE ESTATÍSTICA - PARTE 1</font>\n",
    "***"
   ]
  },
  {
   "cell_type": "markdown",
   "metadata": {
    "tags": []
   },
   "source": [
    "##  Trabalho de Análise Descritiva de um Conjunto de Dados"
   ]
  },
  {
   "cell_type": "markdown",
   "metadata": {},
   "source": [
    "Utilizando os conhecimentos adquiridos em nosso treinamento realize uma análise descritiva básica de um conjunto de dados retirados da Pesquisa Nacional por Amostra de Domicílios - 2015 do IBGE. \n",
    "\n",
    "Vamos construir histogramas, calcular e avaliar medidas de tendência central, medidas separatrizes e de dispersão dos dados.\n",
    "\n",
    "Siga o roteiro proposto e vá completando as células vazias. Procure pensar em mais informações interessantes que podem ser exploradas em nosso dataset."
   ]
  },
  {
   "cell_type": "markdown",
   "metadata": {
    "colab_type": "text",
    "id": "cVgsZ_E3jQKg",
    "tags": []
   },
   "source": [
    "## <font color=green>DATASET DO PROJETO</font>\n",
    "***"
   ]
  },
  {
   "cell_type": "markdown",
   "metadata": {
    "colab_type": "text",
    "id": "iN1gIbaKjQKh",
    "jp-MarkdownHeadingCollapsed": true,
    "tags": []
   },
   "source": [
    "### Pesquisa Nacional por Amostra de Domicílios - 2015"
   ]
  },
  {
   "cell_type": "markdown",
   "metadata": {
    "tags": []
   },
   "source": [
    "A <b>Pesquisa Nacional por Amostra de Domicílios - PNAD</b> investiga anualmente, de forma permanente, características gerais da população, de educação, trabalho, rendimento e habitação e outras, com periodicidade variável, de acordo com as necessidades de informação para o país, como as características sobre migração, fecundidade, nupcialidade, saúde, segurança alimentar, entre outros temas. O levantamento dessas estatísticas constitui, ao longo dos 49 anos de realização da pesquisa, um importante instrumento para formulação, validação e avaliação de políticas orientadas para o desenvolvimento socioeconômico e a melhoria das condições de vida no Brasil."
   ]
  },
  {
   "cell_type": "markdown",
   "metadata": {
    "colab_type": "text",
    "id": "U6V7br1RjQKi",
    "jp-MarkdownHeadingCollapsed": true,
    "tags": []
   },
   "source": [
    "### Fonte dos Dados\n",
    "\n",
    "https://ww2.ibge.gov.br/home/estatistica/populacao/trabalhoerendimento/pnad2015/microdados.shtm"
   ]
  },
  {
   "cell_type": "markdown",
   "metadata": {
    "colab_type": "text",
    "id": "r0Fe_qnzjQKj",
    "jp-MarkdownHeadingCollapsed": true,
    "tags": []
   },
   "source": [
    "### Variáveis utilizadas\n",
    "\n",
    "> ### Renda\n",
    "> ***\n",
    "\n",
    "Rendimento mensal do trabalho principal para pessoas de 10 anos ou mais de idade.\n",
    "\n",
    "> ### Idade\n",
    "> ***\n",
    "\n",
    "Idade do morador na data de referência em anos.\n",
    "\n",
    "> ### Altura (elaboração própria)\n",
    "> ***\n",
    "\n",
    "Altura do morador em metros.\n",
    "\n",
    "> ### UF\n",
    "> ***\n",
    "\n",
    "|Código|Descrição|\n",
    "|---|---|\n",
    "|11|Rondônia|\n",
    "|12|Acre|\n",
    "|13|Amazonas|\n",
    "|14|Roraima|\n",
    "|15|Pará|\n",
    "|16|Amapá|\n",
    "|17|Tocantins|\n",
    "|21|Maranhão|\n",
    "|22|Piauí|\n",
    "|23|Ceará|\n",
    "|24|Rio Grande do Norte|\n",
    "|25|Paraíba|\n",
    "|26|Pernambuco|\n",
    "|27|Alagoas|\n",
    "|28|Sergipe|\n",
    "|29|Bahia|\n",
    "|31|Minas Gerais|\n",
    "|32|Espírito Santo|\n",
    "|33|Rio de Janeiro|\n",
    "|35|São Paulo|\n",
    "|41|Paraná|\n",
    "|42|Santa Catarina|\n",
    "|43|Rio Grande do Sul|\n",
    "|50|Mato Grosso do Sul|\n",
    "|51|Mato Grosso|\n",
    "|52|Goiás|\n",
    "|53|Distrito Federal|\n",
    "\n",
    "> ### Sexo\t\n",
    "> ***\n",
    "\n",
    "|Código|Descrição|\n",
    "|---|---|\n",
    "|0|Masculino|\n",
    "|1|Feminino|\n",
    "\n",
    "> ### Anos de Estudo\n",
    "> ***\n",
    "\n",
    "|Código|Descrição|\n",
    "|---|---|\n",
    "|1|Sem instrução e menos de 1 ano|\n",
    "|2|1 ano|\n",
    "|3|2 anos|\n",
    "|4|3 anos|\n",
    "|5|4 anos|\n",
    "|6|5 anos|\n",
    "|7|6 anos|\n",
    "|8|7 anos|\n",
    "|9|8 anos|\n",
    "|10|9 anos|\n",
    "|11|10 anos|\n",
    "|12|11 anos|\n",
    "|13|12 anos|\n",
    "|14|13 anos|\n",
    "|15|14 anos|\n",
    "|16|15 anos ou mais|\n",
    "|17|Não determinados| \n",
    "||Não aplicável|\n",
    "\n",
    "> ### Cor\n",
    "> ***\n",
    "\n",
    "|Código|Descrição|\n",
    "|---|---|\n",
    "|0|Indígena|\n",
    "|2|Branca|\n",
    "|4|Preta|\n",
    "|6|Amarela|\n",
    "|8|Parda|\n",
    "|9|Sem declaração|"
   ]
  },
  {
   "cell_type": "markdown",
   "metadata": {
    "colab_type": "text",
    "id": "OK1IQH5cX7Gb"
   },
   "source": [
    "#### <font color='red'>Observação</font>\n",
    "***\n",
    "> Os seguintes tratamentos foram realizados nos dados originais:\n",
    "> 1. Foram eliminados os registros onde a <b>Renda</b> era inválida (999 999 999 999);\n",
    "> 2. Foram eliminados os registros onde a <b>Renda</b> era missing;\n",
    "> 3. Foram considerados somente os registros das <b>Pessoas de Referência</b> de cada domicílio (responsável pelo domicílio)."
   ]
  },
  {
   "cell_type": "markdown",
   "metadata": {
    "colab_type": "text",
    "id": "ZIqLOffNTg1Y"
   },
   "source": [
    "***\n",
    "***"
   ]
  },
  {
   "cell_type": "markdown",
   "metadata": {
    "colab_type": "text",
    "id": "8Rw70V6ojQKk"
   },
   "source": [
    "### Utilize as células abaixo para importar as bibliotecas que precisar e para configurações gerais\n",
    "#### <font color='red'>Sugestões: dplyr, ggplot2 etc.</font>"
   ]
  },
  {
   "cell_type": "code",
   "execution_count": 2,
   "metadata": {
    "colab": {},
    "colab_type": "code",
    "id": "fcTgimHBybMz"
   },
   "outputs": [
    {
     "name": "stderr",
     "output_type": "stream",
     "text": [
      "\n",
      "Attaching package: 'dplyr'\n",
      "\n",
      "\n",
      "The following objects are masked from 'package:stats':\n",
      "\n",
      "    filter, lag\n",
      "\n",
      "\n",
      "The following objects are masked from 'package:base':\n",
      "\n",
      "    intersect, setdiff, setequal, union\n",
      "\n",
      "\n"
     ]
    }
   ],
   "source": [
    "library(dplyr)\n",
    "library(ggplot2)"
   ]
  },
  {
   "cell_type": "code",
   "execution_count": 89,
   "metadata": {},
   "outputs": [],
   "source": [
    "options(repr.plot.width = 10, repr.plot.height = 6)\n",
    "formatos <- theme(\n",
    "        plot.title = element_text(size = 18, hjust = 0.5),\n",
    "        axis.title.y = element_text(size = 16, vjust = 0.6),\n",
    "        axis.title.x = element_text(size = 16, vjust = -0.6),\n",
    "        axis.text.y = element_text(size = 14),\n",
    "        axis.text.x = element_text(size = 14)\n",
    "    )"
   ]
  },
  {
   "cell_type": "markdown",
   "metadata": {
    "colab_type": "text",
    "id": "2a-gvBvCULwt"
   },
   "source": [
    "### Importe o dataset e armazene o conteúdo em uma DataFrame"
   ]
  },
  {
   "cell_type": "code",
   "execution_count": 3,
   "metadata": {
    "colab": {},
    "colab_type": "code",
    "id": "ufRZ7TLwjQKo"
   },
   "outputs": [],
   "source": [
    "dados <- read.csv('dados.csv')"
   ]
  },
  {
   "cell_type": "markdown",
   "metadata": {
    "colab_type": "text",
    "id": "Oq3CKHCmTg1j"
   },
   "source": [
    "### Visualize o conteúdo do DataFrame"
   ]
  },
  {
   "cell_type": "code",
   "execution_count": 137,
   "metadata": {
    "colab": {
     "base_uri": "https://localhost:8080/",
     "height": 204
    },
    "colab_type": "code",
    "id": "GsC_WhLFjQKq",
    "outputId": "dbda77ae-c90f-4eb0-a2da-181dea0f77ee",
    "scrolled": true
   },
   "outputs": [
    {
     "data": {
      "text/html": [
       "<table class=\"dataframe\">\n",
       "<caption>A data.frame: 76840 × 9</caption>\n",
       "<thead>\n",
       "\t<tr><th scope=col>UF</th><th scope=col>Sexo</th><th scope=col>Idade</th><th scope=col>Cor</th><th scope=col>Anos.de.Estudo</th><th scope=col>Renda</th><th scope=col>Altura</th><th scope=col>ClasseRenda</th><th scope=col>Cat.Sexo</th></tr>\n",
       "\t<tr><th scope=col>&lt;int&gt;</th><th scope=col>&lt;fct&gt;</th><th scope=col>&lt;int&gt;</th><th scope=col>&lt;fct&gt;</th><th scope=col>&lt;int&gt;</th><th scope=col>&lt;int&gt;</th><th scope=col>&lt;dbl&gt;</th><th scope=col>&lt;fct&gt;</th><th scope=col>&lt;fct&gt;</th></tr>\n",
       "</thead>\n",
       "<tbody>\n",
       "\t<tr><td>11</td><td>0</td><td>23</td><td>8</td><td>12</td><td> 800</td><td>1.603808</td><td>E</td><td>0</td></tr>\n",
       "\t<tr><td>11</td><td>1</td><td>23</td><td>2</td><td>12</td><td>1150</td><td>1.739790</td><td>E</td><td>1</td></tr>\n",
       "\t<tr><td>11</td><td>1</td><td>35</td><td>8</td><td>15</td><td> 880</td><td>1.760444</td><td>E</td><td>1</td></tr>\n",
       "\t<tr><td>11</td><td>0</td><td>46</td><td>2</td><td> 6</td><td>3500</td><td>1.783158</td><td>D</td><td>0</td></tr>\n",
       "\t<tr><td>11</td><td>1</td><td>47</td><td>8</td><td> 9</td><td> 150</td><td>1.690631</td><td>E</td><td>1</td></tr>\n",
       "\t<tr><td>11</td><td>1</td><td>34</td><td>8</td><td>12</td><td> 790</td><td>1.637906</td><td>E</td><td>1</td></tr>\n",
       "\t<tr><td>11</td><td>0</td><td>57</td><td>8</td><td>12</td><td>3150</td><td>1.570078</td><td>D</td><td>0</td></tr>\n",
       "\t<tr><td>11</td><td>1</td><td>60</td><td>8</td><td>12</td><td>1700</td><td>1.608495</td><td>D</td><td>1</td></tr>\n",
       "\t<tr><td>11</td><td>1</td><td>50</td><td>4</td><td>14</td><td>1800</td><td>1.780329</td><td>D</td><td>1</td></tr>\n",
       "\t<tr><td>11</td><td>0</td><td>26</td><td>8</td><td>12</td><td>1150</td><td>1.793203</td><td>E</td><td>0</td></tr>\n",
       "\t<tr><td>11</td><td>1</td><td>46</td><td>8</td><td>12</td><td>3000</td><td>1.787003</td><td>D</td><td>1</td></tr>\n",
       "\t<tr><td>11</td><td>1</td><td>49</td><td>8</td><td> 6</td><td>2500</td><td>1.712912</td><td>D</td><td>1</td></tr>\n",
       "\t<tr><td>11</td><td>1</td><td>52</td><td>2</td><td> 6</td><td>1200</td><td>1.736442</td><td>E</td><td>1</td></tr>\n",
       "\t<tr><td>11</td><td>0</td><td>38</td><td>8</td><td>12</td><td>2000</td><td>1.750827</td><td>D</td><td>0</td></tr>\n",
       "\t<tr><td>11</td><td>0</td><td>45</td><td>2</td><td>12</td><td>2000</td><td>1.780450</td><td>D</td><td>0</td></tr>\n",
       "\t<tr><td>11</td><td>0</td><td>34</td><td>2</td><td>16</td><td>6000</td><td>1.711825</td><td>C</td><td>0</td></tr>\n",
       "\t<tr><td>11</td><td>1</td><td>43</td><td>8</td><td>10</td><td>1050</td><td>1.789012</td><td>E</td><td>1</td></tr>\n",
       "\t<tr><td>11</td><td>0</td><td>53</td><td>8</td><td>16</td><td>7000</td><td>1.673665</td><td>C</td><td>0</td></tr>\n",
       "\t<tr><td>11</td><td>0</td><td>57</td><td>2</td><td>12</td><td>2000</td><td>1.715138</td><td>D</td><td>0</td></tr>\n",
       "\t<tr><td>11</td><td>1</td><td>62</td><td>8</td><td>12</td><td>1150</td><td>1.765973</td><td>E</td><td>1</td></tr>\n",
       "\t<tr><td>11</td><td>0</td><td>69</td><td>8</td><td> 1</td><td>3030</td><td>1.746351</td><td>D</td><td>0</td></tr>\n",
       "\t<tr><td>11</td><td>1</td><td>41</td><td>8</td><td>16</td><td>4000</td><td>1.660873</td><td>C</td><td>1</td></tr>\n",
       "\t<tr><td>11</td><td>0</td><td>34</td><td>8</td><td> 5</td><td> 788</td><td>1.746048</td><td>E</td><td>0</td></tr>\n",
       "\t<tr><td>11</td><td>0</td><td>25</td><td>8</td><td>12</td><td>1000</td><td>1.726496</td><td>E</td><td>0</td></tr>\n",
       "\t<tr><td>11</td><td>0</td><td>33</td><td>8</td><td> 9</td><td> 800</td><td>1.778914</td><td>E</td><td>0</td></tr>\n",
       "\t<tr><td>11</td><td>1</td><td>44</td><td>8</td><td> 5</td><td> 788</td><td>1.668638</td><td>E</td><td>1</td></tr>\n",
       "\t<tr><td>11</td><td>0</td><td>33</td><td>2</td><td>16</td><td>1600</td><td>1.783771</td><td>D</td><td>0</td></tr>\n",
       "\t<tr><td>11</td><td>0</td><td>65</td><td>2</td><td>12</td><td>1700</td><td>1.873445</td><td>D</td><td>0</td></tr>\n",
       "\t<tr><td>11</td><td>0</td><td>33</td><td>8</td><td>14</td><td>2000</td><td>1.890250</td><td>D</td><td>0</td></tr>\n",
       "\t<tr><td>11</td><td>0</td><td>32</td><td>8</td><td>12</td><td>2400</td><td>1.660204</td><td>D</td><td>0</td></tr>\n",
       "\t<tr><td>...</td><td>...</td><td>...</td><td>...</td><td>...</td><td>...</td><td>...</td><td>...</td><td>...</td></tr>\n",
       "\t<tr><td>53</td><td>0</td><td>34</td><td>4</td><td>12</td><td> 2500</td><td>1.802241</td><td>D</td><td>0</td></tr>\n",
       "\t<tr><td>53</td><td>1</td><td>57</td><td>2</td><td>11</td><td> 1000</td><td>1.823047</td><td>E</td><td>1</td></tr>\n",
       "\t<tr><td>53</td><td>1</td><td>32</td><td>4</td><td>12</td><td>  788</td><td>1.681405</td><td>E</td><td>1</td></tr>\n",
       "\t<tr><td>53</td><td>0</td><td>35</td><td>4</td><td> 9</td><td> 2100</td><td>1.671112</td><td>D</td><td>0</td></tr>\n",
       "\t<tr><td>53</td><td>1</td><td>49</td><td>8</td><td>12</td><td> 5260</td><td>1.799319</td><td>C</td><td>1</td></tr>\n",
       "\t<tr><td>53</td><td>0</td><td>51</td><td>8</td><td> 1</td><td> 5000</td><td>1.599400</td><td>C</td><td>0</td></tr>\n",
       "\t<tr><td>53</td><td>0</td><td>37</td><td>8</td><td>12</td><td>  950</td><td>1.620497</td><td>E</td><td>0</td></tr>\n",
       "\t<tr><td>53</td><td>0</td><td>47</td><td>8</td><td>12</td><td> 1109</td><td>1.920274</td><td>E</td><td>0</td></tr>\n",
       "\t<tr><td>53</td><td>0</td><td>27</td><td>8</td><td>10</td><td>  850</td><td>1.793074</td><td>E</td><td>0</td></tr>\n",
       "\t<tr><td>53</td><td>1</td><td>49</td><td>8</td><td> 9</td><td>  788</td><td>1.695710</td><td>E</td><td>1</td></tr>\n",
       "\t<tr><td>53</td><td>1</td><td>27</td><td>8</td><td>12</td><td>  866</td><td>1.729035</td><td>E</td><td>1</td></tr>\n",
       "\t<tr><td>53</td><td>0</td><td>20</td><td>2</td><td> 8</td><td> 1300</td><td>1.660409</td><td>E</td><td>0</td></tr>\n",
       "\t<tr><td>53</td><td>0</td><td>49</td><td>8</td><td>12</td><td> 8700</td><td>1.775182</td><td>C</td><td>0</td></tr>\n",
       "\t<tr><td>53</td><td>0</td><td>43</td><td>8</td><td>10</td><td> 5000</td><td>1.584493</td><td>C</td><td>0</td></tr>\n",
       "\t<tr><td>53</td><td>0</td><td>64</td><td>2</td><td>12</td><td> 5000</td><td>1.717452</td><td>C</td><td>0</td></tr>\n",
       "\t<tr><td>53</td><td>0</td><td>55</td><td>2</td><td>16</td><td>13000</td><td>1.729995</td><td>A</td><td>0</td></tr>\n",
       "\t<tr><td>53</td><td>0</td><td>39</td><td>2</td><td>12</td><td> 6000</td><td>1.739046</td><td>C</td><td>0</td></tr>\n",
       "\t<tr><td>53</td><td>1</td><td>41</td><td>2</td><td>16</td><td>10000</td><td>1.696208</td><td>C</td><td>1</td></tr>\n",
       "\t<tr><td>53</td><td>0</td><td>62</td><td>2</td><td>16</td><td>10000</td><td>1.817097</td><td>C</td><td>0</td></tr>\n",
       "\t<tr><td>53</td><td>0</td><td>42</td><td>8</td><td>12</td><td>32000</td><td>1.788923</td><td>B</td><td>0</td></tr>\n",
       "\t<tr><td>53</td><td>0</td><td>62</td><td>2</td><td>16</td><td> 3500</td><td>1.725379</td><td>D</td><td>0</td></tr>\n",
       "\t<tr><td>53</td><td>1</td><td>44</td><td>2</td><td>16</td><td>30000</td><td>1.783962</td><td>B</td><td>1</td></tr>\n",
       "\t<tr><td>53</td><td>1</td><td>49</td><td>2</td><td>12</td><td> 5000</td><td>1.757146</td><td>C</td><td>1</td></tr>\n",
       "\t<tr><td>53</td><td>0</td><td>30</td><td>4</td><td> 6</td><td> 1900</td><td>1.662560</td><td>D</td><td>0</td></tr>\n",
       "\t<tr><td>53</td><td>1</td><td>35</td><td>4</td><td> 1</td><td> 1100</td><td>1.741089</td><td>E</td><td>1</td></tr>\n",
       "\t<tr><td>53</td><td>1</td><td>46</td><td>2</td><td>11</td><td>  812</td><td>1.687030</td><td>E</td><td>1</td></tr>\n",
       "\t<tr><td>53</td><td>0</td><td>30</td><td>4</td><td> 7</td><td> 1500</td><td>1.792934</td><td>E</td><td>0</td></tr>\n",
       "\t<tr><td>53</td><td>0</td><td>32</td><td>8</td><td>12</td><td> 1300</td><td>1.830587</td><td>E</td><td>0</td></tr>\n",
       "\t<tr><td>53</td><td>0</td><td>57</td><td>8</td><td> 4</td><td> 1500</td><td>1.726344</td><td>E</td><td>0</td></tr>\n",
       "\t<tr><td>53</td><td>0</td><td>38</td><td>8</td><td> 4</td><td>  900</td><td>1.658305</td><td>E</td><td>0</td></tr>\n",
       "</tbody>\n",
       "</table>\n"
      ],
      "text/latex": [
       "A data.frame: 76840 × 9\n",
       "\\begin{tabular}{lllllllll}\n",
       " UF & Sexo & Idade & Cor & Anos.de.Estudo & Renda & Altura & ClasseRenda & Cat.Sexo\\\\\n",
       " <int> & <fct> & <int> & <fct> & <int> & <int> & <dbl> & <fct> & <fct>\\\\\n",
       "\\hline\n",
       "\t 11 & 0 & 23 & 8 & 12 &  800 & 1.603808 & E & 0\\\\\n",
       "\t 11 & 1 & 23 & 2 & 12 & 1150 & 1.739790 & E & 1\\\\\n",
       "\t 11 & 1 & 35 & 8 & 15 &  880 & 1.760444 & E & 1\\\\\n",
       "\t 11 & 0 & 46 & 2 &  6 & 3500 & 1.783158 & D & 0\\\\\n",
       "\t 11 & 1 & 47 & 8 &  9 &  150 & 1.690631 & E & 1\\\\\n",
       "\t 11 & 1 & 34 & 8 & 12 &  790 & 1.637906 & E & 1\\\\\n",
       "\t 11 & 0 & 57 & 8 & 12 & 3150 & 1.570078 & D & 0\\\\\n",
       "\t 11 & 1 & 60 & 8 & 12 & 1700 & 1.608495 & D & 1\\\\\n",
       "\t 11 & 1 & 50 & 4 & 14 & 1800 & 1.780329 & D & 1\\\\\n",
       "\t 11 & 0 & 26 & 8 & 12 & 1150 & 1.793203 & E & 0\\\\\n",
       "\t 11 & 1 & 46 & 8 & 12 & 3000 & 1.787003 & D & 1\\\\\n",
       "\t 11 & 1 & 49 & 8 &  6 & 2500 & 1.712912 & D & 1\\\\\n",
       "\t 11 & 1 & 52 & 2 &  6 & 1200 & 1.736442 & E & 1\\\\\n",
       "\t 11 & 0 & 38 & 8 & 12 & 2000 & 1.750827 & D & 0\\\\\n",
       "\t 11 & 0 & 45 & 2 & 12 & 2000 & 1.780450 & D & 0\\\\\n",
       "\t 11 & 0 & 34 & 2 & 16 & 6000 & 1.711825 & C & 0\\\\\n",
       "\t 11 & 1 & 43 & 8 & 10 & 1050 & 1.789012 & E & 1\\\\\n",
       "\t 11 & 0 & 53 & 8 & 16 & 7000 & 1.673665 & C & 0\\\\\n",
       "\t 11 & 0 & 57 & 2 & 12 & 2000 & 1.715138 & D & 0\\\\\n",
       "\t 11 & 1 & 62 & 8 & 12 & 1150 & 1.765973 & E & 1\\\\\n",
       "\t 11 & 0 & 69 & 8 &  1 & 3030 & 1.746351 & D & 0\\\\\n",
       "\t 11 & 1 & 41 & 8 & 16 & 4000 & 1.660873 & C & 1\\\\\n",
       "\t 11 & 0 & 34 & 8 &  5 &  788 & 1.746048 & E & 0\\\\\n",
       "\t 11 & 0 & 25 & 8 & 12 & 1000 & 1.726496 & E & 0\\\\\n",
       "\t 11 & 0 & 33 & 8 &  9 &  800 & 1.778914 & E & 0\\\\\n",
       "\t 11 & 1 & 44 & 8 &  5 &  788 & 1.668638 & E & 1\\\\\n",
       "\t 11 & 0 & 33 & 2 & 16 & 1600 & 1.783771 & D & 0\\\\\n",
       "\t 11 & 0 & 65 & 2 & 12 & 1700 & 1.873445 & D & 0\\\\\n",
       "\t 11 & 0 & 33 & 8 & 14 & 2000 & 1.890250 & D & 0\\\\\n",
       "\t 11 & 0 & 32 & 8 & 12 & 2400 & 1.660204 & D & 0\\\\\n",
       "\t ... & ... & ... & ... & ... & ... & ... & ... & ...\\\\\n",
       "\t 53 & 0 & 34 & 4 & 12 &  2500 & 1.802241 & D & 0\\\\\n",
       "\t 53 & 1 & 57 & 2 & 11 &  1000 & 1.823047 & E & 1\\\\\n",
       "\t 53 & 1 & 32 & 4 & 12 &   788 & 1.681405 & E & 1\\\\\n",
       "\t 53 & 0 & 35 & 4 &  9 &  2100 & 1.671112 & D & 0\\\\\n",
       "\t 53 & 1 & 49 & 8 & 12 &  5260 & 1.799319 & C & 1\\\\\n",
       "\t 53 & 0 & 51 & 8 &  1 &  5000 & 1.599400 & C & 0\\\\\n",
       "\t 53 & 0 & 37 & 8 & 12 &   950 & 1.620497 & E & 0\\\\\n",
       "\t 53 & 0 & 47 & 8 & 12 &  1109 & 1.920274 & E & 0\\\\\n",
       "\t 53 & 0 & 27 & 8 & 10 &   850 & 1.793074 & E & 0\\\\\n",
       "\t 53 & 1 & 49 & 8 &  9 &   788 & 1.695710 & E & 1\\\\\n",
       "\t 53 & 1 & 27 & 8 & 12 &   866 & 1.729035 & E & 1\\\\\n",
       "\t 53 & 0 & 20 & 2 &  8 &  1300 & 1.660409 & E & 0\\\\\n",
       "\t 53 & 0 & 49 & 8 & 12 &  8700 & 1.775182 & C & 0\\\\\n",
       "\t 53 & 0 & 43 & 8 & 10 &  5000 & 1.584493 & C & 0\\\\\n",
       "\t 53 & 0 & 64 & 2 & 12 &  5000 & 1.717452 & C & 0\\\\\n",
       "\t 53 & 0 & 55 & 2 & 16 & 13000 & 1.729995 & A & 0\\\\\n",
       "\t 53 & 0 & 39 & 2 & 12 &  6000 & 1.739046 & C & 0\\\\\n",
       "\t 53 & 1 & 41 & 2 & 16 & 10000 & 1.696208 & C & 1\\\\\n",
       "\t 53 & 0 & 62 & 2 & 16 & 10000 & 1.817097 & C & 0\\\\\n",
       "\t 53 & 0 & 42 & 8 & 12 & 32000 & 1.788923 & B & 0\\\\\n",
       "\t 53 & 0 & 62 & 2 & 16 &  3500 & 1.725379 & D & 0\\\\\n",
       "\t 53 & 1 & 44 & 2 & 16 & 30000 & 1.783962 & B & 1\\\\\n",
       "\t 53 & 1 & 49 & 2 & 12 &  5000 & 1.757146 & C & 1\\\\\n",
       "\t 53 & 0 & 30 & 4 &  6 &  1900 & 1.662560 & D & 0\\\\\n",
       "\t 53 & 1 & 35 & 4 &  1 &  1100 & 1.741089 & E & 1\\\\\n",
       "\t 53 & 1 & 46 & 2 & 11 &   812 & 1.687030 & E & 1\\\\\n",
       "\t 53 & 0 & 30 & 4 &  7 &  1500 & 1.792934 & E & 0\\\\\n",
       "\t 53 & 0 & 32 & 8 & 12 &  1300 & 1.830587 & E & 0\\\\\n",
       "\t 53 & 0 & 57 & 8 &  4 &  1500 & 1.726344 & E & 0\\\\\n",
       "\t 53 & 0 & 38 & 8 &  4 &   900 & 1.658305 & E & 0\\\\\n",
       "\\end{tabular}\n"
      ],
      "text/markdown": [
       "\n",
       "A data.frame: 76840 × 9\n",
       "\n",
       "| UF &lt;int&gt; | Sexo &lt;fct&gt; | Idade &lt;int&gt; | Cor &lt;fct&gt; | Anos.de.Estudo &lt;int&gt; | Renda &lt;int&gt; | Altura &lt;dbl&gt; | ClasseRenda &lt;fct&gt; | Cat.Sexo &lt;fct&gt; |\n",
       "|---|---|---|---|---|---|---|---|---|\n",
       "| 11 | 0 | 23 | 8 | 12 |  800 | 1.603808 | E | 0 |\n",
       "| 11 | 1 | 23 | 2 | 12 | 1150 | 1.739790 | E | 1 |\n",
       "| 11 | 1 | 35 | 8 | 15 |  880 | 1.760444 | E | 1 |\n",
       "| 11 | 0 | 46 | 2 |  6 | 3500 | 1.783158 | D | 0 |\n",
       "| 11 | 1 | 47 | 8 |  9 |  150 | 1.690631 | E | 1 |\n",
       "| 11 | 1 | 34 | 8 | 12 |  790 | 1.637906 | E | 1 |\n",
       "| 11 | 0 | 57 | 8 | 12 | 3150 | 1.570078 | D | 0 |\n",
       "| 11 | 1 | 60 | 8 | 12 | 1700 | 1.608495 | D | 1 |\n",
       "| 11 | 1 | 50 | 4 | 14 | 1800 | 1.780329 | D | 1 |\n",
       "| 11 | 0 | 26 | 8 | 12 | 1150 | 1.793203 | E | 0 |\n",
       "| 11 | 1 | 46 | 8 | 12 | 3000 | 1.787003 | D | 1 |\n",
       "| 11 | 1 | 49 | 8 |  6 | 2500 | 1.712912 | D | 1 |\n",
       "| 11 | 1 | 52 | 2 |  6 | 1200 | 1.736442 | E | 1 |\n",
       "| 11 | 0 | 38 | 8 | 12 | 2000 | 1.750827 | D | 0 |\n",
       "| 11 | 0 | 45 | 2 | 12 | 2000 | 1.780450 | D | 0 |\n",
       "| 11 | 0 | 34 | 2 | 16 | 6000 | 1.711825 | C | 0 |\n",
       "| 11 | 1 | 43 | 8 | 10 | 1050 | 1.789012 | E | 1 |\n",
       "| 11 | 0 | 53 | 8 | 16 | 7000 | 1.673665 | C | 0 |\n",
       "| 11 | 0 | 57 | 2 | 12 | 2000 | 1.715138 | D | 0 |\n",
       "| 11 | 1 | 62 | 8 | 12 | 1150 | 1.765973 | E | 1 |\n",
       "| 11 | 0 | 69 | 8 |  1 | 3030 | 1.746351 | D | 0 |\n",
       "| 11 | 1 | 41 | 8 | 16 | 4000 | 1.660873 | C | 1 |\n",
       "| 11 | 0 | 34 | 8 |  5 |  788 | 1.746048 | E | 0 |\n",
       "| 11 | 0 | 25 | 8 | 12 | 1000 | 1.726496 | E | 0 |\n",
       "| 11 | 0 | 33 | 8 |  9 |  800 | 1.778914 | E | 0 |\n",
       "| 11 | 1 | 44 | 8 |  5 |  788 | 1.668638 | E | 1 |\n",
       "| 11 | 0 | 33 | 2 | 16 | 1600 | 1.783771 | D | 0 |\n",
       "| 11 | 0 | 65 | 2 | 12 | 1700 | 1.873445 | D | 0 |\n",
       "| 11 | 0 | 33 | 8 | 14 | 2000 | 1.890250 | D | 0 |\n",
       "| 11 | 0 | 32 | 8 | 12 | 2400 | 1.660204 | D | 0 |\n",
       "| ... | ... | ... | ... | ... | ... | ... | ... | ... |\n",
       "| 53 | 0 | 34 | 4 | 12 |  2500 | 1.802241 | D | 0 |\n",
       "| 53 | 1 | 57 | 2 | 11 |  1000 | 1.823047 | E | 1 |\n",
       "| 53 | 1 | 32 | 4 | 12 |   788 | 1.681405 | E | 1 |\n",
       "| 53 | 0 | 35 | 4 |  9 |  2100 | 1.671112 | D | 0 |\n",
       "| 53 | 1 | 49 | 8 | 12 |  5260 | 1.799319 | C | 1 |\n",
       "| 53 | 0 | 51 | 8 |  1 |  5000 | 1.599400 | C | 0 |\n",
       "| 53 | 0 | 37 | 8 | 12 |   950 | 1.620497 | E | 0 |\n",
       "| 53 | 0 | 47 | 8 | 12 |  1109 | 1.920274 | E | 0 |\n",
       "| 53 | 0 | 27 | 8 | 10 |   850 | 1.793074 | E | 0 |\n",
       "| 53 | 1 | 49 | 8 |  9 |   788 | 1.695710 | E | 1 |\n",
       "| 53 | 1 | 27 | 8 | 12 |   866 | 1.729035 | E | 1 |\n",
       "| 53 | 0 | 20 | 2 |  8 |  1300 | 1.660409 | E | 0 |\n",
       "| 53 | 0 | 49 | 8 | 12 |  8700 | 1.775182 | C | 0 |\n",
       "| 53 | 0 | 43 | 8 | 10 |  5000 | 1.584493 | C | 0 |\n",
       "| 53 | 0 | 64 | 2 | 12 |  5000 | 1.717452 | C | 0 |\n",
       "| 53 | 0 | 55 | 2 | 16 | 13000 | 1.729995 | A | 0 |\n",
       "| 53 | 0 | 39 | 2 | 12 |  6000 | 1.739046 | C | 0 |\n",
       "| 53 | 1 | 41 | 2 | 16 | 10000 | 1.696208 | C | 1 |\n",
       "| 53 | 0 | 62 | 2 | 16 | 10000 | 1.817097 | C | 0 |\n",
       "| 53 | 0 | 42 | 8 | 12 | 32000 | 1.788923 | B | 0 |\n",
       "| 53 | 0 | 62 | 2 | 16 |  3500 | 1.725379 | D | 0 |\n",
       "| 53 | 1 | 44 | 2 | 16 | 30000 | 1.783962 | B | 1 |\n",
       "| 53 | 1 | 49 | 2 | 12 |  5000 | 1.757146 | C | 1 |\n",
       "| 53 | 0 | 30 | 4 |  6 |  1900 | 1.662560 | D | 0 |\n",
       "| 53 | 1 | 35 | 4 |  1 |  1100 | 1.741089 | E | 1 |\n",
       "| 53 | 1 | 46 | 2 | 11 |   812 | 1.687030 | E | 1 |\n",
       "| 53 | 0 | 30 | 4 |  7 |  1500 | 1.792934 | E | 0 |\n",
       "| 53 | 0 | 32 | 8 | 12 |  1300 | 1.830587 | E | 0 |\n",
       "| 53 | 0 | 57 | 8 |  4 |  1500 | 1.726344 | E | 0 |\n",
       "| 53 | 0 | 38 | 8 |  4 |   900 | 1.658305 | E | 0 |\n",
       "\n"
      ],
      "text/plain": [
       "      UF  Sexo Idade Cor Anos.de.Estudo Renda Altura   ClasseRenda Cat.Sexo\n",
       "1     11  0    23    8   12              800  1.603808 E           0       \n",
       "2     11  1    23    2   12             1150  1.739790 E           1       \n",
       "3     11  1    35    8   15              880  1.760444 E           1       \n",
       "4     11  0    46    2    6             3500  1.783158 D           0       \n",
       "5     11  1    47    8    9              150  1.690631 E           1       \n",
       "6     11  1    34    8   12              790  1.637906 E           1       \n",
       "7     11  0    57    8   12             3150  1.570078 D           0       \n",
       "8     11  1    60    8   12             1700  1.608495 D           1       \n",
       "9     11  1    50    4   14             1800  1.780329 D           1       \n",
       "10    11  0    26    8   12             1150  1.793203 E           0       \n",
       "11    11  1    46    8   12             3000  1.787003 D           1       \n",
       "12    11  1    49    8    6             2500  1.712912 D           1       \n",
       "13    11  1    52    2    6             1200  1.736442 E           1       \n",
       "14    11  0    38    8   12             2000  1.750827 D           0       \n",
       "15    11  0    45    2   12             2000  1.780450 D           0       \n",
       "16    11  0    34    2   16             6000  1.711825 C           0       \n",
       "17    11  1    43    8   10             1050  1.789012 E           1       \n",
       "18    11  0    53    8   16             7000  1.673665 C           0       \n",
       "19    11  0    57    2   12             2000  1.715138 D           0       \n",
       "20    11  1    62    8   12             1150  1.765973 E           1       \n",
       "21    11  0    69    8    1             3030  1.746351 D           0       \n",
       "22    11  1    41    8   16             4000  1.660873 C           1       \n",
       "23    11  0    34    8    5              788  1.746048 E           0       \n",
       "24    11  0    25    8   12             1000  1.726496 E           0       \n",
       "25    11  0    33    8    9              800  1.778914 E           0       \n",
       "26    11  1    44    8    5              788  1.668638 E           1       \n",
       "27    11  0    33    2   16             1600  1.783771 D           0       \n",
       "28    11  0    65    2   12             1700  1.873445 D           0       \n",
       "29    11  0    33    8   14             2000  1.890250 D           0       \n",
       "30    11  0    32    8   12             2400  1.660204 D           0       \n",
       "...   ... ...  ...   ... ...            ...   ...      ...         ...     \n",
       "76811 53  0    34    4   12              2500 1.802241 D           0       \n",
       "76812 53  1    57    2   11              1000 1.823047 E           1       \n",
       "76813 53  1    32    4   12               788 1.681405 E           1       \n",
       "76814 53  0    35    4    9              2100 1.671112 D           0       \n",
       "76815 53  1    49    8   12              5260 1.799319 C           1       \n",
       "76816 53  0    51    8    1              5000 1.599400 C           0       \n",
       "76817 53  0    37    8   12               950 1.620497 E           0       \n",
       "76818 53  0    47    8   12              1109 1.920274 E           0       \n",
       "76819 53  0    27    8   10               850 1.793074 E           0       \n",
       "76820 53  1    49    8    9               788 1.695710 E           1       \n",
       "76821 53  1    27    8   12               866 1.729035 E           1       \n",
       "76822 53  0    20    2    8              1300 1.660409 E           0       \n",
       "76823 53  0    49    8   12              8700 1.775182 C           0       \n",
       "76824 53  0    43    8   10              5000 1.584493 C           0       \n",
       "76825 53  0    64    2   12              5000 1.717452 C           0       \n",
       "76826 53  0    55    2   16             13000 1.729995 A           0       \n",
       "76827 53  0    39    2   12              6000 1.739046 C           0       \n",
       "76828 53  1    41    2   16             10000 1.696208 C           1       \n",
       "76829 53  0    62    2   16             10000 1.817097 C           0       \n",
       "76830 53  0    42    8   12             32000 1.788923 B           0       \n",
       "76831 53  0    62    2   16              3500 1.725379 D           0       \n",
       "76832 53  1    44    2   16             30000 1.783962 B           1       \n",
       "76833 53  1    49    2   12              5000 1.757146 C           1       \n",
       "76834 53  0    30    4    6              1900 1.662560 D           0       \n",
       "76835 53  1    35    4    1              1100 1.741089 E           1       \n",
       "76836 53  1    46    2   11               812 1.687030 E           1       \n",
       "76837 53  0    30    4    7              1500 1.792934 E           0       \n",
       "76838 53  0    32    8   12              1300 1.830587 E           0       \n",
       "76839 53  0    57    8    4              1500 1.726344 E           0       \n",
       "76840 53  0    38    8    4               900 1.658305 E           0       "
      ]
     },
     "metadata": {},
     "output_type": "display_data"
    }
   ],
   "source": [
    "dados"
   ]
  },
  {
   "cell_type": "markdown",
   "metadata": {
    "colab_type": "text",
    "id": "HDrFJQitTg1n"
   },
   "source": [
    "### Para avaliar o comportamento da variável RENDA vamos construir uma tabela de frequências considerando as seguintes classes em salários mínimos (SM)\n",
    "#### <font color='blue'>Descreva os pontos mais relevantes que você observa na tabela e no gráfico.</font>\n",
    "\n",
    "Classes de renda:\n",
    "\n",
    "<b>A</b> ► Acima de 25 SM\n",
    "\n",
    "<b>B</b> ► De 15 a 25 SM\n",
    "\n",
    "<b>C</b> ► De 5 a 15 SM\n",
    "\n",
    "<b>D</b> ► De 2 a 5 SM\n",
    "\n",
    "<b>E</b> ► Até 2 SM\n",
    "\n",
    "Para construir as classes de renda considere que o salário mínimo na época da pesquisa era de <b>R$ 788,00</b>.\n",
    "\n",
    "#### Siga os passos abaixo:"
   ]
  },
  {
   "cell_type": "markdown",
   "metadata": {
    "colab_type": "text",
    "id": "zJBkeGxiTg1o"
   },
   "source": [
    "### 1º Definir os intevalos das classes em reais (R$)"
   ]
  },
  {
   "cell_type": "code",
   "execution_count": 60,
   "metadata": {
    "colab": {
     "base_uri": "https://localhost:8080/",
     "height": 35
    },
    "colab_type": "code",
    "id": "-Ct3QUj6Tg1p",
    "outputId": "53fd7aa4-7026-4143-f4dc-f6e55be70d11"
   },
   "outputs": [],
   "source": [
    "classesRenda <- c(min(dados$Renda), 1576, 3940, 11820, 19700, max(dados$Renda))"
   ]
  },
  {
   "cell_type": "markdown",
   "metadata": {
    "colab_type": "text",
    "id": "dZ7X37CGTg1t"
   },
   "source": [
    "### 2º Definir os labels das classes"
   ]
  },
  {
   "cell_type": "code",
   "execution_count": 6,
   "metadata": {
    "colab": {},
    "colab_type": "code",
    "id": "4UFOzitTTg1u"
   },
   "outputs": [],
   "source": [
    "descricaoClassesRenda <- c('E','D', 'C', 'B', 'A')"
   ]
  },
  {
   "cell_type": "code",
   "execution_count": 85,
   "metadata": {},
   "outputs": [],
   "source": [
    "classificarRenda <- function(renda) {\n",
    "    case_when(\n",
    "        renda < 1576 ~ 'E',\n",
    "        renda < 3940 ~ 'D',\n",
    "        renda < 11820 ~ 'C',        \n",
    "        renda >= 19700 ~ 'B',        \n",
    "        TRUE ~ 'A'\n",
    "    )\n",
    "}\n",
    "\n",
    "dados$ClasseRenda <- as.factor(classificarRenda(dados$Renda))\n",
    "dados$Sexo <- as.factor(dados$Sexo)\n",
    "dados$Cor <- as.factor(dados$Cor)"
   ]
  },
  {
   "cell_type": "markdown",
   "metadata": {
    "colab_type": "text",
    "id": "umFq1o-UTg1w"
   },
   "source": [
    "### 3º Construir a coluna de frequências"
   ]
  },
  {
   "cell_type": "code",
   "execution_count": 77,
   "metadata": {
    "colab": {
     "base_uri": "https://localhost:8080/",
     "height": 125
    },
    "colab_type": "code",
    "id": "uSztBoqOTg1x",
    "outputId": "9663adf3-955f-4f39-a632-53ec9ac2bc30"
   },
   "outputs": [],
   "source": [
    "freqRenda <- table(\n",
    "    cut(\n",
    "        x = dados$Renda,\n",
    "        breaks = classesRenda,\n",
    "        labels = descricaoClassesRenda,\n",
    "        include.lowest = TRUE\n",
    "    )\n",
    ")"
   ]
  },
  {
   "cell_type": "markdown",
   "metadata": {
    "colab_type": "text",
    "id": "2k6nGUZKTg11"
   },
   "source": [
    "### 4º Construir a coluna de percentuais"
   ]
  },
  {
   "cell_type": "code",
   "execution_count": 78,
   "metadata": {},
   "outputs": [],
   "source": [
    "percRenda <- prop.table(freqRenda) * 100"
   ]
  },
  {
   "cell_type": "markdown",
   "metadata": {
    "colab_type": "text",
    "id": "9dvk6-9_Tg16"
   },
   "source": [
    "### 5º Juntar as colunas de frequência e percentuais e ordenar as linhas de acordo com os labels das classes"
   ]
  },
  {
   "cell_type": "code",
   "execution_count": 79,
   "metadata": {},
   "outputs": [],
   "source": [
    "tabelaFrequenciaRenda <- cbind(\n",
    "    freqAbsoluta = freqRenda, \n",
    "    freqRelativa = percRenda\n",
    ")\n",
    "tabelaFrequenciaRenda <- tabelaFrequenciaRenda[order(rownames(tabelaFrequenciaRenda)),]\n",
    "tabelaFrequenciaRenda <- data.frame(tabelaFrequenciaRenda)"
   ]
  },
  {
   "cell_type": "code",
   "execution_count": 80,
   "metadata": {},
   "outputs": [
    {
     "data": {
      "text/html": [
       "<table class=\"dataframe\">\n",
       "<caption>A data.frame: 5 × 2</caption>\n",
       "<thead>\n",
       "\t<tr><th></th><th scope=col>freqAbsoluta</th><th scope=col>freqRelativa</th></tr>\n",
       "\t<tr><th></th><th scope=col>&lt;dbl&gt;</th><th scope=col>&lt;dbl&gt;</th></tr>\n",
       "</thead>\n",
       "<tbody>\n",
       "\t<tr><th scope=row>A</th><td>  420</td><td> 0.5465903</td></tr>\n",
       "\t<tr><th scope=row>B</th><td>  822</td><td> 1.0697553</td></tr>\n",
       "\t<tr><th scope=row>C</th><td> 7241</td><td> 9.4234774</td></tr>\n",
       "\t<tr><th scope=row>D</th><td>18602</td><td>24.2087454</td></tr>\n",
       "\t<tr><th scope=row>E</th><td>49755</td><td>64.7514315</td></tr>\n",
       "</tbody>\n",
       "</table>\n"
      ],
      "text/latex": [
       "A data.frame: 5 × 2\n",
       "\\begin{tabular}{r|ll}\n",
       "  & freqAbsoluta & freqRelativa\\\\\n",
       "  & <dbl> & <dbl>\\\\\n",
       "\\hline\n",
       "\tA &   420 &  0.5465903\\\\\n",
       "\tB &   822 &  1.0697553\\\\\n",
       "\tC &  7241 &  9.4234774\\\\\n",
       "\tD & 18602 & 24.2087454\\\\\n",
       "\tE & 49755 & 64.7514315\\\\\n",
       "\\end{tabular}\n"
      ],
      "text/markdown": [
       "\n",
       "A data.frame: 5 × 2\n",
       "\n",
       "| <!--/--> | freqAbsoluta &lt;dbl&gt; | freqRelativa &lt;dbl&gt; |\n",
       "|---|---|---|\n",
       "| A |   420 |  0.5465903 |\n",
       "| B |   822 |  1.0697553 |\n",
       "| C |  7241 |  9.4234774 |\n",
       "| D | 18602 | 24.2087454 |\n",
       "| E | 49755 | 64.7514315 |\n",
       "\n"
      ],
      "text/plain": [
       "  freqAbsoluta freqRelativa\n",
       "A   420         0.5465903  \n",
       "B   822         1.0697553  \n",
       "C  7241         9.4234774  \n",
       "D 18602        24.2087454  \n",
       "E 49755        64.7514315  "
      ]
     },
     "metadata": {},
     "output_type": "display_data"
    }
   ],
   "source": [
    "tabelaFrequenciaRenda"
   ]
  },
  {
   "cell_type": "markdown",
   "metadata": {
    "colab_type": "text",
    "id": "DOYtXuSbTg18"
   },
   "source": [
    "### Construa um gráfico de barras para visualizar as informações da tabela de frequências acima\n",
    "\n",
    "#### <font color='red'>Lembre-se de transformar a matriz de resultados em um data frame.</font>"
   ]
  },
  {
   "cell_type": "code",
   "execution_count": 88,
   "metadata": {},
   "outputs": [
    {
     "data": {
      "image/png": "[encoded data removed]",
      "text/plain": [
       "plot without title"
      ]
     },
     "metadata": {
      "image/png": {
       "height": 360,
       "width": 600
      }
     },
     "output_type": "display_data"
    }
   ],
   "source": [
    "ggplot(tabelaFrequenciaRenda, aes(x = row.names(tabelaFrequenciaRenda), y = freqRelativa)) + \n",
    "    geom_bar(stat = 'identity') +\n",
    "    ggtitle('Distribuição da população conforme a classe de renda') +\n",
    "    xlab('Classes de Renda') +\n",
    "    ylab('Frequência') +\n",
    "    formatos"
   ]
  },
  {
   "cell_type": "markdown",
   "metadata": {
    "colab_type": "text",
    "id": "9ppt5JevTg1-"
   },
   "source": [
    "> ### Conclusões\n",
    "\n",
    "* A maioria absoluta da amostra estudada pertence à classe E, com renda de até 2SM."
   ]
  },
  {
   "cell_type": "markdown",
   "metadata": {
    "colab_type": "text",
    "id": "yt-gFm93Tg1-"
   },
   "source": [
    "### Crie um histograma para as variáveis QUANTITATIVAS de nosso dataset\n",
    "#### <font color='blue'>Descreva os pontos mais relevantes que você observa nos gráficos (assimetrias e seus tipos, possíveis causas para determinados comportamentos etc.)</font>"
   ]
  },
  {
   "cell_type": "code",
   "execution_count": 125,
   "metadata": {},
   "outputs": [
    {
     "data": {
      "image/png": "[encoded data removed]",
      "text/plain": [
       "plot without title"
      ]
     },
     "metadata": {
      "image/png": {
       "height": 360,
       "width": 600
      }
     },
     "output_type": "display_data"
    }
   ],
   "source": [
    "ggplot(dados, aes(x = Idade, y = ..density..)) +\n",
    "    geom_histogram(color='black', alpha=0.8, bins = 30) +\n",
    "    geom_density(color = 'green', size = 1) +\n",
    "    ggtitle('Distribução da idade dos entrevistados') +\n",
    "    xlab('Idades') +\n",
    "    ylab('Frequência') +\n",
    "    formatos"
   ]
  },
  {
   "cell_type": "code",
   "execution_count": 128,
   "metadata": {},
   "outputs": [
    {
     "name": "stderr",
     "output_type": "stream",
     "text": [
      "`stat_bin()` using `bins = 30`. Pick better value with `binwidth`.\n",
      "\n"
     ]
    },
    {
     "data": {
      "image/png": "[encoded data removed]",
      "text/plain": [
       "plot without title"
      ]
     },
     "metadata": {
      "image/png": {
       "height": 360,
       "width": 600
      }
     },
     "output_type": "display_data"
    }
   ],
   "source": [
    "ggplot(dados, aes(x = Renda, y = ..density..)) + \n",
    "    geom_histogram(color = \"black\", alpha = 0.8) +     \n",
    "    ggtitle('Distribuição da renda dos entrevistados') +\n",
    "    ylab(\"Frequência\") + \n",
    "    xlab(\"Renda\") +     \n",
    "    formatos"
   ]
  },
  {
   "cell_type": "code",
   "execution_count": 127,
   "metadata": {
    "colab": {
     "height": 449
    },
    "colab_type": "code",
    "id": "s55WPk1aTg2C",
    "outputId": "ef3e2078-2434-4db5-f364-b4af821e29e6"
   },
   "outputs": [
    {
     "name": "stderr",
     "output_type": "stream",
     "text": [
      "`stat_bin()` using `bins = 30`. Pick better value with `binwidth`.\n",
      "\n"
     ]
    },
    {
     "data": {
      "image/png": "[encoded data removed]",
      "text/plain": [
       "plot without title"
      ]
     },
     "metadata": {
      "image/png": {
       "height": 360,
       "width": 600
      }
     },
     "output_type": "display_data"
    }
   ],
   "source": [
    "ggplot(dados, aes(x = Altura, y = ..density..)) + \n",
    "    geom_histogram(color = \"black\", alpha = 0.8) + \n",
    "    geom_density(color = 'green', size = 1) +\n",
    "    ggtitle('Distribuição da altura dos entrevistados') +\n",
    "    ylab(\"Frequência\") + \n",
    "    xlab(\"Alturas\") +     \n",
    "    formatos"
   ]
  },
  {
   "cell_type": "markdown",
   "metadata": {
    "colab_type": "text",
    "id": "w45i-qJ1Tg2E"
   },
   "source": [
    "> ### Conclusões\n",
    "\n",
    "Escreva suas conclusões aqui..."
   ]
  },
  {
   "cell_type": "markdown",
   "metadata": {
    "colab_type": "text",
    "id": "pnAH1T5fTg2F"
   },
   "source": [
    "### Para a variável RENDA, construa um histograma somente com as informações das pessoas com rendimento até R$ 20.000,00"
   ]
  },
  {
   "cell_type": "code",
   "execution_count": 132,
   "metadata": {},
   "outputs": [
    {
     "data": {
      "image/png": "[encoded data removed]",
      "text/plain": [
       "plot without title"
      ]
     },
     "metadata": {
      "image/png": {
       "height": 360,
       "width": 600
      }
     },
     "output_type": "display_data"
    }
   ],
   "source": [
    "ggplot(dados[dados$Renda <= 20000,], aes(x = Renda)) + \n",
    "    geom_histogram(color = \"black\", alpha = 0.8, binwidth=1000) +     \n",
    "    ggtitle('Distribuição da renda dos entrevistados') +\n",
    "    ylab(\"Frequência\") + \n",
    "    xlab(\"Renda\") +     \n",
    "    formatos"
   ]
  },
  {
   "cell_type": "markdown",
   "metadata": {
    "colab_type": "text",
    "id": "vvtzLOUKTg2H"
   },
   "source": [
    "### Construa uma tabela de frequências e uma com os percentuais cruzando das variáveis SEXO e COR\n",
    "#### <font color='blue'>Avalie o resultado da tabela e escreva suas principais conclusões</font>\n",
    "#### <font color='red'>Utilize os vetores abaixo para renomear as linha e colunas das tabelas de frequências e dos gráficos em nosso projeto</font>"
   ]
  },
  {
   "cell_type": "code",
   "execution_count": 133,
   "metadata": {
    "colab": {},
    "colab_type": "code",
    "id": "sChJRo_qTg2I"
   },
   "outputs": [],
   "source": [
    "sexo = c(\n",
    "    'Masculino', \n",
    "    'Feminino'\n",
    ")\n",
    "cor = c(\n",
    "    'Indígena', \n",
    "    'Branca', \n",
    "    'Preta', \n",
    "    'Amarela', \n",
    "    'Parda'\n",
    ")\n",
    "anos_de_estudo = c(\n",
    "    'Sem instrução e menos de 1 ano', \n",
    "    '1 ano', \n",
    "    '2 anos', \n",
    "    '3 anos', \n",
    "    '4 anos', \n",
    "    '5 anos', \n",
    "    '6 anos', \n",
    "    '7 anos', \n",
    "    '8 anos', \n",
    "    '9 anos', \n",
    "    '10 anos', \n",
    "    '11 anos', \n",
    "    '12 anos', \n",
    "    '13 anos', \n",
    "    '14 anos', \n",
    "    '15 anos ou mais', \n",
    "    'Não determinados'\n",
    ")"
   ]
  },
  {
   "cell_type": "code",
   "execution_count": 142,
   "metadata": {},
   "outputs": [],
   "source": [
    "dados$Cat.Sexo <- factor(dados$Sexo)\n",
    "levels(dados$Cat.Sexo) <- sexo\n",
    "\n",
    "dados$Cat.Cor <- factor(dados$Cor)\n",
    "levels(dados$Cat.Cor) <- cor\n",
    "\n",
    "dados$Cat.Anos.de.Estudo <- factor(dados$Anos.de.Estudo, order = TRUE)\n",
    "levels(dados$Cat.Anos.de.Estudo) <- anos_de_estudo"
   ]
  },
  {
   "cell_type": "code",
   "execution_count": 145,
   "metadata": {},
   "outputs": [
    {
     "data": {
      "text/html": [
       "<table class=\"dataframe\">\n",
       "<caption>A matrix: 2 × 5 of type int</caption>\n",
       "<thead>\n",
       "\t<tr><th></th><th scope=col>Indígena</th><th scope=col>Branca</th><th scope=col>Preta</th><th scope=col>Amarela</th><th scope=col>Parda</th></tr>\n",
       "</thead>\n",
       "<tbody>\n",
       "\t<tr><th scope=row>Masculino</th><td>256</td><td>22194</td><td>5502</td><td>235</td><td>25063</td></tr>\n",
       "\t<tr><th scope=row>Feminino</th><td>101</td><td> 9621</td><td>2889</td><td>117</td><td>10862</td></tr>\n",
       "</tbody>\n",
       "</table>\n"
      ],
      "text/latex": [
       "A matrix: 2 × 5 of type int\n",
       "\\begin{tabular}{r|lllll}\n",
       "  & Indígena & Branca & Preta & Amarela & Parda\\\\\n",
       "\\hline\n",
       "\tMasculino & 256 & 22194 & 5502 & 235 & 25063\\\\\n",
       "\tFeminino & 101 &  9621 & 2889 & 117 & 10862\\\\\n",
       "\\end{tabular}\n"
      ],
      "text/markdown": [
       "\n",
       "A matrix: 2 × 5 of type int\n",
       "\n",
       "| <!--/--> | Indígena | Branca | Preta | Amarela | Parda |\n",
       "|---|---|---|---|---|---|\n",
       "| Masculino | 256 | 22194 | 5502 | 235 | 25063 |\n",
       "| Feminino | 101 |  9621 | 2889 | 117 | 10862 |\n",
       "\n"
      ],
      "text/plain": [
       "          Indígena Branca Preta Amarela Parda\n",
       "Masculino 256      22194  5502  235     25063\n",
       "Feminino  101       9621  2889  117     10862"
      ]
     },
     "metadata": {},
     "output_type": "display_data"
    }
   ],
   "source": [
    "frequencia <- table(dados$Cat.Sexo, dados$Cat.Cor)\n",
    "frequencia <- cbind(frequencia)\n",
    "frequencia"
   ]
  },
  {
   "cell_type": "code",
   "execution_count": 146,
   "metadata": {
    "colab": {
     "base_uri": "https://localhost:8080/",
     "height": 142
    },
    "colab_type": "code",
    "id": "KbeFXAGSTg2K",
    "outputId": "9c417ded-dc7d-4c97-adb2-67cfbdcab852"
   },
   "outputs": [
    {
     "data": {
      "text/html": [
       "<table class=\"dataframe\">\n",
       "<caption>A matrix: 2 × 5 of type dbl</caption>\n",
       "<thead>\n",
       "\t<tr><th></th><th scope=col>Indígena</th><th scope=col>Branca</th><th scope=col>Preta</th><th scope=col>Amarela</th><th scope=col>Parda</th></tr>\n",
       "</thead>\n",
       "<tbody>\n",
       "\t<tr><th scope=row>Masculino</th><td>0.003331598</td><td>0.2888339</td><td>0.07160333</td><td>0.003058303</td><td>0.3261713</td></tr>\n",
       "\t<tr><th scope=row>Feminino</th><td>0.001314420</td><td>0.1252082</td><td>0.03759761</td><td>0.001522644</td><td>0.1413587</td></tr>\n",
       "</tbody>\n",
       "</table>\n"
      ],
      "text/latex": [
       "A matrix: 2 × 5 of type dbl\n",
       "\\begin{tabular}{r|lllll}\n",
       "  & Indígena & Branca & Preta & Amarela & Parda\\\\\n",
       "\\hline\n",
       "\tMasculino & 0.003331598 & 0.2888339 & 0.07160333 & 0.003058303 & 0.3261713\\\\\n",
       "\tFeminino & 0.001314420 & 0.1252082 & 0.03759761 & 0.001522644 & 0.1413587\\\\\n",
       "\\end{tabular}\n"
      ],
      "text/markdown": [
       "\n",
       "A matrix: 2 × 5 of type dbl\n",
       "\n",
       "| <!--/--> | Indígena | Branca | Preta | Amarela | Parda |\n",
       "|---|---|---|---|---|---|\n",
       "| Masculino | 0.003331598 | 0.2888339 | 0.07160333 | 0.003058303 | 0.3261713 |\n",
       "| Feminino | 0.001314420 | 0.1252082 | 0.03759761 | 0.001522644 | 0.1413587 |\n",
       "\n"
      ],
      "text/plain": [
       "          Indígena    Branca    Preta      Amarela     Parda    \n",
       "Masculino 0.003331598 0.2888339 0.07160333 0.003058303 0.3261713\n",
       "Feminino  0.001314420 0.1252082 0.03759761 0.001522644 0.1413587"
      ]
     },
     "metadata": {},
     "output_type": "display_data"
    }
   ],
   "source": [
    "percentual <- cbind(prop.table(frequencia))\n",
    "percentual"
   ]
  },
  {
   "cell_type": "markdown",
   "metadata": {
    "colab_type": "text",
    "id": "2jLZmww2Tg2O"
   },
   "source": [
    "> ### Conclusões\n",
    "\n",
    "Escreva suas conclusões aqui..."
   ]
  },
  {
   "cell_type": "markdown",
   "metadata": {
    "colab_type": "text",
    "id": "Aoeayf6zTg2P",
    "tags": []
   },
   "source": [
    "## Realize, para a variável RENDA, uma análise descritiva com as ferramentas que aprendemos em nosso treinamento"
   ]
  },
  {
   "cell_type": "markdown",
   "metadata": {
    "colab_type": "text",
    "id": "c2CtT71oTg2P"
   },
   "source": [
    "### Obtenha a média aritimética"
   ]
  },
  {
   "cell_type": "code",
   "execution_count": 147,
   "metadata": {
    "colab": {
     "base_uri": "https://localhost:8080/",
     "height": 35
    },
    "colab_type": "code",
    "id": "qlJESCU6Tg2P",
    "outputId": "c559b943-586a-4c3f-c209-a73f6fa69499"
   },
   "outputs": [
    {
     "data": {
      "text/html": [
       "2000.38319885476"
      ],
      "text/latex": [
       "2000.38319885476"
      ],
      "text/markdown": [
       "2000.38319885476"
      ],
      "text/plain": [
       "[1] 2000.383"
      ]
     },
     "metadata": {},
     "output_type": "display_data"
    }
   ],
   "source": [
    "mean(dados$Renda)"
   ]
  },
  {
   "cell_type": "markdown",
   "metadata": {
    "colab_type": "text",
    "id": "Xd4saPBCTg2R"
   },
   "source": [
    "### Obtenha a mediana"
   ]
  },
  {
   "cell_type": "code",
   "execution_count": 148,
   "metadata": {
    "colab": {
     "base_uri": "https://localhost:8080/",
     "height": 35
    },
    "colab_type": "code",
    "id": "vHTqX-UATg2R",
    "outputId": "58a46063-6bf0-4dbe-8048-50aa49fffd9c"
   },
   "outputs": [
    {
     "data": {
      "text/html": [
       "1200"
      ],
      "text/latex": [
       "1200"
      ],
      "text/markdown": [
       "1200"
      ],
      "text/plain": [
       "[1] 1200"
      ]
     },
     "metadata": {},
     "output_type": "display_data"
    }
   ],
   "source": [
    "median(dados$Renda)"
   ]
  },
  {
   "cell_type": "markdown",
   "metadata": {
    "colab_type": "text",
    "id": "_e40rDSwTg2U"
   },
   "source": [
    "### Obtenha a moda"
   ]
  },
  {
   "cell_type": "code",
   "execution_count": 150,
   "metadata": {},
   "outputs": [],
   "source": [
    "moda <- function(x) {\n",
    "    frequencias <- table(x)\n",
    "    return(names(frequencias)[frequencias == max(frequencias)])\n",
    "}"
   ]
  },
  {
   "cell_type": "code",
   "execution_count": 152,
   "metadata": {
    "colab": {
     "base_uri": "https://localhost:8080/",
     "height": 35
    },
    "colab_type": "code",
    "id": "BFOOdYOvTg2V",
    "outputId": "d2cf04e9-4bf6-41ce-ffc1-aae49f20247c"
   },
   "outputs": [
    {
     "data": {
      "text/html": [
       "788"
      ],
      "text/latex": [
       "788"
      ],
      "text/markdown": [
       "788"
      ],
      "text/plain": [
       "[1] 788"
      ]
     },
     "metadata": {},
     "output_type": "display_data"
    }
   ],
   "source": [
    "as.numeric(moda(dados$Renda))"
   ]
  },
  {
   "cell_type": "markdown",
   "metadata": {
    "colab_type": "text",
    "id": "hCgV_XaQTg2Z"
   },
   "source": [
    "### Obtenha a variância"
   ]
  },
  {
   "cell_type": "code",
   "execution_count": 153,
   "metadata": {
    "colab": {
     "base_uri": "https://localhost:8080/",
     "height": 35
    },
    "colab_type": "code",
    "id": "SwRgACeGTg2a",
    "outputId": "a9779276-27e6-4ab1-f31d-a59664cdd71d"
   },
   "outputs": [
    {
     "data": {
      "text/html": [
       "11044906.006217"
      ],
      "text/latex": [
       "11044906.006217"
      ],
      "text/markdown": [
       "11044906.006217"
      ],
      "text/plain": [
       "[1] 11044906"
      ]
     },
     "metadata": {},
     "output_type": "display_data"
    }
   ],
   "source": [
    "var(dados$Renda)"
   ]
  },
  {
   "cell_type": "markdown",
   "metadata": {
    "colab_type": "text",
    "id": "gsO6MKOcTg2c"
   },
   "source": [
    "### Obtenha o desvio-padrão"
   ]
  },
  {
   "cell_type": "code",
   "execution_count": 154,
   "metadata": {
    "colab": {
     "base_uri": "https://localhost:8080/",
     "height": 35
    },
    "colab_type": "code",
    "id": "gR-LVTRYTg2d",
    "outputId": "2a251413-fc76-4b81-bba7-6439ff59424e"
   },
   "outputs": [
    {
     "data": {
      "text/html": [
       "3323.3877303464"
      ],
      "text/latex": [
       "3323.3877303464"
      ],
      "text/markdown": [
       "3323.3877303464"
      ],
      "text/plain": [
       "[1] 3323.388"
      ]
     },
     "metadata": {},
     "output_type": "display_data"
    }
   ],
   "source": [
    "sd(dados$Renda)"
   ]
  },
  {
   "cell_type": "markdown",
   "metadata": {
    "colab_type": "text",
    "id": "vG-rdO5fTg2f"
   },
   "source": [
    "### Obtenha a média, mediana e valor máximo da variável RENDA segundo SEXO e COR\n",
    "#### <font color='blue'>Destaque os pontos mais importante que você observa nas tabulações</font>\n",
    "#### <font color='red'>Utilize *tapply* com as funções *mean*, *median* e *max*</font>"
   ]
  },
  {
   "cell_type": "code",
   "execution_count": 155,
   "metadata": {
    "colab": {
     "base_uri": "https://localhost:8080/",
     "height": 266
    },
    "colab_type": "code",
    "id": "VgxygKWXTg2g",
    "outputId": "4983099d-9ff4-400d-85fe-02e1f875e4ee"
   },
   "outputs": [
    {
     "data": {
      "text/html": [
       "<table class=\"dataframe\">\n",
       "<caption>A matrix: 2 × 5 of type dbl</caption>\n",
       "<thead>\n",
       "\t<tr><th></th><th scope=col>Indígena</th><th scope=col>Branca</th><th scope=col>Preta</th><th scope=col>Amarela</th><th scope=col>Parda</th></tr>\n",
       "</thead>\n",
       "<tbody>\n",
       "\t<tr><th scope=row>Masculino</th><td>1081.711</td><td>2925.744</td><td>1603.862</td><td>4758.251</td><td>1659.577</td></tr>\n",
       "\t<tr><th scope=row>Feminino</th><td>2464.386</td><td>2109.867</td><td>1134.596</td><td>3027.342</td><td>1176.759</td></tr>\n",
       "</tbody>\n",
       "</table>\n"
      ],
      "text/latex": [
       "A matrix: 2 × 5 of type dbl\n",
       "\\begin{tabular}{r|lllll}\n",
       "  & Indígena & Branca & Preta & Amarela & Parda\\\\\n",
       "\\hline\n",
       "\tMasculino & 1081.711 & 2925.744 & 1603.862 & 4758.251 & 1659.577\\\\\n",
       "\tFeminino & 2464.386 & 2109.867 & 1134.596 & 3027.342 & 1176.759\\\\\n",
       "\\end{tabular}\n"
      ],
      "text/markdown": [
       "\n",
       "A matrix: 2 × 5 of type dbl\n",
       "\n",
       "| <!--/--> | Indígena | Branca | Preta | Amarela | Parda |\n",
       "|---|---|---|---|---|---|\n",
       "| Masculino | 1081.711 | 2925.744 | 1603.862 | 4758.251 | 1659.577 |\n",
       "| Feminino | 2464.386 | 2109.867 | 1134.596 | 3027.342 | 1176.759 |\n",
       "\n"
      ],
      "text/plain": [
       "          Indígena Branca   Preta    Amarela  Parda   \n",
       "Masculino 1081.711 2925.744 1603.862 4758.251 1659.577\n",
       "Feminino  2464.386 2109.867 1134.596 3027.342 1176.759"
      ]
     },
     "metadata": {},
     "output_type": "display_data"
    }
   ],
   "source": [
    "medias <- tapply(\n",
    "    dados$Renda,\n",
    "    list(dados$Cat.Sexo, dados$Cat.Cor),\n",
    "    mean    \n",
    ")\n",
    "medias"
   ]
  },
  {
   "cell_type": "code",
   "execution_count": 157,
   "metadata": {},
   "outputs": [
    {
     "data": {
      "text/html": [
       "<table class=\"dataframe\">\n",
       "<caption>A matrix: 2 × 5 of type dbl</caption>\n",
       "<thead>\n",
       "\t<tr><th></th><th scope=col>Indígena</th><th scope=col>Branca</th><th scope=col>Preta</th><th scope=col>Amarela</th><th scope=col>Parda</th></tr>\n",
       "</thead>\n",
       "<tbody>\n",
       "\t<tr><th scope=row>Masculino</th><td>797.5</td><td>1700</td><td>1200</td><td>2800</td><td>1200</td></tr>\n",
       "\t<tr><th scope=row>Feminino</th><td>788.0</td><td>1200</td><td> 800</td><td>1500</td><td> 800</td></tr>\n",
       "</tbody>\n",
       "</table>\n"
      ],
      "text/latex": [
       "A matrix: 2 × 5 of type dbl\n",
       "\\begin{tabular}{r|lllll}\n",
       "  & Indígena & Branca & Preta & Amarela & Parda\\\\\n",
       "\\hline\n",
       "\tMasculino & 797.5 & 1700 & 1200 & 2800 & 1200\\\\\n",
       "\tFeminino & 788.0 & 1200 &  800 & 1500 &  800\\\\\n",
       "\\end{tabular}\n"
      ],
      "text/markdown": [
       "\n",
       "A matrix: 2 × 5 of type dbl\n",
       "\n",
       "| <!--/--> | Indígena | Branca | Preta | Amarela | Parda |\n",
       "|---|---|---|---|---|---|\n",
       "| Masculino | 797.5 | 1700 | 1200 | 2800 | 1200 |\n",
       "| Feminino | 788.0 | 1200 |  800 | 1500 |  800 |\n",
       "\n"
      ],
      "text/plain": [
       "          Indígena Branca Preta Amarela Parda\n",
       "Masculino 797.5    1700   1200  2800    1200 \n",
       "Feminino  788.0    1200    800  1500     800 "
      ]
     },
     "metadata": {},
     "output_type": "display_data"
    }
   ],
   "source": [
    "medianas <- tapply(\n",
    "    dados$Renda,\n",
    "    list(dados$Cat.Sexo, dados$Cat.Cor),\n",
    "    median    \n",
    ")\n",
    "medianas"
   ]
  },
  {
   "cell_type": "code",
   "execution_count": 158,
   "metadata": {},
   "outputs": [
    {
     "data": {
      "text/html": [
       "<table class=\"dataframe\">\n",
       "<caption>A matrix: 2 × 5 of type int</caption>\n",
       "<thead>\n",
       "\t<tr><th></th><th scope=col>Indígena</th><th scope=col>Branca</th><th scope=col>Preta</th><th scope=col>Amarela</th><th scope=col>Parda</th></tr>\n",
       "</thead>\n",
       "<tbody>\n",
       "\t<tr><th scope=row>Masculino</th><td> 10000</td><td>200000</td><td>50000</td><td>50000</td><td>100000</td></tr>\n",
       "\t<tr><th scope=row>Feminino</th><td>120000</td><td>100000</td><td>23000</td><td>20000</td><td> 30000</td></tr>\n",
       "</tbody>\n",
       "</table>\n"
      ],
      "text/latex": [
       "A matrix: 2 × 5 of type int\n",
       "\\begin{tabular}{r|lllll}\n",
       "  & Indígena & Branca & Preta & Amarela & Parda\\\\\n",
       "\\hline\n",
       "\tMasculino &  10000 & 200000 & 50000 & 50000 & 100000\\\\\n",
       "\tFeminino & 120000 & 100000 & 23000 & 20000 &  30000\\\\\n",
       "\\end{tabular}\n"
      ],
      "text/markdown": [
       "\n",
       "A matrix: 2 × 5 of type int\n",
       "\n",
       "| <!--/--> | Indígena | Branca | Preta | Amarela | Parda |\n",
       "|---|---|---|---|---|---|\n",
       "| Masculino |  10000 | 200000 | 50000 | 50000 | 100000 |\n",
       "| Feminino | 120000 | 100000 | 23000 | 20000 |  30000 |\n",
       "\n"
      ],
      "text/plain": [
       "          Indígena Branca Preta Amarela Parda \n",
       "Masculino  10000   200000 50000 50000   100000\n",
       "Feminino  120000   100000 23000 20000    30000"
      ]
     },
     "metadata": {},
     "output_type": "display_data"
    }
   ],
   "source": [
    "maximos <- tapply(\n",
    "    dados$Renda,\n",
    "    list(dados$Cat.Sexo, dados$Cat.Cor),\n",
    "    max    \n",
    ")\n",
    "maximos"
   ]
  },
  {
   "cell_type": "markdown",
   "metadata": {
    "colab_type": "text",
    "id": "ibndm9iwTg2i"
   },
   "source": [
    "> ### Conclusões\n",
    "\n",
    "Escreva suas conclusões aqui..."
   ]
  },
  {
   "cell_type": "markdown",
   "metadata": {
    "colab_type": "text",
    "id": "CleJ6c1rTg2i"
   },
   "source": [
    "### Obtenha as medidas de dispersão da variável RENDA segundo SEXO e COR\n",
    "#### <font color='blue'>Destaque os pontos mais importante que você observa nas tabulações</font>\n",
    "#### <font color='red'>Utilize *tapply* com as funções *var* e *sd*</font>"
   ]
  },
  {
   "cell_type": "code",
   "execution_count": 159,
   "metadata": {},
   "outputs": [
    {
     "data": {
      "text/html": [
       "<table class=\"dataframe\">\n",
       "<caption>A matrix: 2 × 5 of type dbl</caption>\n",
       "<thead>\n",
       "\t<tr><th></th><th scope=col>Indígena</th><th scope=col>Branca</th><th scope=col>Preta</th><th scope=col>Amarela</th><th scope=col>Parda</th></tr>\n",
       "</thead>\n",
       "<tbody>\n",
       "\t<tr><th scope=row>Masculino</th><td>  1449841</td><td>22570023</td><td>3749294</td><td>32957070</td><td>5345747</td></tr>\n",
       "\t<tr><th scope=row>Feminino</th><td>142981765</td><td>10569087</td><td>1821960</td><td>13921657</td><td>2547960</td></tr>\n",
       "</tbody>\n",
       "</table>\n"
      ],
      "text/latex": [
       "A matrix: 2 × 5 of type dbl\n",
       "\\begin{tabular}{r|lllll}\n",
       "  & Indígena & Branca & Preta & Amarela & Parda\\\\\n",
       "\\hline\n",
       "\tMasculino &   1449841 & 22570023 & 3749294 & 32957070 & 5345747\\\\\n",
       "\tFeminino & 142981765 & 10569087 & 1821960 & 13921657 & 2547960\\\\\n",
       "\\end{tabular}\n"
      ],
      "text/markdown": [
       "\n",
       "A matrix: 2 × 5 of type dbl\n",
       "\n",
       "| <!--/--> | Indígena | Branca | Preta | Amarela | Parda |\n",
       "|---|---|---|---|---|---|\n",
       "| Masculino |   1449841 | 22570023 | 3749294 | 32957070 | 5345747 |\n",
       "| Feminino | 142981765 | 10569087 | 1821960 | 13921657 | 2547960 |\n",
       "\n"
      ],
      "text/plain": [
       "          Indígena  Branca   Preta   Amarela  Parda  \n",
       "Masculino   1449841 22570023 3749294 32957070 5345747\n",
       "Feminino  142981765 10569087 1821960 13921657 2547960"
      ]
     },
     "metadata": {},
     "output_type": "display_data"
    }
   ],
   "source": [
    "variancias <- tapply(\n",
    "    dados$Renda,\n",
    "    list(dados$Cat.Sexo, dados$Cat.Cor),\n",
    "    var    \n",
    ")\n",
    "variancias"
   ]
  },
  {
   "cell_type": "code",
   "execution_count": 160,
   "metadata": {
    "colab": {
     "base_uri": "https://localhost:8080/",
     "height": 266
    },
    "colab_type": "code",
    "id": "bNv-eWZ3Tg2j",
    "outputId": "63565a2b-e5cf-40c2-f147-2a34c5b22817"
   },
   "outputs": [
    {
     "data": {
      "text/html": [
       "<table class=\"dataframe\">\n",
       "<caption>A matrix: 2 × 5 of type dbl</caption>\n",
       "<thead>\n",
       "\t<tr><th></th><th scope=col>Indígena</th><th scope=col>Branca</th><th scope=col>Preta</th><th scope=col>Amarela</th><th scope=col>Parda</th></tr>\n",
       "</thead>\n",
       "<tbody>\n",
       "\t<tr><th scope=row>Masculino</th><td> 1204.093</td><td>4750.792</td><td>1936.309</td><td>5740.825</td><td>2312.087</td></tr>\n",
       "\t<tr><th scope=row>Feminino</th><td>11957.498</td><td>3251.013</td><td>1349.800</td><td>3731.174</td><td>1596.233</td></tr>\n",
       "</tbody>\n",
       "</table>\n"
      ],
      "text/latex": [
       "A matrix: 2 × 5 of type dbl\n",
       "\\begin{tabular}{r|lllll}\n",
       "  & Indígena & Branca & Preta & Amarela & Parda\\\\\n",
       "\\hline\n",
       "\tMasculino &  1204.093 & 4750.792 & 1936.309 & 5740.825 & 2312.087\\\\\n",
       "\tFeminino & 11957.498 & 3251.013 & 1349.800 & 3731.174 & 1596.233\\\\\n",
       "\\end{tabular}\n"
      ],
      "text/markdown": [
       "\n",
       "A matrix: 2 × 5 of type dbl\n",
       "\n",
       "| <!--/--> | Indígena | Branca | Preta | Amarela | Parda |\n",
       "|---|---|---|---|---|---|\n",
       "| Masculino |  1204.093 | 4750.792 | 1936.309 | 5740.825 | 2312.087 |\n",
       "| Feminino | 11957.498 | 3251.013 | 1349.800 | 3731.174 | 1596.233 |\n",
       "\n"
      ],
      "text/plain": [
       "          Indígena  Branca   Preta    Amarela  Parda   \n",
       "Masculino  1204.093 4750.792 1936.309 5740.825 2312.087\n",
       "Feminino  11957.498 3251.013 1349.800 3731.174 1596.233"
      ]
     },
     "metadata": {},
     "output_type": "display_data"
    }
   ],
   "source": [
    "desvios <- tapply(\n",
    "    dados$Renda,\n",
    "    list(dados$Cat.Sexo, dados$Cat.Cor),\n",
    "    sd    \n",
    ")\n",
    "desvios"
   ]
  },
  {
   "cell_type": "markdown",
   "metadata": {
    "colab_type": "text",
    "id": "57aHvJMSTg2l"
   },
   "source": [
    "> ### Conclusões\n",
    "\n",
    "Escreva suas conclusões aqui..."
   ]
  },
  {
   "cell_type": "markdown",
   "metadata": {
    "colab_type": "text",
    "id": "QSYjkdyOTg2l"
   },
   "source": [
    "### Construa um box plot da variável RENDA segundo SEXO e COR\n",
    "#### <font color='blue'>É possível verificar algum comportamento diferenciado no rendimento entre os grupos de pessoas analisados? Avalie o gráfico e destaque os pontos mais importantes;</font>\n",
    "#### <font color='red'>1º - Utilize somente as informações de pessoas com renda abaixo de R$ 10.000</font>\n",
    "#### <font color='red'>2º - Para incluir uma terceira variável na construção de um boxplot utilize o parâmetro *fill* da seguinte maneira: *aes(x = Cor, y = Renda, fill = Sexo)*.</font>"
   ]
  },
  {
   "cell_type": "code",
   "execution_count": 162,
   "metadata": {},
   "outputs": [
    {
     "data": {
      "image/png": "[encoded data removed]",
      "text/plain": [
       "plot without title"
      ]
     },
     "metadata": {
      "image/png": {
       "height": 360,
       "width": 600
      }
     },
     "output_type": "display_data"
    }
   ],
   "source": [
    "ggplot(dados[dados$Renda < 10000, ], aes(x = Cat.Cor, y = Renda, fill = Cat.Sexo)) +\n",
    "    geom_boxplot(size=0.2) +\n",
    "    coord_flip() +\n",
    "    formatos"
   ]
  },
  {
   "cell_type": "markdown",
   "metadata": {
    "colab_type": "text",
    "id": "ROiIQRFhTg2o"
   },
   "source": [
    "> ### Conclusões\n",
    "\n",
    "Escreva suas conclusões aqui..."
   ]
  },
  {
   "cell_type": "markdown",
   "metadata": {
    "colab_type": "text",
    "id": "zi4BaGooTg2o"
   },
   "source": [
    "### Qual percentual de pessoas de nosso <i>dataset</i> ganham um salário mínimo (R$ 788,00) ou menos?"
   ]
  },
  {
   "cell_type": "code",
   "execution_count": null,
   "metadata": {},
   "outputs": [],
   "source": []
  },
  {
   "cell_type": "markdown",
   "metadata": {
    "colab_type": "text",
    "id": "bl0fOMuKTg2q"
   },
   "source": [
    "### Qual o valor máximo ganho por 99% das pessoas de nosso <i>dataset</i>?\n",
    "#### <font color='red'>Utilize o método *quantile()* para realizar esta análise.</font>"
   ]
  },
  {
   "cell_type": "code",
   "execution_count": null,
   "metadata": {
    "colab": {
     "base_uri": "https://localhost:8080/",
     "height": 35
    },
    "colab_type": "code",
    "id": "cIVwy8bKTg2q",
    "outputId": "25876a34-9f9c-4497-f187-96f7af03dfef"
   },
   "outputs": [],
   "source": []
  },
  {
   "cell_type": "markdown",
   "metadata": {
    "colab_type": "text",
    "id": "zeRhvtngTg2r"
   },
   "source": [
    "### Obtenha a média, mediana, valor máximo e desvio-padrão da variável RENDA segundo ANOS DE ESTUDO e SEXO\n",
    "#### <font color='blue'>Destaque os pontos mais importante que você observa nas tabulações</font>"
   ]
  },
  {
   "cell_type": "code",
   "execution_count": null,
   "metadata": {},
   "outputs": [],
   "source": []
  },
  {
   "cell_type": "code",
   "execution_count": null,
   "metadata": {},
   "outputs": [],
   "source": []
  },
  {
   "cell_type": "code",
   "execution_count": null,
   "metadata": {},
   "outputs": [],
   "source": []
  },
  {
   "cell_type": "code",
   "execution_count": null,
   "metadata": {},
   "outputs": [],
   "source": []
  },
  {
   "cell_type": "markdown",
   "metadata": {
    "colab_type": "text",
    "id": "1Rm1n7a_Tg2u"
   },
   "source": [
    "### Construa um box plot da variável RENDA segundo ANOS DE ESTUDO e SEXO\n",
    "#### <font color='blue'>É possível verificar algum comportamento diferenciado no rendimento entre os grupos de pessoas analisados? Avalie o gráfico e destaque os pontos mais importantes.</font>\n",
    "#### <font color='red'>1º - Utilize somente as informações de pessoas com renda abaixo de R$ 10.000</font>\n",
    "#### <font color='red'>2º - Para incluir uma terceira variável na construção de um boxplot utilize o parâmetro *fill* da seguinte maneira: *aes(x = Anos.de.Estudo, y = Renda, fill = Sexo)*.</font>"
   ]
  },
  {
   "cell_type": "code",
   "execution_count": null,
   "metadata": {},
   "outputs": [],
   "source": []
  },
  {
   "cell_type": "markdown",
   "metadata": {
    "colab_type": "text",
    "id": "LrEECOmNTg2w"
   },
   "source": [
    "> ### Conclusões\n",
    "\n",
    "Escreva suas conclusões aqui..."
   ]
  }
 ],
 "metadata": {
  "colab": {
   "name": "Análise_Descritiva.ipynb",
   "provenance": [],
   "toc_visible": true,
   "version": "0.3.2"
  },
  "kernelspec": {
   "display_name": "R",
   "language": "R",
   "name": "ir"
  },
  "language_info": {
   "codemirror_mode": "r",
   "file_extension": ".r",
   "mimetype": "text/x-r-source",
   "name": "R",
   "pygments_lexer": "r",
   "version": "4.1.2"
  }
 },
 "nbformat": 4,
 "nbformat_minor": 4
}
