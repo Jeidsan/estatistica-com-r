{
 "cells": [
  {
   "cell_type": "markdown",
   "metadata": {
    "colab_type": "text",
    "id": "WvMflodMjQKe",
    "tags": []
   },
   "source": [
    "***\n",
    "# <font color=green size=10>CURSO DE ESTATÍSTICA - PARTE 2</font>\n",
    "***"
   ]
  },
  {
   "cell_type": "markdown",
   "metadata": {
    "colab_type": "text",
    "id": "cVgsZ_E3jQKg",
    "jp-MarkdownHeadingCollapsed": true,
    "tags": []
   },
   "source": [
    "## <font color=green>1 CONHECENDO OS DADOS</font>\n",
    "***"
   ]
  },
  {
   "cell_type": "markdown",
   "metadata": {
    "colab_type": "text",
    "id": "TDjqYYNojQKh",
    "tags": []
   },
   "source": [
    "### <font color=green>1.1 Dataset do projeto</font>\n",
    "***"
   ]
  },
  {
   "cell_type": "markdown",
   "metadata": {
    "tags": []
   },
   "source": [
    "#### Pesquisa Nacional por Amostra de Domicílios - 2015"
   ]
  },
  {
   "cell_type": "markdown",
   "metadata": {
    "colab_type": "text",
    "id": "iN1gIbaKjQKh",
    "jp-MarkdownHeadingCollapsed": true,
    "tags": []
   },
   "source": [
    "A **Pesquisa Nacional por Amostra de Domicílios - PNAD** investiga anualmente, de forma permanente, características gerais da população, de educação, trabalho, rendimento e habitação e outras, com periodicidade variável, de acordo com as necessidades de informação para o país, como as características sobre migração, fecundidade, nupcialidade, saúde, segurança alimentar, entre outros temas. O levantamento dessas estatísticas constitui, ao longo dos 49 anos de realização da pesquisa, um importante instrumento para formulação, validação e avaliação de políticas orientadas para o desenvolvimento socioeconômico e a melhoria das condições de vida no Brasil."
   ]
  },
  {
   "cell_type": "markdown",
   "metadata": {
    "tags": []
   },
   "source": [
    "#### Fonte dos Dados"
   ]
  },
  {
   "cell_type": "markdown",
   "metadata": {
    "colab_type": "text",
    "id": "U6V7br1RjQKi",
    "tags": []
   },
   "source": [
    "https://ww2.ibge.gov.br/home/estatistica/populacao/trabalhoerendimento/pnad2015/microdados.shtm"
   ]
  },
  {
   "cell_type": "markdown",
   "metadata": {
    "tags": []
   },
   "source": [
    "#### Variáveis utilizadas"
   ]
  },
  {
   "cell_type": "markdown",
   "metadata": {
    "tags": []
   },
   "source": [
    "##### Renda\n",
    "***"
   ]
  },
  {
   "cell_type": "markdown",
   "metadata": {},
   "source": [
    "Rendimento mensal do trabalho principal para pessoas de 10 anos ou mais de idade."
   ]
  },
  {
   "cell_type": "markdown",
   "metadata": {
    "tags": []
   },
   "source": [
    "##### Idade\n",
    "***"
   ]
  },
  {
   "cell_type": "markdown",
   "metadata": {},
   "source": [
    "Idade do morador na data de referência em anos."
   ]
  },
  {
   "cell_type": "markdown",
   "metadata": {
    "tags": []
   },
   "source": [
    "##### Altura (elaboração própria)\n",
    "***"
   ]
  },
  {
   "cell_type": "markdown",
   "metadata": {},
   "source": [
    "Altura do morador em metros."
   ]
  },
  {
   "cell_type": "markdown",
   "metadata": {
    "jp-MarkdownHeadingCollapsed": true,
    "tags": []
   },
   "source": [
    "##### UF\n",
    "***"
   ]
  },
  {
   "cell_type": "markdown",
   "metadata": {},
   "source": [
    "|Código|Descrição|\n",
    "|---|---|\n",
    "|11|Rondônia|\n",
    "|12|Acre|\n",
    "|13|Amazonas|\n",
    "|14|Roraima|\n",
    "|15|Pará|\n",
    "|16|Amapá|\n",
    "|17|Tocantins|\n",
    "|21|Maranhão|\n",
    "|22|Piauí|\n",
    "|23|Ceará|\n",
    "|24|Rio Grande do Norte|\n",
    "|25|Paraíba|\n",
    "|26|Pernambuco|\n",
    "|27|Alagoas|\n",
    "|28|Sergipe|\n",
    "|29|Bahia|\n",
    "|31|Minas Gerais|\n",
    "|32|Espírito Santo|\n",
    "|33|Rio de Janeiro|\n",
    "|35|São Paulo|\n",
    "|41|Paraná|\n",
    "|42|Santa Catarina|\n",
    "|43|Rio Grande do Sul|\n",
    "|50|Mato Grosso do Sul|\n",
    "|51|Mato Grosso|\n",
    "|52|Goiás|\n",
    "|53|Distrito Federal|"
   ]
  },
  {
   "cell_type": "markdown",
   "metadata": {
    "jp-MarkdownHeadingCollapsed": true,
    "tags": []
   },
   "source": [
    "##### Sexo\n",
    "***"
   ]
  },
  {
   "cell_type": "markdown",
   "metadata": {},
   "source": [
    "|Código|Descrição|\n",
    "|---|---|\n",
    "|0|Masculino|\n",
    "|1|Feminino|"
   ]
  },
  {
   "cell_type": "markdown",
   "metadata": {
    "jp-MarkdownHeadingCollapsed": true,
    "tags": []
   },
   "source": [
    "##### Anos de Estudo\n",
    "***"
   ]
  },
  {
   "cell_type": "markdown",
   "metadata": {},
   "source": [
    "|Código|Descrição|\n",
    "|---|---|\n",
    "|1|Sem instrução e menos de 1 ano|\n",
    "|2|1 ano|\n",
    "|3|2 anos|\n",
    "|4|3 anos|\n",
    "|5|4 anos|\n",
    "|6|5 anos|\n",
    "|7|6 anos|\n",
    "|8|7 anos|\n",
    "|9|8 anos|\n",
    "|10|9 anos|\n",
    "|11|10 anos|\n",
    "|12|11 anos|\n",
    "|13|12 anos|\n",
    "|14|13 anos|\n",
    "|15|14 anos|\n",
    "|16|15 anos ou mais|\n",
    "|17|Não determinados| \n",
    "||Não aplicável|"
   ]
  },
  {
   "cell_type": "markdown",
   "metadata": {
    "jp-MarkdownHeadingCollapsed": true,
    "tags": []
   },
   "source": [
    "##### Cor\n",
    "***"
   ]
  },
  {
   "cell_type": "markdown",
   "metadata": {
    "colab_type": "text",
    "id": "r0Fe_qnzjQKj",
    "tags": []
   },
   "source": [
    "|Código|Descrição|\n",
    "|---|---|\n",
    "|0|Indígena|\n",
    "|2|Branca|\n",
    "|4|Preta|\n",
    "|6|Amarela|\n",
    "|8|Parda|\n",
    "|9|Sem declaração|"
   ]
  },
  {
   "cell_type": "markdown",
   "metadata": {
    "jp-MarkdownHeadingCollapsed": true,
    "tags": []
   },
   "source": [
    "##### <font color='red'>Observação</font>\n",
    "***"
   ]
  },
  {
   "cell_type": "markdown",
   "metadata": {
    "colab_type": "text",
    "id": "OK1IQH5cX7Gb",
    "tags": []
   },
   "source": [
    "> Os seguintes tratamentos foram realizados nos dados originais:\n",
    "> 1. Foram eliminados os registros onde a **Renda** era inválida (999 999 999 999);\n",
    "> 2. Foram eliminados os registros onde a **Renda** era missing;\n",
    "> 3. Foram considerados somente os registros das **Pessoas de Referência** de cada domicílio (responsável pelo domicílio)."
   ]
  },
  {
   "cell_type": "markdown",
   "metadata": {
    "jp-MarkdownHeadingCollapsed": true,
    "tags": []
   },
   "source": [
    "#### Configurações"
   ]
  },
  {
   "cell_type": "code",
   "execution_count": 3,
   "metadata": {},
   "outputs": [],
   "source": [
    "library(ggplot2)"
   ]
  },
  {
   "cell_type": "code",
   "execution_count": 4,
   "metadata": {},
   "outputs": [],
   "source": [
    "options(repr.plot.width = 7, repr.plot.height = 4)"
   ]
  },
  {
   "cell_type": "markdown",
   "metadata": {
    "colab_type": "text",
    "id": "8Rw70V6ojQKk",
    "jp-MarkdownHeadingCollapsed": true,
    "tags": []
   },
   "source": [
    "#### Importando dataset do projeto"
   ]
  },
  {
   "cell_type": "code",
   "execution_count": 6,
   "metadata": {
    "colab": {},
    "colab_type": "code",
    "id": "ufRZ7TLwjQKo"
   },
   "outputs": [],
   "source": [
    "dados <- read.csv('1. Dados.csv')"
   ]
  },
  {
   "cell_type": "code",
   "execution_count": 7,
   "metadata": {
    "colab": {
     "base_uri": "https://localhost:8080/",
     "height": 204
    },
    "colab_type": "code",
    "id": "GsC_WhLFjQKq",
    "outputId": "36b6565f-bb67-47b7-ea64-8d2695c60e6b",
    "scrolled": true
   },
   "outputs": [
    {
     "data": {
      "text/html": [
       "<table class=\"dataframe\">\n",
       "<caption>A data.frame: 6 × 7</caption>\n",
       "<thead>\n",
       "\t<tr><th></th><th scope=col>UF</th><th scope=col>Sexo</th><th scope=col>Idade</th><th scope=col>Cor</th><th scope=col>Anos.de.Estudo</th><th scope=col>Renda</th><th scope=col>Altura</th></tr>\n",
       "\t<tr><th></th><th scope=col>&lt;int&gt;</th><th scope=col>&lt;int&gt;</th><th scope=col>&lt;int&gt;</th><th scope=col>&lt;int&gt;</th><th scope=col>&lt;int&gt;</th><th scope=col>&lt;int&gt;</th><th scope=col>&lt;dbl&gt;</th></tr>\n",
       "</thead>\n",
       "<tbody>\n",
       "\t<tr><th scope=row>1</th><td>11</td><td>0</td><td>23</td><td>8</td><td>12</td><td> 800</td><td>1.603808</td></tr>\n",
       "\t<tr><th scope=row>2</th><td>11</td><td>1</td><td>23</td><td>2</td><td>12</td><td>1150</td><td>1.739790</td></tr>\n",
       "\t<tr><th scope=row>3</th><td>11</td><td>1</td><td>35</td><td>8</td><td>15</td><td> 880</td><td>1.760444</td></tr>\n",
       "\t<tr><th scope=row>4</th><td>11</td><td>0</td><td>46</td><td>2</td><td> 6</td><td>3500</td><td>1.783158</td></tr>\n",
       "\t<tr><th scope=row>5</th><td>11</td><td>1</td><td>47</td><td>8</td><td> 9</td><td> 150</td><td>1.690631</td></tr>\n",
       "\t<tr><th scope=row>6</th><td>11</td><td>1</td><td>34</td><td>8</td><td>12</td><td> 790</td><td>1.637906</td></tr>\n",
       "</tbody>\n",
       "</table>\n"
      ],
      "text/latex": [
       "A data.frame: 6 × 7\n",
       "\\begin{tabular}{r|lllllll}\n",
       "  & UF & Sexo & Idade & Cor & Anos.de.Estudo & Renda & Altura\\\\\n",
       "  & <int> & <int> & <int> & <int> & <int> & <int> & <dbl>\\\\\n",
       "\\hline\n",
       "\t1 & 11 & 0 & 23 & 8 & 12 &  800 & 1.603808\\\\\n",
       "\t2 & 11 & 1 & 23 & 2 & 12 & 1150 & 1.739790\\\\\n",
       "\t3 & 11 & 1 & 35 & 8 & 15 &  880 & 1.760444\\\\\n",
       "\t4 & 11 & 0 & 46 & 2 &  6 & 3500 & 1.783158\\\\\n",
       "\t5 & 11 & 1 & 47 & 8 &  9 &  150 & 1.690631\\\\\n",
       "\t6 & 11 & 1 & 34 & 8 & 12 &  790 & 1.637906\\\\\n",
       "\\end{tabular}\n"
      ],
      "text/markdown": [
       "\n",
       "A data.frame: 6 × 7\n",
       "\n",
       "| <!--/--> | UF &lt;int&gt; | Sexo &lt;int&gt; | Idade &lt;int&gt; | Cor &lt;int&gt; | Anos.de.Estudo &lt;int&gt; | Renda &lt;int&gt; | Altura &lt;dbl&gt; |\n",
       "|---|---|---|---|---|---|---|---|\n",
       "| 1 | 11 | 0 | 23 | 8 | 12 |  800 | 1.603808 |\n",
       "| 2 | 11 | 1 | 23 | 2 | 12 | 1150 | 1.739790 |\n",
       "| 3 | 11 | 1 | 35 | 8 | 15 |  880 | 1.760444 |\n",
       "| 4 | 11 | 0 | 46 | 2 |  6 | 3500 | 1.783158 |\n",
       "| 5 | 11 | 1 | 47 | 8 |  9 |  150 | 1.690631 |\n",
       "| 6 | 11 | 1 | 34 | 8 | 12 |  790 | 1.637906 |\n",
       "\n"
      ],
      "text/plain": [
       "  UF Sexo Idade Cor Anos.de.Estudo Renda Altura  \n",
       "1 11 0    23    8   12              800  1.603808\n",
       "2 11 1    23    2   12             1150  1.739790\n",
       "3 11 1    35    8   15              880  1.760444\n",
       "4 11 0    46    2    6             3500  1.783158\n",
       "5 11 1    47    8    9              150  1.690631\n",
       "6 11 1    34    8   12              790  1.637906"
      ]
     },
     "metadata": {},
     "output_type": "display_data"
    }
   ],
   "source": [
    "head(dados)"
   ]
  },
  {
   "cell_type": "markdown",
   "metadata": {
    "colab_type": "text",
    "id": "-z3bLQIUG3Hv"
   },
   "source": [
    "---"
   ]
  },
  {
   "cell_type": "markdown",
   "metadata": {
    "colab_type": "text",
    "id": "tL9xVLwTX07g",
    "jp-MarkdownHeadingCollapsed": true,
    "tags": []
   },
   "source": [
    "## <font color=green>2 DISTRIBUIÇÕES DE PROBABILIDADE</font>\n",
    "***"
   ]
  },
  {
   "cell_type": "markdown",
   "metadata": {
    "colab_type": "text",
    "id": "3nlvC-5qG3Bj",
    "tags": []
   },
   "source": [
    "### <font color=red>Problema</font>\n",
    "***"
   ]
  },
  {
   "cell_type": "markdown",
   "metadata": {
    "colab_type": "text",
    "id": "8CclIz9oG3Bk"
   },
   "source": [
    "Em um concurso para preencher uma vaga de cientista de dados temos um total de **10 questões** de múltipla escolha com **3 alternativas possíveis** em cada questão. **Cada questão tem o mesmo valor.** Suponha que um candidato resolva se aventurar sem ter estudado absolutamente nada. Ele resolve fazer a prova de olhos vendados e chutar todas as resposta. Assumindo que a prova **vale 10 pontos e a nota de corte seja 5**, obtenha a probabilidade deste candidato **acertar 5 questões** e também a probabilidade deste candidato **passar para a próxima etapa do processo seletivo**."
   ]
  },
  {
   "cell_type": "markdown",
   "metadata": {
    "colab_type": "text",
    "id": "KJxd2KFSYLML",
    "tags": []
   },
   "source": [
    "### <font color=green>2.1 Distribuição Binomial</font>\n",
    "***"
   ]
  },
  {
   "cell_type": "markdown",
   "metadata": {
    "colab_type": "text",
    "id": "mcbl3KbnG3Bq"
   },
   "source": [
    "Um evento **binomial** é caracterizado pela possibilidade de ocorrência de apenas duas categorias. Estas categorias somadas representam todo o espaço amostral, sendo também mutuamente excludentes, ou seja, a ocorrência de uma implica na não ocorrência da outra.\n",
    "\n",
    "Em análises estatísticas o uso mais comum da distribuição binomial é na solução de problemas que envolvem situações de **sucesso** e **fracasso**.\n",
    "\n",
    "$$P(k)=\\binom{n}{k} p^k q^{n-k}$$\n",
    "\n",
    "Onde:\n",
    "\n",
    "$p$ = probabilidade de sucesso\n",
    "\n",
    "$q = (1 - p)$ = probabilidade de fracasso\n",
    "\n",
    "$n$ = número de eventos estudados\n",
    "\n",
    "$k$ = número de eventos desejados que tenham sucesso"
   ]
  },
  {
   "cell_type": "markdown",
   "metadata": {
    "colab_type": "text",
    "id": "PxEgWbFdG3Bt",
    "tags": []
   },
   "source": [
    "#### Experimento Binomial"
   ]
  },
  {
   "cell_type": "markdown",
   "metadata": {
    "colab_type": "text",
    "id": "eqQK3Ny-G3Bv"
   },
   "source": [
    "1. Realização de $n$ ensaios idênticos.\n",
    "\n",
    "2. Os ensaios são independentes.\n",
    "\n",
    "3. Somente dois resultados são possíveis, exemplo: Verdadeiro ou falso; Cara ou coroa; Sucesso ou fracasso.\n",
    "\n",
    "4. A probabilidade de sucesso é representada por $p$ e a de fracasso por $1-p=q$. Estas probabilidades não se modificam de ensaio para ensaio."
   ]
  },
  {
   "cell_type": "markdown",
   "metadata": {
    "colab_type": "text",
    "id": "mT77udQ0G3Bx",
    "tags": []
   },
   "source": [
    "#### Média da distribuição binomial"
   ]
  },
  {
   "cell_type": "markdown",
   "metadata": {
    "colab_type": "text",
    "id": "EGiuemgqG3By"
   },
   "source": [
    "O valor esperado ou a média da distribuição binomial é igual ao número de experimentos realizados multiplicado pela chance de ocorrência do evento.\n",
    "\n",
    "$$\\mu = n \\times p$$"
   ]
  },
  {
   "cell_type": "markdown",
   "metadata": {
    "colab_type": "text",
    "id": "1fDLi96OG3Bz",
    "tags": []
   },
   "source": [
    "#### Desvio padrão da distribuição binomial"
   ]
  },
  {
   "cell_type": "markdown",
   "metadata": {
    "colab_type": "text",
    "id": "EZojizotG3B1"
   },
   "source": [
    "O desvio padrão é o produto entre o número de experimentos, a probabilidade de sucesso e a probabilidade de fracasso.\n",
    "\n",
    "$$\\sigma = \\sqrt{n \\times p \\times q}$$"
   ]
  },
  {
   "cell_type": "markdown",
   "metadata": {
    "colab_type": "text",
    "id": "MxxuJNSwG3B7"
   },
   "source": [
    "#### Combinações\n",
    "\n",
    "Número de combinações de $n$ objetos, tomados $k$ a cada vez, é:\n",
    "\n",
    "$$C_{k}^{n} = \\binom{n}{k} = \\frac{n!}{k!(n - k)!}$$\n",
    "\n",
    "Onde\n",
    "\n",
    "$$n! = n\\times(n-1)\\times(n-2)\\times...\\times(2)\\times(1)$$\n",
    "$$k! = k\\times(k-1)\\times(k-2)\\times...\\times(2)\\times(1)$$\n",
    "\n",
    "Por definição\n",
    "\n",
    "$$0! = 1$$"
   ]
  },
  {
   "cell_type": "markdown",
   "metadata": {},
   "source": [
    "#### <font color=red>Documentações:\n",
    "\n",
    "- [**choose**](https://www.rdocumentation.org/packages/base/versions/3.6.1/topics/Special)"
   ]
  },
  {
   "cell_type": "markdown",
   "metadata": {
    "colab_type": "text",
    "id": "Udz87Pq3G3B8"
   },
   "source": [
    "### <font color='blue'>Exemplo: Mega Sena</font>"
   ]
  },
  {
   "cell_type": "markdown",
   "metadata": {
    "colab_type": "text",
    "id": "h1Mo9AxyG3B8"
   },
   "source": [
    "Em um volante de loteria da Mega Sena temos um total de **60 números** para escolher onde a aposta mínima é de **seis números**. Você que é curiosa(o) resolve calcular a probabilidade de se acertar na Mega Sena com apenas **um jogo**. Para isso precisamos saber quantas **combinações de seis números podem ser formadas com os 60 números disponíveis**.\n",
    "\n",
    "$$C_{6}^{60} = \\binom{60}{6} = \\frac{60!}{6!(60 - 6)!}$$"
   ]
  },
  {
   "cell_type": "code",
   "execution_count": 8,
   "metadata": {},
   "outputs": [
    {
     "data": {
      "text/html": [
       "50063860"
      ],
      "text/latex": [
       "50063860"
      ],
      "text/markdown": [
       "50063860"
      ],
      "text/plain": [
       "[1] 50063860"
      ]
     },
     "metadata": {},
     "output_type": "display_data"
    }
   ],
   "source": [
    "combinacoes <- choose(60, 6)\n",
    "combinacoes"
   ]
  },
  {
   "cell_type": "code",
   "execution_count": 9,
   "metadata": {
    "colab": {
     "base_uri": "https://localhost:8080/",
     "height": 34
    },
    "colab_type": "code",
    "id": "LpioeTSXG3CB",
    "outputId": "d1e0ab82-be84-423c-e206-a9f8e1437df4",
    "tags": []
   },
   "outputs": [
    {
     "data": {
      "text/html": [
       "1.99744885831816e-08"
      ],
      "text/latex": [
       "1.99744885831816e-08"
      ],
      "text/markdown": [
       "1.99744885831816e-08"
      ],
      "text/plain": [
       "[1] 1.997449e-08"
      ]
     },
     "metadata": {},
     "output_type": "display_data"
    }
   ],
   "source": [
    "probabilidade <- 1 / combinacoes\n",
    "probabilidade"
   ]
  },
  {
   "cell_type": "markdown",
   "metadata": {
    "colab_type": "text",
    "id": "t1rA1yJpG3CF",
    "tags": []
   },
   "source": [
    "### <font color='blue'>Exemplo: Concurso para cientista de dados</font>"
   ]
  },
  {
   "cell_type": "markdown",
   "metadata": {
    "colab_type": "text",
    "id": "K0DPDD37G3CG",
    "tags": []
   },
   "source": [
    "Em um concurso para preencher uma vaga de cientista de dados temos um total de **10 questões** de múltipla escolha com **3 alternativas possíveis** em cada questão. **Cada questão tem o mesmo valor.** Suponha que um candidato resolva se aventurar sem ter estudado absolutamente nada. Ele resolve fazer a prova de olhos vendados e chutar todas as resposta. Assumindo que a prova **vale 10 pontos e a nota de corte seja 5**, obtenha a probabilidade deste candidato **acertar 5 questões** e também a probabilidade deste candidato **passar para a próxima etapa do processo seletivo**."
   ]
  },
  {
   "cell_type": "markdown",
   "metadata": {
    "colab_type": "text",
    "id": "sf-NMPfxG3CH",
    "tags": []
   },
   "source": [
    "#### Qual o número de ensaios ($n$)?"
   ]
  },
  {
   "cell_type": "code",
   "execution_count": 10,
   "metadata": {
    "colab": {
     "base_uri": "https://localhost:8080/",
     "height": 34
    },
    "colab_type": "code",
    "id": "WmnjMTnYG3CH",
    "outputId": "859f37e5-992a-4ccf-fbfb-4e2cf52c4373"
   },
   "outputs": [
    {
     "data": {
      "text/html": [
       "10"
      ],
      "text/latex": [
       "10"
      ],
      "text/markdown": [
       "10"
      ],
      "text/plain": [
       "[1] 10"
      ]
     },
     "metadata": {},
     "output_type": "display_data"
    }
   ],
   "source": [
    "n <- 10\n",
    "n"
   ]
  },
  {
   "cell_type": "markdown",
   "metadata": {
    "colab_type": "text",
    "id": "1USf9Ro8G3CK"
   },
   "source": [
    "#### Os ensaios são independentes?"
   ]
  },
  {
   "cell_type": "markdown",
   "metadata": {
    "colab_type": "text",
    "id": "82xf2XIkG3CM"
   },
   "source": [
    "Sim. A opção escolhida em uma questão não influencia em nada a opção escolhida em outra questão."
   ]
  },
  {
   "cell_type": "markdown",
   "metadata": {
    "colab_type": "text",
    "id": "7jN0H5e7G3CN"
   },
   "source": [
    "#### Somente dois resultados são possíveis em cada ensaio?"
   ]
  },
  {
   "cell_type": "markdown",
   "metadata": {
    "colab_type": "text",
    "id": "gGxcY7K8G3CO"
   },
   "source": [
    "Sim. O candidato tem duas possibilidades, ACERTA ou ERRAR uma questão. "
   ]
  },
  {
   "cell_type": "markdown",
   "metadata": {
    "colab_type": "text",
    "id": "MZw2LDQjG3CR"
   },
   "source": [
    "#### Qual a probabilidade de sucesso ($p$)?"
   ]
  },
  {
   "cell_type": "code",
   "execution_count": 11,
   "metadata": {
    "colab": {
     "base_uri": "https://localhost:8080/",
     "height": 34
    },
    "colab_type": "code",
    "id": "AazGDtt0G3CS",
    "outputId": "ccb9e561-0413-43c8-c462-ebea4b6c1097"
   },
   "outputs": [
    {
     "data": {
      "text/html": [
       "0.333333333333333"
      ],
      "text/latex": [
       "0.333333333333333"
      ],
      "text/markdown": [
       "0.333333333333333"
      ],
      "text/plain": [
       "[1] 0.3333333"
      ]
     },
     "metadata": {},
     "output_type": "display_data"
    }
   ],
   "source": [
    "numero_de_alternativas_por_questao <- 3\n",
    "p <- 1 / numero_de_alternativas_por_questao\n",
    "p"
   ]
  },
  {
   "cell_type": "markdown",
   "metadata": {
    "colab_type": "text",
    "id": "KPCw41OlG3CX"
   },
   "source": [
    "#### Qual a probabilidade de fracasso ($q$)?"
   ]
  },
  {
   "cell_type": "code",
   "execution_count": 12,
   "metadata": {
    "colab": {
     "base_uri": "https://localhost:8080/",
     "height": 34
    },
    "colab_type": "code",
    "id": "FRhmjCnpG3CZ",
    "outputId": "f521f041-ecf4-4c4c-b696-da7b949d657a"
   },
   "outputs": [
    {
     "data": {
      "text/html": [
       "0.666666666666667"
      ],
      "text/latex": [
       "0.666666666666667"
      ],
      "text/markdown": [
       "0.666666666666667"
      ],
      "text/plain": [
       "[1] 0.6666667"
      ]
     },
     "metadata": {},
     "output_type": "display_data"
    }
   ],
   "source": [
    "q <- 1 - p\n",
    "q"
   ]
  },
  {
   "cell_type": "markdown",
   "metadata": {
    "colab_type": "text",
    "id": "W2htpmzaG3Ce"
   },
   "source": [
    "#### Qual o total de eventos que se deseja obter sucesso ($k$)?"
   ]
  },
  {
   "cell_type": "code",
   "execution_count": 13,
   "metadata": {
    "colab": {
     "base_uri": "https://localhost:8080/",
     "height": 34
    },
    "colab_type": "code",
    "id": "MmHpiIIuG3Cj",
    "outputId": "6975cb4f-5cd3-4234-f7b0-b5d01ceb0430"
   },
   "outputs": [
    {
     "data": {
      "text/html": [
       "5"
      ],
      "text/latex": [
       "5"
      ],
      "text/markdown": [
       "5"
      ],
      "text/plain": [
       "[1] 5"
      ]
     },
     "metadata": {},
     "output_type": "display_data"
    }
   ],
   "source": [
    "k <- 5\n",
    "k"
   ]
  },
  {
   "cell_type": "markdown",
   "metadata": {
    "colab_type": "text",
    "id": "r8TZ6DSuG3Cm"
   },
   "source": [
    "#### Solução 1"
   ]
  },
  {
   "cell_type": "code",
   "execution_count": 14,
   "metadata": {},
   "outputs": [
    {
     "data": {
      "text/html": [
       "0.136564548087182"
      ],
      "text/latex": [
       "0.136564548087182"
      ],
      "text/markdown": [
       "0.136564548087182"
      ],
      "text/plain": [
       "[1] 0.1365645"
      ]
     },
     "metadata": {},
     "output_type": "display_data"
    }
   ],
   "source": [
    "probabilidade <- choose(n, k) * (p ** k) * (q ** (n - k))\n",
    "probabilidade"
   ]
  },
  {
   "cell_type": "markdown",
   "metadata": {},
   "source": [
    "#### Solução 2"
   ]
  },
  {
   "cell_type": "markdown",
   "metadata": {
    "colab_type": "text",
    "id": "hvj2sYaSG3Ct",
    "tags": []
   },
   "source": [
    "#### <font color=red>Documentações:\n",
    "\n",
    "- [**dbinom**](https://www.rdocumentation.org/packages/stats/versions/3.6.1/topics/Binomial)"
   ]
  },
  {
   "cell_type": "code",
   "execution_count": 16,
   "metadata": {},
   "outputs": [
    {
     "data": {
      "text/html": [
       "0.136564548087182"
      ],
      "text/latex": [
       "0.136564548087182"
      ],
      "text/markdown": [
       "0.136564548087182"
      ],
      "text/plain": [
       "[1] 0.1365645"
      ]
     },
     "metadata": {},
     "output_type": "display_data"
    }
   ],
   "source": [
    "dbinom(\n",
    "    x = k, \n",
    "    size = n, \n",
    "    prob = p\n",
    ")"
   ]
  },
  {
   "cell_type": "markdown",
   "metadata": {},
   "source": [
    "#### Obter a probabilidade do candidato passar"
   ]
  },
  {
   "cell_type": "markdown",
   "metadata": {},
   "source": [
    "$$P(acertar \\geq 5) = P(5) + P(6) + P(7) + P(8) + P(9) + P(10)$$"
   ]
  },
  {
   "cell_type": "code",
   "execution_count": 17,
   "metadata": {},
   "outputs": [
    {
     "data": {
      "text/html": [
       "0.213128080069095"
      ],
      "text/latex": [
       "0.213128080069095"
      ],
      "text/markdown": [
       "0.213128080069095"
      ],
      "text/plain": [
       "[1] 0.2131281"
      ]
     },
     "metadata": {},
     "output_type": "display_data"
    }
   ],
   "source": [
    "dbinom(x = 5, size = n, prob = p) +\n",
    "    dbinom(x = 6, size = n, prob = p) +\n",
    "    dbinom(x = 7, size = n, prob = p) +\n",
    "    dbinom(x = 8, size = n, prob = p) +\n",
    "    dbinom(x = 9, size = n, prob = p) +\n",
    "    dbinom(x = 10, size = n, prob = p)"
   ]
  },
  {
   "cell_type": "code",
   "execution_count": 19,
   "metadata": {},
   "outputs": [
    {
     "data": {
      "text/html": [
       "0.213128080069095"
      ],
      "text/latex": [
       "0.213128080069095"
      ],
      "text/markdown": [
       "0.213128080069095"
      ],
      "text/plain": [
       "[1] 0.2131281"
      ]
     },
     "metadata": {},
     "output_type": "display_data"
    }
   ],
   "source": [
    "sum(dbinom(x = 5:10, size = n, prob = p))"
   ]
  },
  {
   "cell_type": "code",
   "execution_count": 21,
   "metadata": {},
   "outputs": [
    {
     "data": {
      "text/html": [
       "0.213128080069095"
      ],
      "text/latex": [
       "0.213128080069095"
      ],
      "text/markdown": [
       "0.213128080069095"
      ],
      "text/plain": [
       "[1] 0.2131281"
      ]
     },
     "metadata": {},
     "output_type": "display_data"
    }
   ],
   "source": [
    "pbinom(q = 4, size = n, prob = p, lower.tail = FALSE)"
   ]
  },
  {
   "cell_type": "markdown",
   "metadata": {
    "colab_type": "text",
    "id": "7hAZ4XkMG3Cx"
   },
   "source": [
    "### <font color='blue'>Exemplo: Gincana</font>"
   ]
  },
  {
   "cell_type": "markdown",
   "metadata": {
    "colab_type": "text",
    "id": "l42alRhOG3Cy"
   },
   "source": [
    "Uma cidade do interior realiza todos os anos uma gincana para arrecadar fundos para o hospital da cidade. Na última gincana se sabe que a **proporção de participantes do sexo feminino foi de 60%**. **O total de equipes, com 12 integrantes, inscritas na gincana deste ano é de 30**. Com as informações acima responda: Quantas equipes deverão ser formadas por **8 mulheres**?"
   ]
  },
  {
   "cell_type": "markdown",
   "metadata": {
    "colab_type": "text",
    "id": "dqBGf6d7G3C0"
   },
   "source": [
    "#### Solução"
   ]
  },
  {
   "cell_type": "code",
   "execution_count": 22,
   "metadata": {
    "colab": {
     "base_uri": "https://localhost:8080/",
     "height": 34
    },
    "colab_type": "code",
    "id": "Xw9b6ch3G3C1",
    "outputId": "b4bb8b11-5113-4cc9-bac1-59e9acaf67e6"
   },
   "outputs": [
    {
     "data": {
      "text/html": [
       "0.6"
      ],
      "text/latex": [
       "0.6"
      ],
      "text/markdown": [
       "0.6"
      ],
      "text/plain": [
       "[1] 0.6"
      ]
     },
     "metadata": {},
     "output_type": "display_data"
    }
   ],
   "source": [
    "p <- .6\n",
    "p"
   ]
  },
  {
   "cell_type": "code",
   "execution_count": 23,
   "metadata": {
    "colab": {
     "base_uri": "https://localhost:8080/",
     "height": 34
    },
    "colab_type": "code",
    "id": "R3-RaxP5G3C3",
    "outputId": "180b09ba-666e-47c9-b476-224c71fdd5c0"
   },
   "outputs": [
    {
     "data": {
      "text/html": [
       "12"
      ],
      "text/latex": [
       "12"
      ],
      "text/markdown": [
       "12"
      ],
      "text/plain": [
       "[1] 12"
      ]
     },
     "metadata": {},
     "output_type": "display_data"
    }
   ],
   "source": [
    "n <- 12\n",
    "n"
   ]
  },
  {
   "cell_type": "code",
   "execution_count": 24,
   "metadata": {
    "colab": {
     "base_uri": "https://localhost:8080/",
     "height": 34
    },
    "colab_type": "code",
    "id": "otBHHyD0G3C6",
    "outputId": "c3bdd1ab-763a-43db-ec2e-fb890aa78e3f"
   },
   "outputs": [
    {
     "data": {
      "text/html": [
       "8"
      ],
      "text/latex": [
       "8"
      ],
      "text/markdown": [
       "8"
      ],
      "text/plain": [
       "[1] 8"
      ]
     },
     "metadata": {},
     "output_type": "display_data"
    }
   ],
   "source": [
    "k <- 8\n",
    "k"
   ]
  },
  {
   "cell_type": "code",
   "execution_count": 25,
   "metadata": {},
   "outputs": [
    {
     "data": {
      "text/html": [
       "0.21284093952"
      ],
      "text/latex": [
       "0.21284093952"
      ],
      "text/markdown": [
       "0.21284093952"
      ],
      "text/plain": [
       "[1] 0.2128409"
      ]
     },
     "metadata": {},
     "output_type": "display_data"
    }
   ],
   "source": [
    "probabilidade <- dbinom(k, n, p)\n",
    "probabilidade"
   ]
  },
  {
   "cell_type": "code",
   "execution_count": 26,
   "metadata": {
    "colab": {
     "base_uri": "https://localhost:8080/",
     "height": 34
    },
    "colab_type": "code",
    "id": "Tg53uGL4G3DA",
    "outputId": "cf68634d-68fd-41c5-a9a1-98c5ead8b548"
   },
   "outputs": [
    {
     "data": {
      "text/html": [
       "6.3852281856"
      ],
      "text/latex": [
       "6.3852281856"
      ],
      "text/markdown": [
       "6.3852281856"
      ],
      "text/plain": [
       "[1] 6.385228"
      ]
     },
     "metadata": {},
     "output_type": "display_data"
    }
   ],
   "source": [
    "equipes <- 30 * probabilidade\n",
    "equipes"
   ]
  },
  {
   "cell_type": "markdown",
   "metadata": {
    "colab_type": "text",
    "id": "49TiCQRvG3DC"
   },
   "source": [
    "---"
   ]
  },
  {
   "cell_type": "markdown",
   "metadata": {
    "colab_type": "text",
    "id": "X6bYonAZG3DE"
   },
   "source": [
    "### <font color=red>Problema</font>\n",
    "***"
   ]
  },
  {
   "cell_type": "markdown",
   "metadata": {
    "colab_type": "text",
    "id": "Ccx-Bc9oG3DH"
   },
   "source": [
    "Um restaurante recebe em média **20 pedidos por hora**. Qual a chance de que, em determinada hora escolhida ao acaso, o restaurante receba **15 pedidos**?"
   ]
  },
  {
   "cell_type": "markdown",
   "metadata": {
    "colab_type": "text",
    "id": "k-uV7bgsmand"
   },
   "source": [
    "#### <font color=green>2.2 Distribuição Poisson</font>\n",
    "***"
   ]
  },
  {
   "cell_type": "markdown",
   "metadata": {
    "colab_type": "text",
    "id": "H0jPtJICG3DM"
   },
   "source": [
    "É empregada para descrever o número de ocorrências em um intervalo de tempo ou espaço específico. Os eventos são caracterizados pela possibilidade de contagem dos sucessos, mas a não possibilidade de contagem dos fracassos.\n",
    "\n",
    "Como exemplos de processos onde podemos aplicar a distribuição de Poisson temos a determinação do número de clientes que entram em uma loja em determinada hora, o número de carros que chegam em um drive-thru de uma lanchonete na hora do almoço, a determinação do número de acidentes registrados em um trecho de estrada etc."
   ]
  },
  {
   "cell_type": "markdown",
   "metadata": {
    "colab_type": "text",
    "id": "O_XqwANJG3DN"
   },
   "source": [
    "$$P(k) = \\frac{e^{-\\mu}(\\mu)^k}{k!}$$\n",
    "\n",
    "Onde:\n",
    "\n",
    "$e$ = constante cujo valor aproximado é 2,718281828459045\n",
    "\n",
    "$\\mu$ = representa o número médio de ocorrências em um determinado intervalo de tempo ou espaço\n",
    "\n",
    "$k$ = número de sucessos no intervalo desejado"
   ]
  },
  {
   "cell_type": "markdown",
   "metadata": {
    "colab_type": "text",
    "id": "FqquU8wOG3DO"
   },
   "source": [
    "#### Experimento Poisson"
   ]
  },
  {
   "cell_type": "markdown",
   "metadata": {
    "colab_type": "text",
    "id": "ir2odEW3G3DO"
   },
   "source": [
    "1. A probabilidade de uma ocorrência é a mesma em todo o intervalo observado.\n",
    "\n",
    "2. O número de ocorrências em determinado intervalo é independente do número de ocorrências em outros intervalos.\n",
    "\n",
    "3. A probabilidade de uma ocorrência é a mesma em intervalos de igual comprimento."
   ]
  },
  {
   "cell_type": "markdown",
   "metadata": {
    "colab_type": "text",
    "id": "2INlWMa0G3DP"
   },
   "source": [
    "#### Média da distribuição Poisson"
   ]
  },
  {
   "cell_type": "markdown",
   "metadata": {
    "colab_type": "text",
    "id": "xywTsniCG3DP"
   },
   "source": [
    "$$\\mu$$"
   ]
  },
  {
   "cell_type": "markdown",
   "metadata": {
    "colab_type": "text",
    "id": "7-Lh-LpfG3DQ"
   },
   "source": [
    "#### Desvio padrão da distribuição Poisson"
   ]
  },
  {
   "cell_type": "markdown",
   "metadata": {
    "colab_type": "text",
    "id": "61uStWUsG3DQ"
   },
   "source": [
    "$$\\sigma = \\sqrt{\\mu}$$"
   ]
  },
  {
   "cell_type": "markdown",
   "metadata": {
    "colab_type": "text",
    "id": "vniBmzIMG3DR"
   },
   "source": [
    "#### <font color=red>Documentações:\n",
    "\n",
    "- [**exp**](https://www.rdocumentation.org/packages/base/versions/3.6.1/topics/log)\n",
    "- [**factorial**](https://www.rdocumentation.org/packages/base/versions/3.6.1/topics/Special)"
   ]
  },
  {
   "cell_type": "code",
   "execution_count": 27,
   "metadata": {},
   "outputs": [
    {
     "data": {
      "text/html": [
       "2.71828182845905"
      ],
      "text/latex": [
       "2.71828182845905"
      ],
      "text/markdown": [
       "2.71828182845905"
      ],
      "text/plain": [
       "[1] 2.718282"
      ]
     },
     "metadata": {},
     "output_type": "display_data"
    }
   ],
   "source": [
    "exp(1)"
   ]
  },
  {
   "cell_type": "markdown",
   "metadata": {
    "colab_type": "text",
    "id": "RKQWuVgMG3DW"
   },
   "source": [
    "### <font color='blue'>Exemplo: Delivery</font>"
   ]
  },
  {
   "cell_type": "markdown",
   "metadata": {
    "colab_type": "text",
    "id": "ZKc__49bG3DX"
   },
   "source": [
    "Um restaurante recebe em média **20 pedidos por hora**. Qual a chance de que, em determinada hora escolhida ao acaso, o restaurante receba **15 pedidos**?"
   ]
  },
  {
   "cell_type": "markdown",
   "metadata": {
    "colab_type": "text",
    "id": "W-MJ4XBkG3DX"
   },
   "source": [
    "#### Qual o número médio de ocorrências por hora ($\\mu$)?"
   ]
  },
  {
   "cell_type": "code",
   "execution_count": 28,
   "metadata": {
    "colab": {
     "base_uri": "https://localhost:8080/",
     "height": 34
    },
    "colab_type": "code",
    "id": "2fVfJxdSG3DY",
    "outputId": "5f93f4cb-eef7-459d-836c-eb825cf3f1d5"
   },
   "outputs": [
    {
     "data": {
      "text/html": [
       "20"
      ],
      "text/latex": [
       "20"
      ],
      "text/markdown": [
       "20"
      ],
      "text/plain": [
       "[1] 20"
      ]
     },
     "metadata": {},
     "output_type": "display_data"
    }
   ],
   "source": [
    "media <- 20\n",
    "media"
   ]
  },
  {
   "cell_type": "markdown",
   "metadata": {
    "colab_type": "text",
    "id": "3SagRtPvG3Da"
   },
   "source": [
    "#### Qual o número de ocorrências que queremos obter no período ($k$)?"
   ]
  },
  {
   "cell_type": "code",
   "execution_count": 29,
   "metadata": {
    "colab": {
     "base_uri": "https://localhost:8080/",
     "height": 34
    },
    "colab_type": "code",
    "id": "yXB3QhWyG3Da",
    "outputId": "70e860fe-353f-43ba-98e9-0976282de023"
   },
   "outputs": [
    {
     "data": {
      "text/html": [
       "15"
      ],
      "text/latex": [
       "15"
      ],
      "text/markdown": [
       "15"
      ],
      "text/plain": [
       "[1] 15"
      ]
     },
     "metadata": {},
     "output_type": "display_data"
    }
   ],
   "source": [
    "k <- 15\n",
    "k"
   ]
  },
  {
   "cell_type": "markdown",
   "metadata": {
    "colab_type": "text",
    "id": "3wFh3lFCG3De"
   },
   "source": [
    "#### Solução 1"
   ]
  },
  {
   "cell_type": "code",
   "execution_count": 35,
   "metadata": {},
   "outputs": [
    {
     "data": {
      "text/html": [
       "0.0516488535317583"
      ],
      "text/latex": [
       "0.0516488535317583"
      ],
      "text/markdown": [
       "0.0516488535317583"
      ],
      "text/plain": [
       "[1] 0.05164885"
      ]
     },
     "metadata": {},
     "output_type": "display_data"
    }
   ],
   "source": [
    "probabilidade <- (exp(-media) * (media ** k)) / factorial(k)\n",
    "probabilidade"
   ]
  },
  {
   "cell_type": "markdown",
   "metadata": {},
   "source": [
    "#### Solução 2"
   ]
  },
  {
   "cell_type": "markdown",
   "metadata": {
    "colab_type": "text",
    "id": "yAyXh0euG3Dk"
   },
   "source": [
    "#### <font color=red>Documentações:\n",
    "\n",
    "- [**Poisson**](https://www.rdocumentation.org/packages/stats/versions/3.6.1/topics/Poisson)"
   ]
  },
  {
   "cell_type": "code",
   "execution_count": 39,
   "metadata": {},
   "outputs": [
    {
     "data": {
      "text/html": [
       "0.0516488535317583"
      ],
      "text/latex": [
       "0.0516488535317583"
      ],
      "text/markdown": [
       "0.0516488535317583"
      ],
      "text/plain": [
       "[1] 0.05164885"
      ]
     },
     "metadata": {},
     "output_type": "display_data"
    }
   ],
   "source": [
    "probabilidade <- dpois(x = k, lambda = media)\n",
    "probabilidade"
   ]
  },
  {
   "cell_type": "markdown",
   "metadata": {
    "colab_type": "text",
    "id": "g3ng8tQFG3Do"
   },
   "source": [
    "---"
   ]
  },
  {
   "cell_type": "markdown",
   "metadata": {
    "colab_type": "text",
    "id": "tVPUT9kEG3Dp"
   },
   "source": [
    "### <font color=red>Problema</font>\n",
    "***"
   ]
  },
  {
   "cell_type": "markdown",
   "metadata": {
    "colab_type": "text",
    "id": "j7zVDN0kG3Dq"
   },
   "source": [
    "Em um estudo sobre as alturas dos moradores de uma cidade verificou-se que o conjunto de dados segue uma **distribuição aproximadamente normal**, com **média 1,70** e **desvio padrão de 0,1**. Com estas informações obtenha o seguinte conjunto de probabilidades:\n",
    "\n",
    "> **A.** probabilidade de uma pessoa, selecionada ao acaso, ter menos de 1,80 metros.\n",
    ">\n",
    "> **B.** probabilidade de uma pessoa, selecionada ao acaso, ter entre 1,60 metros e 1,80 metros.    \n",
    ">\n",
    "> **C.** probabilidade de uma pessoa, selecionada ao acaso, ter mais de 1,90 metros."
   ]
  },
  {
   "cell_type": "markdown",
   "metadata": {
    "colab_type": "text",
    "id": "AowcVaKqpvf2"
   },
   "source": [
    "### <font color=green>2.3 Distribuição Normal</font>\n",
    "***"
   ]
  },
  {
   "cell_type": "markdown",
   "metadata": {
    "colab_type": "text",
    "id": "YOBD21hGG3Dw"
   },
   "source": [
    "A distribuição normal é uma das mais utilizadas em estatística. É uma distribuição contínua, onde a distribuição de frequências de uma variável quantitativa apresenta a forma de sino e é simétrica em relação a sua média."
   ]
  },
  {
   "cell_type": "markdown",
   "metadata": {
    "colab_type": "text",
    "id": "kbPy2ORqqKJA"
   },
   "source": [
    "![Normal](https://caelum-online-public.s3.amazonaws.com/1178-estatistica-parte2/01/img001.png)"
   ]
  },
  {
   "cell_type": "markdown",
   "metadata": {
    "colab_type": "text",
    "id": "J3eKESHTG3Dx"
   },
   "source": [
    "#### Características importantes"
   ]
  },
  {
   "cell_type": "markdown",
   "metadata": {
    "colab_type": "text",
    "id": "z8GxAzWZG3Dx"
   },
   "source": [
    "1. É simétrica em torno da média;\n",
    "\n",
    "2. A área sob a curva corresponde à proporção 1 ou 100%;\n",
    "\n",
    "3. As medidas de tendência central (média, mediana e moda) apresentam o mesmo valor;\n",
    "\n",
    "4. Os extremos da curva tendem ao infinito em ambas as direções e, teoricamente, jamais tocam o eixo $x$;\n",
    "\n",
    "5. O desvio padrão define o achatamento e largura da distribuição. Curvas mais largas e mais achatadas apresentam valores maiores de desvio padrão;\n",
    "\n",
    "6. A distribuição é definida por sua média e desvio padrão;\n",
    "\n",
    "7. A probabilidade sempre será igual à área sob a curva, delimitada pelos limites inferior e superior."
   ]
  },
  {
   "cell_type": "markdown",
   "metadata": {
    "colab_type": "text",
    "id": "hoWLlOiwG3Dy"
   },
   "source": [
    "$$f(x) = \\frac{1}{\\sqrt{2\\pi\\sigma}}e^{-\\frac{1}{2}\\left(\\frac{x-\\mu}{\\sigma}\\right)^2}$$\n",
    "\n",
    "Onde:\n",
    "\n",
    "$x$ = variável normal\n",
    "\n",
    "$\\sigma$ = desvio padrão\n",
    "\n",
    "$\\mu$ = média"
   ]
  },
  {
   "cell_type": "markdown",
   "metadata": {
    "colab_type": "text",
    "id": "8n03Z0VlG3Dz"
   },
   "source": [
    "A probabilidade é obtida a partir da área sob a curva, delimitada pelos limites inferior e superior especificados. Um exemplo pode ser visto na figura abaixo."
   ]
  },
  {
   "cell_type": "markdown",
   "metadata": {
    "colab_type": "text",
    "id": "X1UgmFoxG3Dz"
   },
   "source": [
    "![alt text](https://caelum-online-public.s3.amazonaws.com/1178-estatistica-parte2/01/img002.png)\n"
   ]
  },
  {
   "cell_type": "markdown",
   "metadata": {
    "colab_type": "text",
    "id": "rtKiApHLG3D0"
   },
   "source": [
    "Para obter a área acima basta calcular a integral da função para os intervalos determinados. Conforme equação abaixo:"
   ]
  },
  {
   "cell_type": "markdown",
   "metadata": {
    "colab_type": "text",
    "id": "0r_9CbSOG3D0"
   },
   "source": [
    "$$P(L_i<x<L_s) = \\int_{L_i}^{L_s}\\frac{1}{\\sqrt{2\\pi\\sigma}}e^{-\\frac{1}{2}\\left(\\frac{x-\\mu}{\\sigma}\\right)^2}$$\n",
    "\n",
    "Onde:\n",
    "\n",
    "$x$ = variável normal\n",
    "\n",
    "$\\sigma$ = desvio padrão\n",
    "\n",
    "$\\mu$ = média\n",
    "\n",
    "$L_i$ = limite inferior\n",
    "\n",
    "$L_s$ = limite superior"
   ]
  },
  {
   "cell_type": "markdown",
   "metadata": {
    "colab_type": "text",
    "id": "qP-Ye-leG3D1"
   },
   "source": [
    "#### Tabelas padronizadas"
   ]
  },
  {
   "cell_type": "markdown",
   "metadata": {
    "colab_type": "text",
    "id": "Z1VnLK11G3D1"
   },
   "source": [
    "As tabelas padronizadas foram criadas para facilitar a obtenção dos valores das áreas sob a curva normal e eliminar a necessidade de solucionar integrais definidas.\n",
    "\n",
    "Para consultarmos os valores em uma tabela padronizada basta transformarmos nossa variável em uma variável padronizada $Z$.\n",
    "\n",
    "Esta variável $Z$ representa o afastamento em desvios padrões de um valor da variável original em relação à média."
   ]
  },
  {
   "cell_type": "markdown",
   "metadata": {
    "colab_type": "text",
    "id": "HJcdgdsgG3D2"
   },
   "source": [
    "$$Z = \\frac{x-\\mu}{\\sigma}$$\n",
    "\n",
    "Onde:\n",
    "\n",
    "$x$ = variável normal com média $\\mu$ e desvio padrão $\\sigma$\n",
    "\n",
    "$\\sigma$ = desvio padrão\n",
    "\n",
    "$\\mu$ = média"
   ]
  },
  {
   "cell_type": "markdown",
   "metadata": {},
   "source": [
    "#### <font color=red>Documentações:\n",
    "\n",
    "- [**Normal**](https://www.rdocumentation.org/packages/stats/versions/3.6.1/topics/Normal)"
   ]
  },
  {
   "cell_type": "markdown",
   "metadata": {
    "colab_type": "text",
    "id": "hUrVKJH3G3D2"
   },
   "source": [
    "#### Construindo tabela normal padronizada"
   ]
  },
  {
   "cell_type": "code",
   "execution_count": 40,
   "metadata": {},
   "outputs": [
    {
     "data": {
      "text/html": [
       "<table class=\"dataframe\">\n",
       "<caption>A matrix: 40 × 10 of type dbl</caption>\n",
       "<thead>\n",
       "\t<tr><th></th><th scope=col>0.00</th><th scope=col>0.01</th><th scope=col>0.02</th><th scope=col>0.03</th><th scope=col>0.04</th><th scope=col>0.05</th><th scope=col>0.06</th><th scope=col>0.07</th><th scope=col>0.08</th><th scope=col>0.09</th></tr>\n",
       "</thead>\n",
       "<tbody>\n",
       "\t<tr><th scope=row>0.00</th><td>0.5000000</td><td>0.5039894</td><td>0.5079783</td><td>0.5119665</td><td>0.5159534</td><td>0.5199388</td><td>0.5239222</td><td>0.5279032</td><td>0.5318814</td><td>0.5358564</td></tr>\n",
       "\t<tr><th scope=row>0.10</th><td>0.5398278</td><td>0.5437953</td><td>0.5477584</td><td>0.5517168</td><td>0.5556700</td><td>0.5596177</td><td>0.5635595</td><td>0.5674949</td><td>0.5714237</td><td>0.5753454</td></tr>\n",
       "\t<tr><th scope=row>0.20</th><td>0.5792597</td><td>0.5831662</td><td>0.5870644</td><td>0.5909541</td><td>0.5948349</td><td>0.5987063</td><td>0.6025681</td><td>0.6064199</td><td>0.6102612</td><td>0.6140919</td></tr>\n",
       "\t<tr><th scope=row>0.30</th><td>0.6179114</td><td>0.6217195</td><td>0.6255158</td><td>0.6293000</td><td>0.6330717</td><td>0.6368307</td><td>0.6405764</td><td>0.6443088</td><td>0.6480273</td><td>0.6517317</td></tr>\n",
       "\t<tr><th scope=row>0.40</th><td>0.6554217</td><td>0.6590970</td><td>0.6627573</td><td>0.6664022</td><td>0.6700314</td><td>0.6736448</td><td>0.6772419</td><td>0.6808225</td><td>0.6843863</td><td>0.6879331</td></tr>\n",
       "\t<tr><th scope=row>0.50</th><td>0.6914625</td><td>0.6949743</td><td>0.6984682</td><td>0.7019440</td><td>0.7054015</td><td>0.7088403</td><td>0.7122603</td><td>0.7156612</td><td>0.7190427</td><td>0.7224047</td></tr>\n",
       "\t<tr><th scope=row>0.60</th><td>0.7257469</td><td>0.7290691</td><td>0.7323711</td><td>0.7356527</td><td>0.7389137</td><td>0.7421539</td><td>0.7453731</td><td>0.7485711</td><td>0.7517478</td><td>0.7549029</td></tr>\n",
       "\t<tr><th scope=row>0.70</th><td>0.7580363</td><td>0.7611479</td><td>0.7642375</td><td>0.7673049</td><td>0.7703500</td><td>0.7733726</td><td>0.7763727</td><td>0.7793501</td><td>0.7823046</td><td>0.7852361</td></tr>\n",
       "\t<tr><th scope=row>0.80</th><td>0.7881446</td><td>0.7910299</td><td>0.7938919</td><td>0.7967306</td><td>0.7995458</td><td>0.8023375</td><td>0.8051055</td><td>0.8078498</td><td>0.8105703</td><td>0.8132671</td></tr>\n",
       "\t<tr><th scope=row>0.90</th><td>0.8159399</td><td>0.8185887</td><td>0.8212136</td><td>0.8238145</td><td>0.8263912</td><td>0.8289439</td><td>0.8314724</td><td>0.8339768</td><td>0.8364569</td><td>0.8389129</td></tr>\n",
       "\t<tr><th scope=row>1.00</th><td>0.8413447</td><td>0.8437524</td><td>0.8461358</td><td>0.8484950</td><td>0.8508300</td><td>0.8531409</td><td>0.8554277</td><td>0.8576903</td><td>0.8599289</td><td>0.8621434</td></tr>\n",
       "\t<tr><th scope=row>1.10</th><td>0.8643339</td><td>0.8665005</td><td>0.8686431</td><td>0.8707619</td><td>0.8728568</td><td>0.8749281</td><td>0.8769756</td><td>0.8789995</td><td>0.8809999</td><td>0.8829768</td></tr>\n",
       "\t<tr><th scope=row>1.20</th><td>0.8849303</td><td>0.8868606</td><td>0.8887676</td><td>0.8906514</td><td>0.8925123</td><td>0.8943502</td><td>0.8961653</td><td>0.8979577</td><td>0.8997274</td><td>0.9014747</td></tr>\n",
       "\t<tr><th scope=row>1.30</th><td>0.9031995</td><td>0.9049021</td><td>0.9065825</td><td>0.9082409</td><td>0.9098773</td><td>0.9114920</td><td>0.9130850</td><td>0.9146565</td><td>0.9162067</td><td>0.9177356</td></tr>\n",
       "\t<tr><th scope=row>1.40</th><td>0.9192433</td><td>0.9207302</td><td>0.9221962</td><td>0.9236415</td><td>0.9250663</td><td>0.9264707</td><td>0.9278550</td><td>0.9292191</td><td>0.9305634</td><td>0.9318879</td></tr>\n",
       "\t<tr><th scope=row>1.50</th><td>0.9331928</td><td>0.9344783</td><td>0.9357445</td><td>0.9369916</td><td>0.9382198</td><td>0.9394292</td><td>0.9406201</td><td>0.9417924</td><td>0.9429466</td><td>0.9440826</td></tr>\n",
       "\t<tr><th scope=row>1.60</th><td>0.9452007</td><td>0.9463011</td><td>0.9473839</td><td>0.9484493</td><td>0.9494974</td><td>0.9505285</td><td>0.9515428</td><td>0.9525403</td><td>0.9535213</td><td>0.9544860</td></tr>\n",
       "\t<tr><th scope=row>1.70</th><td>0.9554345</td><td>0.9563671</td><td>0.9572838</td><td>0.9581849</td><td>0.9590705</td><td>0.9599408</td><td>0.9607961</td><td>0.9616364</td><td>0.9624620</td><td>0.9632730</td></tr>\n",
       "\t<tr><th scope=row>1.80</th><td>0.9640697</td><td>0.9648521</td><td>0.9656205</td><td>0.9663750</td><td>0.9671159</td><td>0.9678432</td><td>0.9685572</td><td>0.9692581</td><td>0.9699460</td><td>0.9706210</td></tr>\n",
       "\t<tr><th scope=row>1.90</th><td>0.9712834</td><td>0.9719334</td><td>0.9725711</td><td>0.9731966</td><td>0.9738102</td><td>0.9744119</td><td>0.9750021</td><td>0.9755808</td><td>0.9761482</td><td>0.9767045</td></tr>\n",
       "\t<tr><th scope=row>2.00</th><td>0.9772499</td><td>0.9777844</td><td>0.9783083</td><td>0.9788217</td><td>0.9793248</td><td>0.9798178</td><td>0.9803007</td><td>0.9807738</td><td>0.9812372</td><td>0.9816911</td></tr>\n",
       "\t<tr><th scope=row>2.10</th><td>0.9821356</td><td>0.9825708</td><td>0.9829970</td><td>0.9834142</td><td>0.9838226</td><td>0.9842224</td><td>0.9846137</td><td>0.9849966</td><td>0.9853713</td><td>0.9857379</td></tr>\n",
       "\t<tr><th scope=row>2.20</th><td>0.9860966</td><td>0.9864474</td><td>0.9867906</td><td>0.9871263</td><td>0.9874545</td><td>0.9877755</td><td>0.9880894</td><td>0.9883962</td><td>0.9886962</td><td>0.9889893</td></tr>\n",
       "\t<tr><th scope=row>2.30</th><td>0.9892759</td><td>0.9895559</td><td>0.9898296</td><td>0.9900969</td><td>0.9903581</td><td>0.9906133</td><td>0.9908625</td><td>0.9911060</td><td>0.9913437</td><td>0.9915758</td></tr>\n",
       "\t<tr><th scope=row>2.40</th><td>0.9918025</td><td>0.9920237</td><td>0.9922397</td><td>0.9924506</td><td>0.9926564</td><td>0.9928572</td><td>0.9930531</td><td>0.9932443</td><td>0.9934309</td><td>0.9936128</td></tr>\n",
       "\t<tr><th scope=row>2.50</th><td>0.9937903</td><td>0.9939634</td><td>0.9941323</td><td>0.9942969</td><td>0.9944574</td><td>0.9946139</td><td>0.9947664</td><td>0.9949151</td><td>0.9950600</td><td>0.9952012</td></tr>\n",
       "\t<tr><th scope=row>2.60</th><td>0.9953388</td><td>0.9954729</td><td>0.9956035</td><td>0.9957308</td><td>0.9958547</td><td>0.9959754</td><td>0.9960930</td><td>0.9962074</td><td>0.9963189</td><td>0.9964274</td></tr>\n",
       "\t<tr><th scope=row>2.70</th><td>0.9965330</td><td>0.9966358</td><td>0.9967359</td><td>0.9968333</td><td>0.9969280</td><td>0.9970202</td><td>0.9971099</td><td>0.9971972</td><td>0.9972821</td><td>0.9973646</td></tr>\n",
       "\t<tr><th scope=row>2.80</th><td>0.9974449</td><td>0.9975229</td><td>0.9975988</td><td>0.9976726</td><td>0.9977443</td><td>0.9978140</td><td>0.9978818</td><td>0.9979476</td><td>0.9980116</td><td>0.9980738</td></tr>\n",
       "\t<tr><th scope=row>2.90</th><td>0.9981342</td><td>0.9981929</td><td>0.9982498</td><td>0.9983052</td><td>0.9983589</td><td>0.9984111</td><td>0.9984618</td><td>0.9985110</td><td>0.9985588</td><td>0.9986051</td></tr>\n",
       "\t<tr><th scope=row>3.00</th><td>0.9986501</td><td>0.9986938</td><td>0.9987361</td><td>0.9987772</td><td>0.9988171</td><td>0.9988558</td><td>0.9988933</td><td>0.9989297</td><td>0.9989650</td><td>0.9989992</td></tr>\n",
       "\t<tr><th scope=row>3.10</th><td>0.9990324</td><td>0.9990646</td><td>0.9990957</td><td>0.9991260</td><td>0.9991553</td><td>0.9991836</td><td>0.9992112</td><td>0.9992378</td><td>0.9992636</td><td>0.9992886</td></tr>\n",
       "\t<tr><th scope=row>3.20</th><td>0.9993129</td><td>0.9993363</td><td>0.9993590</td><td>0.9993810</td><td>0.9994024</td><td>0.9994230</td><td>0.9994429</td><td>0.9994623</td><td>0.9994810</td><td>0.9994991</td></tr>\n",
       "\t<tr><th scope=row>3.30</th><td>0.9995166</td><td>0.9995335</td><td>0.9995499</td><td>0.9995658</td><td>0.9995811</td><td>0.9995959</td><td>0.9996103</td><td>0.9996242</td><td>0.9996376</td><td>0.9996505</td></tr>\n",
       "\t<tr><th scope=row>3.40</th><td>0.9996631</td><td>0.9996752</td><td>0.9996869</td><td>0.9996982</td><td>0.9997091</td><td>0.9997197</td><td>0.9997299</td><td>0.9997398</td><td>0.9997493</td><td>0.9997585</td></tr>\n",
       "\t<tr><th scope=row>3.50</th><td>0.9997674</td><td>0.9997759</td><td>0.9997842</td><td>0.9997922</td><td>0.9997999</td><td>0.9998074</td><td>0.9998146</td><td>0.9998215</td><td>0.9998282</td><td>0.9998347</td></tr>\n",
       "\t<tr><th scope=row>3.60</th><td>0.9998409</td><td>0.9998469</td><td>0.9998527</td><td>0.9998583</td><td>0.9998637</td><td>0.9998689</td><td>0.9998739</td><td>0.9998787</td><td>0.9998834</td><td>0.9998879</td></tr>\n",
       "\t<tr><th scope=row>3.70</th><td>0.9998922</td><td>0.9998964</td><td>0.9999004</td><td>0.9999043</td><td>0.9999080</td><td>0.9999116</td><td>0.9999150</td><td>0.9999184</td><td>0.9999216</td><td>0.9999247</td></tr>\n",
       "\t<tr><th scope=row>3.80</th><td>0.9999277</td><td>0.9999305</td><td>0.9999333</td><td>0.9999359</td><td>0.9999385</td><td>0.9999409</td><td>0.9999433</td><td>0.9999456</td><td>0.9999478</td><td>0.9999499</td></tr>\n",
       "\t<tr><th scope=row>3.90</th><td>0.9999519</td><td>0.9999539</td><td>0.9999557</td><td>0.9999575</td><td>0.9999593</td><td>0.9999609</td><td>0.9999625</td><td>0.9999641</td><td>0.9999655</td><td>0.9999670</td></tr>\n",
       "</tbody>\n",
       "</table>\n"
      ],
      "text/latex": [
       "A matrix: 40 × 10 of type dbl\n",
       "\\begin{tabular}{r|llllllllll}\n",
       "  & 0.00 & 0.01 & 0.02 & 0.03 & 0.04 & 0.05 & 0.06 & 0.07 & 0.08 & 0.09\\\\\n",
       "\\hline\n",
       "\t0.00 & 0.5000000 & 0.5039894 & 0.5079783 & 0.5119665 & 0.5159534 & 0.5199388 & 0.5239222 & 0.5279032 & 0.5318814 & 0.5358564\\\\\n",
       "\t0.10 & 0.5398278 & 0.5437953 & 0.5477584 & 0.5517168 & 0.5556700 & 0.5596177 & 0.5635595 & 0.5674949 & 0.5714237 & 0.5753454\\\\\n",
       "\t0.20 & 0.5792597 & 0.5831662 & 0.5870644 & 0.5909541 & 0.5948349 & 0.5987063 & 0.6025681 & 0.6064199 & 0.6102612 & 0.6140919\\\\\n",
       "\t0.30 & 0.6179114 & 0.6217195 & 0.6255158 & 0.6293000 & 0.6330717 & 0.6368307 & 0.6405764 & 0.6443088 & 0.6480273 & 0.6517317\\\\\n",
       "\t0.40 & 0.6554217 & 0.6590970 & 0.6627573 & 0.6664022 & 0.6700314 & 0.6736448 & 0.6772419 & 0.6808225 & 0.6843863 & 0.6879331\\\\\n",
       "\t0.50 & 0.6914625 & 0.6949743 & 0.6984682 & 0.7019440 & 0.7054015 & 0.7088403 & 0.7122603 & 0.7156612 & 0.7190427 & 0.7224047\\\\\n",
       "\t0.60 & 0.7257469 & 0.7290691 & 0.7323711 & 0.7356527 & 0.7389137 & 0.7421539 & 0.7453731 & 0.7485711 & 0.7517478 & 0.7549029\\\\\n",
       "\t0.70 & 0.7580363 & 0.7611479 & 0.7642375 & 0.7673049 & 0.7703500 & 0.7733726 & 0.7763727 & 0.7793501 & 0.7823046 & 0.7852361\\\\\n",
       "\t0.80 & 0.7881446 & 0.7910299 & 0.7938919 & 0.7967306 & 0.7995458 & 0.8023375 & 0.8051055 & 0.8078498 & 0.8105703 & 0.8132671\\\\\n",
       "\t0.90 & 0.8159399 & 0.8185887 & 0.8212136 & 0.8238145 & 0.8263912 & 0.8289439 & 0.8314724 & 0.8339768 & 0.8364569 & 0.8389129\\\\\n",
       "\t1.00 & 0.8413447 & 0.8437524 & 0.8461358 & 0.8484950 & 0.8508300 & 0.8531409 & 0.8554277 & 0.8576903 & 0.8599289 & 0.8621434\\\\\n",
       "\t1.10 & 0.8643339 & 0.8665005 & 0.8686431 & 0.8707619 & 0.8728568 & 0.8749281 & 0.8769756 & 0.8789995 & 0.8809999 & 0.8829768\\\\\n",
       "\t1.20 & 0.8849303 & 0.8868606 & 0.8887676 & 0.8906514 & 0.8925123 & 0.8943502 & 0.8961653 & 0.8979577 & 0.8997274 & 0.9014747\\\\\n",
       "\t1.30 & 0.9031995 & 0.9049021 & 0.9065825 & 0.9082409 & 0.9098773 & 0.9114920 & 0.9130850 & 0.9146565 & 0.9162067 & 0.9177356\\\\\n",
       "\t1.40 & 0.9192433 & 0.9207302 & 0.9221962 & 0.9236415 & 0.9250663 & 0.9264707 & 0.9278550 & 0.9292191 & 0.9305634 & 0.9318879\\\\\n",
       "\t1.50 & 0.9331928 & 0.9344783 & 0.9357445 & 0.9369916 & 0.9382198 & 0.9394292 & 0.9406201 & 0.9417924 & 0.9429466 & 0.9440826\\\\\n",
       "\t1.60 & 0.9452007 & 0.9463011 & 0.9473839 & 0.9484493 & 0.9494974 & 0.9505285 & 0.9515428 & 0.9525403 & 0.9535213 & 0.9544860\\\\\n",
       "\t1.70 & 0.9554345 & 0.9563671 & 0.9572838 & 0.9581849 & 0.9590705 & 0.9599408 & 0.9607961 & 0.9616364 & 0.9624620 & 0.9632730\\\\\n",
       "\t1.80 & 0.9640697 & 0.9648521 & 0.9656205 & 0.9663750 & 0.9671159 & 0.9678432 & 0.9685572 & 0.9692581 & 0.9699460 & 0.9706210\\\\\n",
       "\t1.90 & 0.9712834 & 0.9719334 & 0.9725711 & 0.9731966 & 0.9738102 & 0.9744119 & 0.9750021 & 0.9755808 & 0.9761482 & 0.9767045\\\\\n",
       "\t2.00 & 0.9772499 & 0.9777844 & 0.9783083 & 0.9788217 & 0.9793248 & 0.9798178 & 0.9803007 & 0.9807738 & 0.9812372 & 0.9816911\\\\\n",
       "\t2.10 & 0.9821356 & 0.9825708 & 0.9829970 & 0.9834142 & 0.9838226 & 0.9842224 & 0.9846137 & 0.9849966 & 0.9853713 & 0.9857379\\\\\n",
       "\t2.20 & 0.9860966 & 0.9864474 & 0.9867906 & 0.9871263 & 0.9874545 & 0.9877755 & 0.9880894 & 0.9883962 & 0.9886962 & 0.9889893\\\\\n",
       "\t2.30 & 0.9892759 & 0.9895559 & 0.9898296 & 0.9900969 & 0.9903581 & 0.9906133 & 0.9908625 & 0.9911060 & 0.9913437 & 0.9915758\\\\\n",
       "\t2.40 & 0.9918025 & 0.9920237 & 0.9922397 & 0.9924506 & 0.9926564 & 0.9928572 & 0.9930531 & 0.9932443 & 0.9934309 & 0.9936128\\\\\n",
       "\t2.50 & 0.9937903 & 0.9939634 & 0.9941323 & 0.9942969 & 0.9944574 & 0.9946139 & 0.9947664 & 0.9949151 & 0.9950600 & 0.9952012\\\\\n",
       "\t2.60 & 0.9953388 & 0.9954729 & 0.9956035 & 0.9957308 & 0.9958547 & 0.9959754 & 0.9960930 & 0.9962074 & 0.9963189 & 0.9964274\\\\\n",
       "\t2.70 & 0.9965330 & 0.9966358 & 0.9967359 & 0.9968333 & 0.9969280 & 0.9970202 & 0.9971099 & 0.9971972 & 0.9972821 & 0.9973646\\\\\n",
       "\t2.80 & 0.9974449 & 0.9975229 & 0.9975988 & 0.9976726 & 0.9977443 & 0.9978140 & 0.9978818 & 0.9979476 & 0.9980116 & 0.9980738\\\\\n",
       "\t2.90 & 0.9981342 & 0.9981929 & 0.9982498 & 0.9983052 & 0.9983589 & 0.9984111 & 0.9984618 & 0.9985110 & 0.9985588 & 0.9986051\\\\\n",
       "\t3.00 & 0.9986501 & 0.9986938 & 0.9987361 & 0.9987772 & 0.9988171 & 0.9988558 & 0.9988933 & 0.9989297 & 0.9989650 & 0.9989992\\\\\n",
       "\t3.10 & 0.9990324 & 0.9990646 & 0.9990957 & 0.9991260 & 0.9991553 & 0.9991836 & 0.9992112 & 0.9992378 & 0.9992636 & 0.9992886\\\\\n",
       "\t3.20 & 0.9993129 & 0.9993363 & 0.9993590 & 0.9993810 & 0.9994024 & 0.9994230 & 0.9994429 & 0.9994623 & 0.9994810 & 0.9994991\\\\\n",
       "\t3.30 & 0.9995166 & 0.9995335 & 0.9995499 & 0.9995658 & 0.9995811 & 0.9995959 & 0.9996103 & 0.9996242 & 0.9996376 & 0.9996505\\\\\n",
       "\t3.40 & 0.9996631 & 0.9996752 & 0.9996869 & 0.9996982 & 0.9997091 & 0.9997197 & 0.9997299 & 0.9997398 & 0.9997493 & 0.9997585\\\\\n",
       "\t3.50 & 0.9997674 & 0.9997759 & 0.9997842 & 0.9997922 & 0.9997999 & 0.9998074 & 0.9998146 & 0.9998215 & 0.9998282 & 0.9998347\\\\\n",
       "\t3.60 & 0.9998409 & 0.9998469 & 0.9998527 & 0.9998583 & 0.9998637 & 0.9998689 & 0.9998739 & 0.9998787 & 0.9998834 & 0.9998879\\\\\n",
       "\t3.70 & 0.9998922 & 0.9998964 & 0.9999004 & 0.9999043 & 0.9999080 & 0.9999116 & 0.9999150 & 0.9999184 & 0.9999216 & 0.9999247\\\\\n",
       "\t3.80 & 0.9999277 & 0.9999305 & 0.9999333 & 0.9999359 & 0.9999385 & 0.9999409 & 0.9999433 & 0.9999456 & 0.9999478 & 0.9999499\\\\\n",
       "\t3.90 & 0.9999519 & 0.9999539 & 0.9999557 & 0.9999575 & 0.9999593 & 0.9999609 & 0.9999625 & 0.9999641 & 0.9999655 & 0.9999670\\\\\n",
       "\\end{tabular}\n"
      ],
      "text/markdown": [
       "\n",
       "A matrix: 40 × 10 of type dbl\n",
       "\n",
       "| <!--/--> | 0.00 | 0.01 | 0.02 | 0.03 | 0.04 | 0.05 | 0.06 | 0.07 | 0.08 | 0.09 |\n",
       "|---|---|---|---|---|---|---|---|---|---|---|\n",
       "| 0.00 | 0.5000000 | 0.5039894 | 0.5079783 | 0.5119665 | 0.5159534 | 0.5199388 | 0.5239222 | 0.5279032 | 0.5318814 | 0.5358564 |\n",
       "| 0.10 | 0.5398278 | 0.5437953 | 0.5477584 | 0.5517168 | 0.5556700 | 0.5596177 | 0.5635595 | 0.5674949 | 0.5714237 | 0.5753454 |\n",
       "| 0.20 | 0.5792597 | 0.5831662 | 0.5870644 | 0.5909541 | 0.5948349 | 0.5987063 | 0.6025681 | 0.6064199 | 0.6102612 | 0.6140919 |\n",
       "| 0.30 | 0.6179114 | 0.6217195 | 0.6255158 | 0.6293000 | 0.6330717 | 0.6368307 | 0.6405764 | 0.6443088 | 0.6480273 | 0.6517317 |\n",
       "| 0.40 | 0.6554217 | 0.6590970 | 0.6627573 | 0.6664022 | 0.6700314 | 0.6736448 | 0.6772419 | 0.6808225 | 0.6843863 | 0.6879331 |\n",
       "| 0.50 | 0.6914625 | 0.6949743 | 0.6984682 | 0.7019440 | 0.7054015 | 0.7088403 | 0.7122603 | 0.7156612 | 0.7190427 | 0.7224047 |\n",
       "| 0.60 | 0.7257469 | 0.7290691 | 0.7323711 | 0.7356527 | 0.7389137 | 0.7421539 | 0.7453731 | 0.7485711 | 0.7517478 | 0.7549029 |\n",
       "| 0.70 | 0.7580363 | 0.7611479 | 0.7642375 | 0.7673049 | 0.7703500 | 0.7733726 | 0.7763727 | 0.7793501 | 0.7823046 | 0.7852361 |\n",
       "| 0.80 | 0.7881446 | 0.7910299 | 0.7938919 | 0.7967306 | 0.7995458 | 0.8023375 | 0.8051055 | 0.8078498 | 0.8105703 | 0.8132671 |\n",
       "| 0.90 | 0.8159399 | 0.8185887 | 0.8212136 | 0.8238145 | 0.8263912 | 0.8289439 | 0.8314724 | 0.8339768 | 0.8364569 | 0.8389129 |\n",
       "| 1.00 | 0.8413447 | 0.8437524 | 0.8461358 | 0.8484950 | 0.8508300 | 0.8531409 | 0.8554277 | 0.8576903 | 0.8599289 | 0.8621434 |\n",
       "| 1.10 | 0.8643339 | 0.8665005 | 0.8686431 | 0.8707619 | 0.8728568 | 0.8749281 | 0.8769756 | 0.8789995 | 0.8809999 | 0.8829768 |\n",
       "| 1.20 | 0.8849303 | 0.8868606 | 0.8887676 | 0.8906514 | 0.8925123 | 0.8943502 | 0.8961653 | 0.8979577 | 0.8997274 | 0.9014747 |\n",
       "| 1.30 | 0.9031995 | 0.9049021 | 0.9065825 | 0.9082409 | 0.9098773 | 0.9114920 | 0.9130850 | 0.9146565 | 0.9162067 | 0.9177356 |\n",
       "| 1.40 | 0.9192433 | 0.9207302 | 0.9221962 | 0.9236415 | 0.9250663 | 0.9264707 | 0.9278550 | 0.9292191 | 0.9305634 | 0.9318879 |\n",
       "| 1.50 | 0.9331928 | 0.9344783 | 0.9357445 | 0.9369916 | 0.9382198 | 0.9394292 | 0.9406201 | 0.9417924 | 0.9429466 | 0.9440826 |\n",
       "| 1.60 | 0.9452007 | 0.9463011 | 0.9473839 | 0.9484493 | 0.9494974 | 0.9505285 | 0.9515428 | 0.9525403 | 0.9535213 | 0.9544860 |\n",
       "| 1.70 | 0.9554345 | 0.9563671 | 0.9572838 | 0.9581849 | 0.9590705 | 0.9599408 | 0.9607961 | 0.9616364 | 0.9624620 | 0.9632730 |\n",
       "| 1.80 | 0.9640697 | 0.9648521 | 0.9656205 | 0.9663750 | 0.9671159 | 0.9678432 | 0.9685572 | 0.9692581 | 0.9699460 | 0.9706210 |\n",
       "| 1.90 | 0.9712834 | 0.9719334 | 0.9725711 | 0.9731966 | 0.9738102 | 0.9744119 | 0.9750021 | 0.9755808 | 0.9761482 | 0.9767045 |\n",
       "| 2.00 | 0.9772499 | 0.9777844 | 0.9783083 | 0.9788217 | 0.9793248 | 0.9798178 | 0.9803007 | 0.9807738 | 0.9812372 | 0.9816911 |\n",
       "| 2.10 | 0.9821356 | 0.9825708 | 0.9829970 | 0.9834142 | 0.9838226 | 0.9842224 | 0.9846137 | 0.9849966 | 0.9853713 | 0.9857379 |\n",
       "| 2.20 | 0.9860966 | 0.9864474 | 0.9867906 | 0.9871263 | 0.9874545 | 0.9877755 | 0.9880894 | 0.9883962 | 0.9886962 | 0.9889893 |\n",
       "| 2.30 | 0.9892759 | 0.9895559 | 0.9898296 | 0.9900969 | 0.9903581 | 0.9906133 | 0.9908625 | 0.9911060 | 0.9913437 | 0.9915758 |\n",
       "| 2.40 | 0.9918025 | 0.9920237 | 0.9922397 | 0.9924506 | 0.9926564 | 0.9928572 | 0.9930531 | 0.9932443 | 0.9934309 | 0.9936128 |\n",
       "| 2.50 | 0.9937903 | 0.9939634 | 0.9941323 | 0.9942969 | 0.9944574 | 0.9946139 | 0.9947664 | 0.9949151 | 0.9950600 | 0.9952012 |\n",
       "| 2.60 | 0.9953388 | 0.9954729 | 0.9956035 | 0.9957308 | 0.9958547 | 0.9959754 | 0.9960930 | 0.9962074 | 0.9963189 | 0.9964274 |\n",
       "| 2.70 | 0.9965330 | 0.9966358 | 0.9967359 | 0.9968333 | 0.9969280 | 0.9970202 | 0.9971099 | 0.9971972 | 0.9972821 | 0.9973646 |\n",
       "| 2.80 | 0.9974449 | 0.9975229 | 0.9975988 | 0.9976726 | 0.9977443 | 0.9978140 | 0.9978818 | 0.9979476 | 0.9980116 | 0.9980738 |\n",
       "| 2.90 | 0.9981342 | 0.9981929 | 0.9982498 | 0.9983052 | 0.9983589 | 0.9984111 | 0.9984618 | 0.9985110 | 0.9985588 | 0.9986051 |\n",
       "| 3.00 | 0.9986501 | 0.9986938 | 0.9987361 | 0.9987772 | 0.9988171 | 0.9988558 | 0.9988933 | 0.9989297 | 0.9989650 | 0.9989992 |\n",
       "| 3.10 | 0.9990324 | 0.9990646 | 0.9990957 | 0.9991260 | 0.9991553 | 0.9991836 | 0.9992112 | 0.9992378 | 0.9992636 | 0.9992886 |\n",
       "| 3.20 | 0.9993129 | 0.9993363 | 0.9993590 | 0.9993810 | 0.9994024 | 0.9994230 | 0.9994429 | 0.9994623 | 0.9994810 | 0.9994991 |\n",
       "| 3.30 | 0.9995166 | 0.9995335 | 0.9995499 | 0.9995658 | 0.9995811 | 0.9995959 | 0.9996103 | 0.9996242 | 0.9996376 | 0.9996505 |\n",
       "| 3.40 | 0.9996631 | 0.9996752 | 0.9996869 | 0.9996982 | 0.9997091 | 0.9997197 | 0.9997299 | 0.9997398 | 0.9997493 | 0.9997585 |\n",
       "| 3.50 | 0.9997674 | 0.9997759 | 0.9997842 | 0.9997922 | 0.9997999 | 0.9998074 | 0.9998146 | 0.9998215 | 0.9998282 | 0.9998347 |\n",
       "| 3.60 | 0.9998409 | 0.9998469 | 0.9998527 | 0.9998583 | 0.9998637 | 0.9998689 | 0.9998739 | 0.9998787 | 0.9998834 | 0.9998879 |\n",
       "| 3.70 | 0.9998922 | 0.9998964 | 0.9999004 | 0.9999043 | 0.9999080 | 0.9999116 | 0.9999150 | 0.9999184 | 0.9999216 | 0.9999247 |\n",
       "| 3.80 | 0.9999277 | 0.9999305 | 0.9999333 | 0.9999359 | 0.9999385 | 0.9999409 | 0.9999433 | 0.9999456 | 0.9999478 | 0.9999499 |\n",
       "| 3.90 | 0.9999519 | 0.9999539 | 0.9999557 | 0.9999575 | 0.9999593 | 0.9999609 | 0.9999625 | 0.9999641 | 0.9999655 | 0.9999670 |\n",
       "\n"
      ],
      "text/plain": [
       "     0.00      0.01      0.02      0.03      0.04      0.05      0.06     \n",
       "0.00 0.5000000 0.5039894 0.5079783 0.5119665 0.5159534 0.5199388 0.5239222\n",
       "0.10 0.5398278 0.5437953 0.5477584 0.5517168 0.5556700 0.5596177 0.5635595\n",
       "0.20 0.5792597 0.5831662 0.5870644 0.5909541 0.5948349 0.5987063 0.6025681\n",
       "0.30 0.6179114 0.6217195 0.6255158 0.6293000 0.6330717 0.6368307 0.6405764\n",
       "0.40 0.6554217 0.6590970 0.6627573 0.6664022 0.6700314 0.6736448 0.6772419\n",
       "0.50 0.6914625 0.6949743 0.6984682 0.7019440 0.7054015 0.7088403 0.7122603\n",
       "0.60 0.7257469 0.7290691 0.7323711 0.7356527 0.7389137 0.7421539 0.7453731\n",
       "0.70 0.7580363 0.7611479 0.7642375 0.7673049 0.7703500 0.7733726 0.7763727\n",
       "0.80 0.7881446 0.7910299 0.7938919 0.7967306 0.7995458 0.8023375 0.8051055\n",
       "0.90 0.8159399 0.8185887 0.8212136 0.8238145 0.8263912 0.8289439 0.8314724\n",
       "1.00 0.8413447 0.8437524 0.8461358 0.8484950 0.8508300 0.8531409 0.8554277\n",
       "1.10 0.8643339 0.8665005 0.8686431 0.8707619 0.8728568 0.8749281 0.8769756\n",
       "1.20 0.8849303 0.8868606 0.8887676 0.8906514 0.8925123 0.8943502 0.8961653\n",
       "1.30 0.9031995 0.9049021 0.9065825 0.9082409 0.9098773 0.9114920 0.9130850\n",
       "1.40 0.9192433 0.9207302 0.9221962 0.9236415 0.9250663 0.9264707 0.9278550\n",
       "1.50 0.9331928 0.9344783 0.9357445 0.9369916 0.9382198 0.9394292 0.9406201\n",
       "1.60 0.9452007 0.9463011 0.9473839 0.9484493 0.9494974 0.9505285 0.9515428\n",
       "1.70 0.9554345 0.9563671 0.9572838 0.9581849 0.9590705 0.9599408 0.9607961\n",
       "1.80 0.9640697 0.9648521 0.9656205 0.9663750 0.9671159 0.9678432 0.9685572\n",
       "1.90 0.9712834 0.9719334 0.9725711 0.9731966 0.9738102 0.9744119 0.9750021\n",
       "2.00 0.9772499 0.9777844 0.9783083 0.9788217 0.9793248 0.9798178 0.9803007\n",
       "2.10 0.9821356 0.9825708 0.9829970 0.9834142 0.9838226 0.9842224 0.9846137\n",
       "2.20 0.9860966 0.9864474 0.9867906 0.9871263 0.9874545 0.9877755 0.9880894\n",
       "2.30 0.9892759 0.9895559 0.9898296 0.9900969 0.9903581 0.9906133 0.9908625\n",
       "2.40 0.9918025 0.9920237 0.9922397 0.9924506 0.9926564 0.9928572 0.9930531\n",
       "2.50 0.9937903 0.9939634 0.9941323 0.9942969 0.9944574 0.9946139 0.9947664\n",
       "2.60 0.9953388 0.9954729 0.9956035 0.9957308 0.9958547 0.9959754 0.9960930\n",
       "2.70 0.9965330 0.9966358 0.9967359 0.9968333 0.9969280 0.9970202 0.9971099\n",
       "2.80 0.9974449 0.9975229 0.9975988 0.9976726 0.9977443 0.9978140 0.9978818\n",
       "2.90 0.9981342 0.9981929 0.9982498 0.9983052 0.9983589 0.9984111 0.9984618\n",
       "3.00 0.9986501 0.9986938 0.9987361 0.9987772 0.9988171 0.9988558 0.9988933\n",
       "3.10 0.9990324 0.9990646 0.9990957 0.9991260 0.9991553 0.9991836 0.9992112\n",
       "3.20 0.9993129 0.9993363 0.9993590 0.9993810 0.9994024 0.9994230 0.9994429\n",
       "3.30 0.9995166 0.9995335 0.9995499 0.9995658 0.9995811 0.9995959 0.9996103\n",
       "3.40 0.9996631 0.9996752 0.9996869 0.9996982 0.9997091 0.9997197 0.9997299\n",
       "3.50 0.9997674 0.9997759 0.9997842 0.9997922 0.9997999 0.9998074 0.9998146\n",
       "3.60 0.9998409 0.9998469 0.9998527 0.9998583 0.9998637 0.9998689 0.9998739\n",
       "3.70 0.9998922 0.9998964 0.9999004 0.9999043 0.9999080 0.9999116 0.9999150\n",
       "3.80 0.9999277 0.9999305 0.9999333 0.9999359 0.9999385 0.9999409 0.9999433\n",
       "3.90 0.9999519 0.9999539 0.9999557 0.9999575 0.9999593 0.9999609 0.9999625\n",
       "     0.07      0.08      0.09     \n",
       "0.00 0.5279032 0.5318814 0.5358564\n",
       "0.10 0.5674949 0.5714237 0.5753454\n",
       "0.20 0.6064199 0.6102612 0.6140919\n",
       "0.30 0.6443088 0.6480273 0.6517317\n",
       "0.40 0.6808225 0.6843863 0.6879331\n",
       "0.50 0.7156612 0.7190427 0.7224047\n",
       "0.60 0.7485711 0.7517478 0.7549029\n",
       "0.70 0.7793501 0.7823046 0.7852361\n",
       "0.80 0.8078498 0.8105703 0.8132671\n",
       "0.90 0.8339768 0.8364569 0.8389129\n",
       "1.00 0.8576903 0.8599289 0.8621434\n",
       "1.10 0.8789995 0.8809999 0.8829768\n",
       "1.20 0.8979577 0.8997274 0.9014747\n",
       "1.30 0.9146565 0.9162067 0.9177356\n",
       "1.40 0.9292191 0.9305634 0.9318879\n",
       "1.50 0.9417924 0.9429466 0.9440826\n",
       "1.60 0.9525403 0.9535213 0.9544860\n",
       "1.70 0.9616364 0.9624620 0.9632730\n",
       "1.80 0.9692581 0.9699460 0.9706210\n",
       "1.90 0.9755808 0.9761482 0.9767045\n",
       "2.00 0.9807738 0.9812372 0.9816911\n",
       "2.10 0.9849966 0.9853713 0.9857379\n",
       "2.20 0.9883962 0.9886962 0.9889893\n",
       "2.30 0.9911060 0.9913437 0.9915758\n",
       "2.40 0.9932443 0.9934309 0.9936128\n",
       "2.50 0.9949151 0.9950600 0.9952012\n",
       "2.60 0.9962074 0.9963189 0.9964274\n",
       "2.70 0.9971972 0.9972821 0.9973646\n",
       "2.80 0.9979476 0.9980116 0.9980738\n",
       "2.90 0.9985110 0.9985588 0.9986051\n",
       "3.00 0.9989297 0.9989650 0.9989992\n",
       "3.10 0.9992378 0.9992636 0.9992886\n",
       "3.20 0.9994623 0.9994810 0.9994991\n",
       "3.30 0.9996242 0.9996376 0.9996505\n",
       "3.40 0.9997398 0.9997493 0.9997585\n",
       "3.50 0.9998215 0.9998282 0.9998347\n",
       "3.60 0.9998787 0.9998834 0.9998879\n",
       "3.70 0.9999184 0.9999216 0.9999247\n",
       "3.80 0.9999456 0.9999478 0.9999499\n",
       "3.90 0.9999641 0.9999655 0.9999670"
      ]
     },
     "metadata": {},
     "output_type": "display_data"
    }
   ],
   "source": [
    "Z <- seq(0, 3.99, by=0.01)\n",
    "probabilidade <- pnorm(Z)\n",
    "tabela_normal_padronizada <- matrix(probabilidade, ncol=10, byrow=TRUE)\n",
    "colnames(tabela_normal_padronizada) <- format(seq(0.00, 0.09, by=0.01))\n",
    "rownames(tabela_normal_padronizada) <- format(seq(0.00, 3.90, by=0.10), digits = 2, nsmall = 2)\n",
    "tabela_normal_padronizada"
   ]
  },
  {
   "cell_type": "markdown",
   "metadata": {
    "colab_type": "text",
    "id": "XHYeMaN3G3D9"
   },
   "source": [
    "<img src='https://caelum-online-public.s3.amazonaws.com/1178-estatistica-parte2/01/img003.png' width='250px'>\n",
    "\n",
    "A tabela acima fornece a área sob a curva entre $-\\infty$ e $Z$ desvios padrão acima da média. Lembrando que por se tratar de valores padronizados temos $\\mu = 0$."
   ]
  },
  {
   "cell_type": "markdown",
   "metadata": {
    "colab_type": "text",
    "id": "Bs-KyZAJG3D-"
   },
   "source": [
    "### <font color='blue'>Exemplo: Qual sua altura?</font>"
   ]
  },
  {
   "cell_type": "markdown",
   "metadata": {
    "colab_type": "text",
    "id": "8PFIjXejG3EA"
   },
   "source": [
    "Em um estudo sobre as alturas dos moradores de uma cidade verificou-se que o conjunto de dados segue uma **distribuição aproximadamente normal**, com **média 1,70** e **desvio padrão de 0,1**. Com estas informações obtenha o seguinte conjunto de probabilidades:\n",
    "\n",
    "> **A.** probabilidade de uma pessoa, selecionada ao acaso, ter menos de 1,80 metros.\n",
    ">\n",
    "> **B.** probabilidade de uma pessoa, selecionada ao acaso, ter entre 1,60 metros e 1,80 metros.    \n",
    ">\n",
    "> **C.** probabilidade de uma pessoa, selecionada ao acaso, ter mais de 1,90 metros."
   ]
  },
  {
   "cell_type": "markdown",
   "metadata": {
    "colab_type": "text",
    "id": "aHpZLwt1G3EC"
   },
   "source": [
    "### Problema A - Identificação da área sob a curva"
   ]
  },
  {
   "cell_type": "markdown",
   "metadata": {
    "colab_type": "text",
    "id": "V1eC7tydG3EF"
   },
   "source": [
    "<img style='float: left' src='https://caelum-online-public.s3.amazonaws.com/1178-estatistica-parte2/01/img004.png' width='350px'>"
   ]
  },
  {
   "cell_type": "markdown",
   "metadata": {
    "colab_type": "text",
    "id": "X61wEuRrG3EI"
   },
   "source": [
    "#### Obter a variável padronizada $Z$"
   ]
  },
  {
   "cell_type": "code",
   "execution_count": 44,
   "metadata": {
    "colab": {
     "base_uri": "https://localhost:8080/",
     "height": 34
    },
    "colab_type": "code",
    "id": "gNSNIMvZG3EK",
    "outputId": "2d4048a7-4c0a-4f51-c964-2f063cbdf092"
   },
   "outputs": [
    {
     "data": {
      "text/html": [
       "1.7"
      ],
      "text/latex": [
       "1.7"
      ],
      "text/markdown": [
       "1.7"
      ],
      "text/plain": [
       "[1] 1.7"
      ]
     },
     "metadata": {},
     "output_type": "display_data"
    }
   ],
   "source": [
    "media <- 1.7\n",
    "media"
   ]
  },
  {
   "cell_type": "code",
   "execution_count": 45,
   "metadata": {
    "colab": {
     "base_uri": "https://localhost:8080/",
     "height": 34
    },
    "colab_type": "code",
    "id": "E_f2lycRG3ES",
    "outputId": "7bb0daf7-7f86-4bdd-f195-429e7b68d239"
   },
   "outputs": [
    {
     "data": {
      "text/html": [
       "0.1"
      ],
      "text/latex": [
       "0.1"
      ],
      "text/markdown": [
       "0.1"
      ],
      "text/plain": [
       "[1] 0.1"
      ]
     },
     "metadata": {},
     "output_type": "display_data"
    }
   ],
   "source": [
    "desvio_padrao <- .1\n",
    "desvio_padrao"
   ]
  },
  {
   "cell_type": "code",
   "execution_count": 46,
   "metadata": {
    "colab": {
     "base_uri": "https://localhost:8080/",
     "height": 34
    },
    "colab_type": "code",
    "id": "xnsCkUb6G3EX",
    "outputId": "b3f57dbb-4c23-4b9f-e89d-d8c35383a2d2"
   },
   "outputs": [
    {
     "data": {
      "text/html": [
       "1"
      ],
      "text/latex": [
       "1"
      ],
      "text/markdown": [
       "1"
      ],
      "text/plain": [
       "[1] 1"
      ]
     },
     "metadata": {},
     "output_type": "display_data"
    }
   ],
   "source": [
    "Z <- (1.8 - media) / desvio_padrao\n",
    "Z"
   ]
  },
  {
   "cell_type": "markdown",
   "metadata": {
    "colab_type": "text",
    "id": "oj9sgHbkG3Eb"
   },
   "source": [
    "#### Solução 1 - Utilizando tabela"
   ]
  },
  {
   "cell_type": "code",
   "execution_count": 47,
   "metadata": {
    "colab": {
     "base_uri": "https://localhost:8080/",
     "height": 34
    },
    "colab_type": "code",
    "id": "ReDTH3WgG3Ec",
    "outputId": "ec542c14-9cd4-405d-a899-dfa92493aa84"
   },
   "outputs": [
    {
     "data": {
      "text/html": [
       "0.8413447"
      ],
      "text/latex": [
       "0.8413447"
      ],
      "text/markdown": [
       "0.8413447"
      ],
      "text/plain": [
       "[1] 0.8413447"
      ]
     },
     "metadata": {},
     "output_type": "display_data"
    }
   ],
   "source": [
    "probabilidade <- 0.8413447\n",
    "probabilidade"
   ]
  },
  {
   "cell_type": "markdown",
   "metadata": {
    "colab_type": "text",
    "id": "4ud0OnQOG3Eh"
   },
   "source": [
    "#### Solução 2 - Utilizando função"
   ]
  },
  {
   "cell_type": "code",
   "execution_count": 48,
   "metadata": {
    "colab": {
     "base_uri": "https://localhost:8080/",
     "height": 34
    },
    "colab_type": "code",
    "id": "sx7riZVlG3Ei",
    "outputId": "c321c9f8-a1a8-44f8-977b-492d2ec65152"
   },
   "outputs": [
    {
     "data": {
      "text/html": [
       "0.841344746068543"
      ],
      "text/latex": [
       "0.841344746068543"
      ],
      "text/markdown": [
       "0.841344746068543"
      ],
      "text/plain": [
       "[1] 0.8413447"
      ]
     },
     "metadata": {},
     "output_type": "display_data"
    }
   ],
   "source": [
    "pnorm(Z)"
   ]
  },
  {
   "cell_type": "markdown",
   "metadata": {
    "colab_type": "text",
    "id": "ZsnMjGzJG3Ep"
   },
   "source": [
    "### Problema B - Identificação da área sob a curva"
   ]
  },
  {
   "cell_type": "markdown",
   "metadata": {
    "colab_type": "text",
    "id": "LN2HY-UCG3Ep"
   },
   "source": [
    "<img style='float: left' src='https://caelum-online-public.s3.amazonaws.com/1178-estatistica-parte2/01/img005.png' width='350px'>"
   ]
  },
  {
   "cell_type": "markdown",
   "metadata": {
    "colab_type": "text",
    "id": "FS6WNg88G3Eq"
   },
   "source": [
    "#### Obter a variável padronizada $Z$"
   ]
  },
  {
   "cell_type": "code",
   "execution_count": 49,
   "metadata": {
    "colab": {
     "base_uri": "https://localhost:8080/",
     "height": 34
    },
    "colab_type": "code",
    "id": "mxPsPIOYG3Er",
    "outputId": "d86de31f-1ca0-443c-8ed6-81edfe5d36f4"
   },
   "outputs": [
    {
     "data": {
      "text/html": [
       "-1"
      ],
      "text/latex": [
       "-1"
      ],
      "text/markdown": [
       "-1"
      ],
      "text/plain": [
       "[1] -1"
      ]
     },
     "metadata": {},
     "output_type": "display_data"
    }
   ],
   "source": [
    "Z_inferior <- (1.6 - media)/desvio_padrao\n",
    "round(Z_inferior, 2)"
   ]
  },
  {
   "cell_type": "code",
   "execution_count": 50,
   "metadata": {
    "colab": {
     "base_uri": "https://localhost:8080/",
     "height": 34
    },
    "colab_type": "code",
    "id": "s0Vf0GXHG3Et",
    "outputId": "5237e5e2-547b-4cbf-a5da-52bd4933f6a1"
   },
   "outputs": [
    {
     "data": {
      "text/html": [
       "1"
      ],
      "text/latex": [
       "1"
      ],
      "text/markdown": [
       "1"
      ],
      "text/plain": [
       "[1] 1"
      ]
     },
     "metadata": {},
     "output_type": "display_data"
    }
   ],
   "source": [
    "Z_superior <- (1.8 - media)/desvio_padrao\n",
    "round(Z_superior, 2)"
   ]
  },
  {
   "cell_type": "markdown",
   "metadata": {
    "colab_type": "text",
    "id": "MseXjmZ7G3E0"
   },
   "source": [
    "#### Solução 1 - Utilizando tabela"
   ]
  },
  {
   "cell_type": "code",
   "execution_count": 57,
   "metadata": {
    "colab": {
     "base_uri": "https://localhost:8080/",
     "height": 34
    },
    "colab_type": "code",
    "id": "swZ6SVQGG3E0",
    "outputId": "53e30c74-5ec5-4737-f928-600388bfe570"
   },
   "outputs": [
    {
     "data": {
      "text/html": [
       "0.6826894"
      ],
      "text/latex": [
       "0.6826894"
      ],
      "text/markdown": [
       "0.6826894"
      ],
      "text/plain": [
       "[1] 0.6826894"
      ]
     },
     "metadata": {},
     "output_type": "display_data"
    }
   ],
   "source": [
    "probabilidade <- 2 * (0.8413447 - 0.5)\n",
    "probabilidade"
   ]
  },
  {
   "cell_type": "code",
   "execution_count": 58,
   "metadata": {
    "colab": {
     "base_uri": "https://localhost:8080/",
     "height": 34
    },
    "colab_type": "code",
    "id": "oNfZZRBdGy2G",
    "outputId": "408ee333-2e8e-4058-fe74-a75b715eedf8"
   },
   "outputs": [
    {
     "data": {
      "text/html": [
       "0.6826894"
      ],
      "text/latex": [
       "0.6826894"
      ],
      "text/markdown": [
       "0.6826894"
      ],
      "text/plain": [
       "[1] 0.6826894"
      ]
     },
     "metadata": {},
     "output_type": "display_data"
    }
   ],
   "source": [
    "probabilidade <- (0.8413447) - (1 - 0.8413447)\n",
    "probabilidade"
   ]
  },
  {
   "cell_type": "markdown",
   "metadata": {
    "colab_type": "text",
    "id": "y5e4zAifG3E2"
   },
   "source": [
    "#### Solução 2 - Utilizando função"
   ]
  },
  {
   "cell_type": "code",
   "execution_count": 59,
   "metadata": {
    "colab": {
     "base_uri": "https://localhost:8080/",
     "height": 34
    },
    "colab_type": "code",
    "id": "hcps6lkNG3E3",
    "outputId": "c8de38f1-8411-408c-862c-7aa6e099e43f"
   },
   "outputs": [
    {
     "data": {
      "text/html": [
       "0.682689492137086"
      ],
      "text/latex": [
       "0.682689492137086"
      ],
      "text/markdown": [
       "0.682689492137086"
      ],
      "text/plain": [
       "[1] 0.6826895"
      ]
     },
     "metadata": {},
     "output_type": "display_data"
    }
   ],
   "source": [
    "probabilidade <- 2 * (pnorm(Z_superior) - 0.5)\n",
    "probabilidade"
   ]
  },
  {
   "cell_type": "code",
   "execution_count": 60,
   "metadata": {
    "colab": {
     "base_uri": "https://localhost:8080/",
     "height": 34
    },
    "colab_type": "code",
    "id": "MjEfhnQEG3E5",
    "outputId": "4a6241c6-1b04-4c5f-b62d-9e98f412f3ad"
   },
   "outputs": [
    {
     "data": {
      "text/html": [
       "0.682689492137086"
      ],
      "text/latex": [
       "0.682689492137086"
      ],
      "text/markdown": [
       "0.682689492137086"
      ],
      "text/plain": [
       "[1] 0.6826895"
      ]
     },
     "metadata": {},
     "output_type": "display_data"
    }
   ],
   "source": [
    "probabilidade <- pnorm(Z_superior) - pnorm(Z_inferior)\n",
    "probabilidade"
   ]
  },
  {
   "cell_type": "markdown",
   "metadata": {
    "colab_type": "text",
    "id": "05sqVgdaG3E-"
   },
   "source": [
    "### Problema C - Identificação da área sob a curva"
   ]
  },
  {
   "cell_type": "markdown",
   "metadata": {
    "colab_type": "text",
    "id": "EPKhGTEkG3E_"
   },
   "source": [
    "<img style='float: left' src='https://caelum-online-public.s3.amazonaws.com/1178-estatistica-parte2/01/img006.png' width='350px'>"
   ]
  },
  {
   "cell_type": "markdown",
   "metadata": {
    "colab_type": "text",
    "id": "BA6jYbsSG3E_"
   },
   "source": [
    "#### Obter a variável padronizada $Z$"
   ]
  },
  {
   "cell_type": "code",
   "execution_count": 61,
   "metadata": {
    "colab": {
     "base_uri": "https://localhost:8080/",
     "height": 34
    },
    "colab_type": "code",
    "id": "3OVj60MzG3E_",
    "outputId": "71f57b74-bc13-4493-f8ba-6f05a2a07041"
   },
   "outputs": [
    {
     "data": {
      "text/html": [
       "2"
      ],
      "text/latex": [
       "2"
      ],
      "text/markdown": [
       "2"
      ],
      "text/plain": [
       "[1] 2"
      ]
     },
     "metadata": {},
     "output_type": "display_data"
    }
   ],
   "source": [
    "Z <- (1.9 - media) / desvio_padrao\n",
    "Z"
   ]
  },
  {
   "cell_type": "markdown",
   "metadata": {
    "colab_type": "text",
    "id": "hCiiWAm_G3FC"
   },
   "source": [
    "#### Solução 1 - Utilizando tabela"
   ]
  },
  {
   "cell_type": "code",
   "execution_count": 62,
   "metadata": {},
   "outputs": [
    {
     "data": {
      "text/html": [
       "0.0227501"
      ],
      "text/latex": [
       "0.0227501"
      ],
      "text/markdown": [
       "0.0227501"
      ],
      "text/plain": [
       "[1] 0.0227501"
      ]
     },
     "metadata": {},
     "output_type": "display_data"
    }
   ],
   "source": [
    "probabilidade <- 1 - 0.9772499\n",
    "probabilidade"
   ]
  },
  {
   "cell_type": "markdown",
   "metadata": {
    "colab_type": "text",
    "id": "QCyoVXOdG3FF"
   },
   "source": [
    "#### Solução 2 - Utilizando função"
   ]
  },
  {
   "cell_type": "code",
   "execution_count": 63,
   "metadata": {
    "colab": {
     "base_uri": "https://localhost:8080/",
     "height": 34
    },
    "colab_type": "code",
    "id": "caIE-t83G3FF",
    "outputId": "224b72ff-7edd-4b66-a24e-a1f89e4685c9"
   },
   "outputs": [
    {
     "data": {
      "text/html": [
       "0.0227501319481792"
      ],
      "text/latex": [
       "0.0227501319481792"
      ],
      "text/markdown": [
       "0.0227501319481792"
      ],
      "text/plain": [
       "[1] 0.02275013"
      ]
     },
     "metadata": {},
     "output_type": "display_data"
    }
   ],
   "source": [
    "probabilidade <- 1 - pnorm(Z)\n",
    "probabilidade"
   ]
  },
  {
   "cell_type": "code",
   "execution_count": 65,
   "metadata": {
    "colab": {
     "base_uri": "https://localhost:8080/",
     "height": 34
    },
    "colab_type": "code",
    "id": "wKjqQGgMG3FI",
    "outputId": "7ef30837-195e-4f5b-9bef-68fceaff2397"
   },
   "outputs": [
    {
     "data": {
      "text/html": [
       "0.0227501319481792"
      ],
      "text/latex": [
       "0.0227501319481792"
      ],
      "text/markdown": [
       "0.0227501319481792"
      ],
      "text/plain": [
       "[1] 0.02275013"
      ]
     },
     "metadata": {},
     "output_type": "display_data"
    }
   ],
   "source": [
    "probabilidade <- pnorm(-Z)\n",
    "probabilidade"
   ]
  },
  {
   "cell_type": "markdown",
   "metadata": {
    "colab_type": "text",
    "id": "GmmzChE2t4wW",
    "jp-MarkdownHeadingCollapsed": true,
    "tags": []
   },
   "source": [
    "## <font color=green>3 AMOSTRAGEM</font>\n",
    "***"
   ]
  },
  {
   "cell_type": "markdown",
   "metadata": {
    "colab_type": "text",
    "id": "g8PbtmQZt4Wv"
   },
   "source": [
    "### <font color=green>3.1 População e Amostra</font>\n",
    "***"
   ]
  },
  {
   "cell_type": "markdown",
   "metadata": {
    "colab_type": "text",
    "id": "sedD5gB9G3FV"
   },
   "source": [
    "#### População\n",
    "Conjunto de todos os elementos de interesse em um estudo. Diversos elementos podem compor uma população, por exemplo: pessoas, idades, alturas, carros etc.\n",
    "\n",
    "Com relação ao tamanho, as populações podem ser limitadas (populações finitas) ou ilimitadas (populações infinitas)."
   ]
  },
  {
   "cell_type": "markdown",
   "metadata": {
    "colab_type": "text",
    "id": "XBFhAWNcG3FW"
   },
   "source": [
    "#### Populações finitas\n",
    "\n",
    "Permitem a contagem de seus elementos. Como exemplos temos o número de funcionário de uma empresa, a quantidade de alunos em uma escola etc."
   ]
  },
  {
   "cell_type": "markdown",
   "metadata": {
    "colab_type": "text",
    "id": "YT8V2GB1G3FW"
   },
   "source": [
    "#### Populações infinitas\n",
    "\n",
    "Não é possível contar seus elementos. Como exemplos temos a quantidade de porções que se pode extrair da água do mar para uma análise, temperatura medida em cada ponto de um território etc.\n",
    "\n",
    "<font color=red>Quando os elementos de uma população puderem ser contados, porém apresentando uma quantidade muito grande, assume-se a população como infinita.</font>."
   ]
  },
  {
   "cell_type": "markdown",
   "metadata": {},
   "source": [
    "#### Amostra"
   ]
  },
  {
   "cell_type": "markdown",
   "metadata": {
    "colab_type": "text",
    "id": "a-WtAXv1G3FX"
   },
   "source": [
    "Subconjunto representativo da população."
   ]
  },
  {
   "cell_type": "markdown",
   "metadata": {
    "colab_type": "text",
    "id": "QWnDYpPSG3FX"
   },
   "source": [
    "Os atributos numéricos de uma população como sua média, variância e desvio padrão, são conhecidos como **parâmetros**. O principal foco da inferência estatística é justamente gerar estimativas e testar hipóteses sobre os parâmetros populacionais utilizando as informações de amostras."
   ]
  },
  {
   "cell_type": "markdown",
   "metadata": {
    "colab_type": "text",
    "id": "dDz6vFbDG3FZ"
   },
   "source": [
    "### <font color=green>3.2 Quando utilizar uma amostra?</font>\n",
    "***"
   ]
  },
  {
   "cell_type": "markdown",
   "metadata": {
    "colab_type": "text",
    "id": "5X1YwCGlG3Fe"
   },
   "source": [
    "#### Populações infinitas\n",
    "\n",
    "O estudo não chegaria nunca ao fim. Não é possível investigar todos os elementos da população."
   ]
  },
  {
   "cell_type": "markdown",
   "metadata": {
    "colab_type": "text",
    "id": "jHLtG8HSG3Ff"
   },
   "source": [
    "#### Testes destrutivos\n",
    "\n",
    "Estudos onde os elementos avaliados são totalmente consumidos ou destruídos. Exemplo: testes de vida útil, testes de segurança contra colisões em automóveis."
   ]
  },
  {
   "cell_type": "markdown",
   "metadata": {
    "colab_type": "text",
    "id": "lxYxepmdG3Ff"
   },
   "source": [
    "#### Resultados rápidos\n",
    "\n",
    "Pesquisas que precisam de mais agilidade na divulgação. Exemplo: pesquisas de opinião, pesquisas que envolvam problemas de saúde pública."
   ]
  },
  {
   "cell_type": "markdown",
   "metadata": {
    "colab_type": "text",
    "id": "PeUCGL5nG3Fj"
   },
   "source": [
    "#### Custos elevados\n",
    "\n",
    "Quando a população é finita mas muito numerosa, o custo de um censo pode tornar o processo inviável."
   ]
  },
  {
   "cell_type": "markdown",
   "metadata": {
    "colab_type": "text",
    "id": "1sbJeMpSG3Fj"
   },
   "source": [
    "### <font color=green>3.3 Amostragem Aleatória Simples</font>\n",
    "***"
   ]
  },
  {
   "cell_type": "markdown",
   "metadata": {
    "colab_type": "text",
    "id": "Kiq9cYMYG3Fp"
   },
   "source": [
    "É uma das principais maneiras de se extrair uma amostra de uma população. A exigência fundamental deste tipo de abordagem é que cada elemeto da população tenha as mesmas chances de ser selecionado para fazer parte da amostra."
   ]
  },
  {
   "cell_type": "markdown",
   "metadata": {},
   "source": [
    "#### <font color=red>Documentações:\n",
    "\n",
    "- [**sample**](https://www.rdocumentation.org/packages/dplyr/versions/0.7.8/topics/sample)"
   ]
  },
  {
   "cell_type": "code",
   "execution_count": 66,
   "metadata": {},
   "outputs": [
    {
     "name": "stderr",
     "output_type": "stream",
     "text": [
      "\n",
      "Attaching package: 'dplyr'\n",
      "\n",
      "\n",
      "The following objects are masked from 'package:stats':\n",
      "\n",
      "    filter, lag\n",
      "\n",
      "\n",
      "The following objects are masked from 'package:base':\n",
      "\n",
      "    intersect, setdiff, setequal, union\n",
      "\n",
      "\n"
     ]
    }
   ],
   "source": [
    "library(dplyr)"
   ]
  },
  {
   "cell_type": "code",
   "execution_count": 67,
   "metadata": {
    "colab": {
     "base_uri": "https://localhost:8080/",
     "height": 34
    },
    "colab_type": "code",
    "id": "NtQ8HOYdG3Fq",
    "outputId": "d746a965-c212-4b99-ac1f-a7741b13544f"
   },
   "outputs": [
    {
     "data": {
      "text/html": [
       "76840"
      ],
      "text/latex": [
       "76840"
      ],
      "text/markdown": [
       "76840"
      ],
      "text/plain": [
       "[1] 76840"
      ]
     },
     "metadata": {},
     "output_type": "display_data"
    }
   ],
   "source": [
    "nrow(dados)"
   ]
  },
  {
   "cell_type": "code",
   "execution_count": 68,
   "metadata": {
    "colab": {
     "base_uri": "https://localhost:8080/",
     "height": 34
    },
    "colab_type": "code",
    "id": "DsXJHWhMG3Fs",
    "outputId": "b5e5d083-2d89-4f31-e8dd-5ae48375a81c"
   },
   "outputs": [
    {
     "data": {
      "text/html": [
       "2000.38319885476"
      ],
      "text/latex": [
       "2000.38319885476"
      ],
      "text/markdown": [
       "2000.38319885476"
      ],
      "text/plain": [
       "[1] 2000.383"
      ]
     },
     "metadata": {},
     "output_type": "display_data"
    }
   ],
   "source": [
    "mean(dados$Renda)"
   ]
  },
  {
   "cell_type": "code",
   "execution_count": 77,
   "metadata": {},
   "outputs": [],
   "source": [
    "set.seed(28)\n",
    "amostra <- sample_n(dados, 1000)"
   ]
  },
  {
   "cell_type": "code",
   "execution_count": 78,
   "metadata": {},
   "outputs": [
    {
     "data": {
      "text/html": [
       "1000"
      ],
      "text/latex": [
       "1000"
      ],
      "text/markdown": [
       "1000"
      ],
      "text/plain": [
       "[1] 1000"
      ]
     },
     "metadata": {},
     "output_type": "display_data"
    }
   ],
   "source": [
    "nrow(amostra)"
   ]
  },
  {
   "cell_type": "code",
   "execution_count": 79,
   "metadata": {},
   "outputs": [
    {
     "data": {
      "text/html": [
       "2048.825"
      ],
      "text/latex": [
       "2048.825"
      ],
      "text/markdown": [
       "2048.825"
      ],
      "text/plain": [
       "[1] 2048.825"
      ]
     },
     "metadata": {},
     "output_type": "display_data"
    }
   ],
   "source": [
    "mean(amostra$Renda)"
   ]
  },
  {
   "cell_type": "code",
   "execution_count": 81,
   "metadata": {},
   "outputs": [
    {
     "data": {
      "text/plain": [
       "\n",
       "       0        1 \n",
       "69.29984 30.70016 "
      ]
     },
     "metadata": {},
     "output_type": "display_data"
    }
   ],
   "source": [
    "prop.table(table(dados$Sexo)) * 100"
   ]
  },
  {
   "cell_type": "code",
   "execution_count": 82,
   "metadata": {
    "colab": {
     "base_uri": "https://localhost:8080/",
     "height": 68
    },
    "colab_type": "code",
    "id": "WGZT_wnjSgPy",
    "outputId": "f905ff8a-84f8-45d5-d232-927630754b70"
   },
   "outputs": [
    {
     "data": {
      "text/plain": [
       "\n",
       "   0    1 \n",
       "66.4 33.6 "
      ]
     },
     "metadata": {},
     "output_type": "display_data"
    }
   ],
   "source": [
    "prop.table(table(amostra$Sexo)) * 100"
   ]
  },
  {
   "cell_type": "markdown",
   "metadata": {
    "colab_type": "text",
    "id": "stcKhnJBG3F7"
   },
   "source": [
    "### <font color=green>3.4 Amostragem Estratificada</font>\n",
    "***"
   ]
  },
  {
   "cell_type": "markdown",
   "metadata": {
    "colab_type": "text",
    "id": "W1uEZMRIG3GA"
   },
   "source": [
    "É uma melhoria do processo de amostragem aleatória simples. Neste método é proposta a divisão da população em subgrupos de elementos com características similares, ou seja, grupos mais homogêneos. Com estes subgrupos separados, aplica-se a técnica de amostragem aleatória simples dentro de cada subgrupo individualmente."
   ]
  },
  {
   "cell_type": "markdown",
   "metadata": {
    "colab_type": "text",
    "id": "xRjUHDAbG3GB"
   },
   "source": [
    "### <font color=green>3.5 Amostragem por Conglomerados</font>\n",
    "***"
   ]
  },
  {
   "cell_type": "markdown",
   "metadata": {
    "colab_type": "text",
    "id": "sW9IuaL9G3GH"
   },
   "source": [
    "Também visa melhorar o critério de amostragem aleatória simples. Na amostragem por conglomerados são também criados subgrupos, porém não serão homogêneas como na amostragem estratificada. Na amostragem por conglomerados os subgrupos serão heterogêneos, onde, em seguida, serão aplicadas a amostragem aleatória simples ou estratificada.\n",
    "\n",
    "Um exemplo bastante comum de aplicação deste tipo de técnica é na divisão da população em grupos territoriais, onde os elementos investigados terão características bastante variadas."
   ]
  },
  {
   "cell_type": "markdown",
   "metadata": {
    "colab_type": "text",
    "id": "2LNJT4FEuzO4",
    "jp-MarkdownHeadingCollapsed": true,
    "tags": []
   },
   "source": [
    "## <font color=green>4 ESTIMAÇÃO</font>\n",
    "***"
   ]
  },
  {
   "cell_type": "markdown",
   "metadata": {
    "colab_type": "text",
    "id": "z69W2sVGmybS"
   },
   "source": [
    "### <font color='red'>Problema </font>"
   ]
  },
  {
   "cell_type": "markdown",
   "metadata": {
    "colab_type": "text",
    "id": "ytP6VpismwDY"
   },
   "source": [
    "Suponha que os pesos dos sacos de arroz de uma indústria alimentícia se distribuem aproximadamente como uma normal de **desvio padrão populacional igual a 150 g**. Selecionada uma **amostra aleatório de 20 sacos** de um lote específico, obteve-se um **peso médio de 5.050 g**. Construa um **intervalo de confiança para a média populacional** assumindo um **nível de significância de 5%**."
   ]
  },
  {
   "cell_type": "markdown",
   "metadata": {
    "colab_type": "text",
    "id": "PCqEvJMOwvUf"
   },
   "source": [
    "---"
   ]
  },
  {
   "cell_type": "markdown",
   "metadata": {
    "colab_type": "text",
    "id": "HU578SXBG3GN"
   },
   "source": [
    "É a forma de se fazer suposições generalizadas sobre os parâmetros de uma população tendo como base as informações de uma amostra.\n",
    "\n",
    "- **Parâmetros** são os atributos numéricos de uma população, tal como a média, desvio padrão etc.\n",
    "\n",
    "- **Estimativa** é o valor obtido para determinado parâmetro a partir dos dados de uma amostra da população."
   ]
  },
  {
   "cell_type": "markdown",
   "metadata": {
    "colab_type": "text",
    "id": "klWVkoUDG3GR"
   },
   "source": [
    "### <font color=green>4.1 Teorema do limite central</font>\n",
    "***"
   ]
  },
  {
   "cell_type": "markdown",
   "metadata": {
    "colab_type": "text",
    "id": "QpgTvbISG3GU"
   },
   "source": [
    "> O **Teorema do Limite Central** afirma que, com o aumento do tamanho da amostra, a distribuição das médias amostrais se aproxima de uma distribuição normal com média igual à média da população e desvio padrão igual ao desvio padrão da variável original dividido pela raiz quadrada do tamanho da amostra. Este fato é assegurado para $n$ maior ou igual a 30."
   ]
  },
  {
   "cell_type": "markdown",
   "metadata": {
    "colab_type": "text",
    "id": "ZIAr6is3wEMp"
   },
   "source": [
    "$$\\sigma_\\bar{x} = \\frac{\\sigma}{\\sqrt{n}}$$\n",
    "\n",
    "O desvio padrão das médias amostrais é conhecido como **erro padrão da média**\n",
    "\n",
    "#### <font color=red>Documentações:\n",
    "\n",
    "- [**colMeans**](https://www.rdocumentation.org/packages/base/versions/3.6.1/topics/colSums)"
   ]
  },
  {
   "cell_type": "markdown",
   "metadata": {
    "colab_type": "text",
    "id": "eFtSo6H0iz7z"
   },
   "source": [
    "#### Entendendo o Teorema do Limite Central"
   ]
  },
  {
   "cell_type": "code",
   "execution_count": 83,
   "metadata": {
    "colab": {},
    "colab_type": "code",
    "id": "S3q73XpnizTi"
   },
   "outputs": [],
   "source": [
    "n <- 2000\n",
    "total_de_amostras <- 1500"
   ]
  },
  {
   "cell_type": "code",
   "execution_count": 84,
   "metadata": {
    "colab": {
     "base_uri": "https://localhost:8080/",
     "height": 1989
    },
    "colab_type": "code",
    "id": "tXa7XKhKTyMu",
    "outputId": "2fe05b86-ecc8-48af-be13-17e8c7c235ce",
    "scrolled": true
   },
   "outputs": [
    {
     "data": {
      "text/html": [
       "<table class=\"dataframe\">\n",
       "<caption>A data.frame: 2000 × 1500</caption>\n",
       "<thead>\n",
       "\t<tr><th scope=col>Amostra_1</th><th scope=col>Amostra_ 2</th><th scope=col>Amostra_ 3</th><th scope=col>Amostra_ 4</th><th scope=col>Amostra_ 5</th><th scope=col>Amostra_ 6</th><th scope=col>Amostra_ 7</th><th scope=col>Amostra_ 8</th><th scope=col>Amostra_ 9</th><th scope=col>Amostra_ 10</th><th scope=col>...</th><th scope=col>Amostra_ 1491</th><th scope=col>Amostra_ 1492</th><th scope=col>Amostra_ 1493</th><th scope=col>Amostra_ 1494</th><th scope=col>Amostra_ 1495</th><th scope=col>Amostra_ 1496</th><th scope=col>Amostra_ 1497</th><th scope=col>Amostra_ 1498</th><th scope=col>Amostra_ 1499</th><th scope=col>Amostra_ 1500</th></tr>\n",
       "\t<tr><th scope=col>&lt;int&gt;</th><th scope=col>&lt;int&gt;</th><th scope=col>&lt;int&gt;</th><th scope=col>&lt;int&gt;</th><th scope=col>&lt;int&gt;</th><th scope=col>&lt;int&gt;</th><th scope=col>&lt;int&gt;</th><th scope=col>&lt;int&gt;</th><th scope=col>&lt;int&gt;</th><th scope=col>&lt;int&gt;</th><th scope=col>...</th><th scope=col>&lt;int&gt;</th><th scope=col>&lt;int&gt;</th><th scope=col>&lt;int&gt;</th><th scope=col>&lt;int&gt;</th><th scope=col>&lt;int&gt;</th><th scope=col>&lt;int&gt;</th><th scope=col>&lt;int&gt;</th><th scope=col>&lt;int&gt;</th><th scope=col>&lt;int&gt;</th><th scope=col>&lt;int&gt;</th></tr>\n",
       "</thead>\n",
       "<tbody>\n",
       "\t<tr><td>34</td><td>51</td><td>37</td><td>32</td><td>54</td><td>48</td><td>38</td><td>36</td><td>39</td><td>58</td><td>...</td><td>54</td><td>58</td><td>21</td><td>30</td><td>48</td><td>34</td><td>31</td><td>76</td><td>51</td><td>37</td></tr>\n",
       "\t<tr><td>31</td><td>36</td><td>29</td><td>52</td><td>42</td><td>56</td><td>42</td><td>51</td><td>34</td><td>43</td><td>...</td><td>44</td><td>43</td><td>36</td><td>81</td><td>49</td><td>54</td><td>59</td><td>25</td><td>50</td><td>51</td></tr>\n",
       "\t<tr><td>47</td><td>37</td><td>45</td><td>31</td><td>49</td><td>40</td><td>26</td><td>21</td><td>60</td><td>41</td><td>...</td><td>40</td><td>26</td><td>61</td><td>24</td><td>27</td><td>31</td><td>46</td><td>41</td><td>52</td><td>42</td></tr>\n",
       "\t<tr><td>36</td><td>42</td><td>59</td><td>48</td><td>33</td><td>35</td><td>27</td><td>44</td><td>53</td><td>28</td><td>...</td><td>60</td><td>45</td><td>41</td><td>28</td><td>55</td><td>52</td><td>38</td><td>57</td><td>24</td><td>50</td></tr>\n",
       "\t<tr><td>47</td><td>41</td><td>37</td><td>55</td><td>66</td><td>43</td><td>36</td><td>52</td><td>42</td><td>51</td><td>...</td><td>31</td><td>47</td><td>27</td><td>57</td><td>43</td><td>39</td><td>42</td><td>44</td><td>61</td><td>32</td></tr>\n",
       "\t<tr><td>52</td><td>48</td><td>31</td><td>29</td><td>36</td><td>73</td><td>32</td><td>38</td><td>53</td><td>39</td><td>...</td><td>34</td><td>60</td><td>34</td><td>26</td><td>41</td><td>52</td><td>53</td><td>63</td><td>37</td><td>32</td></tr>\n",
       "\t<tr><td>35</td><td>37</td><td>29</td><td>50</td><td>32</td><td>56</td><td>57</td><td>54</td><td>38</td><td>54</td><td>...</td><td>42</td><td>41</td><td>59</td><td>39</td><td>25</td><td>33</td><td>55</td><td>38</td><td>54</td><td>62</td></tr>\n",
       "\t<tr><td>40</td><td>60</td><td>32</td><td>31</td><td>46</td><td>52</td><td>47</td><td>40</td><td>35</td><td>71</td><td>...</td><td>54</td><td>53</td><td>27</td><td>35</td><td>41</td><td>44</td><td>32</td><td>45</td><td>71</td><td>58</td></tr>\n",
       "\t<tr><td>34</td><td>34</td><td>39</td><td>52</td><td>44</td><td>37</td><td>23</td><td>39</td><td>33</td><td>43</td><td>...</td><td>52</td><td>74</td><td>36</td><td>39</td><td>38</td><td>30</td><td>30</td><td>65</td><td>47</td><td>30</td></tr>\n",
       "\t<tr><td>43</td><td>38</td><td>48</td><td>45</td><td>45</td><td>61</td><td>30</td><td>40</td><td>45</td><td>50</td><td>...</td><td>39</td><td>58</td><td>54</td><td>60</td><td>62</td><td>35</td><td>51</td><td>32</td><td>26</td><td>52</td></tr>\n",
       "\t<tr><td>47</td><td>62</td><td>32</td><td>54</td><td>61</td><td>25</td><td>54</td><td>49</td><td>55</td><td>67</td><td>...</td><td>34</td><td>66</td><td>59</td><td>34</td><td>22</td><td>25</td><td>58</td><td>34</td><td>33</td><td>31</td></tr>\n",
       "\t<tr><td>55</td><td>34</td><td>55</td><td>40</td><td>28</td><td>45</td><td>49</td><td>29</td><td>31</td><td>63</td><td>...</td><td>59</td><td>35</td><td>26</td><td>38</td><td>50</td><td>31</td><td>36</td><td>47</td><td>56</td><td>30</td></tr>\n",
       "\t<tr><td>34</td><td>43</td><td>63</td><td>30</td><td>34</td><td>67</td><td>34</td><td>41</td><td>34</td><td>62</td><td>...</td><td>60</td><td>32</td><td>47</td><td>31</td><td>41</td><td>59</td><td>34</td><td>24</td><td>54</td><td>63</td></tr>\n",
       "\t<tr><td>40</td><td>55</td><td>67</td><td>36</td><td>48</td><td>48</td><td>56</td><td>27</td><td>75</td><td>47</td><td>...</td><td>46</td><td>31</td><td>57</td><td>53</td><td>37</td><td>40</td><td>24</td><td>42</td><td>48</td><td>58</td></tr>\n",
       "\t<tr><td>41</td><td>59</td><td>30</td><td>40</td><td>56</td><td>45</td><td>50</td><td>30</td><td>43</td><td>26</td><td>...</td><td>48</td><td>50</td><td>30</td><td>34</td><td>60</td><td>60</td><td>33</td><td>39</td><td>33</td><td>33</td></tr>\n",
       "\t<tr><td>52</td><td>43</td><td>61</td><td>52</td><td>33</td><td>23</td><td>39</td><td>39</td><td>38</td><td>42</td><td>...</td><td>60</td><td>42</td><td>42</td><td>40</td><td>46</td><td>37</td><td>36</td><td>45</td><td>34</td><td>24</td></tr>\n",
       "\t<tr><td>37</td><td>44</td><td>23</td><td>37</td><td>41</td><td>51</td><td>36</td><td>40</td><td>24</td><td>28</td><td>...</td><td>47</td><td>39</td><td>50</td><td>48</td><td>22</td><td>70</td><td>26</td><td>32</td><td>38</td><td>51</td></tr>\n",
       "\t<tr><td>20</td><td>27</td><td>75</td><td>35</td><td>60</td><td>50</td><td>33</td><td>25</td><td>37</td><td>24</td><td>...</td><td>25</td><td>57</td><td>57</td><td>58</td><td>55</td><td>30</td><td>37</td><td>52</td><td>53</td><td>45</td></tr>\n",
       "\t<tr><td>25</td><td>32</td><td>40</td><td>61</td><td>58</td><td>28</td><td>51</td><td>47</td><td>22</td><td>35</td><td>...</td><td>49</td><td>59</td><td>48</td><td>37</td><td>33</td><td>46</td><td>21</td><td>34</td><td>35</td><td>38</td></tr>\n",
       "\t<tr><td>28</td><td>64</td><td>49</td><td>26</td><td>33</td><td>60</td><td>53</td><td>45</td><td>19</td><td>43</td><td>...</td><td>61</td><td>81</td><td>38</td><td>44</td><td>48</td><td>48</td><td>36</td><td>24</td><td>43</td><td>49</td></tr>\n",
       "\t<tr><td>21</td><td>39</td><td>26</td><td>30</td><td>31</td><td>31</td><td>34</td><td>59</td><td>54</td><td>44</td><td>...</td><td>18</td><td>54</td><td>64</td><td>37</td><td>59</td><td>28</td><td>45</td><td>62</td><td>68</td><td>43</td></tr>\n",
       "\t<tr><td>44</td><td>43</td><td>43</td><td>30</td><td>56</td><td>40</td><td>64</td><td>26</td><td>39</td><td>44</td><td>...</td><td>20</td><td>60</td><td>44</td><td>35</td><td>50</td><td>54</td><td>33</td><td>41</td><td>56</td><td>38</td></tr>\n",
       "\t<tr><td>50</td><td>52</td><td>44</td><td>48</td><td>45</td><td>40</td><td>22</td><td>51</td><td>26</td><td>39</td><td>...</td><td>30</td><td>46</td><td>59</td><td>34</td><td>50</td><td>65</td><td>35</td><td>59</td><td>31</td><td>48</td></tr>\n",
       "\t<tr><td>38</td><td>30</td><td>34</td><td>55</td><td>47</td><td>37</td><td>57</td><td>37</td><td>69</td><td>33</td><td>...</td><td>55</td><td>40</td><td>69</td><td>47</td><td>52</td><td>30</td><td>66</td><td>33</td><td>45</td><td>55</td></tr>\n",
       "\t<tr><td>56</td><td>46</td><td>43</td><td>47</td><td>27</td><td>39</td><td>56</td><td>45</td><td>49</td><td>34</td><td>...</td><td>18</td><td>28</td><td>75</td><td>63</td><td>50</td><td>36</td><td>51</td><td>44</td><td>41</td><td>50</td></tr>\n",
       "\t<tr><td>38</td><td>48</td><td>29</td><td>29</td><td>57</td><td>55</td><td>73</td><td>53</td><td>43</td><td>31</td><td>...</td><td>65</td><td>48</td><td>35</td><td>33</td><td>30</td><td>52</td><td>61</td><td>34</td><td>44</td><td>21</td></tr>\n",
       "\t<tr><td>47</td><td>50</td><td>42</td><td>45</td><td>44</td><td>23</td><td>47</td><td>63</td><td>44</td><td>25</td><td>...</td><td>37</td><td>32</td><td>43</td><td>25</td><td>51</td><td>42</td><td>27</td><td>35</td><td>53</td><td>43</td></tr>\n",
       "\t<tr><td>56</td><td>75</td><td>32</td><td>29</td><td>46</td><td>22</td><td>52</td><td>60</td><td>70</td><td>59</td><td>...</td><td>50</td><td>77</td><td>77</td><td>53</td><td>68</td><td>24</td><td>26</td><td>49</td><td>44</td><td>32</td></tr>\n",
       "\t<tr><td>45</td><td>45</td><td>50</td><td>47</td><td>28</td><td>25</td><td>41</td><td>75</td><td>55</td><td>38</td><td>...</td><td>39</td><td>53</td><td>40</td><td>40</td><td>54</td><td>52</td><td>44</td><td>58</td><td>30</td><td>34</td></tr>\n",
       "\t<tr><td>23</td><td>53</td><td>33</td><td>52</td><td>18</td><td>67</td><td>36</td><td>53</td><td>59</td><td>36</td><td>...</td><td>44</td><td>23</td><td>31</td><td>47</td><td>28</td><td>31</td><td>21</td><td>45</td><td>27</td><td>27</td></tr>\n",
       "\t<tr><td>...</td><td>...</td><td>...</td><td>...</td><td>...</td><td>...</td><td>...</td><td>...</td><td>...</td><td>...</td><td></td><td>...</td><td>...</td><td>...</td><td>...</td><td>...</td><td>...</td><td>...</td><td>...</td><td>...</td><td>...</td></tr>\n",
       "\t<tr><td>39</td><td>54</td><td>59</td><td>58</td><td>38</td><td>44</td><td>28</td><td>44</td><td>51</td><td>54</td><td>...</td><td>29</td><td>42</td><td>45</td><td>25</td><td>44</td><td>32</td><td>37</td><td>31</td><td>41</td><td>52</td></tr>\n",
       "\t<tr><td>35</td><td>37</td><td>59</td><td>26</td><td>20</td><td>51</td><td>29</td><td>28</td><td>60</td><td>51</td><td>...</td><td>61</td><td>42</td><td>45</td><td>62</td><td>62</td><td>57</td><td>29</td><td>31</td><td>39</td><td>45</td></tr>\n",
       "\t<tr><td>46</td><td>30</td><td>42</td><td>45</td><td>63</td><td>40</td><td>48</td><td>45</td><td>47</td><td>51</td><td>...</td><td>68</td><td>56</td><td>49</td><td>51</td><td>32</td><td>48</td><td>51</td><td>54</td><td>34</td><td>47</td></tr>\n",
       "\t<tr><td>33</td><td>39</td><td>54</td><td>36</td><td>61</td><td>36</td><td>61</td><td>42</td><td>31</td><td>48</td><td>...</td><td>40</td><td>28</td><td>25</td><td>33</td><td>53</td><td>33</td><td>33</td><td>37</td><td>68</td><td>33</td></tr>\n",
       "\t<tr><td>78</td><td>43</td><td>20</td><td>42</td><td>26</td><td>70</td><td>33</td><td>33</td><td>62</td><td>48</td><td>...</td><td>38</td><td>25</td><td>44</td><td>34</td><td>63</td><td>50</td><td>30</td><td>43</td><td>50</td><td>31</td></tr>\n",
       "\t<tr><td>35</td><td>55</td><td>49</td><td>27</td><td>38</td><td>47</td><td>33</td><td>68</td><td>45</td><td>41</td><td>...</td><td>31</td><td>21</td><td>50</td><td>52</td><td>36</td><td>72</td><td>28</td><td>54</td><td>33</td><td>20</td></tr>\n",
       "\t<tr><td>40</td><td>61</td><td>49</td><td>47</td><td>40</td><td>34</td><td>33</td><td>23</td><td>34</td><td>64</td><td>...</td><td>20</td><td>45</td><td>35</td><td>56</td><td>34</td><td>73</td><td>38</td><td>28</td><td>63</td><td>26</td></tr>\n",
       "\t<tr><td>29</td><td>28</td><td>55</td><td>56</td><td>34</td><td>37</td><td>42</td><td>45</td><td>49</td><td>61</td><td>...</td><td>26</td><td>43</td><td>57</td><td>46</td><td>51</td><td>33</td><td>31</td><td>76</td><td>57</td><td>39</td></tr>\n",
       "\t<tr><td>19</td><td>53</td><td>56</td><td>53</td><td>40</td><td>45</td><td>51</td><td>52</td><td>39</td><td>47</td><td>...</td><td>59</td><td>36</td><td>46</td><td>41</td><td>30</td><td>41</td><td>39</td><td>34</td><td>55</td><td>41</td></tr>\n",
       "\t<tr><td>58</td><td>41</td><td>36</td><td>75</td><td>46</td><td>51</td><td>51</td><td>49</td><td>62</td><td>50</td><td>...</td><td>38</td><td>39</td><td>36</td><td>65</td><td>52</td><td>41</td><td>45</td><td>24</td><td>39</td><td>41</td></tr>\n",
       "\t<tr><td>30</td><td>67</td><td>60</td><td>19</td><td>64</td><td>29</td><td>23</td><td>40</td><td>65</td><td>60</td><td>...</td><td>37</td><td>36</td><td>49</td><td>29</td><td>21</td><td>68</td><td>47</td><td>40</td><td>50</td><td>37</td></tr>\n",
       "\t<tr><td>42</td><td>47</td><td>48</td><td>42</td><td>62</td><td>49</td><td>55</td><td>39</td><td>30</td><td>38</td><td>...</td><td>45</td><td>51</td><td>27</td><td>38</td><td>39</td><td>62</td><td>52</td><td>57</td><td>29</td><td>62</td></tr>\n",
       "\t<tr><td>30</td><td>55</td><td>50</td><td>60</td><td>29</td><td>61</td><td>31</td><td>40</td><td>38</td><td>49</td><td>...</td><td>53</td><td>44</td><td>42</td><td>50</td><td>23</td><td>24</td><td>49</td><td>65</td><td>34</td><td>33</td></tr>\n",
       "\t<tr><td>32</td><td>62</td><td>35</td><td>29</td><td>41</td><td>51</td><td>49</td><td>56</td><td>45</td><td>39</td><td>...</td><td>32</td><td>49</td><td>56</td><td>28</td><td>35</td><td>50</td><td>53</td><td>46</td><td>48</td><td>54</td></tr>\n",
       "\t<tr><td>42</td><td>27</td><td>31</td><td>27</td><td>41</td><td>37</td><td>56</td><td>27</td><td>60</td><td>56</td><td>...</td><td>47</td><td>37</td><td>31</td><td>39</td><td>26</td><td>39</td><td>34</td><td>41</td><td>50</td><td>50</td></tr>\n",
       "\t<tr><td>26</td><td>68</td><td>41</td><td>38</td><td>52</td><td>40</td><td>68</td><td>38</td><td>39</td><td>54</td><td>...</td><td>43</td><td>31</td><td>53</td><td>40</td><td>40</td><td>41</td><td>59</td><td>56</td><td>81</td><td>32</td></tr>\n",
       "\t<tr><td>54</td><td>35</td><td>19</td><td>54</td><td>58</td><td>33</td><td>46</td><td>58</td><td>29</td><td>62</td><td>...</td><td>35</td><td>38</td><td>47</td><td>48</td><td>36</td><td>59</td><td>59</td><td>40</td><td>33</td><td>24</td></tr>\n",
       "\t<tr><td>46</td><td>39</td><td>31</td><td>52</td><td>28</td><td>46</td><td>37</td><td>48</td><td>41</td><td>42</td><td>...</td><td>57</td><td>31</td><td>31</td><td>51</td><td>52</td><td>20</td><td>34</td><td>30</td><td>42</td><td>27</td></tr>\n",
       "\t<tr><td>32</td><td>55</td><td>23</td><td>58</td><td>33</td><td>35</td><td>40</td><td>63</td><td>36</td><td>44</td><td>...</td><td>55</td><td>51</td><td>50</td><td>36</td><td>46</td><td>53</td><td>26</td><td>26</td><td>46</td><td>54</td></tr>\n",
       "\t<tr><td>62</td><td>50</td><td>22</td><td>43</td><td>56</td><td>34</td><td>35</td><td>57</td><td>49</td><td>33</td><td>...</td><td>60</td><td>34</td><td>39</td><td>28</td><td>41</td><td>54</td><td>75</td><td>51</td><td>43</td><td>47</td></tr>\n",
       "\t<tr><td>27</td><td>46</td><td>41</td><td>43</td><td>42</td><td>34</td><td>53</td><td>50</td><td>33</td><td>36</td><td>...</td><td>49</td><td>66</td><td>36</td><td>60</td><td>42</td><td>28</td><td>21</td><td>59</td><td>53</td><td>28</td></tr>\n",
       "\t<tr><td>59</td><td>56</td><td>46</td><td>41</td><td>52</td><td>52</td><td>57</td><td>45</td><td>40</td><td>60</td><td>...</td><td>39</td><td>59</td><td>67</td><td>52</td><td>47</td><td>39</td><td>23</td><td>40</td><td>40</td><td>54</td></tr>\n",
       "\t<tr><td>46</td><td>20</td><td>45</td><td>23</td><td>30</td><td>38</td><td>27</td><td>34</td><td>54</td><td>34</td><td>...</td><td>44</td><td>60</td><td>39</td><td>37</td><td>34</td><td>32</td><td>35</td><td>45</td><td>55</td><td>58</td></tr>\n",
       "\t<tr><td>42</td><td>56</td><td>48</td><td>64</td><td>27</td><td>41</td><td>42</td><td>57</td><td>49</td><td>50</td><td>...</td><td>53</td><td>41</td><td>51</td><td>53</td><td>33</td><td>49</td><td>36</td><td>29</td><td>67</td><td>58</td></tr>\n",
       "\t<tr><td>53</td><td>59</td><td>28</td><td>53</td><td>41</td><td>49</td><td>34</td><td>74</td><td>33</td><td>43</td><td>...</td><td>31</td><td>22</td><td>47</td><td>54</td><td>51</td><td>44</td><td>42</td><td>54</td><td>41</td><td>61</td></tr>\n",
       "\t<tr><td>44</td><td>64</td><td>46</td><td>54</td><td>43</td><td>39</td><td>43</td><td>24</td><td>43</td><td>51</td><td>...</td><td>55</td><td>52</td><td>29</td><td>41</td><td>33</td><td>45</td><td>42</td><td>55</td><td>44</td><td>38</td></tr>\n",
       "\t<tr><td>25</td><td>34</td><td>34</td><td>60</td><td>36</td><td>35</td><td>59</td><td>44</td><td>39</td><td>69</td><td>...</td><td>45</td><td>55</td><td>30</td><td>70</td><td>50</td><td>32</td><td>45</td><td>50</td><td>24</td><td>48</td></tr>\n",
       "\t<tr><td>32</td><td>33</td><td>39</td><td>55</td><td>39</td><td>44</td><td>64</td><td>40</td><td>37</td><td>43</td><td>...</td><td>33</td><td>59</td><td>43</td><td>48</td><td>40</td><td>39</td><td>56</td><td>51</td><td>41</td><td>47</td></tr>\n",
       "\t<tr><td>60</td><td>36</td><td>49</td><td>49</td><td>35</td><td>52</td><td>52</td><td>42</td><td>33</td><td>61</td><td>...</td><td>48</td><td>64</td><td>40</td><td>22</td><td>40</td><td>45</td><td>32</td><td>18</td><td>54</td><td>56</td></tr>\n",
       "\t<tr><td>41</td><td>31</td><td>44</td><td>59</td><td>32</td><td>42</td><td>52</td><td>65</td><td>48</td><td>50</td><td>...</td><td>35</td><td>28</td><td>27</td><td>44</td><td>74</td><td>52</td><td>27</td><td>63</td><td>48</td><td>35</td></tr>\n",
       "</tbody>\n",
       "</table>\n"
      ],
      "text/latex": [
       "A data.frame: 2000 × 1500\n",
       "\\begin{tabular}{lllllllllllllllllllll}\n",
       " Amostra\\_1 & Amostra\\_ 2 & Amostra\\_ 3 & Amostra\\_ 4 & Amostra\\_ 5 & Amostra\\_ 6 & Amostra\\_ 7 & Amostra\\_ 8 & Amostra\\_ 9 & Amostra\\_ 10 & ... & Amostra\\_ 1491 & Amostra\\_ 1492 & Amostra\\_ 1493 & Amostra\\_ 1494 & Amostra\\_ 1495 & Amostra\\_ 1496 & Amostra\\_ 1497 & Amostra\\_ 1498 & Amostra\\_ 1499 & Amostra\\_ 1500\\\\\n",
       " <int> & <int> & <int> & <int> & <int> & <int> & <int> & <int> & <int> & <int> & ... & <int> & <int> & <int> & <int> & <int> & <int> & <int> & <int> & <int> & <int>\\\\\n",
       "\\hline\n",
       "\t 34 & 51 & 37 & 32 & 54 & 48 & 38 & 36 & 39 & 58 & ... & 54 & 58 & 21 & 30 & 48 & 34 & 31 & 76 & 51 & 37\\\\\n",
       "\t 31 & 36 & 29 & 52 & 42 & 56 & 42 & 51 & 34 & 43 & ... & 44 & 43 & 36 & 81 & 49 & 54 & 59 & 25 & 50 & 51\\\\\n",
       "\t 47 & 37 & 45 & 31 & 49 & 40 & 26 & 21 & 60 & 41 & ... & 40 & 26 & 61 & 24 & 27 & 31 & 46 & 41 & 52 & 42\\\\\n",
       "\t 36 & 42 & 59 & 48 & 33 & 35 & 27 & 44 & 53 & 28 & ... & 60 & 45 & 41 & 28 & 55 & 52 & 38 & 57 & 24 & 50\\\\\n",
       "\t 47 & 41 & 37 & 55 & 66 & 43 & 36 & 52 & 42 & 51 & ... & 31 & 47 & 27 & 57 & 43 & 39 & 42 & 44 & 61 & 32\\\\\n",
       "\t 52 & 48 & 31 & 29 & 36 & 73 & 32 & 38 & 53 & 39 & ... & 34 & 60 & 34 & 26 & 41 & 52 & 53 & 63 & 37 & 32\\\\\n",
       "\t 35 & 37 & 29 & 50 & 32 & 56 & 57 & 54 & 38 & 54 & ... & 42 & 41 & 59 & 39 & 25 & 33 & 55 & 38 & 54 & 62\\\\\n",
       "\t 40 & 60 & 32 & 31 & 46 & 52 & 47 & 40 & 35 & 71 & ... & 54 & 53 & 27 & 35 & 41 & 44 & 32 & 45 & 71 & 58\\\\\n",
       "\t 34 & 34 & 39 & 52 & 44 & 37 & 23 & 39 & 33 & 43 & ... & 52 & 74 & 36 & 39 & 38 & 30 & 30 & 65 & 47 & 30\\\\\n",
       "\t 43 & 38 & 48 & 45 & 45 & 61 & 30 & 40 & 45 & 50 & ... & 39 & 58 & 54 & 60 & 62 & 35 & 51 & 32 & 26 & 52\\\\\n",
       "\t 47 & 62 & 32 & 54 & 61 & 25 & 54 & 49 & 55 & 67 & ... & 34 & 66 & 59 & 34 & 22 & 25 & 58 & 34 & 33 & 31\\\\\n",
       "\t 55 & 34 & 55 & 40 & 28 & 45 & 49 & 29 & 31 & 63 & ... & 59 & 35 & 26 & 38 & 50 & 31 & 36 & 47 & 56 & 30\\\\\n",
       "\t 34 & 43 & 63 & 30 & 34 & 67 & 34 & 41 & 34 & 62 & ... & 60 & 32 & 47 & 31 & 41 & 59 & 34 & 24 & 54 & 63\\\\\n",
       "\t 40 & 55 & 67 & 36 & 48 & 48 & 56 & 27 & 75 & 47 & ... & 46 & 31 & 57 & 53 & 37 & 40 & 24 & 42 & 48 & 58\\\\\n",
       "\t 41 & 59 & 30 & 40 & 56 & 45 & 50 & 30 & 43 & 26 & ... & 48 & 50 & 30 & 34 & 60 & 60 & 33 & 39 & 33 & 33\\\\\n",
       "\t 52 & 43 & 61 & 52 & 33 & 23 & 39 & 39 & 38 & 42 & ... & 60 & 42 & 42 & 40 & 46 & 37 & 36 & 45 & 34 & 24\\\\\n",
       "\t 37 & 44 & 23 & 37 & 41 & 51 & 36 & 40 & 24 & 28 & ... & 47 & 39 & 50 & 48 & 22 & 70 & 26 & 32 & 38 & 51\\\\\n",
       "\t 20 & 27 & 75 & 35 & 60 & 50 & 33 & 25 & 37 & 24 & ... & 25 & 57 & 57 & 58 & 55 & 30 & 37 & 52 & 53 & 45\\\\\n",
       "\t 25 & 32 & 40 & 61 & 58 & 28 & 51 & 47 & 22 & 35 & ... & 49 & 59 & 48 & 37 & 33 & 46 & 21 & 34 & 35 & 38\\\\\n",
       "\t 28 & 64 & 49 & 26 & 33 & 60 & 53 & 45 & 19 & 43 & ... & 61 & 81 & 38 & 44 & 48 & 48 & 36 & 24 & 43 & 49\\\\\n",
       "\t 21 & 39 & 26 & 30 & 31 & 31 & 34 & 59 & 54 & 44 & ... & 18 & 54 & 64 & 37 & 59 & 28 & 45 & 62 & 68 & 43\\\\\n",
       "\t 44 & 43 & 43 & 30 & 56 & 40 & 64 & 26 & 39 & 44 & ... & 20 & 60 & 44 & 35 & 50 & 54 & 33 & 41 & 56 & 38\\\\\n",
       "\t 50 & 52 & 44 & 48 & 45 & 40 & 22 & 51 & 26 & 39 & ... & 30 & 46 & 59 & 34 & 50 & 65 & 35 & 59 & 31 & 48\\\\\n",
       "\t 38 & 30 & 34 & 55 & 47 & 37 & 57 & 37 & 69 & 33 & ... & 55 & 40 & 69 & 47 & 52 & 30 & 66 & 33 & 45 & 55\\\\\n",
       "\t 56 & 46 & 43 & 47 & 27 & 39 & 56 & 45 & 49 & 34 & ... & 18 & 28 & 75 & 63 & 50 & 36 & 51 & 44 & 41 & 50\\\\\n",
       "\t 38 & 48 & 29 & 29 & 57 & 55 & 73 & 53 & 43 & 31 & ... & 65 & 48 & 35 & 33 & 30 & 52 & 61 & 34 & 44 & 21\\\\\n",
       "\t 47 & 50 & 42 & 45 & 44 & 23 & 47 & 63 & 44 & 25 & ... & 37 & 32 & 43 & 25 & 51 & 42 & 27 & 35 & 53 & 43\\\\\n",
       "\t 56 & 75 & 32 & 29 & 46 & 22 & 52 & 60 & 70 & 59 & ... & 50 & 77 & 77 & 53 & 68 & 24 & 26 & 49 & 44 & 32\\\\\n",
       "\t 45 & 45 & 50 & 47 & 28 & 25 & 41 & 75 & 55 & 38 & ... & 39 & 53 & 40 & 40 & 54 & 52 & 44 & 58 & 30 & 34\\\\\n",
       "\t 23 & 53 & 33 & 52 & 18 & 67 & 36 & 53 & 59 & 36 & ... & 44 & 23 & 31 & 47 & 28 & 31 & 21 & 45 & 27 & 27\\\\\n",
       "\t ... & ... & ... & ... & ... & ... & ... & ... & ... & ... &  & ... & ... & ... & ... & ... & ... & ... & ... & ... & ...\\\\\n",
       "\t 39 & 54 & 59 & 58 & 38 & 44 & 28 & 44 & 51 & 54 & ... & 29 & 42 & 45 & 25 & 44 & 32 & 37 & 31 & 41 & 52\\\\\n",
       "\t 35 & 37 & 59 & 26 & 20 & 51 & 29 & 28 & 60 & 51 & ... & 61 & 42 & 45 & 62 & 62 & 57 & 29 & 31 & 39 & 45\\\\\n",
       "\t 46 & 30 & 42 & 45 & 63 & 40 & 48 & 45 & 47 & 51 & ... & 68 & 56 & 49 & 51 & 32 & 48 & 51 & 54 & 34 & 47\\\\\n",
       "\t 33 & 39 & 54 & 36 & 61 & 36 & 61 & 42 & 31 & 48 & ... & 40 & 28 & 25 & 33 & 53 & 33 & 33 & 37 & 68 & 33\\\\\n",
       "\t 78 & 43 & 20 & 42 & 26 & 70 & 33 & 33 & 62 & 48 & ... & 38 & 25 & 44 & 34 & 63 & 50 & 30 & 43 & 50 & 31\\\\\n",
       "\t 35 & 55 & 49 & 27 & 38 & 47 & 33 & 68 & 45 & 41 & ... & 31 & 21 & 50 & 52 & 36 & 72 & 28 & 54 & 33 & 20\\\\\n",
       "\t 40 & 61 & 49 & 47 & 40 & 34 & 33 & 23 & 34 & 64 & ... & 20 & 45 & 35 & 56 & 34 & 73 & 38 & 28 & 63 & 26\\\\\n",
       "\t 29 & 28 & 55 & 56 & 34 & 37 & 42 & 45 & 49 & 61 & ... & 26 & 43 & 57 & 46 & 51 & 33 & 31 & 76 & 57 & 39\\\\\n",
       "\t 19 & 53 & 56 & 53 & 40 & 45 & 51 & 52 & 39 & 47 & ... & 59 & 36 & 46 & 41 & 30 & 41 & 39 & 34 & 55 & 41\\\\\n",
       "\t 58 & 41 & 36 & 75 & 46 & 51 & 51 & 49 & 62 & 50 & ... & 38 & 39 & 36 & 65 & 52 & 41 & 45 & 24 & 39 & 41\\\\\n",
       "\t 30 & 67 & 60 & 19 & 64 & 29 & 23 & 40 & 65 & 60 & ... & 37 & 36 & 49 & 29 & 21 & 68 & 47 & 40 & 50 & 37\\\\\n",
       "\t 42 & 47 & 48 & 42 & 62 & 49 & 55 & 39 & 30 & 38 & ... & 45 & 51 & 27 & 38 & 39 & 62 & 52 & 57 & 29 & 62\\\\\n",
       "\t 30 & 55 & 50 & 60 & 29 & 61 & 31 & 40 & 38 & 49 & ... & 53 & 44 & 42 & 50 & 23 & 24 & 49 & 65 & 34 & 33\\\\\n",
       "\t 32 & 62 & 35 & 29 & 41 & 51 & 49 & 56 & 45 & 39 & ... & 32 & 49 & 56 & 28 & 35 & 50 & 53 & 46 & 48 & 54\\\\\n",
       "\t 42 & 27 & 31 & 27 & 41 & 37 & 56 & 27 & 60 & 56 & ... & 47 & 37 & 31 & 39 & 26 & 39 & 34 & 41 & 50 & 50\\\\\n",
       "\t 26 & 68 & 41 & 38 & 52 & 40 & 68 & 38 & 39 & 54 & ... & 43 & 31 & 53 & 40 & 40 & 41 & 59 & 56 & 81 & 32\\\\\n",
       "\t 54 & 35 & 19 & 54 & 58 & 33 & 46 & 58 & 29 & 62 & ... & 35 & 38 & 47 & 48 & 36 & 59 & 59 & 40 & 33 & 24\\\\\n",
       "\t 46 & 39 & 31 & 52 & 28 & 46 & 37 & 48 & 41 & 42 & ... & 57 & 31 & 31 & 51 & 52 & 20 & 34 & 30 & 42 & 27\\\\\n",
       "\t 32 & 55 & 23 & 58 & 33 & 35 & 40 & 63 & 36 & 44 & ... & 55 & 51 & 50 & 36 & 46 & 53 & 26 & 26 & 46 & 54\\\\\n",
       "\t 62 & 50 & 22 & 43 & 56 & 34 & 35 & 57 & 49 & 33 & ... & 60 & 34 & 39 & 28 & 41 & 54 & 75 & 51 & 43 & 47\\\\\n",
       "\t 27 & 46 & 41 & 43 & 42 & 34 & 53 & 50 & 33 & 36 & ... & 49 & 66 & 36 & 60 & 42 & 28 & 21 & 59 & 53 & 28\\\\\n",
       "\t 59 & 56 & 46 & 41 & 52 & 52 & 57 & 45 & 40 & 60 & ... & 39 & 59 & 67 & 52 & 47 & 39 & 23 & 40 & 40 & 54\\\\\n",
       "\t 46 & 20 & 45 & 23 & 30 & 38 & 27 & 34 & 54 & 34 & ... & 44 & 60 & 39 & 37 & 34 & 32 & 35 & 45 & 55 & 58\\\\\n",
       "\t 42 & 56 & 48 & 64 & 27 & 41 & 42 & 57 & 49 & 50 & ... & 53 & 41 & 51 & 53 & 33 & 49 & 36 & 29 & 67 & 58\\\\\n",
       "\t 53 & 59 & 28 & 53 & 41 & 49 & 34 & 74 & 33 & 43 & ... & 31 & 22 & 47 & 54 & 51 & 44 & 42 & 54 & 41 & 61\\\\\n",
       "\t 44 & 64 & 46 & 54 & 43 & 39 & 43 & 24 & 43 & 51 & ... & 55 & 52 & 29 & 41 & 33 & 45 & 42 & 55 & 44 & 38\\\\\n",
       "\t 25 & 34 & 34 & 60 & 36 & 35 & 59 & 44 & 39 & 69 & ... & 45 & 55 & 30 & 70 & 50 & 32 & 45 & 50 & 24 & 48\\\\\n",
       "\t 32 & 33 & 39 & 55 & 39 & 44 & 64 & 40 & 37 & 43 & ... & 33 & 59 & 43 & 48 & 40 & 39 & 56 & 51 & 41 & 47\\\\\n",
       "\t 60 & 36 & 49 & 49 & 35 & 52 & 52 & 42 & 33 & 61 & ... & 48 & 64 & 40 & 22 & 40 & 45 & 32 & 18 & 54 & 56\\\\\n",
       "\t 41 & 31 & 44 & 59 & 32 & 42 & 52 & 65 & 48 & 50 & ... & 35 & 28 & 27 & 44 & 74 & 52 & 27 & 63 & 48 & 35\\\\\n",
       "\\end{tabular}\n"
      ],
      "text/markdown": [
       "\n",
       "A data.frame: 2000 × 1500\n",
       "\n",
       "| Amostra_1 &lt;int&gt; | Amostra_ 2 &lt;int&gt; | Amostra_ 3 &lt;int&gt; | Amostra_ 4 &lt;int&gt; | Amostra_ 5 &lt;int&gt; | Amostra_ 6 &lt;int&gt; | Amostra_ 7 &lt;int&gt; | Amostra_ 8 &lt;int&gt; | Amostra_ 9 &lt;int&gt; | Amostra_ 10 &lt;int&gt; | ... ... | Amostra_ 1491 &lt;int&gt; | Amostra_ 1492 &lt;int&gt; | Amostra_ 1493 &lt;int&gt; | Amostra_ 1494 &lt;int&gt; | Amostra_ 1495 &lt;int&gt; | Amostra_ 1496 &lt;int&gt; | Amostra_ 1497 &lt;int&gt; | Amostra_ 1498 &lt;int&gt; | Amostra_ 1499 &lt;int&gt; | Amostra_ 1500 &lt;int&gt; |\n",
       "|---|---|---|---|---|---|---|---|---|---|---|---|---|---|---|---|---|---|---|---|---|\n",
       "| 34 | 51 | 37 | 32 | 54 | 48 | 38 | 36 | 39 | 58 | ... | 54 | 58 | 21 | 30 | 48 | 34 | 31 | 76 | 51 | 37 |\n",
       "| 31 | 36 | 29 | 52 | 42 | 56 | 42 | 51 | 34 | 43 | ... | 44 | 43 | 36 | 81 | 49 | 54 | 59 | 25 | 50 | 51 |\n",
       "| 47 | 37 | 45 | 31 | 49 | 40 | 26 | 21 | 60 | 41 | ... | 40 | 26 | 61 | 24 | 27 | 31 | 46 | 41 | 52 | 42 |\n",
       "| 36 | 42 | 59 | 48 | 33 | 35 | 27 | 44 | 53 | 28 | ... | 60 | 45 | 41 | 28 | 55 | 52 | 38 | 57 | 24 | 50 |\n",
       "| 47 | 41 | 37 | 55 | 66 | 43 | 36 | 52 | 42 | 51 | ... | 31 | 47 | 27 | 57 | 43 | 39 | 42 | 44 | 61 | 32 |\n",
       "| 52 | 48 | 31 | 29 | 36 | 73 | 32 | 38 | 53 | 39 | ... | 34 | 60 | 34 | 26 | 41 | 52 | 53 | 63 | 37 | 32 |\n",
       "| 35 | 37 | 29 | 50 | 32 | 56 | 57 | 54 | 38 | 54 | ... | 42 | 41 | 59 | 39 | 25 | 33 | 55 | 38 | 54 | 62 |\n",
       "| 40 | 60 | 32 | 31 | 46 | 52 | 47 | 40 | 35 | 71 | ... | 54 | 53 | 27 | 35 | 41 | 44 | 32 | 45 | 71 | 58 |\n",
       "| 34 | 34 | 39 | 52 | 44 | 37 | 23 | 39 | 33 | 43 | ... | 52 | 74 | 36 | 39 | 38 | 30 | 30 | 65 | 47 | 30 |\n",
       "| 43 | 38 | 48 | 45 | 45 | 61 | 30 | 40 | 45 | 50 | ... | 39 | 58 | 54 | 60 | 62 | 35 | 51 | 32 | 26 | 52 |\n",
       "| 47 | 62 | 32 | 54 | 61 | 25 | 54 | 49 | 55 | 67 | ... | 34 | 66 | 59 | 34 | 22 | 25 | 58 | 34 | 33 | 31 |\n",
       "| 55 | 34 | 55 | 40 | 28 | 45 | 49 | 29 | 31 | 63 | ... | 59 | 35 | 26 | 38 | 50 | 31 | 36 | 47 | 56 | 30 |\n",
       "| 34 | 43 | 63 | 30 | 34 | 67 | 34 | 41 | 34 | 62 | ... | 60 | 32 | 47 | 31 | 41 | 59 | 34 | 24 | 54 | 63 |\n",
       "| 40 | 55 | 67 | 36 | 48 | 48 | 56 | 27 | 75 | 47 | ... | 46 | 31 | 57 | 53 | 37 | 40 | 24 | 42 | 48 | 58 |\n",
       "| 41 | 59 | 30 | 40 | 56 | 45 | 50 | 30 | 43 | 26 | ... | 48 | 50 | 30 | 34 | 60 | 60 | 33 | 39 | 33 | 33 |\n",
       "| 52 | 43 | 61 | 52 | 33 | 23 | 39 | 39 | 38 | 42 | ... | 60 | 42 | 42 | 40 | 46 | 37 | 36 | 45 | 34 | 24 |\n",
       "| 37 | 44 | 23 | 37 | 41 | 51 | 36 | 40 | 24 | 28 | ... | 47 | 39 | 50 | 48 | 22 | 70 | 26 | 32 | 38 | 51 |\n",
       "| 20 | 27 | 75 | 35 | 60 | 50 | 33 | 25 | 37 | 24 | ... | 25 | 57 | 57 | 58 | 55 | 30 | 37 | 52 | 53 | 45 |\n",
       "| 25 | 32 | 40 | 61 | 58 | 28 | 51 | 47 | 22 | 35 | ... | 49 | 59 | 48 | 37 | 33 | 46 | 21 | 34 | 35 | 38 |\n",
       "| 28 | 64 | 49 | 26 | 33 | 60 | 53 | 45 | 19 | 43 | ... | 61 | 81 | 38 | 44 | 48 | 48 | 36 | 24 | 43 | 49 |\n",
       "| 21 | 39 | 26 | 30 | 31 | 31 | 34 | 59 | 54 | 44 | ... | 18 | 54 | 64 | 37 | 59 | 28 | 45 | 62 | 68 | 43 |\n",
       "| 44 | 43 | 43 | 30 | 56 | 40 | 64 | 26 | 39 | 44 | ... | 20 | 60 | 44 | 35 | 50 | 54 | 33 | 41 | 56 | 38 |\n",
       "| 50 | 52 | 44 | 48 | 45 | 40 | 22 | 51 | 26 | 39 | ... | 30 | 46 | 59 | 34 | 50 | 65 | 35 | 59 | 31 | 48 |\n",
       "| 38 | 30 | 34 | 55 | 47 | 37 | 57 | 37 | 69 | 33 | ... | 55 | 40 | 69 | 47 | 52 | 30 | 66 | 33 | 45 | 55 |\n",
       "| 56 | 46 | 43 | 47 | 27 | 39 | 56 | 45 | 49 | 34 | ... | 18 | 28 | 75 | 63 | 50 | 36 | 51 | 44 | 41 | 50 |\n",
       "| 38 | 48 | 29 | 29 | 57 | 55 | 73 | 53 | 43 | 31 | ... | 65 | 48 | 35 | 33 | 30 | 52 | 61 | 34 | 44 | 21 |\n",
       "| 47 | 50 | 42 | 45 | 44 | 23 | 47 | 63 | 44 | 25 | ... | 37 | 32 | 43 | 25 | 51 | 42 | 27 | 35 | 53 | 43 |\n",
       "| 56 | 75 | 32 | 29 | 46 | 22 | 52 | 60 | 70 | 59 | ... | 50 | 77 | 77 | 53 | 68 | 24 | 26 | 49 | 44 | 32 |\n",
       "| 45 | 45 | 50 | 47 | 28 | 25 | 41 | 75 | 55 | 38 | ... | 39 | 53 | 40 | 40 | 54 | 52 | 44 | 58 | 30 | 34 |\n",
       "| 23 | 53 | 33 | 52 | 18 | 67 | 36 | 53 | 59 | 36 | ... | 44 | 23 | 31 | 47 | 28 | 31 | 21 | 45 | 27 | 27 |\n",
       "| ... | ... | ... | ... | ... | ... | ... | ... | ... | ... | <!----> | ... | ... | ... | ... | ... | ... | ... | ... | ... | ... |\n",
       "| 39 | 54 | 59 | 58 | 38 | 44 | 28 | 44 | 51 | 54 | ... | 29 | 42 | 45 | 25 | 44 | 32 | 37 | 31 | 41 | 52 |\n",
       "| 35 | 37 | 59 | 26 | 20 | 51 | 29 | 28 | 60 | 51 | ... | 61 | 42 | 45 | 62 | 62 | 57 | 29 | 31 | 39 | 45 |\n",
       "| 46 | 30 | 42 | 45 | 63 | 40 | 48 | 45 | 47 | 51 | ... | 68 | 56 | 49 | 51 | 32 | 48 | 51 | 54 | 34 | 47 |\n",
       "| 33 | 39 | 54 | 36 | 61 | 36 | 61 | 42 | 31 | 48 | ... | 40 | 28 | 25 | 33 | 53 | 33 | 33 | 37 | 68 | 33 |\n",
       "| 78 | 43 | 20 | 42 | 26 | 70 | 33 | 33 | 62 | 48 | ... | 38 | 25 | 44 | 34 | 63 | 50 | 30 | 43 | 50 | 31 |\n",
       "| 35 | 55 | 49 | 27 | 38 | 47 | 33 | 68 | 45 | 41 | ... | 31 | 21 | 50 | 52 | 36 | 72 | 28 | 54 | 33 | 20 |\n",
       "| 40 | 61 | 49 | 47 | 40 | 34 | 33 | 23 | 34 | 64 | ... | 20 | 45 | 35 | 56 | 34 | 73 | 38 | 28 | 63 | 26 |\n",
       "| 29 | 28 | 55 | 56 | 34 | 37 | 42 | 45 | 49 | 61 | ... | 26 | 43 | 57 | 46 | 51 | 33 | 31 | 76 | 57 | 39 |\n",
       "| 19 | 53 | 56 | 53 | 40 | 45 | 51 | 52 | 39 | 47 | ... | 59 | 36 | 46 | 41 | 30 | 41 | 39 | 34 | 55 | 41 |\n",
       "| 58 | 41 | 36 | 75 | 46 | 51 | 51 | 49 | 62 | 50 | ... | 38 | 39 | 36 | 65 | 52 | 41 | 45 | 24 | 39 | 41 |\n",
       "| 30 | 67 | 60 | 19 | 64 | 29 | 23 | 40 | 65 | 60 | ... | 37 | 36 | 49 | 29 | 21 | 68 | 47 | 40 | 50 | 37 |\n",
       "| 42 | 47 | 48 | 42 | 62 | 49 | 55 | 39 | 30 | 38 | ... | 45 | 51 | 27 | 38 | 39 | 62 | 52 | 57 | 29 | 62 |\n",
       "| 30 | 55 | 50 | 60 | 29 | 61 | 31 | 40 | 38 | 49 | ... | 53 | 44 | 42 | 50 | 23 | 24 | 49 | 65 | 34 | 33 |\n",
       "| 32 | 62 | 35 | 29 | 41 | 51 | 49 | 56 | 45 | 39 | ... | 32 | 49 | 56 | 28 | 35 | 50 | 53 | 46 | 48 | 54 |\n",
       "| 42 | 27 | 31 | 27 | 41 | 37 | 56 | 27 | 60 | 56 | ... | 47 | 37 | 31 | 39 | 26 | 39 | 34 | 41 | 50 | 50 |\n",
       "| 26 | 68 | 41 | 38 | 52 | 40 | 68 | 38 | 39 | 54 | ... | 43 | 31 | 53 | 40 | 40 | 41 | 59 | 56 | 81 | 32 |\n",
       "| 54 | 35 | 19 | 54 | 58 | 33 | 46 | 58 | 29 | 62 | ... | 35 | 38 | 47 | 48 | 36 | 59 | 59 | 40 | 33 | 24 |\n",
       "| 46 | 39 | 31 | 52 | 28 | 46 | 37 | 48 | 41 | 42 | ... | 57 | 31 | 31 | 51 | 52 | 20 | 34 | 30 | 42 | 27 |\n",
       "| 32 | 55 | 23 | 58 | 33 | 35 | 40 | 63 | 36 | 44 | ... | 55 | 51 | 50 | 36 | 46 | 53 | 26 | 26 | 46 | 54 |\n",
       "| 62 | 50 | 22 | 43 | 56 | 34 | 35 | 57 | 49 | 33 | ... | 60 | 34 | 39 | 28 | 41 | 54 | 75 | 51 | 43 | 47 |\n",
       "| 27 | 46 | 41 | 43 | 42 | 34 | 53 | 50 | 33 | 36 | ... | 49 | 66 | 36 | 60 | 42 | 28 | 21 | 59 | 53 | 28 |\n",
       "| 59 | 56 | 46 | 41 | 52 | 52 | 57 | 45 | 40 | 60 | ... | 39 | 59 | 67 | 52 | 47 | 39 | 23 | 40 | 40 | 54 |\n",
       "| 46 | 20 | 45 | 23 | 30 | 38 | 27 | 34 | 54 | 34 | ... | 44 | 60 | 39 | 37 | 34 | 32 | 35 | 45 | 55 | 58 |\n",
       "| 42 | 56 | 48 | 64 | 27 | 41 | 42 | 57 | 49 | 50 | ... | 53 | 41 | 51 | 53 | 33 | 49 | 36 | 29 | 67 | 58 |\n",
       "| 53 | 59 | 28 | 53 | 41 | 49 | 34 | 74 | 33 | 43 | ... | 31 | 22 | 47 | 54 | 51 | 44 | 42 | 54 | 41 | 61 |\n",
       "| 44 | 64 | 46 | 54 | 43 | 39 | 43 | 24 | 43 | 51 | ... | 55 | 52 | 29 | 41 | 33 | 45 | 42 | 55 | 44 | 38 |\n",
       "| 25 | 34 | 34 | 60 | 36 | 35 | 59 | 44 | 39 | 69 | ... | 45 | 55 | 30 | 70 | 50 | 32 | 45 | 50 | 24 | 48 |\n",
       "| 32 | 33 | 39 | 55 | 39 | 44 | 64 | 40 | 37 | 43 | ... | 33 | 59 | 43 | 48 | 40 | 39 | 56 | 51 | 41 | 47 |\n",
       "| 60 | 36 | 49 | 49 | 35 | 52 | 52 | 42 | 33 | 61 | ... | 48 | 64 | 40 | 22 | 40 | 45 | 32 | 18 | 54 | 56 |\n",
       "| 41 | 31 | 44 | 59 | 32 | 42 | 52 | 65 | 48 | 50 | ... | 35 | 28 | 27 | 44 | 74 | 52 | 27 | 63 | 48 | 35 |\n",
       "\n"
      ],
      "text/plain": [
       "     Amostra_1 Amostra_ 2 Amostra_ 3 Amostra_ 4 Amostra_ 5 Amostra_ 6\n",
       "1    34        51         37         32         54         48        \n",
       "2    31        36         29         52         42         56        \n",
       "3    47        37         45         31         49         40        \n",
       "4    36        42         59         48         33         35        \n",
       "5    47        41         37         55         66         43        \n",
       "6    52        48         31         29         36         73        \n",
       "7    35        37         29         50         32         56        \n",
       "8    40        60         32         31         46         52        \n",
       "9    34        34         39         52         44         37        \n",
       "10   43        38         48         45         45         61        \n",
       "11   47        62         32         54         61         25        \n",
       "12   55        34         55         40         28         45        \n",
       "13   34        43         63         30         34         67        \n",
       "14   40        55         67         36         48         48        \n",
       "15   41        59         30         40         56         45        \n",
       "16   52        43         61         52         33         23        \n",
       "17   37        44         23         37         41         51        \n",
       "18   20        27         75         35         60         50        \n",
       "19   25        32         40         61         58         28        \n",
       "20   28        64         49         26         33         60        \n",
       "21   21        39         26         30         31         31        \n",
       "22   44        43         43         30         56         40        \n",
       "23   50        52         44         48         45         40        \n",
       "24   38        30         34         55         47         37        \n",
       "25   56        46         43         47         27         39        \n",
       "26   38        48         29         29         57         55        \n",
       "27   47        50         42         45         44         23        \n",
       "28   56        75         32         29         46         22        \n",
       "29   45        45         50         47         28         25        \n",
       "30   23        53         33         52         18         67        \n",
       "...  ...       ...        ...        ...        ...        ...       \n",
       "1971 39        54         59         58         38         44        \n",
       "1972 35        37         59         26         20         51        \n",
       "1973 46        30         42         45         63         40        \n",
       "1974 33        39         54         36         61         36        \n",
       "1975 78        43         20         42         26         70        \n",
       "1976 35        55         49         27         38         47        \n",
       "1977 40        61         49         47         40         34        \n",
       "1978 29        28         55         56         34         37        \n",
       "1979 19        53         56         53         40         45        \n",
       "1980 58        41         36         75         46         51        \n",
       "1981 30        67         60         19         64         29        \n",
       "1982 42        47         48         42         62         49        \n",
       "1983 30        55         50         60         29         61        \n",
       "1984 32        62         35         29         41         51        \n",
       "1985 42        27         31         27         41         37        \n",
       "1986 26        68         41         38         52         40        \n",
       "1987 54        35         19         54         58         33        \n",
       "1988 46        39         31         52         28         46        \n",
       "1989 32        55         23         58         33         35        \n",
       "1990 62        50         22         43         56         34        \n",
       "1991 27        46         41         43         42         34        \n",
       "1992 59        56         46         41         52         52        \n",
       "1993 46        20         45         23         30         38        \n",
       "1994 42        56         48         64         27         41        \n",
       "1995 53        59         28         53         41         49        \n",
       "1996 44        64         46         54         43         39        \n",
       "1997 25        34         34         60         36         35        \n",
       "1998 32        33         39         55         39         44        \n",
       "1999 60        36         49         49         35         52        \n",
       "2000 41        31         44         59         32         42        \n",
       "     Amostra_ 7 Amostra_ 8 Amostra_ 9 Amostra_ 10 ... Amostra_ 1491\n",
       "1    38         36         39         58          ... 54           \n",
       "2    42         51         34         43          ... 44           \n",
       "3    26         21         60         41          ... 40           \n",
       "4    27         44         53         28          ... 60           \n",
       "5    36         52         42         51          ... 31           \n",
       "6    32         38         53         39          ... 34           \n",
       "7    57         54         38         54          ... 42           \n",
       "8    47         40         35         71          ... 54           \n",
       "9    23         39         33         43          ... 52           \n",
       "10   30         40         45         50          ... 39           \n",
       "11   54         49         55         67          ... 34           \n",
       "12   49         29         31         63          ... 59           \n",
       "13   34         41         34         62          ... 60           \n",
       "14   56         27         75         47          ... 46           \n",
       "15   50         30         43         26          ... 48           \n",
       "16   39         39         38         42          ... 60           \n",
       "17   36         40         24         28          ... 47           \n",
       "18   33         25         37         24          ... 25           \n",
       "19   51         47         22         35          ... 49           \n",
       "20   53         45         19         43          ... 61           \n",
       "21   34         59         54         44          ... 18           \n",
       "22   64         26         39         44          ... 20           \n",
       "23   22         51         26         39          ... 30           \n",
       "24   57         37         69         33          ... 55           \n",
       "25   56         45         49         34          ... 18           \n",
       "26   73         53         43         31          ... 65           \n",
       "27   47         63         44         25          ... 37           \n",
       "28   52         60         70         59          ... 50           \n",
       "29   41         75         55         38          ... 39           \n",
       "30   36         53         59         36          ... 44           \n",
       "...  ...        ...        ...        ...             ...          \n",
       "1971 28         44         51         54          ... 29           \n",
       "1972 29         28         60         51          ... 61           \n",
       "1973 48         45         47         51          ... 68           \n",
       "1974 61         42         31         48          ... 40           \n",
       "1975 33         33         62         48          ... 38           \n",
       "1976 33         68         45         41          ... 31           \n",
       "1977 33         23         34         64          ... 20           \n",
       "1978 42         45         49         61          ... 26           \n",
       "1979 51         52         39         47          ... 59           \n",
       "1980 51         49         62         50          ... 38           \n",
       "1981 23         40         65         60          ... 37           \n",
       "1982 55         39         30         38          ... 45           \n",
       "1983 31         40         38         49          ... 53           \n",
       "1984 49         56         45         39          ... 32           \n",
       "1985 56         27         60         56          ... 47           \n",
       "1986 68         38         39         54          ... 43           \n",
       "1987 46         58         29         62          ... 35           \n",
       "1988 37         48         41         42          ... 57           \n",
       "1989 40         63         36         44          ... 55           \n",
       "1990 35         57         49         33          ... 60           \n",
       "1991 53         50         33         36          ... 49           \n",
       "1992 57         45         40         60          ... 39           \n",
       "1993 27         34         54         34          ... 44           \n",
       "1994 42         57         49         50          ... 53           \n",
       "1995 34         74         33         43          ... 31           \n",
       "1996 43         24         43         51          ... 55           \n",
       "1997 59         44         39         69          ... 45           \n",
       "1998 64         40         37         43          ... 33           \n",
       "1999 52         42         33         61          ... 48           \n",
       "2000 52         65         48         50          ... 35           \n",
       "     Amostra_ 1492 Amostra_ 1493 Amostra_ 1494 Amostra_ 1495 Amostra_ 1496\n",
       "1    58            21            30            48            34           \n",
       "2    43            36            81            49            54           \n",
       "3    26            61            24            27            31           \n",
       "4    45            41            28            55            52           \n",
       "5    47            27            57            43            39           \n",
       "6    60            34            26            41            52           \n",
       "7    41            59            39            25            33           \n",
       "8    53            27            35            41            44           \n",
       "9    74            36            39            38            30           \n",
       "10   58            54            60            62            35           \n",
       "11   66            59            34            22            25           \n",
       "12   35            26            38            50            31           \n",
       "13   32            47            31            41            59           \n",
       "14   31            57            53            37            40           \n",
       "15   50            30            34            60            60           \n",
       "16   42            42            40            46            37           \n",
       "17   39            50            48            22            70           \n",
       "18   57            57            58            55            30           \n",
       "19   59            48            37            33            46           \n",
       "20   81            38            44            48            48           \n",
       "21   54            64            37            59            28           \n",
       "22   60            44            35            50            54           \n",
       "23   46            59            34            50            65           \n",
       "24   40            69            47            52            30           \n",
       "25   28            75            63            50            36           \n",
       "26   48            35            33            30            52           \n",
       "27   32            43            25            51            42           \n",
       "28   77            77            53            68            24           \n",
       "29   53            40            40            54            52           \n",
       "30   23            31            47            28            31           \n",
       "...  ...           ...           ...           ...           ...          \n",
       "1971 42            45            25            44            32           \n",
       "1972 42            45            62            62            57           \n",
       "1973 56            49            51            32            48           \n",
       "1974 28            25            33            53            33           \n",
       "1975 25            44            34            63            50           \n",
       "1976 21            50            52            36            72           \n",
       "1977 45            35            56            34            73           \n",
       "1978 43            57            46            51            33           \n",
       "1979 36            46            41            30            41           \n",
       "1980 39            36            65            52            41           \n",
       "1981 36            49            29            21            68           \n",
       "1982 51            27            38            39            62           \n",
       "1983 44            42            50            23            24           \n",
       "1984 49            56            28            35            50           \n",
       "1985 37            31            39            26            39           \n",
       "1986 31            53            40            40            41           \n",
       "1987 38            47            48            36            59           \n",
       "1988 31            31            51            52            20           \n",
       "1989 51            50            36            46            53           \n",
       "1990 34            39            28            41            54           \n",
       "1991 66            36            60            42            28           \n",
       "1992 59            67            52            47            39           \n",
       "1993 60            39            37            34            32           \n",
       "1994 41            51            53            33            49           \n",
       "1995 22            47            54            51            44           \n",
       "1996 52            29            41            33            45           \n",
       "1997 55            30            70            50            32           \n",
       "1998 59            43            48            40            39           \n",
       "1999 64            40            22            40            45           \n",
       "2000 28            27            44            74            52           \n",
       "     Amostra_ 1497 Amostra_ 1498 Amostra_ 1499 Amostra_ 1500\n",
       "1    31            76            51            37           \n",
       "2    59            25            50            51           \n",
       "3    46            41            52            42           \n",
       "4    38            57            24            50           \n",
       "5    42            44            61            32           \n",
       "6    53            63            37            32           \n",
       "7    55            38            54            62           \n",
       "8    32            45            71            58           \n",
       "9    30            65            47            30           \n",
       "10   51            32            26            52           \n",
       "11   58            34            33            31           \n",
       "12   36            47            56            30           \n",
       "13   34            24            54            63           \n",
       "14   24            42            48            58           \n",
       "15   33            39            33            33           \n",
       "16   36            45            34            24           \n",
       "17   26            32            38            51           \n",
       "18   37            52            53            45           \n",
       "19   21            34            35            38           \n",
       "20   36            24            43            49           \n",
       "21   45            62            68            43           \n",
       "22   33            41            56            38           \n",
       "23   35            59            31            48           \n",
       "24   66            33            45            55           \n",
       "25   51            44            41            50           \n",
       "26   61            34            44            21           \n",
       "27   27            35            53            43           \n",
       "28   26            49            44            32           \n",
       "29   44            58            30            34           \n",
       "30   21            45            27            27           \n",
       "...  ...           ...           ...           ...          \n",
       "1971 37            31            41            52           \n",
       "1972 29            31            39            45           \n",
       "1973 51            54            34            47           \n",
       "1974 33            37            68            33           \n",
       "1975 30            43            50            31           \n",
       "1976 28            54            33            20           \n",
       "1977 38            28            63            26           \n",
       "1978 31            76            57            39           \n",
       "1979 39            34            55            41           \n",
       "1980 45            24            39            41           \n",
       "1981 47            40            50            37           \n",
       "1982 52            57            29            62           \n",
       "1983 49            65            34            33           \n",
       "1984 53            46            48            54           \n",
       "1985 34            41            50            50           \n",
       "1986 59            56            81            32           \n",
       "1987 59            40            33            24           \n",
       "1988 34            30            42            27           \n",
       "1989 26            26            46            54           \n",
       "1990 75            51            43            47           \n",
       "1991 21            59            53            28           \n",
       "1992 23            40            40            54           \n",
       "1993 35            45            55            58           \n",
       "1994 36            29            67            58           \n",
       "1995 42            54            41            61           \n",
       "1996 42            55            44            38           \n",
       "1997 45            50            24            48           \n",
       "1998 56            51            41            47           \n",
       "1999 32            18            54            56           \n",
       "2000 27            63            48            35           "
      ]
     },
     "metadata": {},
     "output_type": "display_data"
    }
   ],
   "source": [
    "for (i in 1:total_de_amostras){\n",
    "    if(i==1){\n",
    "        amostras <- data.frame('Amostra_1' = sample(dados$Idade, n))\n",
    "    }else{\n",
    "        amostras[paste('Amostra_', i)] <- sample(dados$Idade, n)\n",
    "    }\n",
    "}\n",
    "amostras"
   ]
  },
  {
   "cell_type": "code",
   "execution_count": 85,
   "metadata": {
    "colab": {
     "base_uri": "https://localhost:8080/",
     "height": 1071
    },
    "colab_type": "code",
    "id": "v5Q-rnS_izNd",
    "outputId": "5097951e-8900-42f8-894a-539ad7d51f76",
    "scrolled": true
   },
   "outputs": [
    {
     "data": {
      "text/html": [
       "<style>\n",
       ".dl-inline {width: auto; margin:0; padding: 0}\n",
       ".dl-inline>dt, .dl-inline>dd {float: none; width: auto; display: inline-block}\n",
       ".dl-inline>dt::after {content: \":\\0020\"; padding-right: .5ex}\n",
       ".dl-inline>dt:not(:first-of-type) {padding-left: .5ex}\n",
       "</style><dl class=dl-inline><dt>Amostra_1</dt><dd>44.1325</dd><dt>Amostra_ 2</dt><dd>43.656</dd><dt>Amostra_ 3</dt><dd>43.8715</dd><dt>Amostra_ 4</dt><dd>43.876</dd><dt>Amostra_ 5</dt><dd>43.5155</dd><dt>Amostra_ 6</dt><dd>44.007</dd><dt>Amostra_ 7</dt><dd>43.5295</dd><dt>Amostra_ 8</dt><dd>44.223</dd><dt>Amostra_ 9</dt><dd>44.315</dd><dt>Amostra_ 10</dt><dd>43.829</dd><dt>Amostra_ 11</dt><dd>44.3415</dd><dt>Amostra_ 12</dt><dd>43.8045</dd><dt>Amostra_ 13</dt><dd>43.755</dd><dt>Amostra_ 14</dt><dd>44.079</dd><dt>Amostra_ 15</dt><dd>44.3125</dd><dt>Amostra_ 16</dt><dd>43.8855</dd><dt>Amostra_ 17</dt><dd>43.7315</dd><dt>Amostra_ 18</dt><dd>43.997</dd><dt>Amostra_ 19</dt><dd>44.5505</dd><dt>Amostra_ 20</dt><dd>44.2125</dd><dt>Amostra_ 21</dt><dd>44.1655</dd><dt>Amostra_ 22</dt><dd>44.0095</dd><dt>Amostra_ 23</dt><dd>44.097</dd><dt>Amostra_ 24</dt><dd>43.3655</dd><dt>Amostra_ 25</dt><dd>43.991</dd><dt>Amostra_ 26</dt><dd>44.126</dd><dt>Amostra_ 27</dt><dd>44.0895</dd><dt>Amostra_ 28</dt><dd>44.309</dd><dt>Amostra_ 29</dt><dd>44.2195</dd><dt>Amostra_ 30</dt><dd>44.4865</dd><dt>Amostra_ 31</dt><dd>44.14</dd><dt>Amostra_ 32</dt><dd>43.806</dd><dt>Amostra_ 33</dt><dd>43.681</dd><dt>Amostra_ 34</dt><dd>44.2655</dd><dt>Amostra_ 35</dt><dd>43.879</dd><dt>Amostra_ 36</dt><dd>43.9495</dd><dt>Amostra_ 37</dt><dd>44.2525</dd><dt>Amostra_ 38</dt><dd>44.6825</dd><dt>Amostra_ 39</dt><dd>44.07</dd><dt>Amostra_ 40</dt><dd>44.1265</dd><dt>Amostra_ 41</dt><dd>44.225</dd><dt>Amostra_ 42</dt><dd>44.3625</dd><dt>Amostra_ 43</dt><dd>44.404</dd><dt>Amostra_ 44</dt><dd>43.9825</dd><dt>Amostra_ 45</dt><dd>43.5265</dd><dt>Amostra_ 46</dt><dd>44.064</dd><dt>Amostra_ 47</dt><dd>43.9385</dd><dt>Amostra_ 48</dt><dd>44.017</dd><dt>Amostra_ 49</dt><dd>44.454</dd><dt>Amostra_ 50</dt><dd>43.831</dd><dt>Amostra_ 51</dt><dd>44.137</dd><dt>Amostra_ 52</dt><dd>43.688</dd><dt>Amostra_ 53</dt><dd>44.333</dd><dt>Amostra_ 54</dt><dd>44.7615</dd><dt>Amostra_ 55</dt><dd>44.213</dd><dt>Amostra_ 56</dt><dd>44.2965</dd><dt>Amostra_ 57</dt><dd>44.47</dd><dt>Amostra_ 58</dt><dd>43.804</dd><dt>Amostra_ 59</dt><dd>44.11</dd><dt>Amostra_ 60</dt><dd>44.568</dd><dt>Amostra_ 61</dt><dd>44.1275</dd><dt>Amostra_ 62</dt><dd>44.1285</dd><dt>Amostra_ 63</dt><dd>44.219</dd><dt>Amostra_ 64</dt><dd>44.4155</dd><dt>Amostra_ 65</dt><dd>44.259</dd><dt>Amostra_ 66</dt><dd>44.595</dd><dt>Amostra_ 67</dt><dd>44.2925</dd><dt>Amostra_ 68</dt><dd>43.533</dd><dt>Amostra_ 69</dt><dd>44.612</dd><dt>Amostra_ 70</dt><dd>43.757</dd><dt>Amostra_ 71</dt><dd>44.307</dd><dt>Amostra_ 72</dt><dd>44.4735</dd><dt>Amostra_ 73</dt><dd>43.7885</dd><dt>Amostra_ 74</dt><dd>43.9195</dd><dt>Amostra_ 75</dt><dd>43.9815</dd><dt>Amostra_ 76</dt><dd>44.1725</dd><dt>Amostra_ 77</dt><dd>44.295</dd><dt>Amostra_ 78</dt><dd>44.2365</dd><dt>Amostra_ 79</dt><dd>43.859</dd><dt>Amostra_ 80</dt><dd>44.4635</dd><dt>Amostra_ 81</dt><dd>44.1515</dd><dt>Amostra_ 82</dt><dd>44.4015</dd><dt>Amostra_ 83</dt><dd>44.104</dd><dt>Amostra_ 84</dt><dd>44.2275</dd><dt>Amostra_ 85</dt><dd>43.92</dd><dt>Amostra_ 86</dt><dd>43.8685</dd><dt>Amostra_ 87</dt><dd>44.255</dd><dt>Amostra_ 88</dt><dd>43.4865</dd><dt>Amostra_ 89</dt><dd>43.754</dd><dt>Amostra_ 90</dt><dd>43.8625</dd><dt>Amostra_ 91</dt><dd>44.047</dd><dt>Amostra_ 92</dt><dd>44.4355</dd><dt>Amostra_ 93</dt><dd>43.951</dd><dt>Amostra_ 94</dt><dd>44.0955</dd><dt>Amostra_ 95</dt><dd>43.7355</dd><dt>Amostra_ 96</dt><dd>44.0335</dd><dt>Amostra_ 97</dt><dd>43.831</dd><dt>Amostra_ 98</dt><dd>44</dd><dt>Amostra_ 99</dt><dd>43.6645</dd><dt>Amostra_ 100</dt><dd>43.965</dd><dt>Amostra_ 101</dt><dd>44.16</dd><dt>Amostra_ 102</dt><dd>43.9495</dd><dt>Amostra_ 103</dt><dd>43.6905</dd><dt>Amostra_ 104</dt><dd>44.4165</dd><dt>Amostra_ 105</dt><dd>44.2125</dd><dt>Amostra_ 106</dt><dd>44.293</dd><dt>Amostra_ 107</dt><dd>43.6885</dd><dt>Amostra_ 108</dt><dd>44.1905</dd><dt>Amostra_ 109</dt><dd>43.8825</dd><dt>Amostra_ 110</dt><dd>44.372</dd><dt>Amostra_ 111</dt><dd>44.2515</dd><dt>Amostra_ 112</dt><dd>44.3225</dd><dt>Amostra_ 113</dt><dd>44.202</dd><dt>Amostra_ 114</dt><dd>44.238</dd><dt>Amostra_ 115</dt><dd>43.7375</dd><dt>Amostra_ 116</dt><dd>44.0905</dd><dt>Amostra_ 117</dt><dd>44.2505</dd><dt>Amostra_ 118</dt><dd>43.783</dd><dt>Amostra_ 119</dt><dd>43.988</dd><dt>Amostra_ 120</dt><dd>43.9125</dd><dt>Amostra_ 121</dt><dd>43.438</dd><dt>Amostra_ 122</dt><dd>44.2605</dd><dt>Amostra_ 123</dt><dd>44.288</dd><dt>Amostra_ 124</dt><dd>44.0005</dd><dt>Amostra_ 125</dt><dd>44.0435</dd><dt>Amostra_ 126</dt><dd>44.024</dd><dt>Amostra_ 127</dt><dd>43.9815</dd><dt>Amostra_ 128</dt><dd>44.2025</dd><dt>Amostra_ 129</dt><dd>44.3245</dd><dt>Amostra_ 130</dt><dd>44.1595</dd><dt>Amostra_ 131</dt><dd>43.714</dd><dt>Amostra_ 132</dt><dd>43.607</dd><dt>Amostra_ 133</dt><dd>44.072</dd><dt>Amostra_ 134</dt><dd>44.2095</dd><dt>Amostra_ 135</dt><dd>44.2035</dd><dt>Amostra_ 136</dt><dd>43.8575</dd><dt>Amostra_ 137</dt><dd>43.964</dd><dt>Amostra_ 138</dt><dd>44.667</dd><dt>Amostra_ 139</dt><dd>44.12</dd><dt>Amostra_ 140</dt><dd>44.0025</dd><dt>Amostra_ 141</dt><dd>44.02</dd><dt>Amostra_ 142</dt><dd>44.009</dd><dt>Amostra_ 143</dt><dd>44.617</dd><dt>Amostra_ 144</dt><dd>44.3375</dd><dt>Amostra_ 145</dt><dd>44.3725</dd><dt>Amostra_ 146</dt><dd>43.496</dd><dt>Amostra_ 147</dt><dd>44.7085</dd><dt>Amostra_ 148</dt><dd>44.2315</dd><dt>Amostra_ 149</dt><dd>43.8885</dd><dt>Amostra_ 150</dt><dd>43.573</dd><dt>Amostra_ 151</dt><dd>43.7405</dd><dt>Amostra_ 152</dt><dd>44.263</dd><dt>Amostra_ 153</dt><dd>43.9355</dd><dt>Amostra_ 154</dt><dd>43.701</dd><dt>Amostra_ 155</dt><dd>43.8175</dd><dt>Amostra_ 156</dt><dd>44.262</dd><dt>Amostra_ 157</dt><dd>43.315</dd><dt>Amostra_ 158</dt><dd>43.748</dd><dt>Amostra_ 159</dt><dd>43.878</dd><dt>Amostra_ 160</dt><dd>44.241</dd><dt>Amostra_ 161</dt><dd>44.5295</dd><dt>Amostra_ 162</dt><dd>44.1125</dd><dt>Amostra_ 163</dt><dd>43.844</dd><dt>Amostra_ 164</dt><dd>44.14</dd><dt>Amostra_ 165</dt><dd>43.9465</dd><dt>Amostra_ 166</dt><dd>44.582</dd><dt>Amostra_ 167</dt><dd>43.714</dd><dt>Amostra_ 168</dt><dd>44.5205</dd><dt>Amostra_ 169</dt><dd>44.3595</dd><dt>Amostra_ 170</dt><dd>43.8515</dd><dt>Amostra_ 171</dt><dd>43.8845</dd><dt>Amostra_ 172</dt><dd>44.2255</dd><dt>Amostra_ 173</dt><dd>44.1595</dd><dt>Amostra_ 174</dt><dd>43.8015</dd><dt>Amostra_ 175</dt><dd>44.282</dd><dt>Amostra_ 176</dt><dd>44.401</dd><dt>Amostra_ 177</dt><dd>44.2395</dd><dt>Amostra_ 178</dt><dd>44.485</dd><dt>Amostra_ 179</dt><dd>44.0785</dd><dt>Amostra_ 180</dt><dd>43.8855</dd><dt>Amostra_ 181</dt><dd>44.0825</dd><dt>Amostra_ 182</dt><dd>43.8045</dd><dt>Amostra_ 183</dt><dd>44.1215</dd><dt>Amostra_ 184</dt><dd>43.726</dd><dt>Amostra_ 185</dt><dd>44.533</dd><dt>Amostra_ 186</dt><dd>43.847</dd><dt>Amostra_ 187</dt><dd>44.2475</dd><dt>Amostra_ 188</dt><dd>44.116</dd><dt>Amostra_ 189</dt><dd>44.1785</dd><dt>Amostra_ 190</dt><dd>43.8255</dd><dt>Amostra_ 191</dt><dd>43.434</dd><dt>Amostra_ 192</dt><dd>44.0155</dd><dt>Amostra_ 193</dt><dd>44.31</dd><dt>Amostra_ 194</dt><dd>44.2735</dd><dt>Amostra_ 195</dt><dd>43.611</dd><dt>Amostra_ 196</dt><dd>44.2445</dd><dt>Amostra_ 197</dt><dd>43.699</dd><dt>Amostra_ 198</dt><dd>43.895</dd><dt>Amostra_ 199</dt><dd>43.834</dd><dt>Amostra_ 200</dt><dd>43.9715</dd><dt>Amostra_ 201</dt><dd>...</dd><dt>Amostra_ 202</dt><dd>44.249</dd><dt>Amostra_ 203</dt><dd>44.347</dd><dt>Amostra_ 204</dt><dd>44.0035</dd><dt>Amostra_ 205</dt><dd>44.324</dd><dt>Amostra_ 206</dt><dd>43.9375</dd><dt>Amostra_ 207</dt><dd>43.8165</dd><dt>Amostra_ 208</dt><dd>44.252</dd><dt>Amostra_ 209</dt><dd>43.926</dd><dt>Amostra_ 210</dt><dd>44.235</dd><dt>Amostra_ 211</dt><dd>44.03</dd><dt>Amostra_ 212</dt><dd>44.0125</dd><dt>Amostra_ 213</dt><dd>44.2575</dd><dt>Amostra_ 214</dt><dd>44.32</dd><dt>Amostra_ 215</dt><dd>43.9565</dd><dt>Amostra_ 216</dt><dd>44.1075</dd><dt>Amostra_ 217</dt><dd>44.408</dd><dt>Amostra_ 218</dt><dd>44.163</dd><dt>Amostra_ 219</dt><dd>43.8885</dd><dt>Amostra_ 220</dt><dd>43.9025</dd><dt>Amostra_ 221</dt><dd>44.069</dd><dt>Amostra_ 222</dt><dd>43.841</dd><dt>Amostra_ 223</dt><dd>44.1425</dd><dt>Amostra_ 224</dt><dd>44.0915</dd><dt>Amostra_ 225</dt><dd>44.045</dd><dt>Amostra_ 226</dt><dd>44.1895</dd><dt>Amostra_ 227</dt><dd>43.845</dd><dt>Amostra_ 228</dt><dd>44.288</dd><dt>Amostra_ 229</dt><dd>43.997</dd><dt>Amostra_ 230</dt><dd>44.112</dd><dt>Amostra_ 231</dt><dd>44.4525</dd><dt>Amostra_ 232</dt><dd>43.9185</dd><dt>Amostra_ 233</dt><dd>43.997</dd><dt>Amostra_ 234</dt><dd>44.262</dd><dt>Amostra_ 235</dt><dd>43.7645</dd><dt>Amostra_ 236</dt><dd>43.457</dd><dt>Amostra_ 237</dt><dd>43.6695</dd><dt>Amostra_ 238</dt><dd>43.5285</dd><dt>Amostra_ 239</dt><dd>44.507</dd><dt>Amostra_ 240</dt><dd>44.4095</dd><dt>Amostra_ 241</dt><dd>44.3215</dd><dt>Amostra_ 242</dt><dd>43.8725</dd><dt>Amostra_ 243</dt><dd>43.797</dd><dt>Amostra_ 244</dt><dd>44.3475</dd><dt>Amostra_ 245</dt><dd>44.225</dd><dt>Amostra_ 246</dt><dd>44.034</dd><dt>Amostra_ 247</dt><dd>43.6175</dd><dt>Amostra_ 248</dt><dd>44.309</dd><dt>Amostra_ 249</dt><dd>44.1625</dd><dt>Amostra_ 250</dt><dd>44.0015</dd><dt>Amostra_ 251</dt><dd>44.087</dd><dt>Amostra_ 252</dt><dd>43.565</dd><dt>Amostra_ 253</dt><dd>44.6375</dd><dt>Amostra_ 254</dt><dd>43.163</dd><dt>Amostra_ 255</dt><dd>44.443</dd><dt>Amostra_ 256</dt><dd>44.032</dd><dt>Amostra_ 257</dt><dd>44.547</dd><dt>Amostra_ 258</dt><dd>44.3455</dd><dt>Amostra_ 259</dt><dd>44.2335</dd><dt>Amostra_ 260</dt><dd>44.0545</dd><dt>Amostra_ 261</dt><dd>44.376</dd><dt>Amostra_ 262</dt><dd>43.628</dd><dt>Amostra_ 263</dt><dd>44.4055</dd><dt>Amostra_ 264</dt><dd>44.6</dd><dt>Amostra_ 265</dt><dd>44.0135</dd><dt>Amostra_ 266</dt><dd>43.9135</dd><dt>Amostra_ 267</dt><dd>44.0965</dd><dt>Amostra_ 268</dt><dd>43.8515</dd><dt>Amostra_ 269</dt><dd>44.5785</dd><dt>Amostra_ 270</dt><dd>44.0085</dd><dt>Amostra_ 271</dt><dd>44.2575</dd><dt>Amostra_ 272</dt><dd>43.986</dd><dt>Amostra_ 273</dt><dd>44.467</dd><dt>Amostra_ 274</dt><dd>44.105</dd><dt>Amostra_ 275</dt><dd>43.6085</dd><dt>Amostra_ 276</dt><dd>44.1395</dd><dt>Amostra_ 277</dt><dd>44.8195</dd><dt>Amostra_ 278</dt><dd>44.0995</dd><dt>Amostra_ 279</dt><dd>43.804</dd><dt>Amostra_ 280</dt><dd>44.331</dd><dt>Amostra_ 281</dt><dd>44.3385</dd><dt>Amostra_ 282</dt><dd>44.0575</dd><dt>Amostra_ 283</dt><dd>43.8305</dd><dt>Amostra_ 284</dt><dd>44.182</dd><dt>Amostra_ 285</dt><dd>43.687</dd><dt>Amostra_ 286</dt><dd>44.18</dd><dt>Amostra_ 287</dt><dd>43.6965</dd><dt>Amostra_ 288</dt><dd>43.5615</dd><dt>Amostra_ 289</dt><dd>43.6195</dd><dt>Amostra_ 290</dt><dd>43.952</dd><dt>Amostra_ 291</dt><dd>44.3335</dd><dt>Amostra_ 292</dt><dd>43.7435</dd><dt>Amostra_ 293</dt><dd>44.4015</dd><dt>Amostra_ 294</dt><dd>44.3235</dd><dt>Amostra_ 295</dt><dd>44.099</dd><dt>Amostra_ 296</dt><dd>44.054</dd><dt>Amostra_ 297</dt><dd>43.77</dd><dt>Amostra_ 298</dt><dd>44.524</dd><dt>Amostra_ 299</dt><dd>43.599</dd><dt>Amostra_ 300</dt><dd>43.793</dd><dt>Amostra_ 301</dt><dd>44.2425</dd><dt>Amostra_ 302</dt><dd>44.1245</dd><dt>Amostra_ 303</dt><dd>44.0555</dd><dt>Amostra_ 304</dt><dd>44.605</dd><dt>Amostra_ 305</dt><dd>43.9035</dd><dt>Amostra_ 306</dt><dd>43.807</dd><dt>Amostra_ 307</dt><dd>43.941</dd><dt>Amostra_ 308</dt><dd>44.416</dd><dt>Amostra_ 309</dt><dd>44.6145</dd><dt>Amostra_ 310</dt><dd>43.7735</dd><dt>Amostra_ 311</dt><dd>43.8055</dd><dt>Amostra_ 312</dt><dd>43.9</dd><dt>Amostra_ 313</dt><dd>44.021</dd><dt>Amostra_ 314</dt><dd>43.81</dd><dt>Amostra_ 315</dt><dd>44.5075</dd><dt>Amostra_ 316</dt><dd>44.6525</dd><dt>Amostra_ 317</dt><dd>44.262</dd><dt>Amostra_ 318</dt><dd>44.048</dd><dt>Amostra_ 319</dt><dd>44.0705</dd><dt>Amostra_ 320</dt><dd>44.2015</dd><dt>Amostra_ 321</dt><dd>43.7735</dd><dt>Amostra_ 322</dt><dd>44.2125</dd><dt>Amostra_ 323</dt><dd>44.641</dd><dt>Amostra_ 324</dt><dd>44.2205</dd><dt>Amostra_ 325</dt><dd>43.959</dd><dt>Amostra_ 326</dt><dd>44.1595</dd><dt>Amostra_ 327</dt><dd>44.013</dd><dt>Amostra_ 328</dt><dd>44.516</dd><dt>Amostra_ 329</dt><dd>43.7485</dd><dt>Amostra_ 330</dt><dd>44.2045</dd><dt>Amostra_ 331</dt><dd>44.334</dd><dt>Amostra_ 332</dt><dd>43.8055</dd><dt>Amostra_ 333</dt><dd>44.2445</dd><dt>Amostra_ 334</dt><dd>44.4345</dd><dt>Amostra_ 335</dt><dd>44.3055</dd><dt>Amostra_ 336</dt><dd>44.064</dd><dt>Amostra_ 337</dt><dd>44.253</dd><dt>Amostra_ 338</dt><dd>43.5905</dd><dt>Amostra_ 339</dt><dd>43.98</dd><dt>Amostra_ 340</dt><dd>44.1635</dd><dt>Amostra_ 341</dt><dd>44.171</dd><dt>Amostra_ 342</dt><dd>43.9115</dd><dt>Amostra_ 343</dt><dd>44.6805</dd><dt>Amostra_ 344</dt><dd>43.6135</dd><dt>Amostra_ 345</dt><dd>43.6405</dd><dt>Amostra_ 346</dt><dd>44.6475</dd><dt>Amostra_ 347</dt><dd>43.859</dd><dt>Amostra_ 348</dt><dd>43.8205</dd><dt>Amostra_ 349</dt><dd>44.2455</dd><dt>Amostra_ 350</dt><dd>44.795</dd><dt>Amostra_ 351</dt><dd>45.0015</dd><dt>Amostra_ 352</dt><dd>43.811</dd><dt>Amostra_ 353</dt><dd>44.0105</dd><dt>Amostra_ 354</dt><dd>44.339</dd><dt>Amostra_ 355</dt><dd>43.857</dd><dt>Amostra_ 356</dt><dd>44.1745</dd><dt>Amostra_ 357</dt><dd>44.4565</dd><dt>Amostra_ 358</dt><dd>44.0855</dd><dt>Amostra_ 359</dt><dd>44.0645</dd><dt>Amostra_ 360</dt><dd>44.3185</dd><dt>Amostra_ 361</dt><dd>43.9815</dd><dt>Amostra_ 362</dt><dd>44.285</dd><dt>Amostra_ 363</dt><dd>44.2305</dd><dt>Amostra_ 364</dt><dd>44.046</dd><dt>Amostra_ 365</dt><dd>43.8025</dd><dt>Amostra_ 366</dt><dd>44.056</dd><dt>Amostra_ 367</dt><dd>43.615</dd><dt>Amostra_ 368</dt><dd>44.186</dd><dt>Amostra_ 369</dt><dd>44.199</dd><dt>Amostra_ 370</dt><dd>44.128</dd><dt>Amostra_ 371</dt><dd>43.835</dd><dt>Amostra_ 372</dt><dd>43.932</dd><dt>Amostra_ 373</dt><dd>44.104</dd><dt>Amostra_ 374</dt><dd>43.7745</dd><dt>Amostra_ 375</dt><dd>43.8145</dd><dt>Amostra_ 376</dt><dd>43.975</dd><dt>Amostra_ 377</dt><dd>43.9215</dd><dt>Amostra_ 378</dt><dd>44.4515</dd><dt>Amostra_ 379</dt><dd>44.007</dd><dt>Amostra_ 380</dt><dd>44.4055</dd><dt>Amostra_ 381</dt><dd>44.255</dd><dt>Amostra_ 382</dt><dd>43.767</dd><dt>Amostra_ 383</dt><dd>43.685</dd><dt>Amostra_ 384</dt><dd>43.751</dd><dt>Amostra_ 385</dt><dd>43.8765</dd><dt>Amostra_ 386</dt><dd>43.956</dd><dt>Amostra_ 387</dt><dd>44.14</dd><dt>Amostra_ 388</dt><dd>43.7685</dd><dt>Amostra_ 389</dt><dd>43.9765</dd><dt>Amostra_ 390</dt><dd>44.231</dd><dt>Amostra_ 391</dt><dd>44.3285</dd><dt>Amostra_ 392</dt><dd>43.73</dd><dt>Amostra_ 393</dt><dd>44.229</dd><dt>Amostra_ 394</dt><dd>43.697</dd><dt>Amostra_ 395</dt><dd>44.068</dd><dt>Amostra_ 396</dt><dd>44.0575</dd><dt>Amostra_ 397</dt><dd>43.772</dd><dt>Amostra_ 398</dt><dd>44.3355</dd><dt>Amostra_ 399</dt><dd>44.163</dd><dt>Amostra_ 400</dt><dd>44.28</dd><dt>Amostra_ 401</dt><dd>44.3715</dd></dl>\n"
      ],
      "text/latex": [
       "\\begin{description*}\n",
       "\\item[Amostra\\textbackslash{}\\_1] 44.1325\n",
       "\\item[Amostra\\textbackslash{}\\_ 2] 43.656\n",
       "\\item[Amostra\\textbackslash{}\\_ 3] 43.8715\n",
       "\\item[Amostra\\textbackslash{}\\_ 4] 43.876\n",
       "\\item[Amostra\\textbackslash{}\\_ 5] 43.5155\n",
       "\\item[Amostra\\textbackslash{}\\_ 6] 44.007\n",
       "\\item[Amostra\\textbackslash{}\\_ 7] 43.5295\n",
       "\\item[Amostra\\textbackslash{}\\_ 8] 44.223\n",
       "\\item[Amostra\\textbackslash{}\\_ 9] 44.315\n",
       "\\item[Amostra\\textbackslash{}\\_ 10] 43.829\n",
       "\\item[Amostra\\textbackslash{}\\_ 11] 44.3415\n",
       "\\item[Amostra\\textbackslash{}\\_ 12] 43.8045\n",
       "\\item[Amostra\\textbackslash{}\\_ 13] 43.755\n",
       "\\item[Amostra\\textbackslash{}\\_ 14] 44.079\n",
       "\\item[Amostra\\textbackslash{}\\_ 15] 44.3125\n",
       "\\item[Amostra\\textbackslash{}\\_ 16] 43.8855\n",
       "\\item[Amostra\\textbackslash{}\\_ 17] 43.7315\n",
       "\\item[Amostra\\textbackslash{}\\_ 18] 43.997\n",
       "\\item[Amostra\\textbackslash{}\\_ 19] 44.5505\n",
       "\\item[Amostra\\textbackslash{}\\_ 20] 44.2125\n",
       "\\item[Amostra\\textbackslash{}\\_ 21] 44.1655\n",
       "\\item[Amostra\\textbackslash{}\\_ 22] 44.0095\n",
       "\\item[Amostra\\textbackslash{}\\_ 23] 44.097\n",
       "\\item[Amostra\\textbackslash{}\\_ 24] 43.3655\n",
       "\\item[Amostra\\textbackslash{}\\_ 25] 43.991\n",
       "\\item[Amostra\\textbackslash{}\\_ 26] 44.126\n",
       "\\item[Amostra\\textbackslash{}\\_ 27] 44.0895\n",
       "\\item[Amostra\\textbackslash{}\\_ 28] 44.309\n",
       "\\item[Amostra\\textbackslash{}\\_ 29] 44.2195\n",
       "\\item[Amostra\\textbackslash{}\\_ 30] 44.4865\n",
       "\\item[Amostra\\textbackslash{}\\_ 31] 44.14\n",
       "\\item[Amostra\\textbackslash{}\\_ 32] 43.806\n",
       "\\item[Amostra\\textbackslash{}\\_ 33] 43.681\n",
       "\\item[Amostra\\textbackslash{}\\_ 34] 44.2655\n",
       "\\item[Amostra\\textbackslash{}\\_ 35] 43.879\n",
       "\\item[Amostra\\textbackslash{}\\_ 36] 43.9495\n",
       "\\item[Amostra\\textbackslash{}\\_ 37] 44.2525\n",
       "\\item[Amostra\\textbackslash{}\\_ 38] 44.6825\n",
       "\\item[Amostra\\textbackslash{}\\_ 39] 44.07\n",
       "\\item[Amostra\\textbackslash{}\\_ 40] 44.1265\n",
       "\\item[Amostra\\textbackslash{}\\_ 41] 44.225\n",
       "\\item[Amostra\\textbackslash{}\\_ 42] 44.3625\n",
       "\\item[Amostra\\textbackslash{}\\_ 43] 44.404\n",
       "\\item[Amostra\\textbackslash{}\\_ 44] 43.9825\n",
       "\\item[Amostra\\textbackslash{}\\_ 45] 43.5265\n",
       "\\item[Amostra\\textbackslash{}\\_ 46] 44.064\n",
       "\\item[Amostra\\textbackslash{}\\_ 47] 43.9385\n",
       "\\item[Amostra\\textbackslash{}\\_ 48] 44.017\n",
       "\\item[Amostra\\textbackslash{}\\_ 49] 44.454\n",
       "\\item[Amostra\\textbackslash{}\\_ 50] 43.831\n",
       "\\item[Amostra\\textbackslash{}\\_ 51] 44.137\n",
       "\\item[Amostra\\textbackslash{}\\_ 52] 43.688\n",
       "\\item[Amostra\\textbackslash{}\\_ 53] 44.333\n",
       "\\item[Amostra\\textbackslash{}\\_ 54] 44.7615\n",
       "\\item[Amostra\\textbackslash{}\\_ 55] 44.213\n",
       "\\item[Amostra\\textbackslash{}\\_ 56] 44.2965\n",
       "\\item[Amostra\\textbackslash{}\\_ 57] 44.47\n",
       "\\item[Amostra\\textbackslash{}\\_ 58] 43.804\n",
       "\\item[Amostra\\textbackslash{}\\_ 59] 44.11\n",
       "\\item[Amostra\\textbackslash{}\\_ 60] 44.568\n",
       "\\item[Amostra\\textbackslash{}\\_ 61] 44.1275\n",
       "\\item[Amostra\\textbackslash{}\\_ 62] 44.1285\n",
       "\\item[Amostra\\textbackslash{}\\_ 63] 44.219\n",
       "\\item[Amostra\\textbackslash{}\\_ 64] 44.4155\n",
       "\\item[Amostra\\textbackslash{}\\_ 65] 44.259\n",
       "\\item[Amostra\\textbackslash{}\\_ 66] 44.595\n",
       "\\item[Amostra\\textbackslash{}\\_ 67] 44.2925\n",
       "\\item[Amostra\\textbackslash{}\\_ 68] 43.533\n",
       "\\item[Amostra\\textbackslash{}\\_ 69] 44.612\n",
       "\\item[Amostra\\textbackslash{}\\_ 70] 43.757\n",
       "\\item[Amostra\\textbackslash{}\\_ 71] 44.307\n",
       "\\item[Amostra\\textbackslash{}\\_ 72] 44.4735\n",
       "\\item[Amostra\\textbackslash{}\\_ 73] 43.7885\n",
       "\\item[Amostra\\textbackslash{}\\_ 74] 43.9195\n",
       "\\item[Amostra\\textbackslash{}\\_ 75] 43.9815\n",
       "\\item[Amostra\\textbackslash{}\\_ 76] 44.1725\n",
       "\\item[Amostra\\textbackslash{}\\_ 77] 44.295\n",
       "\\item[Amostra\\textbackslash{}\\_ 78] 44.2365\n",
       "\\item[Amostra\\textbackslash{}\\_ 79] 43.859\n",
       "\\item[Amostra\\textbackslash{}\\_ 80] 44.4635\n",
       "\\item[Amostra\\textbackslash{}\\_ 81] 44.1515\n",
       "\\item[Amostra\\textbackslash{}\\_ 82] 44.4015\n",
       "\\item[Amostra\\textbackslash{}\\_ 83] 44.104\n",
       "\\item[Amostra\\textbackslash{}\\_ 84] 44.2275\n",
       "\\item[Amostra\\textbackslash{}\\_ 85] 43.92\n",
       "\\item[Amostra\\textbackslash{}\\_ 86] 43.8685\n",
       "\\item[Amostra\\textbackslash{}\\_ 87] 44.255\n",
       "\\item[Amostra\\textbackslash{}\\_ 88] 43.4865\n",
       "\\item[Amostra\\textbackslash{}\\_ 89] 43.754\n",
       "\\item[Amostra\\textbackslash{}\\_ 90] 43.8625\n",
       "\\item[Amostra\\textbackslash{}\\_ 91] 44.047\n",
       "\\item[Amostra\\textbackslash{}\\_ 92] 44.4355\n",
       "\\item[Amostra\\textbackslash{}\\_ 93] 43.951\n",
       "\\item[Amostra\\textbackslash{}\\_ 94] 44.0955\n",
       "\\item[Amostra\\textbackslash{}\\_ 95] 43.7355\n",
       "\\item[Amostra\\textbackslash{}\\_ 96] 44.0335\n",
       "\\item[Amostra\\textbackslash{}\\_ 97] 43.831\n",
       "\\item[Amostra\\textbackslash{}\\_ 98] 44\n",
       "\\item[Amostra\\textbackslash{}\\_ 99] 43.6645\n",
       "\\item[Amostra\\textbackslash{}\\_ 100] 43.965\n",
       "\\item[Amostra\\textbackslash{}\\_ 101] 44.16\n",
       "\\item[Amostra\\textbackslash{}\\_ 102] 43.9495\n",
       "\\item[Amostra\\textbackslash{}\\_ 103] 43.6905\n",
       "\\item[Amostra\\textbackslash{}\\_ 104] 44.4165\n",
       "\\item[Amostra\\textbackslash{}\\_ 105] 44.2125\n",
       "\\item[Amostra\\textbackslash{}\\_ 106] 44.293\n",
       "\\item[Amostra\\textbackslash{}\\_ 107] 43.6885\n",
       "\\item[Amostra\\textbackslash{}\\_ 108] 44.1905\n",
       "\\item[Amostra\\textbackslash{}\\_ 109] 43.8825\n",
       "\\item[Amostra\\textbackslash{}\\_ 110] 44.372\n",
       "\\item[Amostra\\textbackslash{}\\_ 111] 44.2515\n",
       "\\item[Amostra\\textbackslash{}\\_ 112] 44.3225\n",
       "\\item[Amostra\\textbackslash{}\\_ 113] 44.202\n",
       "\\item[Amostra\\textbackslash{}\\_ 114] 44.238\n",
       "\\item[Amostra\\textbackslash{}\\_ 115] 43.7375\n",
       "\\item[Amostra\\textbackslash{}\\_ 116] 44.0905\n",
       "\\item[Amostra\\textbackslash{}\\_ 117] 44.2505\n",
       "\\item[Amostra\\textbackslash{}\\_ 118] 43.783\n",
       "\\item[Amostra\\textbackslash{}\\_ 119] 43.988\n",
       "\\item[Amostra\\textbackslash{}\\_ 120] 43.9125\n",
       "\\item[Amostra\\textbackslash{}\\_ 121] 43.438\n",
       "\\item[Amostra\\textbackslash{}\\_ 122] 44.2605\n",
       "\\item[Amostra\\textbackslash{}\\_ 123] 44.288\n",
       "\\item[Amostra\\textbackslash{}\\_ 124] 44.0005\n",
       "\\item[Amostra\\textbackslash{}\\_ 125] 44.0435\n",
       "\\item[Amostra\\textbackslash{}\\_ 126] 44.024\n",
       "\\item[Amostra\\textbackslash{}\\_ 127] 43.9815\n",
       "\\item[Amostra\\textbackslash{}\\_ 128] 44.2025\n",
       "\\item[Amostra\\textbackslash{}\\_ 129] 44.3245\n",
       "\\item[Amostra\\textbackslash{}\\_ 130] 44.1595\n",
       "\\item[Amostra\\textbackslash{}\\_ 131] 43.714\n",
       "\\item[Amostra\\textbackslash{}\\_ 132] 43.607\n",
       "\\item[Amostra\\textbackslash{}\\_ 133] 44.072\n",
       "\\item[Amostra\\textbackslash{}\\_ 134] 44.2095\n",
       "\\item[Amostra\\textbackslash{}\\_ 135] 44.2035\n",
       "\\item[Amostra\\textbackslash{}\\_ 136] 43.8575\n",
       "\\item[Amostra\\textbackslash{}\\_ 137] 43.964\n",
       "\\item[Amostra\\textbackslash{}\\_ 138] 44.667\n",
       "\\item[Amostra\\textbackslash{}\\_ 139] 44.12\n",
       "\\item[Amostra\\textbackslash{}\\_ 140] 44.0025\n",
       "\\item[Amostra\\textbackslash{}\\_ 141] 44.02\n",
       "\\item[Amostra\\textbackslash{}\\_ 142] 44.009\n",
       "\\item[Amostra\\textbackslash{}\\_ 143] 44.617\n",
       "\\item[Amostra\\textbackslash{}\\_ 144] 44.3375\n",
       "\\item[Amostra\\textbackslash{}\\_ 145] 44.3725\n",
       "\\item[Amostra\\textbackslash{}\\_ 146] 43.496\n",
       "\\item[Amostra\\textbackslash{}\\_ 147] 44.7085\n",
       "\\item[Amostra\\textbackslash{}\\_ 148] 44.2315\n",
       "\\item[Amostra\\textbackslash{}\\_ 149] 43.8885\n",
       "\\item[Amostra\\textbackslash{}\\_ 150] 43.573\n",
       "\\item[Amostra\\textbackslash{}\\_ 151] 43.7405\n",
       "\\item[Amostra\\textbackslash{}\\_ 152] 44.263\n",
       "\\item[Amostra\\textbackslash{}\\_ 153] 43.9355\n",
       "\\item[Amostra\\textbackslash{}\\_ 154] 43.701\n",
       "\\item[Amostra\\textbackslash{}\\_ 155] 43.8175\n",
       "\\item[Amostra\\textbackslash{}\\_ 156] 44.262\n",
       "\\item[Amostra\\textbackslash{}\\_ 157] 43.315\n",
       "\\item[Amostra\\textbackslash{}\\_ 158] 43.748\n",
       "\\item[Amostra\\textbackslash{}\\_ 159] 43.878\n",
       "\\item[Amostra\\textbackslash{}\\_ 160] 44.241\n",
       "\\item[Amostra\\textbackslash{}\\_ 161] 44.5295\n",
       "\\item[Amostra\\textbackslash{}\\_ 162] 44.1125\n",
       "\\item[Amostra\\textbackslash{}\\_ 163] 43.844\n",
       "\\item[Amostra\\textbackslash{}\\_ 164] 44.14\n",
       "\\item[Amostra\\textbackslash{}\\_ 165] 43.9465\n",
       "\\item[Amostra\\textbackslash{}\\_ 166] 44.582\n",
       "\\item[Amostra\\textbackslash{}\\_ 167] 43.714\n",
       "\\item[Amostra\\textbackslash{}\\_ 168] 44.5205\n",
       "\\item[Amostra\\textbackslash{}\\_ 169] 44.3595\n",
       "\\item[Amostra\\textbackslash{}\\_ 170] 43.8515\n",
       "\\item[Amostra\\textbackslash{}\\_ 171] 43.8845\n",
       "\\item[Amostra\\textbackslash{}\\_ 172] 44.2255\n",
       "\\item[Amostra\\textbackslash{}\\_ 173] 44.1595\n",
       "\\item[Amostra\\textbackslash{}\\_ 174] 43.8015\n",
       "\\item[Amostra\\textbackslash{}\\_ 175] 44.282\n",
       "\\item[Amostra\\textbackslash{}\\_ 176] 44.401\n",
       "\\item[Amostra\\textbackslash{}\\_ 177] 44.2395\n",
       "\\item[Amostra\\textbackslash{}\\_ 178] 44.485\n",
       "\\item[Amostra\\textbackslash{}\\_ 179] 44.0785\n",
       "\\item[Amostra\\textbackslash{}\\_ 180] 43.8855\n",
       "\\item[Amostra\\textbackslash{}\\_ 181] 44.0825\n",
       "\\item[Amostra\\textbackslash{}\\_ 182] 43.8045\n",
       "\\item[Amostra\\textbackslash{}\\_ 183] 44.1215\n",
       "\\item[Amostra\\textbackslash{}\\_ 184] 43.726\n",
       "\\item[Amostra\\textbackslash{}\\_ 185] 44.533\n",
       "\\item[Amostra\\textbackslash{}\\_ 186] 43.847\n",
       "\\item[Amostra\\textbackslash{}\\_ 187] 44.2475\n",
       "\\item[Amostra\\textbackslash{}\\_ 188] 44.116\n",
       "\\item[Amostra\\textbackslash{}\\_ 189] 44.1785\n",
       "\\item[Amostra\\textbackslash{}\\_ 190] 43.8255\n",
       "\\item[Amostra\\textbackslash{}\\_ 191] 43.434\n",
       "\\item[Amostra\\textbackslash{}\\_ 192] 44.0155\n",
       "\\item[Amostra\\textbackslash{}\\_ 193] 44.31\n",
       "\\item[Amostra\\textbackslash{}\\_ 194] 44.2735\n",
       "\\item[Amostra\\textbackslash{}\\_ 195] 43.611\n",
       "\\item[Amostra\\textbackslash{}\\_ 196] 44.2445\n",
       "\\item[Amostra\\textbackslash{}\\_ 197] 43.699\n",
       "\\item[Amostra\\textbackslash{}\\_ 198] 43.895\n",
       "\\item[Amostra\\textbackslash{}\\_ 199] 43.834\n",
       "\\item[Amostra\\textbackslash{}\\_ 200] 43.9715\n",
       "\\item[Amostra\\textbackslash{}\\_ 201] ...\n",
       "\\item[Amostra\\textbackslash{}\\_ 202] 44.249\n",
       "\\item[Amostra\\textbackslash{}\\_ 203] 44.347\n",
       "\\item[Amostra\\textbackslash{}\\_ 204] 44.0035\n",
       "\\item[Amostra\\textbackslash{}\\_ 205] 44.324\n",
       "\\item[Amostra\\textbackslash{}\\_ 206] 43.9375\n",
       "\\item[Amostra\\textbackslash{}\\_ 207] 43.8165\n",
       "\\item[Amostra\\textbackslash{}\\_ 208] 44.252\n",
       "\\item[Amostra\\textbackslash{}\\_ 209] 43.926\n",
       "\\item[Amostra\\textbackslash{}\\_ 210] 44.235\n",
       "\\item[Amostra\\textbackslash{}\\_ 211] 44.03\n",
       "\\item[Amostra\\textbackslash{}\\_ 212] 44.0125\n",
       "\\item[Amostra\\textbackslash{}\\_ 213] 44.2575\n",
       "\\item[Amostra\\textbackslash{}\\_ 214] 44.32\n",
       "\\item[Amostra\\textbackslash{}\\_ 215] 43.9565\n",
       "\\item[Amostra\\textbackslash{}\\_ 216] 44.1075\n",
       "\\item[Amostra\\textbackslash{}\\_ 217] 44.408\n",
       "\\item[Amostra\\textbackslash{}\\_ 218] 44.163\n",
       "\\item[Amostra\\textbackslash{}\\_ 219] 43.8885\n",
       "\\item[Amostra\\textbackslash{}\\_ 220] 43.9025\n",
       "\\item[Amostra\\textbackslash{}\\_ 221] 44.069\n",
       "\\item[Amostra\\textbackslash{}\\_ 222] 43.841\n",
       "\\item[Amostra\\textbackslash{}\\_ 223] 44.1425\n",
       "\\item[Amostra\\textbackslash{}\\_ 224] 44.0915\n",
       "\\item[Amostra\\textbackslash{}\\_ 225] 44.045\n",
       "\\item[Amostra\\textbackslash{}\\_ 226] 44.1895\n",
       "\\item[Amostra\\textbackslash{}\\_ 227] 43.845\n",
       "\\item[Amostra\\textbackslash{}\\_ 228] 44.288\n",
       "\\item[Amostra\\textbackslash{}\\_ 229] 43.997\n",
       "\\item[Amostra\\textbackslash{}\\_ 230] 44.112\n",
       "\\item[Amostra\\textbackslash{}\\_ 231] 44.4525\n",
       "\\item[Amostra\\textbackslash{}\\_ 232] 43.9185\n",
       "\\item[Amostra\\textbackslash{}\\_ 233] 43.997\n",
       "\\item[Amostra\\textbackslash{}\\_ 234] 44.262\n",
       "\\item[Amostra\\textbackslash{}\\_ 235] 43.7645\n",
       "\\item[Amostra\\textbackslash{}\\_ 236] 43.457\n",
       "\\item[Amostra\\textbackslash{}\\_ 237] 43.6695\n",
       "\\item[Amostra\\textbackslash{}\\_ 238] 43.5285\n",
       "\\item[Amostra\\textbackslash{}\\_ 239] 44.507\n",
       "\\item[Amostra\\textbackslash{}\\_ 240] 44.4095\n",
       "\\item[Amostra\\textbackslash{}\\_ 241] 44.3215\n",
       "\\item[Amostra\\textbackslash{}\\_ 242] 43.8725\n",
       "\\item[Amostra\\textbackslash{}\\_ 243] 43.797\n",
       "\\item[Amostra\\textbackslash{}\\_ 244] 44.3475\n",
       "\\item[Amostra\\textbackslash{}\\_ 245] 44.225\n",
       "\\item[Amostra\\textbackslash{}\\_ 246] 44.034\n",
       "\\item[Amostra\\textbackslash{}\\_ 247] 43.6175\n",
       "\\item[Amostra\\textbackslash{}\\_ 248] 44.309\n",
       "\\item[Amostra\\textbackslash{}\\_ 249] 44.1625\n",
       "\\item[Amostra\\textbackslash{}\\_ 250] 44.0015\n",
       "\\item[Amostra\\textbackslash{}\\_ 251] 44.087\n",
       "\\item[Amostra\\textbackslash{}\\_ 252] 43.565\n",
       "\\item[Amostra\\textbackslash{}\\_ 253] 44.6375\n",
       "\\item[Amostra\\textbackslash{}\\_ 254] 43.163\n",
       "\\item[Amostra\\textbackslash{}\\_ 255] 44.443\n",
       "\\item[Amostra\\textbackslash{}\\_ 256] 44.032\n",
       "\\item[Amostra\\textbackslash{}\\_ 257] 44.547\n",
       "\\item[Amostra\\textbackslash{}\\_ 258] 44.3455\n",
       "\\item[Amostra\\textbackslash{}\\_ 259] 44.2335\n",
       "\\item[Amostra\\textbackslash{}\\_ 260] 44.0545\n",
       "\\item[Amostra\\textbackslash{}\\_ 261] 44.376\n",
       "\\item[Amostra\\textbackslash{}\\_ 262] 43.628\n",
       "\\item[Amostra\\textbackslash{}\\_ 263] 44.4055\n",
       "\\item[Amostra\\textbackslash{}\\_ 264] 44.6\n",
       "\\item[Amostra\\textbackslash{}\\_ 265] 44.0135\n",
       "\\item[Amostra\\textbackslash{}\\_ 266] 43.9135\n",
       "\\item[Amostra\\textbackslash{}\\_ 267] 44.0965\n",
       "\\item[Amostra\\textbackslash{}\\_ 268] 43.8515\n",
       "\\item[Amostra\\textbackslash{}\\_ 269] 44.5785\n",
       "\\item[Amostra\\textbackslash{}\\_ 270] 44.0085\n",
       "\\item[Amostra\\textbackslash{}\\_ 271] 44.2575\n",
       "\\item[Amostra\\textbackslash{}\\_ 272] 43.986\n",
       "\\item[Amostra\\textbackslash{}\\_ 273] 44.467\n",
       "\\item[Amostra\\textbackslash{}\\_ 274] 44.105\n",
       "\\item[Amostra\\textbackslash{}\\_ 275] 43.6085\n",
       "\\item[Amostra\\textbackslash{}\\_ 276] 44.1395\n",
       "\\item[Amostra\\textbackslash{}\\_ 277] 44.8195\n",
       "\\item[Amostra\\textbackslash{}\\_ 278] 44.0995\n",
       "\\item[Amostra\\textbackslash{}\\_ 279] 43.804\n",
       "\\item[Amostra\\textbackslash{}\\_ 280] 44.331\n",
       "\\item[Amostra\\textbackslash{}\\_ 281] 44.3385\n",
       "\\item[Amostra\\textbackslash{}\\_ 282] 44.0575\n",
       "\\item[Amostra\\textbackslash{}\\_ 283] 43.8305\n",
       "\\item[Amostra\\textbackslash{}\\_ 284] 44.182\n",
       "\\item[Amostra\\textbackslash{}\\_ 285] 43.687\n",
       "\\item[Amostra\\textbackslash{}\\_ 286] 44.18\n",
       "\\item[Amostra\\textbackslash{}\\_ 287] 43.6965\n",
       "\\item[Amostra\\textbackslash{}\\_ 288] 43.5615\n",
       "\\item[Amostra\\textbackslash{}\\_ 289] 43.6195\n",
       "\\item[Amostra\\textbackslash{}\\_ 290] 43.952\n",
       "\\item[Amostra\\textbackslash{}\\_ 291] 44.3335\n",
       "\\item[Amostra\\textbackslash{}\\_ 292] 43.7435\n",
       "\\item[Amostra\\textbackslash{}\\_ 293] 44.4015\n",
       "\\item[Amostra\\textbackslash{}\\_ 294] 44.3235\n",
       "\\item[Amostra\\textbackslash{}\\_ 295] 44.099\n",
       "\\item[Amostra\\textbackslash{}\\_ 296] 44.054\n",
       "\\item[Amostra\\textbackslash{}\\_ 297] 43.77\n",
       "\\item[Amostra\\textbackslash{}\\_ 298] 44.524\n",
       "\\item[Amostra\\textbackslash{}\\_ 299] 43.599\n",
       "\\item[Amostra\\textbackslash{}\\_ 300] 43.793\n",
       "\\item[Amostra\\textbackslash{}\\_ 301] 44.2425\n",
       "\\item[Amostra\\textbackslash{}\\_ 302] 44.1245\n",
       "\\item[Amostra\\textbackslash{}\\_ 303] 44.0555\n",
       "\\item[Amostra\\textbackslash{}\\_ 304] 44.605\n",
       "\\item[Amostra\\textbackslash{}\\_ 305] 43.9035\n",
       "\\item[Amostra\\textbackslash{}\\_ 306] 43.807\n",
       "\\item[Amostra\\textbackslash{}\\_ 307] 43.941\n",
       "\\item[Amostra\\textbackslash{}\\_ 308] 44.416\n",
       "\\item[Amostra\\textbackslash{}\\_ 309] 44.6145\n",
       "\\item[Amostra\\textbackslash{}\\_ 310] 43.7735\n",
       "\\item[Amostra\\textbackslash{}\\_ 311] 43.8055\n",
       "\\item[Amostra\\textbackslash{}\\_ 312] 43.9\n",
       "\\item[Amostra\\textbackslash{}\\_ 313] 44.021\n",
       "\\item[Amostra\\textbackslash{}\\_ 314] 43.81\n",
       "\\item[Amostra\\textbackslash{}\\_ 315] 44.5075\n",
       "\\item[Amostra\\textbackslash{}\\_ 316] 44.6525\n",
       "\\item[Amostra\\textbackslash{}\\_ 317] 44.262\n",
       "\\item[Amostra\\textbackslash{}\\_ 318] 44.048\n",
       "\\item[Amostra\\textbackslash{}\\_ 319] 44.0705\n",
       "\\item[Amostra\\textbackslash{}\\_ 320] 44.2015\n",
       "\\item[Amostra\\textbackslash{}\\_ 321] 43.7735\n",
       "\\item[Amostra\\textbackslash{}\\_ 322] 44.2125\n",
       "\\item[Amostra\\textbackslash{}\\_ 323] 44.641\n",
       "\\item[Amostra\\textbackslash{}\\_ 324] 44.2205\n",
       "\\item[Amostra\\textbackslash{}\\_ 325] 43.959\n",
       "\\item[Amostra\\textbackslash{}\\_ 326] 44.1595\n",
       "\\item[Amostra\\textbackslash{}\\_ 327] 44.013\n",
       "\\item[Amostra\\textbackslash{}\\_ 328] 44.516\n",
       "\\item[Amostra\\textbackslash{}\\_ 329] 43.7485\n",
       "\\item[Amostra\\textbackslash{}\\_ 330] 44.2045\n",
       "\\item[Amostra\\textbackslash{}\\_ 331] 44.334\n",
       "\\item[Amostra\\textbackslash{}\\_ 332] 43.8055\n",
       "\\item[Amostra\\textbackslash{}\\_ 333] 44.2445\n",
       "\\item[Amostra\\textbackslash{}\\_ 334] 44.4345\n",
       "\\item[Amostra\\textbackslash{}\\_ 335] 44.3055\n",
       "\\item[Amostra\\textbackslash{}\\_ 336] 44.064\n",
       "\\item[Amostra\\textbackslash{}\\_ 337] 44.253\n",
       "\\item[Amostra\\textbackslash{}\\_ 338] 43.5905\n",
       "\\item[Amostra\\textbackslash{}\\_ 339] 43.98\n",
       "\\item[Amostra\\textbackslash{}\\_ 340] 44.1635\n",
       "\\item[Amostra\\textbackslash{}\\_ 341] 44.171\n",
       "\\item[Amostra\\textbackslash{}\\_ 342] 43.9115\n",
       "\\item[Amostra\\textbackslash{}\\_ 343] 44.6805\n",
       "\\item[Amostra\\textbackslash{}\\_ 344] 43.6135\n",
       "\\item[Amostra\\textbackslash{}\\_ 345] 43.6405\n",
       "\\item[Amostra\\textbackslash{}\\_ 346] 44.6475\n",
       "\\item[Amostra\\textbackslash{}\\_ 347] 43.859\n",
       "\\item[Amostra\\textbackslash{}\\_ 348] 43.8205\n",
       "\\item[Amostra\\textbackslash{}\\_ 349] 44.2455\n",
       "\\item[Amostra\\textbackslash{}\\_ 350] 44.795\n",
       "\\item[Amostra\\textbackslash{}\\_ 351] 45.0015\n",
       "\\item[Amostra\\textbackslash{}\\_ 352] 43.811\n",
       "\\item[Amostra\\textbackslash{}\\_ 353] 44.0105\n",
       "\\item[Amostra\\textbackslash{}\\_ 354] 44.339\n",
       "\\item[Amostra\\textbackslash{}\\_ 355] 43.857\n",
       "\\item[Amostra\\textbackslash{}\\_ 356] 44.1745\n",
       "\\item[Amostra\\textbackslash{}\\_ 357] 44.4565\n",
       "\\item[Amostra\\textbackslash{}\\_ 358] 44.0855\n",
       "\\item[Amostra\\textbackslash{}\\_ 359] 44.0645\n",
       "\\item[Amostra\\textbackslash{}\\_ 360] 44.3185\n",
       "\\item[Amostra\\textbackslash{}\\_ 361] 43.9815\n",
       "\\item[Amostra\\textbackslash{}\\_ 362] 44.285\n",
       "\\item[Amostra\\textbackslash{}\\_ 363] 44.2305\n",
       "\\item[Amostra\\textbackslash{}\\_ 364] 44.046\n",
       "\\item[Amostra\\textbackslash{}\\_ 365] 43.8025\n",
       "\\item[Amostra\\textbackslash{}\\_ 366] 44.056\n",
       "\\item[Amostra\\textbackslash{}\\_ 367] 43.615\n",
       "\\item[Amostra\\textbackslash{}\\_ 368] 44.186\n",
       "\\item[Amostra\\textbackslash{}\\_ 369] 44.199\n",
       "\\item[Amostra\\textbackslash{}\\_ 370] 44.128\n",
       "\\item[Amostra\\textbackslash{}\\_ 371] 43.835\n",
       "\\item[Amostra\\textbackslash{}\\_ 372] 43.932\n",
       "\\item[Amostra\\textbackslash{}\\_ 373] 44.104\n",
       "\\item[Amostra\\textbackslash{}\\_ 374] 43.7745\n",
       "\\item[Amostra\\textbackslash{}\\_ 375] 43.8145\n",
       "\\item[Amostra\\textbackslash{}\\_ 376] 43.975\n",
       "\\item[Amostra\\textbackslash{}\\_ 377] 43.9215\n",
       "\\item[Amostra\\textbackslash{}\\_ 378] 44.4515\n",
       "\\item[Amostra\\textbackslash{}\\_ 379] 44.007\n",
       "\\item[Amostra\\textbackslash{}\\_ 380] 44.4055\n",
       "\\item[Amostra\\textbackslash{}\\_ 381] 44.255\n",
       "\\item[Amostra\\textbackslash{}\\_ 382] 43.767\n",
       "\\item[Amostra\\textbackslash{}\\_ 383] 43.685\n",
       "\\item[Amostra\\textbackslash{}\\_ 384] 43.751\n",
       "\\item[Amostra\\textbackslash{}\\_ 385] 43.8765\n",
       "\\item[Amostra\\textbackslash{}\\_ 386] 43.956\n",
       "\\item[Amostra\\textbackslash{}\\_ 387] 44.14\n",
       "\\item[Amostra\\textbackslash{}\\_ 388] 43.7685\n",
       "\\item[Amostra\\textbackslash{}\\_ 389] 43.9765\n",
       "\\item[Amostra\\textbackslash{}\\_ 390] 44.231\n",
       "\\item[Amostra\\textbackslash{}\\_ 391] 44.3285\n",
       "\\item[Amostra\\textbackslash{}\\_ 392] 43.73\n",
       "\\item[Amostra\\textbackslash{}\\_ 393] 44.229\n",
       "\\item[Amostra\\textbackslash{}\\_ 394] 43.697\n",
       "\\item[Amostra\\textbackslash{}\\_ 395] 44.068\n",
       "\\item[Amostra\\textbackslash{}\\_ 396] 44.0575\n",
       "\\item[Amostra\\textbackslash{}\\_ 397] 43.772\n",
       "\\item[Amostra\\textbackslash{}\\_ 398] 44.3355\n",
       "\\item[Amostra\\textbackslash{}\\_ 399] 44.163\n",
       "\\item[Amostra\\textbackslash{}\\_ 400] 44.28\n",
       "\\item[Amostra\\textbackslash{}\\_ 401] 44.3715\n",
       "\\end{description*}\n"
      ],
      "text/markdown": [
       "Amostra_1\n",
       ":   44.1325Amostra_ 2\n",
       ":   43.656Amostra_ 3\n",
       ":   43.8715Amostra_ 4\n",
       ":   43.876Amostra_ 5\n",
       ":   43.5155Amostra_ 6\n",
       ":   44.007Amostra_ 7\n",
       ":   43.5295Amostra_ 8\n",
       ":   44.223Amostra_ 9\n",
       ":   44.315Amostra_ 10\n",
       ":   43.829Amostra_ 11\n",
       ":   44.3415Amostra_ 12\n",
       ":   43.8045Amostra_ 13\n",
       ":   43.755Amostra_ 14\n",
       ":   44.079Amostra_ 15\n",
       ":   44.3125Amostra_ 16\n",
       ":   43.8855Amostra_ 17\n",
       ":   43.7315Amostra_ 18\n",
       ":   43.997Amostra_ 19\n",
       ":   44.5505Amostra_ 20\n",
       ":   44.2125Amostra_ 21\n",
       ":   44.1655Amostra_ 22\n",
       ":   44.0095Amostra_ 23\n",
       ":   44.097Amostra_ 24\n",
       ":   43.3655Amostra_ 25\n",
       ":   43.991Amostra_ 26\n",
       ":   44.126Amostra_ 27\n",
       ":   44.0895Amostra_ 28\n",
       ":   44.309Amostra_ 29\n",
       ":   44.2195Amostra_ 30\n",
       ":   44.4865Amostra_ 31\n",
       ":   44.14Amostra_ 32\n",
       ":   43.806Amostra_ 33\n",
       ":   43.681Amostra_ 34\n",
       ":   44.2655Amostra_ 35\n",
       ":   43.879Amostra_ 36\n",
       ":   43.9495Amostra_ 37\n",
       ":   44.2525Amostra_ 38\n",
       ":   44.6825Amostra_ 39\n",
       ":   44.07Amostra_ 40\n",
       ":   44.1265Amostra_ 41\n",
       ":   44.225Amostra_ 42\n",
       ":   44.3625Amostra_ 43\n",
       ":   44.404Amostra_ 44\n",
       ":   43.9825Amostra_ 45\n",
       ":   43.5265Amostra_ 46\n",
       ":   44.064Amostra_ 47\n",
       ":   43.9385Amostra_ 48\n",
       ":   44.017Amostra_ 49\n",
       ":   44.454Amostra_ 50\n",
       ":   43.831Amostra_ 51\n",
       ":   44.137Amostra_ 52\n",
       ":   43.688Amostra_ 53\n",
       ":   44.333Amostra_ 54\n",
       ":   44.7615Amostra_ 55\n",
       ":   44.213Amostra_ 56\n",
       ":   44.2965Amostra_ 57\n",
       ":   44.47Amostra_ 58\n",
       ":   43.804Amostra_ 59\n",
       ":   44.11Amostra_ 60\n",
       ":   44.568Amostra_ 61\n",
       ":   44.1275Amostra_ 62\n",
       ":   44.1285Amostra_ 63\n",
       ":   44.219Amostra_ 64\n",
       ":   44.4155Amostra_ 65\n",
       ":   44.259Amostra_ 66\n",
       ":   44.595Amostra_ 67\n",
       ":   44.2925Amostra_ 68\n",
       ":   43.533Amostra_ 69\n",
       ":   44.612Amostra_ 70\n",
       ":   43.757Amostra_ 71\n",
       ":   44.307Amostra_ 72\n",
       ":   44.4735Amostra_ 73\n",
       ":   43.7885Amostra_ 74\n",
       ":   43.9195Amostra_ 75\n",
       ":   43.9815Amostra_ 76\n",
       ":   44.1725Amostra_ 77\n",
       ":   44.295Amostra_ 78\n",
       ":   44.2365Amostra_ 79\n",
       ":   43.859Amostra_ 80\n",
       ":   44.4635Amostra_ 81\n",
       ":   44.1515Amostra_ 82\n",
       ":   44.4015Amostra_ 83\n",
       ":   44.104Amostra_ 84\n",
       ":   44.2275Amostra_ 85\n",
       ":   43.92Amostra_ 86\n",
       ":   43.8685Amostra_ 87\n",
       ":   44.255Amostra_ 88\n",
       ":   43.4865Amostra_ 89\n",
       ":   43.754Amostra_ 90\n",
       ":   43.8625Amostra_ 91\n",
       ":   44.047Amostra_ 92\n",
       ":   44.4355Amostra_ 93\n",
       ":   43.951Amostra_ 94\n",
       ":   44.0955Amostra_ 95\n",
       ":   43.7355Amostra_ 96\n",
       ":   44.0335Amostra_ 97\n",
       ":   43.831Amostra_ 98\n",
       ":   44Amostra_ 99\n",
       ":   43.6645Amostra_ 100\n",
       ":   43.965Amostra_ 101\n",
       ":   44.16Amostra_ 102\n",
       ":   43.9495Amostra_ 103\n",
       ":   43.6905Amostra_ 104\n",
       ":   44.4165Amostra_ 105\n",
       ":   44.2125Amostra_ 106\n",
       ":   44.293Amostra_ 107\n",
       ":   43.6885Amostra_ 108\n",
       ":   44.1905Amostra_ 109\n",
       ":   43.8825Amostra_ 110\n",
       ":   44.372Amostra_ 111\n",
       ":   44.2515Amostra_ 112\n",
       ":   44.3225Amostra_ 113\n",
       ":   44.202Amostra_ 114\n",
       ":   44.238Amostra_ 115\n",
       ":   43.7375Amostra_ 116\n",
       ":   44.0905Amostra_ 117\n",
       ":   44.2505Amostra_ 118\n",
       ":   43.783Amostra_ 119\n",
       ":   43.988Amostra_ 120\n",
       ":   43.9125Amostra_ 121\n",
       ":   43.438Amostra_ 122\n",
       ":   44.2605Amostra_ 123\n",
       ":   44.288Amostra_ 124\n",
       ":   44.0005Amostra_ 125\n",
       ":   44.0435Amostra_ 126\n",
       ":   44.024Amostra_ 127\n",
       ":   43.9815Amostra_ 128\n",
       ":   44.2025Amostra_ 129\n",
       ":   44.3245Amostra_ 130\n",
       ":   44.1595Amostra_ 131\n",
       ":   43.714Amostra_ 132\n",
       ":   43.607Amostra_ 133\n",
       ":   44.072Amostra_ 134\n",
       ":   44.2095Amostra_ 135\n",
       ":   44.2035Amostra_ 136\n",
       ":   43.8575Amostra_ 137\n",
       ":   43.964Amostra_ 138\n",
       ":   44.667Amostra_ 139\n",
       ":   44.12Amostra_ 140\n",
       ":   44.0025Amostra_ 141\n",
       ":   44.02Amostra_ 142\n",
       ":   44.009Amostra_ 143\n",
       ":   44.617Amostra_ 144\n",
       ":   44.3375Amostra_ 145\n",
       ":   44.3725Amostra_ 146\n",
       ":   43.496Amostra_ 147\n",
       ":   44.7085Amostra_ 148\n",
       ":   44.2315Amostra_ 149\n",
       ":   43.8885Amostra_ 150\n",
       ":   43.573Amostra_ 151\n",
       ":   43.7405Amostra_ 152\n",
       ":   44.263Amostra_ 153\n",
       ":   43.9355Amostra_ 154\n",
       ":   43.701Amostra_ 155\n",
       ":   43.8175Amostra_ 156\n",
       ":   44.262Amostra_ 157\n",
       ":   43.315Amostra_ 158\n",
       ":   43.748Amostra_ 159\n",
       ":   43.878Amostra_ 160\n",
       ":   44.241Amostra_ 161\n",
       ":   44.5295Amostra_ 162\n",
       ":   44.1125Amostra_ 163\n",
       ":   43.844Amostra_ 164\n",
       ":   44.14Amostra_ 165\n",
       ":   43.9465Amostra_ 166\n",
       ":   44.582Amostra_ 167\n",
       ":   43.714Amostra_ 168\n",
       ":   44.5205Amostra_ 169\n",
       ":   44.3595Amostra_ 170\n",
       ":   43.8515Amostra_ 171\n",
       ":   43.8845Amostra_ 172\n",
       ":   44.2255Amostra_ 173\n",
       ":   44.1595Amostra_ 174\n",
       ":   43.8015Amostra_ 175\n",
       ":   44.282Amostra_ 176\n",
       ":   44.401Amostra_ 177\n",
       ":   44.2395Amostra_ 178\n",
       ":   44.485Amostra_ 179\n",
       ":   44.0785Amostra_ 180\n",
       ":   43.8855Amostra_ 181\n",
       ":   44.0825Amostra_ 182\n",
       ":   43.8045Amostra_ 183\n",
       ":   44.1215Amostra_ 184\n",
       ":   43.726Amostra_ 185\n",
       ":   44.533Amostra_ 186\n",
       ":   43.847Amostra_ 187\n",
       ":   44.2475Amostra_ 188\n",
       ":   44.116Amostra_ 189\n",
       ":   44.1785Amostra_ 190\n",
       ":   43.8255Amostra_ 191\n",
       ":   43.434Amostra_ 192\n",
       ":   44.0155Amostra_ 193\n",
       ":   44.31Amostra_ 194\n",
       ":   44.2735Amostra_ 195\n",
       ":   43.611Amostra_ 196\n",
       ":   44.2445Amostra_ 197\n",
       ":   43.699Amostra_ 198\n",
       ":   43.895Amostra_ 199\n",
       ":   43.834Amostra_ 200\n",
       ":   43.9715Amostra_ 201\n",
       ":   ...Amostra_ 202\n",
       ":   44.249Amostra_ 203\n",
       ":   44.347Amostra_ 204\n",
       ":   44.0035Amostra_ 205\n",
       ":   44.324Amostra_ 206\n",
       ":   43.9375Amostra_ 207\n",
       ":   43.8165Amostra_ 208\n",
       ":   44.252Amostra_ 209\n",
       ":   43.926Amostra_ 210\n",
       ":   44.235Amostra_ 211\n",
       ":   44.03Amostra_ 212\n",
       ":   44.0125Amostra_ 213\n",
       ":   44.2575Amostra_ 214\n",
       ":   44.32Amostra_ 215\n",
       ":   43.9565Amostra_ 216\n",
       ":   44.1075Amostra_ 217\n",
       ":   44.408Amostra_ 218\n",
       ":   44.163Amostra_ 219\n",
       ":   43.8885Amostra_ 220\n",
       ":   43.9025Amostra_ 221\n",
       ":   44.069Amostra_ 222\n",
       ":   43.841Amostra_ 223\n",
       ":   44.1425Amostra_ 224\n",
       ":   44.0915Amostra_ 225\n",
       ":   44.045Amostra_ 226\n",
       ":   44.1895Amostra_ 227\n",
       ":   43.845Amostra_ 228\n",
       ":   44.288Amostra_ 229\n",
       ":   43.997Amostra_ 230\n",
       ":   44.112Amostra_ 231\n",
       ":   44.4525Amostra_ 232\n",
       ":   43.9185Amostra_ 233\n",
       ":   43.997Amostra_ 234\n",
       ":   44.262Amostra_ 235\n",
       ":   43.7645Amostra_ 236\n",
       ":   43.457Amostra_ 237\n",
       ":   43.6695Amostra_ 238\n",
       ":   43.5285Amostra_ 239\n",
       ":   44.507Amostra_ 240\n",
       ":   44.4095Amostra_ 241\n",
       ":   44.3215Amostra_ 242\n",
       ":   43.8725Amostra_ 243\n",
       ":   43.797Amostra_ 244\n",
       ":   44.3475Amostra_ 245\n",
       ":   44.225Amostra_ 246\n",
       ":   44.034Amostra_ 247\n",
       ":   43.6175Amostra_ 248\n",
       ":   44.309Amostra_ 249\n",
       ":   44.1625Amostra_ 250\n",
       ":   44.0015Amostra_ 251\n",
       ":   44.087Amostra_ 252\n",
       ":   43.565Amostra_ 253\n",
       ":   44.6375Amostra_ 254\n",
       ":   43.163Amostra_ 255\n",
       ":   44.443Amostra_ 256\n",
       ":   44.032Amostra_ 257\n",
       ":   44.547Amostra_ 258\n",
       ":   44.3455Amostra_ 259\n",
       ":   44.2335Amostra_ 260\n",
       ":   44.0545Amostra_ 261\n",
       ":   44.376Amostra_ 262\n",
       ":   43.628Amostra_ 263\n",
       ":   44.4055Amostra_ 264\n",
       ":   44.6Amostra_ 265\n",
       ":   44.0135Amostra_ 266\n",
       ":   43.9135Amostra_ 267\n",
       ":   44.0965Amostra_ 268\n",
       ":   43.8515Amostra_ 269\n",
       ":   44.5785Amostra_ 270\n",
       ":   44.0085Amostra_ 271\n",
       ":   44.2575Amostra_ 272\n",
       ":   43.986Amostra_ 273\n",
       ":   44.467Amostra_ 274\n",
       ":   44.105Amostra_ 275\n",
       ":   43.6085Amostra_ 276\n",
       ":   44.1395Amostra_ 277\n",
       ":   44.8195Amostra_ 278\n",
       ":   44.0995Amostra_ 279\n",
       ":   43.804Amostra_ 280\n",
       ":   44.331Amostra_ 281\n",
       ":   44.3385Amostra_ 282\n",
       ":   44.0575Amostra_ 283\n",
       ":   43.8305Amostra_ 284\n",
       ":   44.182Amostra_ 285\n",
       ":   43.687Amostra_ 286\n",
       ":   44.18Amostra_ 287\n",
       ":   43.6965Amostra_ 288\n",
       ":   43.5615Amostra_ 289\n",
       ":   43.6195Amostra_ 290\n",
       ":   43.952Amostra_ 291\n",
       ":   44.3335Amostra_ 292\n",
       ":   43.7435Amostra_ 293\n",
       ":   44.4015Amostra_ 294\n",
       ":   44.3235Amostra_ 295\n",
       ":   44.099Amostra_ 296\n",
       ":   44.054Amostra_ 297\n",
       ":   43.77Amostra_ 298\n",
       ":   44.524Amostra_ 299\n",
       ":   43.599Amostra_ 300\n",
       ":   43.793Amostra_ 301\n",
       ":   44.2425Amostra_ 302\n",
       ":   44.1245Amostra_ 303\n",
       ":   44.0555Amostra_ 304\n",
       ":   44.605Amostra_ 305\n",
       ":   43.9035Amostra_ 306\n",
       ":   43.807Amostra_ 307\n",
       ":   43.941Amostra_ 308\n",
       ":   44.416Amostra_ 309\n",
       ":   44.6145Amostra_ 310\n",
       ":   43.7735Amostra_ 311\n",
       ":   43.8055Amostra_ 312\n",
       ":   43.9Amostra_ 313\n",
       ":   44.021Amostra_ 314\n",
       ":   43.81Amostra_ 315\n",
       ":   44.5075Amostra_ 316\n",
       ":   44.6525Amostra_ 317\n",
       ":   44.262Amostra_ 318\n",
       ":   44.048Amostra_ 319\n",
       ":   44.0705Amostra_ 320\n",
       ":   44.2015Amostra_ 321\n",
       ":   43.7735Amostra_ 322\n",
       ":   44.2125Amostra_ 323\n",
       ":   44.641Amostra_ 324\n",
       ":   44.2205Amostra_ 325\n",
       ":   43.959Amostra_ 326\n",
       ":   44.1595Amostra_ 327\n",
       ":   44.013Amostra_ 328\n",
       ":   44.516Amostra_ 329\n",
       ":   43.7485Amostra_ 330\n",
       ":   44.2045Amostra_ 331\n",
       ":   44.334Amostra_ 332\n",
       ":   43.8055Amostra_ 333\n",
       ":   44.2445Amostra_ 334\n",
       ":   44.4345Amostra_ 335\n",
       ":   44.3055Amostra_ 336\n",
       ":   44.064Amostra_ 337\n",
       ":   44.253Amostra_ 338\n",
       ":   43.5905Amostra_ 339\n",
       ":   43.98Amostra_ 340\n",
       ":   44.1635Amostra_ 341\n",
       ":   44.171Amostra_ 342\n",
       ":   43.9115Amostra_ 343\n",
       ":   44.6805Amostra_ 344\n",
       ":   43.6135Amostra_ 345\n",
       ":   43.6405Amostra_ 346\n",
       ":   44.6475Amostra_ 347\n",
       ":   43.859Amostra_ 348\n",
       ":   43.8205Amostra_ 349\n",
       ":   44.2455Amostra_ 350\n",
       ":   44.795Amostra_ 351\n",
       ":   45.0015Amostra_ 352\n",
       ":   43.811Amostra_ 353\n",
       ":   44.0105Amostra_ 354\n",
       ":   44.339Amostra_ 355\n",
       ":   43.857Amostra_ 356\n",
       ":   44.1745Amostra_ 357\n",
       ":   44.4565Amostra_ 358\n",
       ":   44.0855Amostra_ 359\n",
       ":   44.0645Amostra_ 360\n",
       ":   44.3185Amostra_ 361\n",
       ":   43.9815Amostra_ 362\n",
       ":   44.285Amostra_ 363\n",
       ":   44.2305Amostra_ 364\n",
       ":   44.046Amostra_ 365\n",
       ":   43.8025Amostra_ 366\n",
       ":   44.056Amostra_ 367\n",
       ":   43.615Amostra_ 368\n",
       ":   44.186Amostra_ 369\n",
       ":   44.199Amostra_ 370\n",
       ":   44.128Amostra_ 371\n",
       ":   43.835Amostra_ 372\n",
       ":   43.932Amostra_ 373\n",
       ":   44.104Amostra_ 374\n",
       ":   43.7745Amostra_ 375\n",
       ":   43.8145Amostra_ 376\n",
       ":   43.975Amostra_ 377\n",
       ":   43.9215Amostra_ 378\n",
       ":   44.4515Amostra_ 379\n",
       ":   44.007Amostra_ 380\n",
       ":   44.4055Amostra_ 381\n",
       ":   44.255Amostra_ 382\n",
       ":   43.767Amostra_ 383\n",
       ":   43.685Amostra_ 384\n",
       ":   43.751Amostra_ 385\n",
       ":   43.8765Amostra_ 386\n",
       ":   43.956Amostra_ 387\n",
       ":   44.14Amostra_ 388\n",
       ":   43.7685Amostra_ 389\n",
       ":   43.9765Amostra_ 390\n",
       ":   44.231Amostra_ 391\n",
       ":   44.3285Amostra_ 392\n",
       ":   43.73Amostra_ 393\n",
       ":   44.229Amostra_ 394\n",
       ":   43.697Amostra_ 395\n",
       ":   44.068Amostra_ 396\n",
       ":   44.0575Amostra_ 397\n",
       ":   43.772Amostra_ 398\n",
       ":   44.3355Amostra_ 399\n",
       ":   44.163Amostra_ 400\n",
       ":   44.28Amostra_ 401\n",
       ":   44.3715\n",
       "\n"
      ],
      "text/plain": [
       "    Amostra_1    Amostra_ 2    Amostra_ 3    Amostra_ 4    Amostra_ 5 \n",
       "      44.1325       43.6560       43.8715       43.8760       43.5155 \n",
       "   Amostra_ 6    Amostra_ 7    Amostra_ 8    Amostra_ 9   Amostra_ 10 \n",
       "      44.0070       43.5295       44.2230       44.3150       43.8290 \n",
       "  Amostra_ 11   Amostra_ 12   Amostra_ 13   Amostra_ 14   Amostra_ 15 \n",
       "      44.3415       43.8045       43.7550       44.0790       44.3125 \n",
       "  Amostra_ 16   Amostra_ 17   Amostra_ 18   Amostra_ 19   Amostra_ 20 \n",
       "      43.8855       43.7315       43.9970       44.5505       44.2125 \n",
       "  Amostra_ 21   Amostra_ 22   Amostra_ 23   Amostra_ 24   Amostra_ 25 \n",
       "      44.1655       44.0095       44.0970       43.3655       43.9910 \n",
       "  Amostra_ 26   Amostra_ 27   Amostra_ 28   Amostra_ 29   Amostra_ 30 \n",
       "      44.1260       44.0895       44.3090       44.2195       44.4865 \n",
       "  Amostra_ 31   Amostra_ 32   Amostra_ 33   Amostra_ 34   Amostra_ 35 \n",
       "      44.1400       43.8060       43.6810       44.2655       43.8790 \n",
       "  Amostra_ 36   Amostra_ 37   Amostra_ 38   Amostra_ 39   Amostra_ 40 \n",
       "      43.9495       44.2525       44.6825       44.0700       44.1265 \n",
       "  Amostra_ 41   Amostra_ 42   Amostra_ 43   Amostra_ 44   Amostra_ 45 \n",
       "      44.2250       44.3625       44.4040       43.9825       43.5265 \n",
       "  Amostra_ 46   Amostra_ 47   Amostra_ 48   Amostra_ 49   Amostra_ 50 \n",
       "      44.0640       43.9385       44.0170       44.4540       43.8310 \n",
       "  Amostra_ 51   Amostra_ 52   Amostra_ 53   Amostra_ 54   Amostra_ 55 \n",
       "      44.1370       43.6880       44.3330       44.7615       44.2130 \n",
       "  Amostra_ 56   Amostra_ 57   Amostra_ 58   Amostra_ 59   Amostra_ 60 \n",
       "      44.2965       44.4700       43.8040       44.1100       44.5680 \n",
       "  Amostra_ 61   Amostra_ 62   Amostra_ 63   Amostra_ 64   Amostra_ 65 \n",
       "      44.1275       44.1285       44.2190       44.4155       44.2590 \n",
       "  Amostra_ 66   Amostra_ 67   Amostra_ 68   Amostra_ 69   Amostra_ 70 \n",
       "      44.5950       44.2925       43.5330       44.6120       43.7570 \n",
       "  Amostra_ 71   Amostra_ 72   Amostra_ 73   Amostra_ 74   Amostra_ 75 \n",
       "      44.3070       44.4735       43.7885       43.9195       43.9815 \n",
       "  Amostra_ 76   Amostra_ 77   Amostra_ 78   Amostra_ 79   Amostra_ 80 \n",
       "      44.1725       44.2950       44.2365       43.8590       44.4635 \n",
       "  Amostra_ 81   Amostra_ 82   Amostra_ 83   Amostra_ 84   Amostra_ 85 \n",
       "      44.1515       44.4015       44.1040       44.2275       43.9200 \n",
       "  Amostra_ 86   Amostra_ 87   Amostra_ 88   Amostra_ 89   Amostra_ 90 \n",
       "      43.8685       44.2550       43.4865       43.7540       43.8625 \n",
       "  Amostra_ 91   Amostra_ 92   Amostra_ 93   Amostra_ 94   Amostra_ 95 \n",
       "      44.0470       44.4355       43.9510       44.0955       43.7355 \n",
       "  Amostra_ 96   Amostra_ 97   Amostra_ 98   Amostra_ 99  Amostra_ 100 \n",
       "      44.0335       43.8310       44.0000       43.6645       43.9650 \n",
       " Amostra_ 101  Amostra_ 102  Amostra_ 103  Amostra_ 104  Amostra_ 105 \n",
       "      44.1600       43.9495       43.6905       44.4165       44.2125 \n",
       " Amostra_ 106  Amostra_ 107  Amostra_ 108  Amostra_ 109  Amostra_ 110 \n",
       "      44.2930       43.6885       44.1905       43.8825       44.3720 \n",
       " Amostra_ 111  Amostra_ 112  Amostra_ 113  Amostra_ 114  Amostra_ 115 \n",
       "      44.2515       44.3225       44.2020       44.2380       43.7375 \n",
       " Amostra_ 116  Amostra_ 117  Amostra_ 118  Amostra_ 119  Amostra_ 120 \n",
       "      44.0905       44.2505       43.7830       43.9880       43.9125 \n",
       " Amostra_ 121  Amostra_ 122  Amostra_ 123  Amostra_ 124  Amostra_ 125 \n",
       "      43.4380       44.2605       44.2880       44.0005       44.0435 \n",
       " Amostra_ 126  Amostra_ 127  Amostra_ 128  Amostra_ 129  Amostra_ 130 \n",
       "      44.0240       43.9815       44.2025       44.3245       44.1595 \n",
       " Amostra_ 131  Amostra_ 132  Amostra_ 133  Amostra_ 134  Amostra_ 135 \n",
       "      43.7140       43.6070       44.0720       44.2095       44.2035 \n",
       " Amostra_ 136  Amostra_ 137  Amostra_ 138  Amostra_ 139  Amostra_ 140 \n",
       "      43.8575       43.9640       44.6670       44.1200       44.0025 \n",
       " Amostra_ 141  Amostra_ 142  Amostra_ 143  Amostra_ 144  Amostra_ 145 \n",
       "      44.0200       44.0090       44.6170       44.3375       44.3725 \n",
       " Amostra_ 146  Amostra_ 147  Amostra_ 148  Amostra_ 149  Amostra_ 150 \n",
       "      43.4960       44.7085       44.2315       43.8885       43.5730 \n",
       " Amostra_ 151  Amostra_ 152  Amostra_ 153  Amostra_ 154  Amostra_ 155 \n",
       "      43.7405       44.2630       43.9355       43.7010       43.8175 \n",
       " Amostra_ 156  Amostra_ 157  Amostra_ 158  Amostra_ 159  Amostra_ 160 \n",
       "      44.2620       43.3150       43.7480       43.8780       44.2410 \n",
       " Amostra_ 161  Amostra_ 162  Amostra_ 163  Amostra_ 164  Amostra_ 165 \n",
       "      44.5295       44.1125       43.8440       44.1400       43.9465 \n",
       " Amostra_ 166  Amostra_ 167  Amostra_ 168  Amostra_ 169  Amostra_ 170 \n",
       "      44.5820       43.7140       44.5205       44.3595       43.8515 \n",
       " Amostra_ 171  Amostra_ 172  Amostra_ 173  Amostra_ 174  Amostra_ 175 \n",
       "      43.8845       44.2255       44.1595       43.8015       44.2820 \n",
       " Amostra_ 176  Amostra_ 177  Amostra_ 178  Amostra_ 179  Amostra_ 180 \n",
       "      44.4010       44.2395       44.4850       44.0785       43.8855 \n",
       " Amostra_ 181  Amostra_ 182  Amostra_ 183  Amostra_ 184  Amostra_ 185 \n",
       "      44.0825       43.8045       44.1215       43.7260       44.5330 \n",
       " Amostra_ 186  Amostra_ 187  Amostra_ 188  Amostra_ 189  Amostra_ 190 \n",
       "      43.8470       44.2475       44.1160       44.1785       43.8255 \n",
       " Amostra_ 191  Amostra_ 192  Amostra_ 193  Amostra_ 194  Amostra_ 195 \n",
       "      43.4340       44.0155       44.3100       44.2735       43.6110 \n",
       " Amostra_ 196  Amostra_ 197  Amostra_ 198  Amostra_ 199  Amostra_ 200 \n",
       "      44.2445       43.6990       43.8950       43.8340       43.9715 \n",
       " Amostra_ 201  Amostra_ 202  Amostra_ 203  Amostra_ 204  Amostra_ 205 \n",
       "      43.8765       44.1965       43.8440       44.0825       44.7820 \n",
       " Amostra_ 206  Amostra_ 207  Amostra_ 208  Amostra_ 209  Amostra_ 210 \n",
       "      44.2785       43.7140       43.4160       44.0835       43.9855 \n",
       " Amostra_ 211  Amostra_ 212  Amostra_ 213  Amostra_ 214  Amostra_ 215 \n",
       "      44.5300       43.8795       44.0040       43.6735       43.9270 \n",
       " Amostra_ 216  Amostra_ 217  Amostra_ 218  Amostra_ 219  Amostra_ 220 \n",
       "      44.1325       44.0130       44.0415       44.1490       44.2000 \n",
       " Amostra_ 221  Amostra_ 222  Amostra_ 223  Amostra_ 224  Amostra_ 225 \n",
       "      44.3740       44.4555       43.9405       43.8585       43.9940 \n",
       " Amostra_ 226  Amostra_ 227  Amostra_ 228  Amostra_ 229  Amostra_ 230 \n",
       "      44.4660       43.9535       44.1070       43.9010       44.0710 \n",
       " Amostra_ 231  Amostra_ 232  Amostra_ 233  Amostra_ 234  Amostra_ 235 \n",
       "      44.2870       43.7625       44.5165       44.3855       43.7830 \n",
       " Amostra_ 236  Amostra_ 237  Amostra_ 238  Amostra_ 239  Amostra_ 240 \n",
       "      43.8770       44.3085       43.9175       44.5035       44.1410 \n",
       " Amostra_ 241  Amostra_ 242  Amostra_ 243  Amostra_ 244  Amostra_ 245 \n",
       "      44.2485       43.9625       43.8905       44.1110       43.5845 \n",
       " Amostra_ 246  Amostra_ 247  Amostra_ 248  Amostra_ 249  Amostra_ 250 \n",
       "      44.0510       43.8380       44.1795       43.7235       44.3185 \n",
       " Amostra_ 251  Amostra_ 252  Amostra_ 253  Amostra_ 254  Amostra_ 255 \n",
       "      43.9450       44.3060       43.8870       44.1765       44.1530 \n",
       " Amostra_ 256  Amostra_ 257  Amostra_ 258  Amostra_ 259  Amostra_ 260 \n",
       "      44.3465       44.5835       44.1990       44.4995       43.9940 \n",
       " Amostra_ 261  Amostra_ 262  Amostra_ 263  Amostra_ 264  Amostra_ 265 \n",
       "      43.5520       44.0735       44.3345       43.8270       43.8815 \n",
       " Amostra_ 266  Amostra_ 267  Amostra_ 268  Amostra_ 269  Amostra_ 270 \n",
       "      43.8940       43.5785       43.9790       44.2235       43.9200 \n",
       " Amostra_ 271  Amostra_ 272  Amostra_ 273  Amostra_ 274  Amostra_ 275 \n",
       "      44.0085       44.1935       44.3925       44.0080       44.3795 \n",
       " Amostra_ 276  Amostra_ 277  Amostra_ 278  Amostra_ 279  Amostra_ 280 \n",
       "      43.6415       44.2170       44.0320       44.0390       44.3540 \n",
       " Amostra_ 281  Amostra_ 282  Amostra_ 283  Amostra_ 284  Amostra_ 285 \n",
       "      44.4940       43.9910       44.1000       43.8425       43.9400 \n",
       " Amostra_ 286  Amostra_ 287  Amostra_ 288  Amostra_ 289  Amostra_ 290 \n",
       "      43.6985       43.5995       43.6930       44.2700       44.1350 \n",
       " Amostra_ 291  Amostra_ 292  Amostra_ 293  Amostra_ 294  Amostra_ 295 \n",
       "      43.9155       44.6210       44.1845       44.0485       43.8295 \n",
       " Amostra_ 296  Amostra_ 297  Amostra_ 298  Amostra_ 299  Amostra_ 300 \n",
       "      43.7875       44.0905       44.1965       44.1950       44.2185 \n",
       " Amostra_ 301  Amostra_ 302  Amostra_ 303  Amostra_ 304  Amostra_ 305 \n",
       "      44.3020       44.2405       43.8060       43.8255       43.7390 \n",
       " Amostra_ 306  Amostra_ 307  Amostra_ 308  Amostra_ 309  Amostra_ 310 \n",
       "      44.0700       43.7350       43.6630       44.3615       43.3875 \n",
       " Amostra_ 311  Amostra_ 312  Amostra_ 313  Amostra_ 314  Amostra_ 315 \n",
       "      43.7645       43.5580       44.0845       44.0845       44.2605 \n",
       " Amostra_ 316  Amostra_ 317  Amostra_ 318  Amostra_ 319  Amostra_ 320 \n",
       "      44.2355       44.0145       44.2135       44.0025       44.5230 \n",
       " Amostra_ 321  Amostra_ 322  Amostra_ 323  Amostra_ 324  Amostra_ 325 \n",
       "      43.9545       43.9805       43.5055       44.2925       44.5305 \n",
       " Amostra_ 326  Amostra_ 327  Amostra_ 328  Amostra_ 329  Amostra_ 330 \n",
       "      43.3510       44.0810       44.0090       44.4540       44.7115 \n",
       " Amostra_ 331  Amostra_ 332  Amostra_ 333  Amostra_ 334  Amostra_ 335 \n",
       "      44.1250       44.2645       43.9345       43.8925       44.4675 \n",
       " Amostra_ 336  Amostra_ 337  Amostra_ 338  Amostra_ 339  Amostra_ 340 \n",
       "      44.1460       43.8720       44.1730       43.8675       44.6130 \n",
       " Amostra_ 341  Amostra_ 342  Amostra_ 343  Amostra_ 344  Amostra_ 345 \n",
       "      43.8860       44.4985       43.9840       43.8315       43.7775 \n",
       " Amostra_ 346  Amostra_ 347  Amostra_ 348  Amostra_ 349  Amostra_ 350 \n",
       "      44.3240       44.1625       43.7155       43.6065       43.9745 \n",
       " Amostra_ 351  Amostra_ 352  Amostra_ 353  Amostra_ 354  Amostra_ 355 \n",
       "      44.0170       43.4370       43.6580       43.8395       44.2110 \n",
       " Amostra_ 356  Amostra_ 357  Amostra_ 358  Amostra_ 359  Amostra_ 360 \n",
       "      44.4575       43.9510       43.8305       44.0805       43.4645 \n",
       " Amostra_ 361  Amostra_ 362  Amostra_ 363  Amostra_ 364  Amostra_ 365 \n",
       "      44.3215       44.2690       44.1480       44.3675       44.3200 \n",
       " Amostra_ 366  Amostra_ 367  Amostra_ 368  Amostra_ 369  Amostra_ 370 \n",
       "      44.1650       44.3345       44.2835       44.3510       44.2270 \n",
       " Amostra_ 371  Amostra_ 372  Amostra_ 373  Amostra_ 374  Amostra_ 375 \n",
       "      44.3195       43.9095       44.0525       44.0865       44.1125 \n",
       " Amostra_ 376  Amostra_ 377  Amostra_ 378  Amostra_ 379  Amostra_ 380 \n",
       "      44.1495       43.9945       44.1730       44.1670       43.5495 \n",
       " Amostra_ 381  Amostra_ 382  Amostra_ 383  Amostra_ 384  Amostra_ 385 \n",
       "      44.4210       44.1600       44.1870       44.2020       44.1370 \n",
       " Amostra_ 386  Amostra_ 387  Amostra_ 388  Amostra_ 389  Amostra_ 390 \n",
       "      44.3960       43.4705       44.6180       43.9615       44.5205 \n",
       " Amostra_ 391  Amostra_ 392  Amostra_ 393  Amostra_ 394  Amostra_ 395 \n",
       "      44.5880       43.7900       43.8395       43.7320       44.0880 \n",
       " Amostra_ 396  Amostra_ 397  Amostra_ 398  Amostra_ 399  Amostra_ 400 \n",
       "      44.0680       43.9910       43.3805       44.1695       44.0910 \n",
       " Amostra_ 401  Amostra_ 402  Amostra_ 403  Amostra_ 404  Amostra_ 405 \n",
       "      44.1060       44.0835       44.2750       43.7385       44.4465 \n",
       " Amostra_ 406  Amostra_ 407  Amostra_ 408  Amostra_ 409  Amostra_ 410 \n",
       "      44.0785       44.3290       43.1775       43.8185       44.2625 \n",
       " Amostra_ 411  Amostra_ 412  Amostra_ 413  Amostra_ 414  Amostra_ 415 \n",
       "      44.2680       43.4370       43.3440       44.2385       43.7515 \n",
       " Amostra_ 416  Amostra_ 417  Amostra_ 418  Amostra_ 419  Amostra_ 420 \n",
       "      43.8985       43.9885       43.9085       44.2335       44.0720 \n",
       " Amostra_ 421  Amostra_ 422  Amostra_ 423  Amostra_ 424  Amostra_ 425 \n",
       "      44.3890       43.8665       43.7750       43.9320       44.3960 \n",
       " Amostra_ 426  Amostra_ 427  Amostra_ 428  Amostra_ 429  Amostra_ 430 \n",
       "      44.0230       43.8765       44.9295       44.1045       43.8530 \n",
       " Amostra_ 431  Amostra_ 432  Amostra_ 433  Amostra_ 434  Amostra_ 435 \n",
       "      43.6990       43.8920       44.4800       44.2100       44.0125 \n",
       " Amostra_ 436  Amostra_ 437  Amostra_ 438  Amostra_ 439  Amostra_ 440 \n",
       "      43.9115       44.6265       44.1940       44.1045       44.2910 \n",
       " Amostra_ 441  Amostra_ 442  Amostra_ 443  Amostra_ 444  Amostra_ 445 \n",
       "      43.7955       44.0920       43.7635       44.2605       44.3310 \n",
       " Amostra_ 446  Amostra_ 447  Amostra_ 448  Amostra_ 449  Amostra_ 450 \n",
       "      43.6425       44.0975       43.8745       44.2120       43.8215 \n",
       " Amostra_ 451  Amostra_ 452  Amostra_ 453  Amostra_ 454  Amostra_ 455 \n",
       "      44.1225       44.2880       43.8620       43.8425       44.0565 \n",
       " Amostra_ 456  Amostra_ 457  Amostra_ 458  Amostra_ 459  Amostra_ 460 \n",
       "      43.5525       44.1915       44.2425       44.1670       44.4195 \n",
       " Amostra_ 461  Amostra_ 462  Amostra_ 463  Amostra_ 464  Amostra_ 465 \n",
       "      44.2840       44.1460       43.7230       44.2155       43.7895 \n",
       " Amostra_ 466  Amostra_ 467  Amostra_ 468  Amostra_ 469  Amostra_ 470 \n",
       "      43.7605       44.3200       43.8290       44.1655       44.4635 \n",
       " Amostra_ 471  Amostra_ 472  Amostra_ 473  Amostra_ 474  Amostra_ 475 \n",
       "      44.0685       44.1155       43.8380       44.0260       43.9500 \n",
       " Amostra_ 476  Amostra_ 477  Amostra_ 478  Amostra_ 479  Amostra_ 480 \n",
       "      43.9605       44.3175       44.1235       44.1690       44.1895 \n",
       " Amostra_ 481  Amostra_ 482  Amostra_ 483  Amostra_ 484  Amostra_ 485 \n",
       "      44.0915       44.0110       44.4585       44.1335       43.8705 \n",
       " Amostra_ 486  Amostra_ 487  Amostra_ 488  Amostra_ 489  Amostra_ 490 \n",
       "      43.6650       43.9845       44.0320       43.5720       43.6780 \n",
       " Amostra_ 491  Amostra_ 492  Amostra_ 493  Amostra_ 494  Amostra_ 495 \n",
       "      44.1165       43.6450       43.8790       43.6835       44.4705 \n",
       " Amostra_ 496  Amostra_ 497  Amostra_ 498  Amostra_ 499  Amostra_ 500 \n",
       "      44.2875       44.3205       43.4450       44.2050       43.8550 \n",
       " Amostra_ 501  Amostra_ 502  Amostra_ 503  Amostra_ 504  Amostra_ 505 \n",
       "      44.2325       44.4390       44.3455       44.6950       43.5285 \n",
       " Amostra_ 506  Amostra_ 507  Amostra_ 508  Amostra_ 509  Amostra_ 510 \n",
       "      44.0085       44.2595       43.7585       43.9710       44.2865 \n",
       " Amostra_ 511  Amostra_ 512  Amostra_ 513  Amostra_ 514  Amostra_ 515 \n",
       "      44.2570       43.8690       44.2930       43.8410       43.9520 \n",
       " Amostra_ 516  Amostra_ 517  Amostra_ 518  Amostra_ 519  Amostra_ 520 \n",
       "      43.7115       44.8925       44.4255       43.9130       44.5120 \n",
       " Amostra_ 521  Amostra_ 522  Amostra_ 523  Amostra_ 524  Amostra_ 525 \n",
       "      43.8875       43.8945       43.5995       44.2050       44.4575 \n",
       " Amostra_ 526  Amostra_ 527  Amostra_ 528  Amostra_ 529  Amostra_ 530 \n",
       "      43.6515       44.1605       43.9950       44.2230       43.7955 \n",
       " Amostra_ 531  Amostra_ 532  Amostra_ 533  Amostra_ 534  Amostra_ 535 \n",
       "      44.3155       44.1270       44.3660       44.0595       44.1505 \n",
       " Amostra_ 536  Amostra_ 537  Amostra_ 538  Amostra_ 539  Amostra_ 540 \n",
       "      43.8140       44.1545       44.2620       43.8910       43.8400 \n",
       " Amostra_ 541  Amostra_ 542  Amostra_ 543  Amostra_ 544  Amostra_ 545 \n",
       "      43.9910       44.0320       43.9525       44.3590       44.1505 \n",
       " Amostra_ 546  Amostra_ 547  Amostra_ 548  Amostra_ 549  Amostra_ 550 \n",
       "      44.0025       44.3315       43.5165       43.8380       43.8605 \n",
       " Amostra_ 551  Amostra_ 552  Amostra_ 553  Amostra_ 554  Amostra_ 555 \n",
       "      43.6425       43.7150       43.8220       43.6060       43.7620 \n",
       " Amostra_ 556  Amostra_ 557  Amostra_ 558  Amostra_ 559  Amostra_ 560 \n",
       "      44.3990       43.7005       43.5490       43.6265       43.5740 \n",
       " Amostra_ 561  Amostra_ 562  Amostra_ 563  Amostra_ 564  Amostra_ 565 \n",
       "      43.8520       43.8770       43.7800       43.5240       44.0180 \n",
       " Amostra_ 566  Amostra_ 567  Amostra_ 568  Amostra_ 569  Amostra_ 570 \n",
       "      43.5805       44.1740       43.6870       44.3330       43.8930 \n",
       " Amostra_ 571  Amostra_ 572  Amostra_ 573  Amostra_ 574  Amostra_ 575 \n",
       "      44.2250       44.2850       43.7470       43.7685       44.1440 \n",
       " Amostra_ 576  Amostra_ 577  Amostra_ 578  Amostra_ 579  Amostra_ 580 \n",
       "      43.7340       44.3155       43.9485       43.6715       44.1395 \n",
       " Amostra_ 581  Amostra_ 582  Amostra_ 583  Amostra_ 584  Amostra_ 585 \n",
       "      44.2045       43.5970       44.8155       44.0160       44.4155 \n",
       " Amostra_ 586  Amostra_ 587  Amostra_ 588  Amostra_ 589  Amostra_ 590 \n",
       "      44.2795       44.4570       43.8965       44.5720       44.2525 \n",
       " Amostra_ 591  Amostra_ 592  Amostra_ 593  Amostra_ 594  Amostra_ 595 \n",
       "      44.6970       43.8740       43.7300       43.9305       43.4090 \n",
       " Amostra_ 596  Amostra_ 597  Amostra_ 598  Amostra_ 599  Amostra_ 600 \n",
       "      43.8820       43.6900       43.9940       44.1895       43.6135 \n",
       " Amostra_ 601  Amostra_ 602  Amostra_ 603  Amostra_ 604  Amostra_ 605 \n",
       "      43.8875       43.8245       43.8355       43.8385       43.9525 \n",
       " Amostra_ 606  Amostra_ 607  Amostra_ 608  Amostra_ 609  Amostra_ 610 \n",
       "      44.3525       44.1400       44.0715       43.9900       44.0775 \n",
       " Amostra_ 611  Amostra_ 612  Amostra_ 613  Amostra_ 614  Amostra_ 615 \n",
       "      44.1300       43.9535       44.0635       44.0535       44.0040 \n",
       " Amostra_ 616  Amostra_ 617  Amostra_ 618  Amostra_ 619  Amostra_ 620 \n",
       "      44.5250       44.3910       44.0555       44.1525       44.4220 \n",
       " Amostra_ 621  Amostra_ 622  Amostra_ 623  Amostra_ 624  Amostra_ 625 \n",
       "      43.7490       44.4095       44.5405       43.9795       43.6240 \n",
       " Amostra_ 626  Amostra_ 627  Amostra_ 628  Amostra_ 629  Amostra_ 630 \n",
       "      43.6495       44.3490       44.2355       44.5860       44.1890 \n",
       " Amostra_ 631  Amostra_ 632  Amostra_ 633  Amostra_ 634  Amostra_ 635 \n",
       "      43.9525       44.2575       44.0685       44.2475       43.8450 \n",
       " Amostra_ 636  Amostra_ 637  Amostra_ 638  Amostra_ 639  Amostra_ 640 \n",
       "      44.2900       44.0650       44.2150       43.8660       44.4615 \n",
       " Amostra_ 641  Amostra_ 642  Amostra_ 643  Amostra_ 644  Amostra_ 645 \n",
       "      44.5025       44.5325       43.9240       44.1565       43.8575 \n",
       " Amostra_ 646  Amostra_ 647  Amostra_ 648  Amostra_ 649  Amostra_ 650 \n",
       "      44.0725       43.9465       43.7795       44.1485       44.2370 \n",
       " Amostra_ 651  Amostra_ 652  Amostra_ 653  Amostra_ 654  Amostra_ 655 \n",
       "      43.7550       43.8240       43.9150       44.5760       43.9420 \n",
       " Amostra_ 656  Amostra_ 657  Amostra_ 658  Amostra_ 659  Amostra_ 660 \n",
       "      44.1510       43.7280       44.3150       43.3235       44.0990 \n",
       " Amostra_ 661  Amostra_ 662  Amostra_ 663  Amostra_ 664  Amostra_ 665 \n",
       "      44.1675       43.8315       43.9500       43.8930       43.6785 \n",
       " Amostra_ 666  Amostra_ 667  Amostra_ 668  Amostra_ 669  Amostra_ 670 \n",
       "      44.1000       43.5780       43.6820       43.9800       43.9855 \n",
       " Amostra_ 671  Amostra_ 672  Amostra_ 673  Amostra_ 674  Amostra_ 675 \n",
       "      44.0765       44.0280       43.2795       43.8610       43.8520 \n",
       " Amostra_ 676  Amostra_ 677  Amostra_ 678  Amostra_ 679  Amostra_ 680 \n",
       "      44.0970       44.1350       44.3265       44.4195       44.0420 \n",
       " Amostra_ 681  Amostra_ 682  Amostra_ 683  Amostra_ 684  Amostra_ 685 \n",
       "      44.3180       43.9200       44.2355       43.5765       43.6380 \n",
       " Amostra_ 686  Amostra_ 687  Amostra_ 688  Amostra_ 689  Amostra_ 690 \n",
       "      43.6390       44.6400       44.1880       44.4660       43.8605 \n",
       " Amostra_ 691  Amostra_ 692  Amostra_ 693  Amostra_ 694  Amostra_ 695 \n",
       "      44.1510       43.9430       43.8930       43.9885       44.3550 \n",
       " Amostra_ 696  Amostra_ 697  Amostra_ 698  Amostra_ 699  Amostra_ 700 \n",
       "      44.3560       44.2645       44.2815       44.0485       44.2935 \n",
       " Amostra_ 701  Amostra_ 702  Amostra_ 703  Amostra_ 704  Amostra_ 705 \n",
       "      43.9240       43.8935       44.1480       44.0520       44.0595 \n",
       " Amostra_ 706  Amostra_ 707  Amostra_ 708  Amostra_ 709  Amostra_ 710 \n",
       "      43.6615       43.9890       44.1645       44.3855       43.9585 \n",
       " Amostra_ 711  Amostra_ 712  Amostra_ 713  Amostra_ 714  Amostra_ 715 \n",
       "      43.6185       43.5250       44.1365       43.4850       44.1215 \n",
       " Amostra_ 716  Amostra_ 717  Amostra_ 718  Amostra_ 719  Amostra_ 720 \n",
       "      44.0855       44.1575       44.0635       44.2880       43.7525 \n",
       " Amostra_ 721  Amostra_ 722  Amostra_ 723  Amostra_ 724  Amostra_ 725 \n",
       "      43.8575       43.6100       43.6155       43.8880       43.8085 \n",
       " Amostra_ 726  Amostra_ 727  Amostra_ 728  Amostra_ 729  Amostra_ 730 \n",
       "      44.0845       43.8905       44.5960       43.9905       43.8775 \n",
       " Amostra_ 731  Amostra_ 732  Amostra_ 733  Amostra_ 734  Amostra_ 735 \n",
       "      44.3165       43.8300       43.6490       44.1045       44.1450 \n",
       " Amostra_ 736  Amostra_ 737  Amostra_ 738  Amostra_ 739  Amostra_ 740 \n",
       "      44.2070       44.1605       44.1430       44.2360       44.2320 \n",
       " Amostra_ 741  Amostra_ 742  Amostra_ 743  Amostra_ 744  Amostra_ 745 \n",
       "      44.0935       43.9710       44.1025       43.2330       43.9600 \n",
       " Amostra_ 746  Amostra_ 747  Amostra_ 748  Amostra_ 749  Amostra_ 750 \n",
       "      43.6860       44.3435       43.7120       44.1475       44.0760 \n",
       " Amostra_ 751  Amostra_ 752  Amostra_ 753  Amostra_ 754  Amostra_ 755 \n",
       "      43.4830       43.5910       44.1995       44.5840       43.7770 \n",
       " Amostra_ 756  Amostra_ 757  Amostra_ 758  Amostra_ 759  Amostra_ 760 \n",
       "      44.0125       44.1015       44.2700       43.5205       44.8335 \n",
       " Amostra_ 761  Amostra_ 762  Amostra_ 763  Amostra_ 764  Amostra_ 765 \n",
       "      43.5985       43.9225       44.6120       43.7730       43.9780 \n",
       " Amostra_ 766  Amostra_ 767  Amostra_ 768  Amostra_ 769  Amostra_ 770 \n",
       "      43.7810       44.1295       44.2325       44.6490       43.8420 \n",
       " Amostra_ 771  Amostra_ 772  Amostra_ 773  Amostra_ 774  Amostra_ 775 \n",
       "      43.7615       44.1340       44.2065       43.8885       44.5770 \n",
       " Amostra_ 776  Amostra_ 777  Amostra_ 778  Amostra_ 779  Amostra_ 780 \n",
       "      44.0435       43.7115       44.2725       43.4185       43.8775 \n",
       " Amostra_ 781  Amostra_ 782  Amostra_ 783  Amostra_ 784  Amostra_ 785 \n",
       "      44.2780       44.0265       44.2865       43.2025       44.1970 \n",
       " Amostra_ 786  Amostra_ 787  Amostra_ 788  Amostra_ 789  Amostra_ 790 \n",
       "      43.9575       44.3630       44.3885       44.4965       44.2385 \n",
       " Amostra_ 791  Amostra_ 792  Amostra_ 793  Amostra_ 794  Amostra_ 795 \n",
       "      43.8360       43.6755       43.9180       44.5510       44.4020 \n",
       " Amostra_ 796  Amostra_ 797  Amostra_ 798  Amostra_ 799  Amostra_ 800 \n",
       "      43.9440       44.1040       44.1900       43.7245       44.4755 \n",
       " Amostra_ 801  Amostra_ 802  Amostra_ 803  Amostra_ 804  Amostra_ 805 \n",
       "      44.1260       43.4780       43.8570       44.1565       44.5210 \n",
       " Amostra_ 806  Amostra_ 807  Amostra_ 808  Amostra_ 809  Amostra_ 810 \n",
       "      44.3345       44.7865       44.2610       43.9080       43.7220 \n",
       " Amostra_ 811  Amostra_ 812  Amostra_ 813  Amostra_ 814  Amostra_ 815 \n",
       "      44.1880       44.0680       44.1960       43.8195       44.2560 \n",
       " Amostra_ 816  Amostra_ 817  Amostra_ 818  Amostra_ 819  Amostra_ 820 \n",
       "      43.5890       44.0205       43.9020       44.2825       44.0145 \n",
       " Amostra_ 821  Amostra_ 822  Amostra_ 823  Amostra_ 824  Amostra_ 825 \n",
       "      43.8745       43.8505       43.9850       44.4140       44.0355 \n",
       " Amostra_ 826  Amostra_ 827  Amostra_ 828  Amostra_ 829  Amostra_ 830 \n",
       "      43.7340       43.9500       44.0740       44.4430       44.6910 \n",
       " Amostra_ 831  Amostra_ 832  Amostra_ 833  Amostra_ 834  Amostra_ 835 \n",
       "      44.3275       43.8160       44.4845       44.1420       43.8830 \n",
       " Amostra_ 836  Amostra_ 837  Amostra_ 838  Amostra_ 839  Amostra_ 840 \n",
       "      44.0705       43.8505       44.2725       44.0265       43.8620 \n",
       " Amostra_ 841  Amostra_ 842  Amostra_ 843  Amostra_ 844  Amostra_ 845 \n",
       "      44.1350       43.8985       44.3175       43.8605       44.3315 \n",
       " Amostra_ 846  Amostra_ 847  Amostra_ 848  Amostra_ 849  Amostra_ 850 \n",
       "      43.9205       44.2505       44.2825       44.3730       44.1555 \n",
       " Amostra_ 851  Amostra_ 852  Amostra_ 853  Amostra_ 854  Amostra_ 855 \n",
       "      44.3820       43.6895       43.7285       43.9950       44.3275 \n",
       " Amostra_ 856  Amostra_ 857  Amostra_ 858  Amostra_ 859  Amostra_ 860 \n",
       "      44.2350       43.7710       44.0590       43.7870       43.9390 \n",
       " Amostra_ 861  Amostra_ 862  Amostra_ 863  Amostra_ 864  Amostra_ 865 \n",
       "      44.3020       44.2085       44.2045       43.6050       43.9550 \n",
       " Amostra_ 866  Amostra_ 867  Amostra_ 868  Amostra_ 869  Amostra_ 870 \n",
       "      44.0480       44.2805       44.1110       44.6970       44.2805 \n",
       " Amostra_ 871  Amostra_ 872  Amostra_ 873  Amostra_ 874  Amostra_ 875 \n",
       "      44.0660       44.2280       43.9930       44.5625       43.7530 \n",
       " Amostra_ 876  Amostra_ 877  Amostra_ 878  Amostra_ 879  Amostra_ 880 \n",
       "      43.9240       44.0190       44.5190       43.7435       43.9565 \n",
       " Amostra_ 881  Amostra_ 882  Amostra_ 883  Amostra_ 884  Amostra_ 885 \n",
       "      43.9990       43.9845       44.1200       44.3820       43.9985 \n",
       " Amostra_ 886  Amostra_ 887  Amostra_ 888  Amostra_ 889  Amostra_ 890 \n",
       "      44.0000       44.1725       44.1305       44.4480       44.1015 \n",
       " Amostra_ 891  Amostra_ 892  Amostra_ 893  Amostra_ 894  Amostra_ 895 \n",
       "      44.1840       43.8105       43.9345       44.1345       44.1380 \n",
       " Amostra_ 896  Amostra_ 897  Amostra_ 898  Amostra_ 899  Amostra_ 900 \n",
       "      44.0860       44.1665       44.1690       43.7910       44.5685 \n",
       " Amostra_ 901  Amostra_ 902  Amostra_ 903  Amostra_ 904  Amostra_ 905 \n",
       "      43.9960       44.1415       43.7355       44.5320       44.0405 \n",
       " Amostra_ 906  Amostra_ 907  Amostra_ 908  Amostra_ 909  Amostra_ 910 \n",
       "      43.9210       44.4525       43.4695       44.0160       44.3485 \n",
       " Amostra_ 911  Amostra_ 912  Amostra_ 913  Amostra_ 914  Amostra_ 915 \n",
       "      44.8220       44.3440       44.1645       44.3090       44.2720 \n",
       " Amostra_ 916  Amostra_ 917  Amostra_ 918  Amostra_ 919  Amostra_ 920 \n",
       "      43.3905       44.0830       44.0830       43.8280       44.1740 \n",
       " Amostra_ 921  Amostra_ 922  Amostra_ 923  Amostra_ 924  Amostra_ 925 \n",
       "      43.9345       44.7080       43.4685       43.9640       43.7590 \n",
       " Amostra_ 926  Amostra_ 927  Amostra_ 928  Amostra_ 929  Amostra_ 930 \n",
       "      44.4410       43.8115       43.9480       44.1530       44.3490 \n",
       " Amostra_ 931  Amostra_ 932  Amostra_ 933  Amostra_ 934  Amostra_ 935 \n",
       "      44.0120       43.9205       44.0210       43.6675       44.5465 \n",
       " Amostra_ 936  Amostra_ 937  Amostra_ 938  Amostra_ 939  Amostra_ 940 \n",
       "      44.3825       43.9715       43.9125       43.9060       43.9725 \n",
       " Amostra_ 941  Amostra_ 942  Amostra_ 943  Amostra_ 944  Amostra_ 945 \n",
       "      44.0930       44.0720       43.7670       44.2130       44.0745 \n",
       " Amostra_ 946  Amostra_ 947  Amostra_ 948  Amostra_ 949  Amostra_ 950 \n",
       "      43.8695       44.3360       44.0275       43.9835       43.8840 \n",
       " Amostra_ 951  Amostra_ 952  Amostra_ 953  Amostra_ 954  Amostra_ 955 \n",
       "      43.7585       43.7515       44.5410       44.4560       44.8070 \n",
       " Amostra_ 956  Amostra_ 957  Amostra_ 958  Amostra_ 959  Amostra_ 960 \n",
       "      44.1380       43.3125       44.2370       44.6100       43.8430 \n",
       " Amostra_ 961  Amostra_ 962  Amostra_ 963  Amostra_ 964  Amostra_ 965 \n",
       "      43.9685       43.9900       44.0175       44.4190       43.5740 \n",
       " Amostra_ 966  Amostra_ 967  Amostra_ 968  Amostra_ 969  Amostra_ 970 \n",
       "      43.6505       43.5990       44.1445       44.1065       44.3180 \n",
       " Amostra_ 971  Amostra_ 972  Amostra_ 973  Amostra_ 974  Amostra_ 975 \n",
       "      44.2830       43.8255       43.7770       43.9530       44.1565 \n",
       " Amostra_ 976  Amostra_ 977  Amostra_ 978  Amostra_ 979  Amostra_ 980 \n",
       "      43.7620       43.7990       44.4540       44.2595       44.1735 \n",
       " Amostra_ 981  Amostra_ 982  Amostra_ 983  Amostra_ 984  Amostra_ 985 \n",
       "      44.2940       44.1110       44.4330       44.6355       44.2485 \n",
       " Amostra_ 986  Amostra_ 987  Amostra_ 988  Amostra_ 989  Amostra_ 990 \n",
       "      44.5325       43.7740       43.7965       44.2470       44.0860 \n",
       " Amostra_ 991  Amostra_ 992  Amostra_ 993  Amostra_ 994  Amostra_ 995 \n",
       "      43.5725       43.8895       44.5225       44.2200       43.6515 \n",
       " Amostra_ 996  Amostra_ 997  Amostra_ 998  Amostra_ 999 Amostra_ 1000 \n",
       "      43.8890       43.9900       44.1180       44.2875       44.1095 \n",
       "Amostra_ 1001 Amostra_ 1002 Amostra_ 1003 Amostra_ 1004 Amostra_ 1005 \n",
       "      44.1460       44.0935       43.4500       43.8320       44.1110 \n",
       "Amostra_ 1006 Amostra_ 1007 Amostra_ 1008 Amostra_ 1009 Amostra_ 1010 \n",
       "      43.8040       43.7465       43.9195       43.7260       43.5305 \n",
       "Amostra_ 1011 Amostra_ 1012 Amostra_ 1013 Amostra_ 1014 Amostra_ 1015 \n",
       "      44.4595       44.2285       44.2360       43.9170       43.9575 \n",
       "Amostra_ 1016 Amostra_ 1017 Amostra_ 1018 Amostra_ 1019 Amostra_ 1020 \n",
       "      44.4055       44.2905       44.3795       44.0510       44.9300 \n",
       "Amostra_ 1021 Amostra_ 1022 Amostra_ 1023 Amostra_ 1024 Amostra_ 1025 \n",
       "      43.7550       43.9070       44.1075       44.3455       44.2280 \n",
       "Amostra_ 1026 Amostra_ 1027 Amostra_ 1028 Amostra_ 1029 Amostra_ 1030 \n",
       "      43.4130       43.8240       44.1755       43.9520       44.5845 \n",
       "Amostra_ 1031 Amostra_ 1032 Amostra_ 1033 Amostra_ 1034 Amostra_ 1035 \n",
       "      44.2455       43.9945       44.4195       44.0010       43.7860 \n",
       "Amostra_ 1036 Amostra_ 1037 Amostra_ 1038 Amostra_ 1039 Amostra_ 1040 \n",
       "      44.2460       44.3520       43.6640       44.0660       44.1950 \n",
       "Amostra_ 1041 Amostra_ 1042 Amostra_ 1043 Amostra_ 1044 Amostra_ 1045 \n",
       "      43.8585       44.3270       44.0165       44.0350       43.8395 \n",
       "Amostra_ 1046 Amostra_ 1047 Amostra_ 1048 Amostra_ 1049 Amostra_ 1050 \n",
       "      44.1050       44.2150       43.7825       43.9805       43.7620 \n",
       "Amostra_ 1051 Amostra_ 1052 Amostra_ 1053 Amostra_ 1054 Amostra_ 1055 \n",
       "      44.3300       43.8255       43.9960       43.8835       43.6935 \n",
       "Amostra_ 1056 Amostra_ 1057 Amostra_ 1058 Amostra_ 1059 Amostra_ 1060 \n",
       "      44.1560       44.3690       44.2265       44.5790       44.1605 \n",
       "Amostra_ 1061 Amostra_ 1062 Amostra_ 1063 Amostra_ 1064 Amostra_ 1065 \n",
       "      44.5045       43.7440       44.2370       44.0780       44.2190 \n",
       "Amostra_ 1066 Amostra_ 1067 Amostra_ 1068 Amostra_ 1069 Amostra_ 1070 \n",
       "      44.0850       44.0055       44.4965       43.9435       43.9745 \n",
       "Amostra_ 1071 Amostra_ 1072 Amostra_ 1073 Amostra_ 1074 Amostra_ 1075 \n",
       "      44.1530       43.6285       44.2960       43.6080       44.3260 \n",
       "Amostra_ 1076 Amostra_ 1077 Amostra_ 1078 Amostra_ 1079 Amostra_ 1080 \n",
       "      44.2630       43.7120       44.1590       44.4300       43.8570 \n",
       "Amostra_ 1081 Amostra_ 1082 Amostra_ 1083 Amostra_ 1084 Amostra_ 1085 \n",
       "      43.2550       44.5835       43.5955       44.1905       44.0920 \n",
       "Amostra_ 1086 Amostra_ 1087 Amostra_ 1088 Amostra_ 1089 Amostra_ 1090 \n",
       "      44.4290       44.2315       44.0425       44.7165       43.8430 \n",
       "Amostra_ 1091 Amostra_ 1092 Amostra_ 1093 Amostra_ 1094 Amostra_ 1095 \n",
       "      44.2155       44.2440       43.8195       43.6760       44.1310 \n",
       "Amostra_ 1096 Amostra_ 1097 Amostra_ 1098 Amostra_ 1099 Amostra_ 1100 \n",
       "      44.0385       43.9425       43.8225       44.7535       44.6850 \n",
       "Amostra_ 1101 Amostra_ 1102 Amostra_ 1103 Amostra_ 1104 Amostra_ 1105 \n",
       "      44.2800       44.1755       43.8625       44.0130       44.3420 \n",
       "Amostra_ 1106 Amostra_ 1107 Amostra_ 1108 Amostra_ 1109 Amostra_ 1110 \n",
       "      43.5720       44.1050       44.2305       44.3080       43.4970 \n",
       "Amostra_ 1111 Amostra_ 1112 Amostra_ 1113 Amostra_ 1114 Amostra_ 1115 \n",
       "      44.1190       44.4410       43.9385       44.1415       43.7140 \n",
       "Amostra_ 1116 Amostra_ 1117 Amostra_ 1118 Amostra_ 1119 Amostra_ 1120 \n",
       "      44.3015       43.9685       44.1630       44.5305       43.7585 \n",
       "Amostra_ 1121 Amostra_ 1122 Amostra_ 1123 Amostra_ 1124 Amostra_ 1125 \n",
       "      44.3990       44.2010       44.3775       43.8065       43.8990 \n",
       "Amostra_ 1126 Amostra_ 1127 Amostra_ 1128 Amostra_ 1129 Amostra_ 1130 \n",
       "      43.8665       43.8910       43.8870       44.0620       44.3260 \n",
       "Amostra_ 1131 Amostra_ 1132 Amostra_ 1133 Amostra_ 1134 Amostra_ 1135 \n",
       "      44.4280       44.3070       44.4825       43.5465       44.2865 \n",
       "Amostra_ 1136 Amostra_ 1137 Amostra_ 1138 Amostra_ 1139 Amostra_ 1140 \n",
       "      43.7645       44.2290       44.3470       44.2880       44.0750 \n",
       "Amostra_ 1141 Amostra_ 1142 Amostra_ 1143 Amostra_ 1144 Amostra_ 1145 \n",
       "      43.8845       43.8160       44.2480       44.0600       43.8590 \n",
       "Amostra_ 1146 Amostra_ 1147 Amostra_ 1148 Amostra_ 1149 Amostra_ 1150 \n",
       "      43.9895       44.2985       43.6715       43.8035       44.0870 \n",
       "Amostra_ 1151 Amostra_ 1152 Amostra_ 1153 Amostra_ 1154 Amostra_ 1155 \n",
       "      43.9215       44.0975       43.9805       43.7875       44.0750 \n",
       "Amostra_ 1156 Amostra_ 1157 Amostra_ 1158 Amostra_ 1159 Amostra_ 1160 \n",
       "      44.3345       43.5580       44.0260       44.2015       44.1025 \n",
       "Amostra_ 1161 Amostra_ 1162 Amostra_ 1163 Amostra_ 1164 Amostra_ 1165 \n",
       "      44.3335       44.4995       44.0030       43.8980       43.9060 \n",
       "Amostra_ 1166 Amostra_ 1167 Amostra_ 1168 Amostra_ 1169 Amostra_ 1170 \n",
       "      44.0515       44.6280       44.2160       44.5040       44.6365 \n",
       "Amostra_ 1171 Amostra_ 1172 Amostra_ 1173 Amostra_ 1174 Amostra_ 1175 \n",
       "      44.3495       44.4660       44.3900       43.7270       44.1785 \n",
       "Amostra_ 1176 Amostra_ 1177 Amostra_ 1178 Amostra_ 1179 Amostra_ 1180 \n",
       "      44.0760       43.8420       44.0420       44.3685       44.5115 \n",
       "Amostra_ 1181 Amostra_ 1182 Amostra_ 1183 Amostra_ 1184 Amostra_ 1185 \n",
       "      43.9385       44.3810       43.7730       44.2790       44.2185 \n",
       "Amostra_ 1186 Amostra_ 1187 Amostra_ 1188 Amostra_ 1189 Amostra_ 1190 \n",
       "      44.2380       43.9900       44.1555       43.5580       43.8265 \n",
       "Amostra_ 1191 Amostra_ 1192 Amostra_ 1193 Amostra_ 1194 Amostra_ 1195 \n",
       "      44.2900       43.7475       43.5310       43.9450       43.9070 \n",
       "Amostra_ 1196 Amostra_ 1197 Amostra_ 1198 Amostra_ 1199 Amostra_ 1200 \n",
       "      44.0385       44.4105       44.4965       43.6920       43.5375 \n",
       "Amostra_ 1201 Amostra_ 1202 Amostra_ 1203 Amostra_ 1204 Amostra_ 1205 \n",
       "      43.9190       43.9915       44.2735       44.2500       44.3010 \n",
       "Amostra_ 1206 Amostra_ 1207 Amostra_ 1208 Amostra_ 1209 Amostra_ 1210 \n",
       "      43.7595       43.7995       43.5985       44.0080       43.9845 \n",
       "Amostra_ 1211 Amostra_ 1212 Amostra_ 1213 Amostra_ 1214 Amostra_ 1215 \n",
       "      44.2420       43.6985       44.4905       44.1255       44.2325 \n",
       "Amostra_ 1216 Amostra_ 1217 Amostra_ 1218 Amostra_ 1219 Amostra_ 1220 \n",
       "      44.1030       44.1530       44.0715       43.8570       44.0770 \n",
       "Amostra_ 1221 Amostra_ 1222 Amostra_ 1223 Amostra_ 1224 Amostra_ 1225 \n",
       "      43.6415       44.3930       43.4975       44.1825       43.8815 \n",
       "Amostra_ 1226 Amostra_ 1227 Amostra_ 1228 Amostra_ 1229 Amostra_ 1230 \n",
       "      44.3310       44.1390       44.4215       44.0540       44.3130 \n",
       "Amostra_ 1231 Amostra_ 1232 Amostra_ 1233 Amostra_ 1234 Amostra_ 1235 \n",
       "      44.1850       43.7925       43.7045       44.3730       43.9830 \n",
       "Amostra_ 1236 Amostra_ 1237 Amostra_ 1238 Amostra_ 1239 Amostra_ 1240 \n",
       "      44.3415       44.0845       44.3140       44.0095       43.9880 \n",
       "Amostra_ 1241 Amostra_ 1242 Amostra_ 1243 Amostra_ 1244 Amostra_ 1245 \n",
       "      44.3990       43.8665       43.6330       44.3090       44.5160 \n",
       "Amostra_ 1246 Amostra_ 1247 Amostra_ 1248 Amostra_ 1249 Amostra_ 1250 \n",
       "      44.0285       44.1645       43.9545       43.9775       43.9520 \n",
       "Amostra_ 1251 Amostra_ 1252 Amostra_ 1253 Amostra_ 1254 Amostra_ 1255 \n",
       "      44.1030       44.0140       44.3245       44.3765       44.4095 \n",
       "Amostra_ 1256 Amostra_ 1257 Amostra_ 1258 Amostra_ 1259 Amostra_ 1260 \n",
       "      43.6625       44.1515       44.2965       43.8920       43.7875 \n",
       "Amostra_ 1261 Amostra_ 1262 Amostra_ 1263 Amostra_ 1264 Amostra_ 1265 \n",
       "      43.9745       44.2335       44.3365       44.4165       44.5455 \n",
       "Amostra_ 1266 Amostra_ 1267 Amostra_ 1268 Amostra_ 1269 Amostra_ 1270 \n",
       "      44.3150       44.6030       43.7490       43.6960       43.8335 \n",
       "Amostra_ 1271 Amostra_ 1272 Amostra_ 1273 Amostra_ 1274 Amostra_ 1275 \n",
       "      44.0570       44.1335       44.2735       43.9455       44.2340 \n",
       "Amostra_ 1276 Amostra_ 1277 Amostra_ 1278 Amostra_ 1279 Amostra_ 1280 \n",
       "      44.3030       44.4375       44.7820       44.3335       44.1570 \n",
       "Amostra_ 1281 Amostra_ 1282 Amostra_ 1283 Amostra_ 1284 Amostra_ 1285 \n",
       "      44.0205       43.9565       44.0655       44.0970       43.9280 \n",
       "Amostra_ 1286 Amostra_ 1287 Amostra_ 1288 Amostra_ 1289 Amostra_ 1290 \n",
       "      44.2755       44.3345       44.1460       43.9620       44.0760 \n",
       "Amostra_ 1291 Amostra_ 1292 Amostra_ 1293 Amostra_ 1294 Amostra_ 1295 \n",
       "      43.9075       44.0035       43.8970       44.1490       44.3135 \n",
       "Amostra_ 1296 Amostra_ 1297 Amostra_ 1298 Amostra_ 1299 Amostra_ 1300 \n",
       "      44.0220       43.8825       43.5915       43.5310       44.5480 \n",
       "Amostra_ 1301 Amostra_ 1302 Amostra_ 1303 Amostra_ 1304 Amostra_ 1305 \n",
       "      44.2490       44.3470       44.0035       44.3240       43.9375 \n",
       "Amostra_ 1306 Amostra_ 1307 Amostra_ 1308 Amostra_ 1309 Amostra_ 1310 \n",
       "      43.8165       44.2520       43.9260       44.2350       44.0300 \n",
       "Amostra_ 1311 Amostra_ 1312 Amostra_ 1313 Amostra_ 1314 Amostra_ 1315 \n",
       "      44.0125       44.2575       44.3200       43.9565       44.1075 \n",
       "Amostra_ 1316 Amostra_ 1317 Amostra_ 1318 Amostra_ 1319 Amostra_ 1320 \n",
       "      44.4080       44.1630       43.8885       43.9025       44.0690 \n",
       "Amostra_ 1321 Amostra_ 1322 Amostra_ 1323 Amostra_ 1324 Amostra_ 1325 \n",
       "      43.8410       44.1425       44.0915       44.0450       44.1895 \n",
       "Amostra_ 1326 Amostra_ 1327 Amostra_ 1328 Amostra_ 1329 Amostra_ 1330 \n",
       "      43.8450       44.2880       43.9970       44.1120       44.4525 \n",
       "Amostra_ 1331 Amostra_ 1332 Amostra_ 1333 Amostra_ 1334 Amostra_ 1335 \n",
       "      43.9185       43.9970       44.2620       43.7645       43.4570 \n",
       "Amostra_ 1336 Amostra_ 1337 Amostra_ 1338 Amostra_ 1339 Amostra_ 1340 \n",
       "      43.6695       43.5285       44.5070       44.4095       44.3215 \n",
       "Amostra_ 1341 Amostra_ 1342 Amostra_ 1343 Amostra_ 1344 Amostra_ 1345 \n",
       "      43.8725       43.7970       44.3475       44.2250       44.0340 \n",
       "Amostra_ 1346 Amostra_ 1347 Amostra_ 1348 Amostra_ 1349 Amostra_ 1350 \n",
       "      43.6175       44.3090       44.1625       44.0015       44.0870 \n",
       "Amostra_ 1351 Amostra_ 1352 Amostra_ 1353 Amostra_ 1354 Amostra_ 1355 \n",
       "      43.5650       44.6375       43.1630       44.4430       44.0320 \n",
       "Amostra_ 1356 Amostra_ 1357 Amostra_ 1358 Amostra_ 1359 Amostra_ 1360 \n",
       "      44.5470       44.3455       44.2335       44.0545       44.3760 \n",
       "Amostra_ 1361 Amostra_ 1362 Amostra_ 1363 Amostra_ 1364 Amostra_ 1365 \n",
       "      43.6280       44.4055       44.6000       44.0135       43.9135 \n",
       "Amostra_ 1366 Amostra_ 1367 Amostra_ 1368 Amostra_ 1369 Amostra_ 1370 \n",
       "      44.0965       43.8515       44.5785       44.0085       44.2575 \n",
       "Amostra_ 1371 Amostra_ 1372 Amostra_ 1373 Amostra_ 1374 Amostra_ 1375 \n",
       "      43.9860       44.4670       44.1050       43.6085       44.1395 \n",
       "Amostra_ 1376 Amostra_ 1377 Amostra_ 1378 Amostra_ 1379 Amostra_ 1380 \n",
       "      44.8195       44.0995       43.8040       44.3310       44.3385 \n",
       "Amostra_ 1381 Amostra_ 1382 Amostra_ 1383 Amostra_ 1384 Amostra_ 1385 \n",
       "      44.0575       43.8305       44.1820       43.6870       44.1800 \n",
       "Amostra_ 1386 Amostra_ 1387 Amostra_ 1388 Amostra_ 1389 Amostra_ 1390 \n",
       "      43.6965       43.5615       43.6195       43.9520       44.3335 \n",
       "Amostra_ 1391 Amostra_ 1392 Amostra_ 1393 Amostra_ 1394 Amostra_ 1395 \n",
       "      43.7435       44.4015       44.3235       44.0990       44.0540 \n",
       "Amostra_ 1396 Amostra_ 1397 Amostra_ 1398 Amostra_ 1399 Amostra_ 1400 \n",
       "      43.7700       44.5240       43.5990       43.7930       44.2425 \n",
       "Amostra_ 1401 Amostra_ 1402 Amostra_ 1403 Amostra_ 1404 Amostra_ 1405 \n",
       "      44.1245       44.0555       44.6050       43.9035       43.8070 \n",
       "Amostra_ 1406 Amostra_ 1407 Amostra_ 1408 Amostra_ 1409 Amostra_ 1410 \n",
       "      43.9410       44.4160       44.6145       43.7735       43.8055 \n",
       "Amostra_ 1411 Amostra_ 1412 Amostra_ 1413 Amostra_ 1414 Amostra_ 1415 \n",
       "      43.9000       44.0210       43.8100       44.5075       44.6525 \n",
       "Amostra_ 1416 Amostra_ 1417 Amostra_ 1418 Amostra_ 1419 Amostra_ 1420 \n",
       "      44.2620       44.0480       44.0705       44.2015       43.7735 \n",
       "Amostra_ 1421 Amostra_ 1422 Amostra_ 1423 Amostra_ 1424 Amostra_ 1425 \n",
       "      44.2125       44.6410       44.2205       43.9590       44.1595 \n",
       "Amostra_ 1426 Amostra_ 1427 Amostra_ 1428 Amostra_ 1429 Amostra_ 1430 \n",
       "      44.0130       44.5160       43.7485       44.2045       44.3340 \n",
       "Amostra_ 1431 Amostra_ 1432 Amostra_ 1433 Amostra_ 1434 Amostra_ 1435 \n",
       "      43.8055       44.2445       44.4345       44.3055       44.0640 \n",
       "Amostra_ 1436 Amostra_ 1437 Amostra_ 1438 Amostra_ 1439 Amostra_ 1440 \n",
       "      44.2530       43.5905       43.9800       44.1635       44.1710 \n",
       "Amostra_ 1441 Amostra_ 1442 Amostra_ 1443 Amostra_ 1444 Amostra_ 1445 \n",
       "      43.9115       44.6805       43.6135       43.6405       44.6475 \n",
       "Amostra_ 1446 Amostra_ 1447 Amostra_ 1448 Amostra_ 1449 Amostra_ 1450 \n",
       "      43.8590       43.8205       44.2455       44.7950       45.0015 \n",
       "Amostra_ 1451 Amostra_ 1452 Amostra_ 1453 Amostra_ 1454 Amostra_ 1455 \n",
       "      43.8110       44.0105       44.3390       43.8570       44.1745 \n",
       "Amostra_ 1456 Amostra_ 1457 Amostra_ 1458 Amostra_ 1459 Amostra_ 1460 \n",
       "      44.4565       44.0855       44.0645       44.3185       43.9815 \n",
       "Amostra_ 1461 Amostra_ 1462 Amostra_ 1463 Amostra_ 1464 Amostra_ 1465 \n",
       "      44.2850       44.2305       44.0460       43.8025       44.0560 \n",
       "Amostra_ 1466 Amostra_ 1467 Amostra_ 1468 Amostra_ 1469 Amostra_ 1470 \n",
       "      43.6150       44.1860       44.1990       44.1280       43.8350 \n",
       "Amostra_ 1471 Amostra_ 1472 Amostra_ 1473 Amostra_ 1474 Amostra_ 1475 \n",
       "      43.9320       44.1040       43.7745       43.8145       43.9750 \n",
       "Amostra_ 1476 Amostra_ 1477 Amostra_ 1478 Amostra_ 1479 Amostra_ 1480 \n",
       "      43.9215       44.4515       44.0070       44.4055       44.2550 \n",
       "Amostra_ 1481 Amostra_ 1482 Amostra_ 1483 Amostra_ 1484 Amostra_ 1485 \n",
       "      43.7670       43.6850       43.7510       43.8765       43.9560 \n",
       "Amostra_ 1486 Amostra_ 1487 Amostra_ 1488 Amostra_ 1489 Amostra_ 1490 \n",
       "      44.1400       43.7685       43.9765       44.2310       44.3285 \n",
       "Amostra_ 1491 Amostra_ 1492 Amostra_ 1493 Amostra_ 1494 Amostra_ 1495 \n",
       "      43.7300       44.2290       43.6970       44.0680       44.0575 \n",
       "Amostra_ 1496 Amostra_ 1497 Amostra_ 1498 Amostra_ 1499 Amostra_ 1500 \n",
       "      43.7720       44.3355       44.1630       44.2800       44.3715 "
      ]
     },
     "metadata": {},
     "output_type": "display_data"
    }
   ],
   "source": [
    "colMeans(amostras)"
   ]
  },
  {
   "cell_type": "markdown",
   "metadata": {
    "colab_type": "text",
    "id": "JfgEBDx0jDzf"
   },
   "source": [
    "> O Teorema do Limite Central afirma que, **com o aumento do tamanho da amostra, a distribuição das médias amostrais se aproxima de uma distribuição normal** com média igual à média da população e desvio padrão igual ao desvio padrão da variável original dividido pela raiz quadrada do tamanho da amostra. Este fato é assegurado para n maior ou igual a 30."
   ]
  },
  {
   "cell_type": "code",
   "execution_count": 86,
   "metadata": {
    "colab": {
     "base_uri": "https://localhost:8080/",
     "height": 286
    },
    "colab_type": "code",
    "id": "giJKqa_9izKF",
    "outputId": "a90fdc6d-9970-42dd-85c3-0da9e0977ef0"
   },
   "outputs": [
    {
     "data": {
      "image/png": "[encoded data removed]",
      "text/plain": [
       "Plot with title \"Histograma das Idades Médias\""
      ]
     },
     "metadata": {
      "image/png": {
       "height": 240,
       "width": 420
      }
     },
     "output_type": "display_data"
    }
   ],
   "source": [
    "hist(\n",
    "    x = colMeans(amostras),\n",
    "    main = 'Histograma das Idades Médias',\n",
    "    xlab = 'Idades',\n",
    "    ylab = 'Frequências'\n",
    ")"
   ]
  },
  {
   "cell_type": "markdown",
   "metadata": {
    "colab_type": "text",
    "id": "_A4RKStwjkLI"
   },
   "source": [
    "> O Teorema do Limite Central afirma que, com o aumento do tamanho da amostra, a distribuição das médias amostrais se aproxima de uma distribuição normal **com média igual à média da população** e desvio padrão igual ao desvio padrão da variável original dividido pela raiz quadrada do tamanho da amostra. Este fato é assegurado para n maior ou igual a 30."
   ]
  },
  {
   "cell_type": "code",
   "execution_count": 87,
   "metadata": {},
   "outputs": [
    {
     "data": {
      "text/html": [
       "44.0714211348256"
      ],
      "text/latex": [
       "44.0714211348256"
      ],
      "text/markdown": [
       "44.0714211348256"
      ],
      "text/plain": [
       "[1] 44.07142"
      ]
     },
     "metadata": {},
     "output_type": "display_data"
    }
   ],
   "source": [
    "mean(dados$Idade)"
   ]
  },
  {
   "cell_type": "code",
   "execution_count": 88,
   "metadata": {
    "colab": {
     "base_uri": "https://localhost:8080/",
     "height": 34
    },
    "colab_type": "code",
    "id": "vXE-UOj_izGZ",
    "outputId": "6eecc478-100a-4b55-eec3-896dbfc2079d"
   },
   "outputs": [
    {
     "data": {
      "text/html": [
       "44.0661836666667"
      ],
      "text/latex": [
       "44.0661836666667"
      ],
      "text/markdown": [
       "44.0661836666667"
      ],
      "text/plain": [
       "[1] 44.06618"
      ]
     },
     "metadata": {},
     "output_type": "display_data"
    }
   ],
   "source": [
    "mean(colMeans(amostras))"
   ]
  },
  {
   "cell_type": "markdown",
   "metadata": {
    "colab_type": "text",
    "id": "7lIWJCAKlPmA"
   },
   "source": [
    "> O Teorema do Limite Central afirma que, com o aumento do tamanho da amostra, a distribuição das médias amostrais se aproxima de uma distribuição normal com média igual à média da população e **desvio padrão igual ao desvio padrão da variável original dividido pela raiz quadrada do tamanho da amostra**. Este fato é assegurado para n maior ou igual a 30.\n",
    "\n",
    "$$\\sigma_\\bar{x} = \\frac{\\sigma}{\\sqrt{n}}$$"
   ]
  },
  {
   "cell_type": "code",
   "execution_count": 89,
   "metadata": {},
   "outputs": [
    {
     "data": {
      "text/html": [
       "0.288570214353972"
      ],
      "text/latex": [
       "0.288570214353972"
      ],
      "text/markdown": [
       "0.288570214353972"
      ],
      "text/plain": [
       "[1] 0.2885702"
      ]
     },
     "metadata": {},
     "output_type": "display_data"
    }
   ],
   "source": [
    "sd(colMeans(amostras))"
   ]
  },
  {
   "cell_type": "code",
   "execution_count": 90,
   "metadata": {},
   "outputs": [
    {
     "data": {
      "text/html": [
       "0.279074330274043"
      ],
      "text/latex": [
       "0.279074330274043"
      ],
      "text/markdown": [
       "0.279074330274043"
      ],
      "text/plain": [
       "[1] 0.2790743"
      ]
     },
     "metadata": {},
     "output_type": "display_data"
    }
   ],
   "source": [
    "sd(dados$Idade) / sqrt(n)"
   ]
  },
  {
   "cell_type": "markdown",
   "metadata": {
    "colab_type": "text",
    "id": "ku8CE67iG3Ge"
   },
   "source": [
    "### <font color=green>4.2 Níveis de confiança e significância</font>\n",
    "***"
   ]
  },
  {
   "cell_type": "markdown",
   "metadata": {
    "colab_type": "text",
    "id": "mk6ZsvgyG3Gf"
   },
   "source": [
    "O **nível de confiança** ($1 - \\alpha$) representa a probabilidade de acerto da estimativa. De forma complementar o **nível de significância** ($\\alpha$) expressa a probabilidade de erro da estimativa.\n",
    "\n",
    "O **nível de confiança** representa o grau de confiabilidade do resultado da estimativa estar dentro de determinado intervalo. Quando fixamos em uma pesquisa um **nível de confiança** de 95%, por exemplo, estamos assumindo que existe uma probabilidade de 95% dos resultados da pesquisa representarem bem a realidade, ou seja, estarem corretos.\n",
    "\n",
    "O **nível de confiança** de uma estimativa pode ser obtido a partir da área sob a curva normal como ilustrado na figura abaixo."
   ]
  },
  {
   "cell_type": "markdown",
   "metadata": {
    "colab_type": "text",
    "id": "WeGyDfvaG3Gg"
   },
   "source": [
    "![alt text](https://caelum-online-public.s3.amazonaws.com/1178-estatistica-parte2/01/img007.png)"
   ]
  },
  {
   "cell_type": "markdown",
   "metadata": {
    "colab_type": "text",
    "id": "AN8WDZ-HG3Gi"
   },
   "source": [
    "### <font color=green>4.3 Erro inferencial</font>\n",
    "***"
   ]
  },
  {
   "cell_type": "markdown",
   "metadata": {
    "colab_type": "text",
    "id": "tk-TwhhfG3Gi"
   },
   "source": [
    "O **erro inferencial** é definido pelo **desvio padrão das médias amostrais** $\\sigma_\\bar{x}$ e pelo **nível de confiança** determinado para o processo."
   ]
  },
  {
   "cell_type": "markdown",
   "metadata": {
    "colab_type": "text",
    "id": "FKOQUPYHG3Gk"
   },
   "source": [
    "$$e = z \\frac{\\sigma}{\\sqrt{n}}$$"
   ]
  },
  {
   "cell_type": "markdown",
   "metadata": {
    "colab_type": "text",
    "id": "ELbWQW4sG3HS"
   },
   "source": [
    "### <font color=green>4.4 Intervalos de confiança</font>\n",
    "***"
   ]
  },
  {
   "cell_type": "markdown",
   "metadata": {
    "colab_type": "text",
    "id": "-r6EMnH-G3HT"
   },
   "source": [
    "#### Intevalo de confiança para a média da população"
   ]
  },
  {
   "cell_type": "markdown",
   "metadata": {
    "colab_type": "text",
    "id": "QWgBFeRnG3HT"
   },
   "source": [
    "##### Com desvio padrão populacional conhecido\n",
    "\n",
    "$$\\mu = \\bar{x} \\pm z\\frac{\\sigma}{\\sqrt{n}}$$\n",
    "\n",
    "##### Com desvio padrão populacional desconhecido\n",
    "\n",
    "$$\\mu = \\bar{x} \\pm z\\frac{s}{\\sqrt{n}}$$"
   ]
  },
  {
   "cell_type": "markdown",
   "metadata": {
    "colab_type": "text",
    "id": "R2qqLneeG3HT"
   },
   "source": [
    "### <font color='blue'>Exemplo: </font>"
   ]
  },
  {
   "cell_type": "markdown",
   "metadata": {
    "colab_type": "text",
    "id": "AgnrFjdMG3HT"
   },
   "source": [
    "Suponha que os pesos dos sacos de arroz de uma indústria alimentícia se distribuem aproximadamente como uma normal de **desvio padrão populacional igual a 150 g**. Selecionada uma **amostra aleatório de 20 sacos** de um lote específico, obteve-se um **peso médio de 5.050 g**. Construa um intervalo de confiança para a **média populacional** assumindo um **nível de significância de 5%**."
   ]
  },
  {
   "cell_type": "markdown",
   "metadata": {
    "colab_type": "text",
    "id": "LpGQGksTG3HU"
   },
   "source": [
    "#### Média amostral"
   ]
  },
  {
   "cell_type": "code",
   "execution_count": 91,
   "metadata": {
    "colab": {
     "base_uri": "https://localhost:8080/",
     "height": 34
    },
    "colab_type": "code",
    "id": "aF2QQ0z3G3HU",
    "outputId": "31b20b10-a4f7-49fe-b113-f0fff1e2f30f"
   },
   "outputs": [
    {
     "data": {
      "text/html": [
       "5050"
      ],
      "text/latex": [
       "5050"
      ],
      "text/markdown": [
       "5050"
      ],
      "text/plain": [
       "[1] 5050"
      ]
     },
     "metadata": {},
     "output_type": "display_data"
    }
   ],
   "source": [
    "media_amostral <- 5050\n",
    "media_amostral"
   ]
  },
  {
   "cell_type": "markdown",
   "metadata": {
    "colab_type": "text",
    "id": "Jly1bVP9G3HY"
   },
   "source": [
    "#### Nível de significância ($\\alpha$)"
   ]
  },
  {
   "cell_type": "code",
   "execution_count": 92,
   "metadata": {
    "colab": {
     "base_uri": "https://localhost:8080/",
     "height": 34
    },
    "colab_type": "code",
    "id": "BzIgN3C7G3HY",
    "outputId": "53b76a9a-fce9-41dc-829e-4c7b318b7d75"
   },
   "outputs": [
    {
     "data": {
      "text/html": [
       "0.05"
      ],
      "text/latex": [
       "0.05"
      ],
      "text/markdown": [
       "0.05"
      ],
      "text/plain": [
       "[1] 0.05"
      ]
     },
     "metadata": {},
     "output_type": "display_data"
    }
   ],
   "source": [
    "significancia <- 0.05\n",
    "significancia"
   ]
  },
  {
   "cell_type": "markdown",
   "metadata": {
    "colab_type": "text",
    "id": "SrZAbQRKG3Ha"
   },
   "source": [
    "#### Nível de confiança ($1 - \\alpha$)"
   ]
  },
  {
   "cell_type": "code",
   "execution_count": 93,
   "metadata": {
    "colab": {
     "base_uri": "https://localhost:8080/",
     "height": 34
    },
    "colab_type": "code",
    "id": "1JeWXwA6G3Ha",
    "outputId": "8ac9e63f-f2e5-46a5-b693-e221203ada3f"
   },
   "outputs": [
    {
     "data": {
      "text/html": [
       "0.95"
      ],
      "text/latex": [
       "0.95"
      ],
      "text/markdown": [
       "0.95"
      ],
      "text/plain": [
       "[1] 0.95"
      ]
     },
     "metadata": {},
     "output_type": "display_data"
    }
   ],
   "source": [
    "confianca <- 0.95\n",
    "confianca"
   ]
  },
  {
   "cell_type": "markdown",
   "metadata": {
    "colab_type": "text",
    "id": "mZoUFr1nG3Hf"
   },
   "source": [
    "#### Obtendo $z$"
   ]
  },
  {
   "cell_type": "code",
   "execution_count": 94,
   "metadata": {},
   "outputs": [
    {
     "data": {
      "text/html": [
       "<table class=\"dataframe\">\n",
       "<caption>A matrix: 10 × 10 of type dbl</caption>\n",
       "<thead>\n",
       "\t<tr><th></th><th scope=col>0.00</th><th scope=col>0.01</th><th scope=col>0.02</th><th scope=col>0.03</th><th scope=col>0.04</th><th scope=col>0.05</th><th scope=col>0.06</th><th scope=col>0.07</th><th scope=col>0.08</th><th scope=col>0.09</th></tr>\n",
       "</thead>\n",
       "<tbody>\n",
       "\t<tr><th scope=row>1.60</th><td>0.9452007</td><td>0.9463011</td><td>0.9473839</td><td>0.9484493</td><td>0.9494974</td><td>0.9505285</td><td>0.9515428</td><td>0.9525403</td><td>0.9535213</td><td>0.9544860</td></tr>\n",
       "\t<tr><th scope=row>1.70</th><td>0.9554345</td><td>0.9563671</td><td>0.9572838</td><td>0.9581849</td><td>0.9590705</td><td>0.9599408</td><td>0.9607961</td><td>0.9616364</td><td>0.9624620</td><td>0.9632730</td></tr>\n",
       "\t<tr><th scope=row>1.80</th><td>0.9640697</td><td>0.9648521</td><td>0.9656205</td><td>0.9663750</td><td>0.9671159</td><td>0.9678432</td><td>0.9685572</td><td>0.9692581</td><td>0.9699460</td><td>0.9706210</td></tr>\n",
       "\t<tr><th scope=row>1.90</th><td>0.9712834</td><td>0.9719334</td><td>0.9725711</td><td>0.9731966</td><td>0.9738102</td><td>0.9744119</td><td>0.9750021</td><td>0.9755808</td><td>0.9761482</td><td>0.9767045</td></tr>\n",
       "\t<tr><th scope=row>2.00</th><td>0.9772499</td><td>0.9777844</td><td>0.9783083</td><td>0.9788217</td><td>0.9793248</td><td>0.9798178</td><td>0.9803007</td><td>0.9807738</td><td>0.9812372</td><td>0.9816911</td></tr>\n",
       "\t<tr><th scope=row>2.10</th><td>0.9821356</td><td>0.9825708</td><td>0.9829970</td><td>0.9834142</td><td>0.9838226</td><td>0.9842224</td><td>0.9846137</td><td>0.9849966</td><td>0.9853713</td><td>0.9857379</td></tr>\n",
       "\t<tr><th scope=row>2.20</th><td>0.9860966</td><td>0.9864474</td><td>0.9867906</td><td>0.9871263</td><td>0.9874545</td><td>0.9877755</td><td>0.9880894</td><td>0.9883962</td><td>0.9886962</td><td>0.9889893</td></tr>\n",
       "\t<tr><th scope=row>2.30</th><td>0.9892759</td><td>0.9895559</td><td>0.9898296</td><td>0.9900969</td><td>0.9903581</td><td>0.9906133</td><td>0.9908625</td><td>0.9911060</td><td>0.9913437</td><td>0.9915758</td></tr>\n",
       "\t<tr><th scope=row>2.40</th><td>0.9918025</td><td>0.9920237</td><td>0.9922397</td><td>0.9924506</td><td>0.9926564</td><td>0.9928572</td><td>0.9930531</td><td>0.9932443</td><td>0.9934309</td><td>0.9936128</td></tr>\n",
       "\t<tr><th scope=row>2.50</th><td>0.9937903</td><td>0.9939634</td><td>0.9941323</td><td>0.9942969</td><td>0.9944574</td><td>0.9946139</td><td>0.9947664</td><td>0.9949151</td><td>0.9950600</td><td>0.9952012</td></tr>\n",
       "</tbody>\n",
       "</table>\n"
      ],
      "text/latex": [
       "A matrix: 10 × 10 of type dbl\n",
       "\\begin{tabular}{r|llllllllll}\n",
       "  & 0.00 & 0.01 & 0.02 & 0.03 & 0.04 & 0.05 & 0.06 & 0.07 & 0.08 & 0.09\\\\\n",
       "\\hline\n",
       "\t1.60 & 0.9452007 & 0.9463011 & 0.9473839 & 0.9484493 & 0.9494974 & 0.9505285 & 0.9515428 & 0.9525403 & 0.9535213 & 0.9544860\\\\\n",
       "\t1.70 & 0.9554345 & 0.9563671 & 0.9572838 & 0.9581849 & 0.9590705 & 0.9599408 & 0.9607961 & 0.9616364 & 0.9624620 & 0.9632730\\\\\n",
       "\t1.80 & 0.9640697 & 0.9648521 & 0.9656205 & 0.9663750 & 0.9671159 & 0.9678432 & 0.9685572 & 0.9692581 & 0.9699460 & 0.9706210\\\\\n",
       "\t1.90 & 0.9712834 & 0.9719334 & 0.9725711 & 0.9731966 & 0.9738102 & 0.9744119 & 0.9750021 & 0.9755808 & 0.9761482 & 0.9767045\\\\\n",
       "\t2.00 & 0.9772499 & 0.9777844 & 0.9783083 & 0.9788217 & 0.9793248 & 0.9798178 & 0.9803007 & 0.9807738 & 0.9812372 & 0.9816911\\\\\n",
       "\t2.10 & 0.9821356 & 0.9825708 & 0.9829970 & 0.9834142 & 0.9838226 & 0.9842224 & 0.9846137 & 0.9849966 & 0.9853713 & 0.9857379\\\\\n",
       "\t2.20 & 0.9860966 & 0.9864474 & 0.9867906 & 0.9871263 & 0.9874545 & 0.9877755 & 0.9880894 & 0.9883962 & 0.9886962 & 0.9889893\\\\\n",
       "\t2.30 & 0.9892759 & 0.9895559 & 0.9898296 & 0.9900969 & 0.9903581 & 0.9906133 & 0.9908625 & 0.9911060 & 0.9913437 & 0.9915758\\\\\n",
       "\t2.40 & 0.9918025 & 0.9920237 & 0.9922397 & 0.9924506 & 0.9926564 & 0.9928572 & 0.9930531 & 0.9932443 & 0.9934309 & 0.9936128\\\\\n",
       "\t2.50 & 0.9937903 & 0.9939634 & 0.9941323 & 0.9942969 & 0.9944574 & 0.9946139 & 0.9947664 & 0.9949151 & 0.9950600 & 0.9952012\\\\\n",
       "\\end{tabular}\n"
      ],
      "text/markdown": [
       "\n",
       "A matrix: 10 × 10 of type dbl\n",
       "\n",
       "| <!--/--> | 0.00 | 0.01 | 0.02 | 0.03 | 0.04 | 0.05 | 0.06 | 0.07 | 0.08 | 0.09 |\n",
       "|---|---|---|---|---|---|---|---|---|---|---|\n",
       "| 1.60 | 0.9452007 | 0.9463011 | 0.9473839 | 0.9484493 | 0.9494974 | 0.9505285 | 0.9515428 | 0.9525403 | 0.9535213 | 0.9544860 |\n",
       "| 1.70 | 0.9554345 | 0.9563671 | 0.9572838 | 0.9581849 | 0.9590705 | 0.9599408 | 0.9607961 | 0.9616364 | 0.9624620 | 0.9632730 |\n",
       "| 1.80 | 0.9640697 | 0.9648521 | 0.9656205 | 0.9663750 | 0.9671159 | 0.9678432 | 0.9685572 | 0.9692581 | 0.9699460 | 0.9706210 |\n",
       "| 1.90 | 0.9712834 | 0.9719334 | 0.9725711 | 0.9731966 | 0.9738102 | 0.9744119 | 0.9750021 | 0.9755808 | 0.9761482 | 0.9767045 |\n",
       "| 2.00 | 0.9772499 | 0.9777844 | 0.9783083 | 0.9788217 | 0.9793248 | 0.9798178 | 0.9803007 | 0.9807738 | 0.9812372 | 0.9816911 |\n",
       "| 2.10 | 0.9821356 | 0.9825708 | 0.9829970 | 0.9834142 | 0.9838226 | 0.9842224 | 0.9846137 | 0.9849966 | 0.9853713 | 0.9857379 |\n",
       "| 2.20 | 0.9860966 | 0.9864474 | 0.9867906 | 0.9871263 | 0.9874545 | 0.9877755 | 0.9880894 | 0.9883962 | 0.9886962 | 0.9889893 |\n",
       "| 2.30 | 0.9892759 | 0.9895559 | 0.9898296 | 0.9900969 | 0.9903581 | 0.9906133 | 0.9908625 | 0.9911060 | 0.9913437 | 0.9915758 |\n",
       "| 2.40 | 0.9918025 | 0.9920237 | 0.9922397 | 0.9924506 | 0.9926564 | 0.9928572 | 0.9930531 | 0.9932443 | 0.9934309 | 0.9936128 |\n",
       "| 2.50 | 0.9937903 | 0.9939634 | 0.9941323 | 0.9942969 | 0.9944574 | 0.9946139 | 0.9947664 | 0.9949151 | 0.9950600 | 0.9952012 |\n",
       "\n"
      ],
      "text/plain": [
       "     0.00      0.01      0.02      0.03      0.04      0.05      0.06     \n",
       "1.60 0.9452007 0.9463011 0.9473839 0.9484493 0.9494974 0.9505285 0.9515428\n",
       "1.70 0.9554345 0.9563671 0.9572838 0.9581849 0.9590705 0.9599408 0.9607961\n",
       "1.80 0.9640697 0.9648521 0.9656205 0.9663750 0.9671159 0.9678432 0.9685572\n",
       "1.90 0.9712834 0.9719334 0.9725711 0.9731966 0.9738102 0.9744119 0.9750021\n",
       "2.00 0.9772499 0.9777844 0.9783083 0.9788217 0.9793248 0.9798178 0.9803007\n",
       "2.10 0.9821356 0.9825708 0.9829970 0.9834142 0.9838226 0.9842224 0.9846137\n",
       "2.20 0.9860966 0.9864474 0.9867906 0.9871263 0.9874545 0.9877755 0.9880894\n",
       "2.30 0.9892759 0.9895559 0.9898296 0.9900969 0.9903581 0.9906133 0.9908625\n",
       "2.40 0.9918025 0.9920237 0.9922397 0.9924506 0.9926564 0.9928572 0.9930531\n",
       "2.50 0.9937903 0.9939634 0.9941323 0.9942969 0.9944574 0.9946139 0.9947664\n",
       "     0.07      0.08      0.09     \n",
       "1.60 0.9525403 0.9535213 0.9544860\n",
       "1.70 0.9616364 0.9624620 0.9632730\n",
       "1.80 0.9692581 0.9699460 0.9706210\n",
       "1.90 0.9755808 0.9761482 0.9767045\n",
       "2.00 0.9807738 0.9812372 0.9816911\n",
       "2.10 0.9849966 0.9853713 0.9857379\n",
       "2.20 0.9883962 0.9886962 0.9889893\n",
       "2.30 0.9911060 0.9913437 0.9915758\n",
       "2.40 0.9932443 0.9934309 0.9936128\n",
       "2.50 0.9949151 0.9950600 0.9952012"
      ]
     },
     "metadata": {},
     "output_type": "display_data"
    }
   ],
   "source": [
    "tabela_normal_padronizada[17:26, ]"
   ]
  },
  {
   "cell_type": "markdown",
   "metadata": {
    "colab_type": "text",
    "id": "rMRmnaNPG3Go"
   },
   "source": [
    "#### Obtendo $z$"
   ]
  },
  {
   "cell_type": "markdown",
   "metadata": {
    "colab_type": "text",
    "id": "T-3mV1qlUj1t"
   },
   "source": [
    "![alt text](https://caelum-online-public.s3.amazonaws.com/1178-estatistica-parte2/01/img008.png)"
   ]
  },
  {
   "cell_type": "code",
   "execution_count": 95,
   "metadata": {
    "colab": {
     "base_uri": "https://localhost:8080/",
     "height": 34
    },
    "colab_type": "code",
    "id": "nT5ZTwjOG3Go",
    "outputId": "9c20d5b5-fb36-40f1-b901-3969a2fa8ea0"
   },
   "outputs": [
    {
     "data": {
      "text/html": [
       "0.475"
      ],
      "text/latex": [
       "0.475"
      ],
      "text/markdown": [
       "0.475"
      ],
      "text/plain": [
       "[1] 0.475"
      ]
     },
     "metadata": {},
     "output_type": "display_data"
    }
   ],
   "source": [
    "0.95/2"
   ]
  },
  {
   "cell_type": "code",
   "execution_count": 97,
   "metadata": {
    "colab": {
     "base_uri": "https://localhost:8080/",
     "height": 34
    },
    "colab_type": "code",
    "id": "vMjck-3ZU_sz",
    "outputId": "56a3f3ba-e5d4-40c7-dc4c-b31ed5d07262"
   },
   "outputs": [
    {
     "data": {
      "text/html": [
       "0.975"
      ],
      "text/latex": [
       "0.975"
      ],
      "text/markdown": [
       "0.975"
      ],
      "text/plain": [
       "[1] 0.975"
      ]
     },
     "metadata": {},
     "output_type": "display_data"
    }
   ],
   "source": [
    "0.5 + (0.95/2)"
   ]
  },
  {
   "cell_type": "code",
   "execution_count": 98,
   "metadata": {
    "colab": {
     "base_uri": "https://localhost:8080/",
     "height": 34
    },
    "colab_type": "code",
    "id": "L4CMGZ3oVHLX",
    "outputId": "60470140-1dfa-4d5c-9627-097378b2fc8e"
   },
   "outputs": [
    {
     "data": {
      "text/html": [
       "1.96"
      ],
      "text/latex": [
       "1.96"
      ],
      "text/markdown": [
       "1.96"
      ],
      "text/plain": [
       "[1] 1.96"
      ]
     },
     "metadata": {},
     "output_type": "display_data"
    }
   ],
   "source": [
    "1.90 +0.06"
   ]
  },
  {
   "cell_type": "code",
   "execution_count": 99,
   "metadata": {},
   "outputs": [
    {
     "data": {
      "text/html": [
       "1.95996398454005"
      ],
      "text/latex": [
       "1.95996398454005"
      ],
      "text/markdown": [
       "1.95996398454005"
      ],
      "text/plain": [
       "[1] 1.959964"
      ]
     },
     "metadata": {},
     "output_type": "display_data"
    }
   ],
   "source": [
    "z <- qnorm(0.975)\n",
    "z"
   ]
  },
  {
   "cell_type": "markdown",
   "metadata": {
    "colab_type": "text",
    "id": "ggXXP8QqTyNA"
   },
   "source": [
    "#### Valores de $z$ para os níveis de confiança mais utilizados\n",
    "\n",
    "|Nível de<br>confiança|Valor da área sob<br>a curva normal| $z$ |\n",
    "|:----------------:|:---------------------------------:|:---:|\n",
    "|90%               |0,95                               |1,645|\n",
    "|95%               |0,975                              |1,96 |\n",
    "|99%               |0,995                              |2,575|"
   ]
  },
  {
   "cell_type": "markdown",
   "metadata": {
    "colab_type": "text",
    "id": "MfE1ru0AG3Hg"
   },
   "source": [
    "#### Obtendo $\\sigma_\\bar{x}$"
   ]
  },
  {
   "cell_type": "code",
   "execution_count": 100,
   "metadata": {
    "colab": {
     "base_uri": "https://localhost:8080/",
     "height": 34
    },
    "colab_type": "code",
    "id": "LyQ6UUYtG3Hh",
    "outputId": "4c066583-4272-4e26-daf5-575ea4815371"
   },
   "outputs": [],
   "source": [
    "desvio_padrao <- 150"
   ]
  },
  {
   "cell_type": "code",
   "execution_count": 104,
   "metadata": {
    "colab": {
     "base_uri": "https://localhost:8080/",
     "height": 34
    },
    "colab_type": "code",
    "id": "ebvikT95G3Hi",
    "outputId": "bfbc2f5c-e706-46a6-aa6c-e94632aed4fc"
   },
   "outputs": [],
   "source": [
    "n <- 20"
   ]
  },
  {
   "cell_type": "code",
   "execution_count": 107,
   "metadata": {
    "colab": {
     "base_uri": "https://localhost:8080/",
     "height": 34
    },
    "colab_type": "code",
    "id": "TxM3yTpjG3Hk",
    "outputId": "a38a0bfc-2c3b-48f4-cea7-ee5f5147a251"
   },
   "outputs": [
    {
     "data": {
      "text/html": [
       "4.47213595499958"
      ],
      "text/latex": [
       "4.47213595499958"
      ],
      "text/markdown": [
       "4.47213595499958"
      ],
      "text/plain": [
       "[1] 4.472136"
      ]
     },
     "metadata": {},
     "output_type": "display_data"
    }
   ],
   "source": [
    "raiz_de_n <- sqrt(n)\n",
    "raiz_de_n"
   ]
  },
  {
   "cell_type": "code",
   "execution_count": 109,
   "metadata": {
    "colab": {
     "base_uri": "https://localhost:8080/",
     "height": 34
    },
    "colab_type": "code",
    "id": "HNAcOpl0G3Hl",
    "outputId": "3b37c2d5-b02d-40af-897d-6c588e2696aa"
   },
   "outputs": [
    {
     "data": {
      "text/html": [
       "33.5410196624968"
      ],
      "text/latex": [
       "33.5410196624968"
      ],
      "text/markdown": [
       "33.5410196624968"
      ],
      "text/plain": [
       "[1] 33.54102"
      ]
     },
     "metadata": {},
     "output_type": "display_data"
    }
   ],
   "source": [
    "sigma <- desvio_padrao / raiz_de_n\n",
    "sigma"
   ]
  },
  {
   "cell_type": "markdown",
   "metadata": {
    "colab_type": "text",
    "id": "NHbXlLk-G3Hn"
   },
   "source": [
    "#### Obtendo $e$"
   ]
  },
  {
   "cell_type": "code",
   "execution_count": 111,
   "metadata": {
    "colab": {
     "base_uri": "https://localhost:8080/",
     "height": 34
    },
    "colab_type": "code",
    "id": "gAfakih5G3Ho",
    "outputId": "48958fa3-2cf8-4bc5-dfc3-0fb925798b38"
   },
   "outputs": [
    {
     "data": {
      "text/html": [
       "65.7391905432436"
      ],
      "text/latex": [
       "65.7391905432436"
      ],
      "text/markdown": [
       "65.7391905432436"
      ],
      "text/plain": [
       "[1] 65.73919"
      ]
     },
     "metadata": {},
     "output_type": "display_data"
    }
   ],
   "source": [
    "e <- z * sigma\n",
    "e"
   ]
  },
  {
   "cell_type": "markdown",
   "metadata": {
    "colab_type": "text",
    "id": "sx1QTfNrG3Hq"
   },
   "source": [
    "#### Solução 1 - Calculando o intervalo de confiança para a média"
   ]
  },
  {
   "cell_type": "code",
   "execution_count": 114,
   "metadata": {
    "colab": {
     "base_uri": "https://localhost:8080/",
     "height": 34
    },
    "colab_type": "code",
    "id": "NlJCcPZnG3Hq",
    "outputId": "09cee323-103e-4832-c23f-97daf4b9929f"
   },
   "outputs": [
    {
     "data": {
      "text/html": [
       "<style>\n",
       ".list-inline {list-style: none; margin:0; padding: 0}\n",
       ".list-inline>li {display: inline-block}\n",
       ".list-inline>li:not(:last-child)::after {content: \"\\00b7\"; padding: 0 .5ex}\n",
       "</style>\n",
       "<ol class=list-inline><li>4984.26080945676</li><li>5115.73919054324</li></ol>\n"
      ],
      "text/latex": [
       "\\begin{enumerate*}\n",
       "\\item 4984.26080945676\n",
       "\\item 5115.73919054324\n",
       "\\end{enumerate*}\n"
      ],
      "text/markdown": [
       "1. 4984.26080945676\n",
       "2. 5115.73919054324\n",
       "\n",
       "\n"
      ],
      "text/plain": [
       "[1] 4984.261 5115.739"
      ]
     },
     "metadata": {},
     "output_type": "display_data"
    }
   ],
   "source": [
    "intervalo <- c(\n",
    "    media_amostral - e,\n",
    "    media_amostral + e\n",
    ")\n",
    "intervalo"
   ]
  },
  {
   "cell_type": "markdown",
   "metadata": {
    "colab_type": "text",
    "id": "DkFJL7fcG3Ht"
   },
   "source": [
    "#### Solução 2 - Calculando o intervalo de confiança para a média\n",
    "\n",
    "#### <font color=red>Documentações:\n",
    "\n",
    "- [**MeanCI**](https://www.rdocumentation.org/packages/DescTools/versions/0.99.30/topics/MeanCI)"
   ]
  },
  {
   "cell_type": "markdown",
   "metadata": {},
   "source": [
    "#### Instalação do pacote DescTools\n",
    "\n",
    "https://cran.r-project.org"
   ]
  },
  {
   "cell_type": "code",
   "execution_count": 115,
   "metadata": {
    "scrolled": true
   },
   "outputs": [],
   "source": [
    "# install.packages('DescTools')\n",
    "\n",
    "# OU\n",
    "\n",
    "# packageurl <- \"https://cran.r-project.org/src/contrib/Archive/DescTools/DescTools_0.99.30.tar.gz\"\n",
    "# install.packages(packageurl, repos=NULL, type=\"source\")"
   ]
  },
  {
   "cell_type": "code",
   "execution_count": 116,
   "metadata": {},
   "outputs": [
    {
     "name": "stderr",
     "output_type": "stream",
     "text": [
      "Warning message:\n",
      "\"package 'DescTools' was built under R version 4.1.3\"\n"
     ]
    }
   ],
   "source": [
    "library(DescTools)"
   ]
  },
  {
   "cell_type": "code",
   "execution_count": 117,
   "metadata": {},
   "outputs": [
    {
     "data": {
      "text/html": [
       "<style>\n",
       ".dl-inline {width: auto; margin:0; padding: 0}\n",
       ".dl-inline>dt, .dl-inline>dd {float: none; width: auto; display: inline-block}\n",
       ".dl-inline>dt::after {content: \":\\0020\"; padding-right: .5ex}\n",
       ".dl-inline>dt:not(:first-of-type) {padding-left: .5ex}\n",
       "</style><dl class=dl-inline><dt>mean</dt><dd>5050</dd><dt>lwr.ci</dt><dd>4984.26080945676</dd><dt>upr.ci</dt><dd>5115.73919054324</dd></dl>\n"
      ],
      "text/latex": [
       "\\begin{description*}\n",
       "\\item[mean] 5050\n",
       "\\item[lwr.ci] 4984.26080945676\n",
       "\\item[upr.ci] 5115.73919054324\n",
       "\\end{description*}\n"
      ],
      "text/markdown": [
       "mean\n",
       ":   5050lwr.ci\n",
       ":   4984.26080945676upr.ci\n",
       ":   5115.73919054324\n",
       "\n"
      ],
      "text/plain": [
       "    mean   lwr.ci   upr.ci \n",
       "5050.000 4984.261 5115.739 "
      ]
     },
     "metadata": {},
     "output_type": "display_data"
    }
   ],
   "source": [
    "MeanCI(\n",
    "    x = media_amostral,\n",
    "    sd = sigma,\n",
    "    type = 'norm', \n",
    "    conf.level = 0.95, \n",
    "    sides = 'two.sided'\n",
    ")"
   ]
  },
  {
   "cell_type": "code",
   "execution_count": 118,
   "metadata": {},
   "outputs": [
    {
     "data": {
      "text/html": [
       "43.9831762984956"
      ],
      "text/latex": [
       "43.9831762984956"
      ],
      "text/markdown": [
       "43.9831762984956"
      ],
      "text/plain": [
       "[1] 43.98318"
      ]
     },
     "metadata": {},
     "output_type": "display_data"
    },
    {
     "data": {
      "text/html": [
       "44.1596659711556"
      ],
      "text/latex": [
       "44.1596659711556"
      ],
      "text/markdown": [
       "44.1596659711556"
      ],
      "text/plain": [
       "[1] 44.15967"
      ]
     },
     "metadata": {},
     "output_type": "display_data"
    }
   ],
   "source": [
    "mean(dados$Idade) - (z * (sd(dados$Idade)/sqrt(nrow(dados))))\n",
    "mean(dados$Idade) + (z * (sd(dados$Idade)/sqrt(nrow(dados))))"
   ]
  },
  {
   "cell_type": "code",
   "execution_count": 120,
   "metadata": {},
   "outputs": [],
   "source": [
    "sig <- sd(dados$Idade)/sqrt(nrow(dados))"
   ]
  },
  {
   "cell_type": "code",
   "execution_count": 121,
   "metadata": {},
   "outputs": [
    {
     "data": {
      "text/html": [
       "<style>\n",
       ".dl-inline {width: auto; margin:0; padding: 0}\n",
       ".dl-inline>dt, .dl-inline>dd {float: none; width: auto; display: inline-block}\n",
       ".dl-inline>dt::after {content: \":\\0020\"; padding-right: .5ex}\n",
       ".dl-inline>dt:not(:first-of-type) {padding-left: .5ex}\n",
       "</style><dl class=dl-inline><dt>mean</dt><dd>44.0714211348256</dd><dt>lwr.ci</dt><dd>43.9831762984956</dd><dt>upr.ci</dt><dd>44.1596659711556</dd></dl>\n"
      ],
      "text/latex": [
       "\\begin{description*}\n",
       "\\item[mean] 44.0714211348256\n",
       "\\item[lwr.ci] 43.9831762984956\n",
       "\\item[upr.ci] 44.1596659711556\n",
       "\\end{description*}\n"
      ],
      "text/markdown": [
       "mean\n",
       ":   44.0714211348256lwr.ci\n",
       ":   43.9831762984956upr.ci\n",
       ":   44.1596659711556\n",
       "\n"
      ],
      "text/plain": [
       "    mean   lwr.ci   upr.ci \n",
       "44.07142 43.98318 44.15967 "
      ]
     },
     "metadata": {},
     "output_type": "display_data"
    }
   ],
   "source": [
    "MeanCI(\n",
    "    x = mean(dados$Idade),\n",
    "    sd = sig,\n",
    "    type = 'norm', \n",
    "    conf.level = 0.95, \n",
    "    sides = 'two.sided'\n",
    ")"
   ]
  },
  {
   "cell_type": "markdown",
   "metadata": {
    "colab_type": "text",
    "id": "aF9jAC6yG3Gl"
   },
   "source": [
    "## <font color=green>5 CÁLCULO DO TAMANHO DA AMOSTRA</font>\n",
    "***"
   ]
  },
  {
   "cell_type": "markdown",
   "metadata": {
    "colab_type": "text",
    "id": "BwiygaNqnjrr"
   },
   "source": [
    "### <font color='red'>Problema </font>"
   ]
  },
  {
   "cell_type": "markdown",
   "metadata": {
    "colab_type": "text",
    "id": "a7RjjVVUnlI3"
   },
   "source": [
    "Estamos estudando o rendimento mensal dos chefes de domicílios com renda até R$\\$$ 5.000,00 no Brasil. Nosso supervisor determinou que o **erro máximo em relação a média seja de R$\\$$ 10,00**. Sabemos que o **desvio padrão populacional** deste grupo de trabalhadores é de **R$\\$$ 1.082,79**. Para um **nível de confiança de 95%**, qual deve ser o tamanho da amostra de nosso estudo?"
   ]
  },
  {
   "cell_type": "markdown",
   "metadata": {
    "colab_type": "text",
    "id": "za2sGJt6G3Gm"
   },
   "source": [
    "### <font color=green>5.1 Variáveis quantitativas e população infinita</font>\n",
    "***"
   ]
  },
  {
   "cell_type": "markdown",
   "metadata": {
    "colab_type": "text",
    "id": "3wqMjJWR5sVq"
   },
   "source": [
    "$$e = z \\frac{\\sigma}{\\sqrt{n}}$$"
   ]
  },
  {
   "cell_type": "markdown",
   "metadata": {
    "colab_type": "text",
    "id": "X1AxpKtIG3Gn"
   },
   "source": [
    "#### Com desvio padrão conhecido\n",
    "\n",
    "$$n = \\left(z\\frac{\\sigma}{e}\\right)^2$$\n",
    "\n",
    "#### Com desvio padrão desconhecido\n",
    "\n",
    "$$n = \\left(z\\frac{s}{e}\\right)^2$$\n",
    "\n",
    "Onde:\n",
    "\n",
    "$z$ = variável normal padronizada\n",
    "\n",
    "$\\sigma$ = desvio padrão populacional\n",
    "\n",
    "$s$ = desvio padrão amostral\n",
    "\n",
    "$e$ = erro inferencial"
   ]
  },
  {
   "cell_type": "markdown",
   "metadata": {
    "colab_type": "text",
    "id": "T0fysCyDG3Gn"
   },
   "source": [
    "#### <font color='red'>Observações</font>\n",
    "\n",
    "1. O desvio padrão ($\\sigma$ ou $s$) e o erro ($e$) devem estar na mesma unidade de medida.\n",
    "\n",
    "2. Quando o erro ($e$) for representado em termos percentuais, deve ser interpretado como um percentual relacionado à média."
   ]
  },
  {
   "cell_type": "markdown",
   "metadata": {
    "colab_type": "text",
    "id": "WHYBTaupG3Gn"
   },
   "source": [
    "### <font color='blue'>Exemplo: Rendimento médio</font>"
   ]
  },
  {
   "cell_type": "markdown",
   "metadata": {
    "colab_type": "text",
    "id": "dcdzo7EgG3Go"
   },
   "source": [
    "Estamos estudando o rendimento mensal dos chefes de domicílios no Brasil. Nosso supervisor determinou que o **erro máximo em relação a média seja de R$\\$$ 100,00**. Sabemos que o **desvio padrão populacional** deste grupo de trabalhadores é de **R$\\$$ 3.323,39**. Para um **nível de confiança de 95%**, qual deve ser o tamanho da amostra de nosso estudo?"
   ]
  },
  {
   "cell_type": "code",
   "execution_count": null,
   "metadata": {
    "colab": {
     "base_uri": "https://localhost:8080/",
     "height": 34
    },
    "colab_type": "code",
    "id": "XtJ5I_kaKDN3",
    "outputId": "a519e330-ddf0-492c-f42d-5cef36fed4c9"
   },
   "outputs": [],
   "source": []
  },
  {
   "cell_type": "code",
   "execution_count": null,
   "metadata": {
    "colab": {
     "base_uri": "https://localhost:8080/",
     "height": 34
    },
    "colab_type": "code",
    "id": "-4TLCgNLKC95",
    "outputId": "19f3b7af-ff33-4db4-c675-c62b5088137e"
   },
   "outputs": [],
   "source": []
  },
  {
   "cell_type": "code",
   "execution_count": null,
   "metadata": {
    "colab": {
     "base_uri": "https://localhost:8080/",
     "height": 34
    },
    "colab_type": "code",
    "id": "7XDT12I4ViYN",
    "outputId": "a0af8729-80a8-4b33-b307-96d144c83029"
   },
   "outputs": [],
   "source": []
  },
  {
   "cell_type": "markdown",
   "metadata": {
    "colab_type": "text",
    "id": "6uCkW4KlG3Gr"
   },
   "source": [
    "#### Obtendo $\\sigma$"
   ]
  },
  {
   "cell_type": "code",
   "execution_count": null,
   "metadata": {
    "colab": {
     "base_uri": "https://localhost:8080/",
     "height": 34
    },
    "colab_type": "code",
    "id": "1RmtZfj-G3Gr",
    "outputId": "d3e77bf1-b933-4ade-846f-95e25f4e1d6e"
   },
   "outputs": [],
   "source": []
  },
  {
   "cell_type": "markdown",
   "metadata": {
    "colab_type": "text",
    "id": "Cl39PIZ2G3Gt"
   },
   "source": [
    "#### Obtendo $e$"
   ]
  },
  {
   "cell_type": "code",
   "execution_count": null,
   "metadata": {
    "colab": {
     "base_uri": "https://localhost:8080/",
     "height": 34
    },
    "colab_type": "code",
    "id": "NTRMt2gWG3Gt",
    "outputId": "f7d7ae3f-7e33-41cc-a11a-5b09de70cc2c"
   },
   "outputs": [],
   "source": []
  },
  {
   "cell_type": "markdown",
   "metadata": {
    "colab_type": "text",
    "id": "OlAX3Gj6G3Gv"
   },
   "source": [
    "#### Obtendo $n$"
   ]
  },
  {
   "cell_type": "code",
   "execution_count": null,
   "metadata": {
    "colab": {
     "base_uri": "https://localhost:8080/",
     "height": 34
    },
    "colab_type": "code",
    "id": "0MjluwHPG3Gv",
    "outputId": "8f74510a-4f4b-4129-d3c3-d31be24567fa",
    "scrolled": true
   },
   "outputs": [],
   "source": []
  },
  {
   "cell_type": "markdown",
   "metadata": {
    "colab_type": "text",
    "id": "MjP0xsqyTyNO"
   },
   "source": [
    "---"
   ]
  },
  {
   "cell_type": "markdown",
   "metadata": {
    "colab_type": "text",
    "id": "dx2vyLC-TyNP"
   },
   "source": [
    "### <font color='red'>Problema</font>"
   ]
  },
  {
   "cell_type": "markdown",
   "metadata": {
    "colab_type": "text",
    "id": "uzK2fAOFTyNP"
   },
   "source": [
    "Em um lote de **10.000 latas** de refrigerante foi realizada uma amostra aleatória simples de **100 latas** e foi obtido o **desvio padrão amostral do conteúdo das latas igual a 12 ml**. O fabricante estipula um **erro máximo sobre a média populacional de apenas 5 ml**. Para garantir um **nível de confiança de 95%** qual o tamanho de amostra deve ser selecionado para este estudo?"
   ]
  },
  {
   "cell_type": "markdown",
   "metadata": {
    "colab_type": "text",
    "id": "FlAz5kycTyNQ"
   },
   "source": [
    "### <font color=green>5.2 Variáveis quantitativas e população finita</font>\n",
    "***"
   ]
  },
  {
   "cell_type": "markdown",
   "metadata": {
    "colab_type": "text",
    "id": "UOe02McSTyNR"
   },
   "source": [
    "#### Com desvio padrão conhecido\n",
    "\n",
    "$$n = \\frac{z^2 \\sigma^2 N}{z^2 \\sigma^2 + e^2(N-1)}$$\n",
    "\n",
    "#### Com desvio padrão desconhecido\n",
    "\n",
    "$$n = \\frac{z^2 s^2 N}{z^2 s^2 + e^2(N-1)}$$\n",
    "\n",
    "Onde:\n",
    "\n",
    "$N$ = tamanho da população\n",
    "\n",
    "$z$ = variável normal padronizada\n",
    "\n",
    "$\\sigma$ = desvio padrão populacional\n",
    "\n",
    "$s$ = desvio padrão amostral\n",
    "\n",
    "$e$ = erro inferencial"
   ]
  },
  {
   "cell_type": "markdown",
   "metadata": {
    "colab_type": "text",
    "id": "cUELtYTKTyNS"
   },
   "source": [
    "### <font color='blue'>Exemplo: Indústria de refrigerantes</font>"
   ]
  },
  {
   "cell_type": "markdown",
   "metadata": {
    "colab_type": "text",
    "id": "upv1mM7fTyNS"
   },
   "source": [
    "Em um lote de **10.000 latas** de refrigerante foi realizada uma amostra aleatória simples de **100 latas** e foi obtido o **desvio padrão amostral do conteúdo das latas igual a 12 ml**. O fabricante estipula um **erro máximo sobre a média populacional de apenas 5 ml**. Para garantir um **nível de confiança de 95%** qual o tamanho de amostra deve ser selecionado para este estudo?"
   ]
  },
  {
   "cell_type": "markdown",
   "metadata": {
    "colab_type": "text",
    "id": "_y3-3VIBTyNS"
   },
   "source": [
    "#### Obtendo $N$"
   ]
  },
  {
   "cell_type": "code",
   "execution_count": null,
   "metadata": {
    "colab": {
     "base_uri": "https://localhost:8080/",
     "height": 34
    },
    "colab_type": "code",
    "id": "gXWn9zTETyNS",
    "outputId": "4daa26ff-4a96-47fb-9f0e-53a4390d701e"
   },
   "outputs": [],
   "source": []
  },
  {
   "cell_type": "markdown",
   "metadata": {
    "colab_type": "text",
    "id": "xCgZ1JSjTyNT"
   },
   "source": [
    "#### Obtendo $z$"
   ]
  },
  {
   "cell_type": "code",
   "execution_count": null,
   "metadata": {
    "colab": {
     "base_uri": "https://localhost:8080/",
     "height": 34
    },
    "colab_type": "code",
    "id": "ZUs9aYJRTyNT",
    "outputId": "02560c9f-57ee-41c7-cdf4-5fd382365a74"
   },
   "outputs": [],
   "source": []
  },
  {
   "cell_type": "markdown",
   "metadata": {
    "colab_type": "text",
    "id": "KCnigJd8TyNU"
   },
   "source": [
    "#### Obtendo $s$"
   ]
  },
  {
   "cell_type": "code",
   "execution_count": null,
   "metadata": {
    "colab": {
     "base_uri": "https://localhost:8080/",
     "height": 34
    },
    "colab_type": "code",
    "id": "fKqFI_TZTyNU",
    "outputId": "68a9ee2f-428a-4d18-9148-f33704968fb7"
   },
   "outputs": [],
   "source": []
  },
  {
   "cell_type": "markdown",
   "metadata": {
    "colab_type": "text",
    "id": "K9gDEIUdTyNX"
   },
   "source": [
    "#### Obtendo $e$"
   ]
  },
  {
   "cell_type": "code",
   "execution_count": null,
   "metadata": {
    "colab": {
     "base_uri": "https://localhost:8080/",
     "height": 34
    },
    "colab_type": "code",
    "id": "hyhJ3MQKTyNX",
    "outputId": "2849bd05-6c70-4d97-980d-67e140f27850"
   },
   "outputs": [],
   "source": []
  },
  {
   "cell_type": "markdown",
   "metadata": {
    "colab_type": "text",
    "id": "Dsm3bg9gTyNX"
   },
   "source": [
    "#### Obtendo $n$\n",
    "\n",
    "$$n = \\frac{z^2 s^2 N}{z^2 s^2 + e^2(N-1)}$$"
   ]
  },
  {
   "cell_type": "code",
   "execution_count": null,
   "metadata": {
    "colab": {
     "base_uri": "https://localhost:8080/",
     "height": 34
    },
    "colab_type": "code",
    "id": "0XxWfaPdTyNY",
    "outputId": "8494180f-9149-419f-dee9-f02ec3e81b93",
    "scrolled": true
   },
   "outputs": [],
   "source": []
  },
  {
   "cell_type": "markdown",
   "metadata": {
    "colab_type": "text",
    "id": "XNH7CMglG3Hv"
   },
   "source": [
    "## <font color=green>6 FIXANDO O CONTEÚDO</font>\n",
    "***"
   ]
  },
  {
   "cell_type": "markdown",
   "metadata": {
    "colab_type": "text",
    "id": "iRYqVAxuG3Hv"
   },
   "source": [
    "### <font color='blue'>Exemplo: Rendimento médio</font>"
   ]
  },
  {
   "cell_type": "markdown",
   "metadata": {
    "colab_type": "text",
    "id": "ggloHI5sG3Hw"
   },
   "source": [
    "Estamos estudando o **rendimento mensal dos chefes de domicílios com renda até R$\\$$ 5.000,00 no Brasil**. Nosso supervisor determinou que o **erro máximo em relação a média seja de R$\\$$ 10,00**. Sabemos que o **desvio padrão populacional** deste grupo de trabalhadores é de **R$\\$$ 1.082,79** e que a **média populacional** é de **R$\\$$ 1.426,54**. Para um **nível de confiança de 95%**, qual deve ser o tamanho da amostra de nosso estudo? Qual o intervalo de confiança para a média considerando o tamanho de amostra obtido?"
   ]
  },
  {
   "cell_type": "markdown",
   "metadata": {
    "colab_type": "text",
    "id": "JZDvLD-NG3Hw"
   },
   "source": [
    "#### Construindo o dataset conforme especificado pelo problema"
   ]
  },
  {
   "cell_type": "code",
   "execution_count": null,
   "metadata": {
    "colab": {},
    "colab_type": "code",
    "id": "qlnYQeaKG3Hw"
   },
   "outputs": [],
   "source": []
  },
  {
   "cell_type": "code",
   "execution_count": null,
   "metadata": {},
   "outputs": [],
   "source": []
  },
  {
   "cell_type": "code",
   "execution_count": null,
   "metadata": {
    "colab": {
     "base_uri": "https://localhost:8080/",
     "height": 34
    },
    "colab_type": "code",
    "id": "VKuxbygIG3Hy",
    "outputId": "98078826-90d1-488e-b11d-cf4e6f5bdc3c"
   },
   "outputs": [],
   "source": []
  },
  {
   "cell_type": "markdown",
   "metadata": {
    "colab_type": "text",
    "id": "F33TdkXdG3H2"
   },
   "source": [
    "#### Calculando o tamanho da amostra"
   ]
  },
  {
   "cell_type": "code",
   "execution_count": null,
   "metadata": {
    "colab": {
     "base_uri": "https://localhost:8080/",
     "height": 34
    },
    "colab_type": "code",
    "id": "sWIvnmygG3H2",
    "outputId": "42b7f8db-3a43-4e5f-f61a-9000e4e5e94b"
   },
   "outputs": [],
   "source": []
  },
  {
   "cell_type": "markdown",
   "metadata": {
    "colab_type": "text",
    "id": "xRN_gmmLG3H6"
   },
   "source": [
    "#### Calculando o intervalo de confiança para a média"
   ]
  },
  {
   "cell_type": "code",
   "execution_count": null,
   "metadata": {},
   "outputs": [],
   "source": []
  },
  {
   "cell_type": "code",
   "execution_count": null,
   "metadata": {},
   "outputs": [],
   "source": []
  },
  {
   "cell_type": "code",
   "execution_count": null,
   "metadata": {},
   "outputs": [],
   "source": []
  },
  {
   "cell_type": "code",
   "execution_count": null,
   "metadata": {},
   "outputs": [],
   "source": []
  },
  {
   "cell_type": "markdown",
   "metadata": {
    "colab_type": "text",
    "id": "xWAG8q8oG3H8"
   },
   "source": [
    "#### Realizando uma prova gráfica"
   ]
  },
  {
   "cell_type": "code",
   "execution_count": null,
   "metadata": {},
   "outputs": [],
   "source": [
    "tamanho_simulacao = 1000\n",
    "medias <- c()\n",
    "\n",
    "for(i in 1:tamanho_simulacao){\n",
    "    medias <- c(medias, mean(sample_n(renda_5000, n)$Renda))\n",
    "}\n",
    "medias <- data.frame(medias)\n",
    "\n",
    "ggplot(data = medias, aes(x = c(1:tamanho_simulacao), y = medias)) + \n",
    "    geom_point(size = 1.5, stroke = 0) + \n",
    "    geom_hline(yintercept = media, color = 'green') + \n",
    "    geom_hline(yintercept = limite_inferior, color = 'red') + \n",
    "    geom_hline(yintercept = limite_superior, color = 'red')"
   ]
  },
  {
   "cell_type": "code",
   "execution_count": null,
   "metadata": {
    "colab": {},
    "colab_type": "code",
    "id": "L5BFsSI8G3IB"
   },
   "outputs": [],
   "source": []
  }
 ],
 "metadata": {
  "colab": {
   "collapsed_sections": [],
   "name": "Curso_de_Estatística_Parte_2.ipynb",
   "provenance": [],
   "toc_visible": true,
   "version": "0.3.2"
  },
  "kernelspec": {
   "display_name": "R",
   "language": "R",
   "name": "ir"
  },
  "language_info": {
   "codemirror_mode": "r",
   "file_extension": ".r",
   "mimetype": "text/x-r-source",
   "name": "R",
   "pygments_lexer": "r",
   "version": "4.1.2"
  },
  "toc-autonumbering": false,
  "toc-showcode": false,
  "toc-showmarkdowntxt": false
 },
 "nbformat": 4,
 "nbformat_minor": 4
}
